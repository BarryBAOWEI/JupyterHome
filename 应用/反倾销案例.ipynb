{
 "cells": [
  {
   "cell_type": "code",
   "execution_count": 1,
   "metadata": {},
   "outputs": [],
   "source": [
    "import pandas as pd"
   ]
  },
  {
   "cell_type": "code",
   "execution_count": 77,
   "metadata": {
    "scrolled": true
   },
   "outputs": [],
   "source": [
    "df = pd.read_csv('C:/Users/jxjsj/Desktop/antidumping.csv',index_col=0)"
   ]
  },
  {
   "cell_type": "code",
   "execution_count": 85,
   "metadata": {},
   "outputs": [],
   "source": [
    "# 数据清理，删除空格，转年份数字为字符串\n",
    "df['Country '] = df['Country '].apply(lambda x: x.replace(' ',''))\n",
    "df['Year'] = df['Year'].apply(lambda x: str(x))"
   ]
  },
  {
   "cell_type": "code",
   "execution_count": 87,
   "metadata": {},
   "outputs": [],
   "source": [
    "# 生成聚合唯一键 -> 国家+年份\n",
    "lst = []\n",
    "for i in range(len(df)):\n",
    "    lst.append(df.iloc[i,0]+df.iloc[i,1])\n",
    "df['C_Y'] = lst"
   ]
  },
  {
   "cell_type": "code",
   "execution_count": 88,
   "metadata": {
    "scrolled": true
   },
   "outputs": [],
   "source": [
    "# 聚合-计数，拆分唯一键 国家+年份 为 国家 年份\n",
    "df_0 = df.groupby('C_Y').count()\n",
    "df_0['count'] = df_0.iloc[:,0]\n",
    "df_0.columns = ['country','year','count']\n",
    "df_0['country'] = df_0.index\n",
    "df_0['year'] = df_0.index\n",
    "df_0['country'] = df_0['country'].apply(lambda x: x[:-4])\n",
    "df_0['year'] = df_0['year'].apply(lambda x: x[-4:])"
   ]
  },
  {
   "cell_type": "code",
   "execution_count": 93,
   "metadata": {},
   "outputs": [
    {
     "data": {
      "text/plain": [
       "True"
      ]
     },
     "execution_count": 93,
     "metadata": {},
     "output_type": "execute_result"
    }
   ],
   "source": [
    "len(df) == df_0['count'].sum()"
   ]
  },
  {
   "cell_type": "code",
   "execution_count": 95,
   "metadata": {},
   "outputs": [],
   "source": [
    "# 表关联，补齐国家年份缺失的行，赋值0\n",
    "index_lst=[]\n",
    "for country in list(set(df_0['country'])):\n",
    "    for year in [str(i) for i in range(1995,2016)]:\n",
    "        index_lst.append(country+year)\n",
    "\n",
    "df_1 = pd.DataFrame(index = index_lst)\n",
    "\n",
    "df_3 = pd.merge(df_1,df_0,right_index=True,left_index=True,how='left')\n",
    "\n",
    "df_3['country'] = df_3.index\n",
    "df_3['year'] = df_3.index\n",
    "\n",
    "df_3['country'] = df_3['country'].apply(lambda x: x[:-4])\n",
    "df_3['year'] = df_3['year'].apply(lambda x: x[-4:])\n",
    "\n",
    "df_4 = df_3.fillna(0)"
   ]
  },
  {
   "cell_type": "code",
   "execution_count": null,
   "metadata": {},
   "outputs": [],
   "source": [
    "df_4.to_excel('C:/Users/jxjsj/Desktop/AntiD.xlsx',index=False)"
   ]
  }
 ],
 "metadata": {
  "kernelspec": {
   "display_name": "Python 3",
   "language": "python",
   "name": "python3"
  },
  "language_info": {
   "codemirror_mode": {
    "name": "ipython",
    "version": 3
   },
   "file_extension": ".py",
   "mimetype": "text/x-python",
   "name": "python",
   "nbconvert_exporter": "python",
   "pygments_lexer": "ipython3",
   "version": "3.6.5"
  }
 },
 "nbformat": 4,
 "nbformat_minor": 2
}
