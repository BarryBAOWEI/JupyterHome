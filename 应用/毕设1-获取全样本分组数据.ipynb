{
 "cells": [
  {
   "cell_type": "code",
   "execution_count": 2,
   "metadata": {},
   "outputs": [],
   "source": [
    "import pandas as pd\n",
    "import numpy as np\n",
    "import jqdatasdk as jq"
   ]
  },
  {
   "cell_type": "code",
   "execution_count": 3,
   "metadata": {},
   "outputs": [
    {
     "name": "stdout",
     "output_type": "stream",
     "text": [
      "auth success （JQData现有流量增加活动，详情请咨询JQData管理员，微信号：JQData01）\n"
     ]
    }
   ],
   "source": [
    "jq.auth('13918852005','960312Lsc')\n",
    "# jq.auth('15821912507','912507')"
   ]
  },
  {
   "cell_type": "code",
   "execution_count": 6,
   "metadata": {},
   "outputs": [],
   "source": [
    "# tradeday = jq.get_trade_days(start_date='2009-01-01', end_date='2019-01-01', count=None)"
   ]
  },
  {
   "cell_type": "code",
   "execution_count": 4,
   "metadata": {
    "scrolled": true
   },
   "outputs": [],
   "source": [
    "# 沪深两市自2009年1月1日前上市股票列表\n",
    "hslslist = list(jq.get_all_securities(types=['stock'], date='2011-01-01').index)"
   ]
  },
  {
   "cell_type": "code",
   "execution_count": 5,
   "metadata": {},
   "outputs": [
    {
     "data": {
      "text/plain": [
       "2042"
      ]
     },
     "execution_count": 5,
     "metadata": {},
     "output_type": "execute_result"
    }
   ],
   "source": [
    "len(hslslist)"
   ]
  },
  {
   "cell_type": "code",
   "execution_count": 7,
   "metadata": {
    "scrolled": true
   },
   "outputs": [
    {
     "data": {
      "text/plain": [
       "2431"
      ]
     },
     "execution_count": 7,
     "metadata": {},
     "output_type": "execute_result"
    }
   ],
   "source": [
    "# tradedaylen = len(tradeday)"
   ]
  },
  {
   "cell_type": "code",
   "execution_count": 5,
   "metadata": {},
   "outputs": [],
   "source": [
    "# 沪深两市自2009年1月1日前上市股票列表\n",
    "# hslist = jq.get_index_stocks('000001.XSHG', date='2009-01-01')\n",
    "# sslist = jq.get_index_stocks('399106.XSHE', date='2009-01-01')\n",
    "# hslslist = hslist + sslist"
   ]
  },
  {
   "cell_type": "raw",
   "metadata": {},
   "source": [
    "增加股东类别，行业，平均换手率（试）"
   ]
  },
  {
   "cell_type": "code",
   "execution_count": 20,
   "metadata": {
    "scrolled": true
   },
   "outputs": [
    {
     "name": "stdout",
     "output_type": "stream",
     "text": [
      "Complete: 99.85308521057786 % Total: 1659 \r"
     ]
    }
   ],
   "source": [
    "cnt = 0\n",
    "drop_cnt = 0\n",
    "stock_num = len(hslslist) # 总股票数-未剔除有停牌\n",
    "stock_lst = []\n",
    "\n",
    "# 增量下载才开启，先检验是否已经下载\n",
    "save_df = pd.read_csv('E:/Stock_Data/bin_data.csv',index_col=0)\n",
    "code_lst = list(set(list(save_df['code'])))\n",
    "cnt = int(len(save_df)/8)\n",
    "\n",
    "for code in hslslist:\n",
    "    \n",
    "    # 增量下载才开启，先检验是否已经下载\n",
    "    if code in code_lst:\n",
    "        continue\n",
    "\n",
    "    # 1 利润表\n",
    "    incomestatement = jq.finance.run_query(\n",
    "        jq.query(\n",
    "            jq.finance.STK_INCOME_STATEMENT.code,\n",
    "            jq.finance.STK_INCOME_STATEMENT.end_date,\n",
    "            jq.finance.STK_INCOME_STATEMENT.operating_profit,\n",
    "        ).filter(jq.finance.STK_INCOME_STATEMENT.code==code,\n",
    "                 jq.finance.STK_INCOME_STATEMENT.end_date>='2009-12-31',\n",
    "                 jq.finance.STK_INCOME_STATEMENT.end_date<='2018-01-01',\n",
    "                 jq.finance.STK_INCOME_STATEMENT.source_id=='321003'\n",
    "                ))\n",
    "    ## 筛选至仅剩一年一份\n",
    "    incomestatement['report_type'] = incomestatement['end_date'].apply(lambda x : str(x)[-5:])\n",
    "    incomestatement = incomestatement[incomestatement['report_type']=='12-31']\n",
    "    incomestatement = incomestatement.groupby(incomestatement['end_date']).max()[['code','operating_profit']]\n",
    "    \n",
    "    # 插入检验，是否存在停牌\n",
    "    if len(incomestatement.index) != 9:\n",
    "        cnt += 1\n",
    "        drop_cnt += 1\n",
    "        continue\n",
    "    \n",
    "    # 2 资产负债表\n",
    "    balancesheet = jq.finance.run_query(\n",
    "        jq.query(\n",
    "            jq.finance.STK_BALANCE_SHEET.code,\n",
    "            jq.finance.STK_BALANCE_SHEET.end_date,\n",
    "            jq.finance.STK_BALANCE_SHEET.total_assets,\n",
    "            jq.finance.STK_BALANCE_SHEET.total_owner_equities,\n",
    "        ).filter(jq.finance.STK_BALANCE_SHEET.code==code,\n",
    "                 jq.finance.STK_BALANCE_SHEET.end_date>='2009-12-31',\n",
    "                 jq.finance.STK_BALANCE_SHEET.end_date<='2018-01-01',\n",
    "                 jq.finance.STK_BALANCE_SHEET.source_id=='321003'\n",
    "                ))\n",
    "    ## 筛选至仅剩一年一份\n",
    "    balancesheet['report_type'] = balancesheet['end_date'].apply(lambda x : str(x)[-5:])\n",
    "    balancesheet = balancesheet[balancesheet['report_type']=='12-31']\n",
    "    balancesheet = balancesheet.groupby(balancesheet['end_date']).max()[['total_assets','total_owner_equities']]\n",
    "    \n",
    "    # 插入检验，是否存在停牌\n",
    "    if len(balancesheet.index) != 9:\n",
    "        cnt += 1\n",
    "        drop_cnt += 1\n",
    "        continue\n",
    "    \n",
    "    # 3 估值表\n",
    "    used_lst = ['market_cap','pe_ratio']\n",
    "    valuation = pd.DataFrame(index=balancesheet.index,columns=used_lst)\n",
    "    year_end_lst = [str(2009+i)+'-12-31' for i in range(9)]\n",
    "    for i in range(9):\n",
    "        year = str(2009+i)+'-12-31'\n",
    "        valuation_inf = jq.get_fundamentals(\n",
    "            jq.query(\n",
    "                jq.valuation.market_cap,\n",
    "                jq.valuation.pe_ratio\n",
    "            ).filter(jq.valuation.code==code),year)      \n",
    "        if len(valuation_inf) == 0:\n",
    "            continue\n",
    "        valuation.iloc[i,] = valuation_inf.iloc[0,]\n",
    "        \n",
    "    # 插入检验，确保年报完整\n",
    "    if len(valuation.dropna()) != 9:\n",
    "        cnt += 1\n",
    "        drop_cnt += 1\n",
    "        continue\n",
    "     \n",
    "    # 4 行业\n",
    "    industry_dct = jq.get_industry(code, date='2019-01-01')\n",
    "    if 'jq_l1' in industry_dct[code].keys():\n",
    "        industry_name = industry_dct[code]['jq_l1']['industry_name']\n",
    "    else:\n",
    "        industry_name = '其他'\n",
    "    industry_name_lst = [industry_name for i in range(9)]\n",
    "    ind_lst = ['industry']\n",
    "    industry = pd.DataFrame(industry_name_lst,index=balancesheet.index,columns=ind_lst)\n",
    "    \n",
    "    # 5 股东类别\n",
    "#     jq.finance.run_query(jq.query(\n",
    "#         jq.finance.STK_SHAREHOLDER_TOP10.shareholder_class\n",
    "#     ).filter(jq.finance.STK_SHAREHOLDER_TOP10.code==code))\n",
    "        \n",
    "    # 合并\n",
    "    bin_df = pd.concat([incomestatement,balancesheet,valuation,industry],axis=1)\n",
    "    \n",
    "    # 计算\n",
    "    ## 投资分组\n",
    "    bin_df['total_assets_1'] = bin_df['total_assets'].shift(1)\n",
    "    bin_df['Inv'] = bin_df['total_assets']/bin_df['total_assets_1']-1\n",
    "    ## 盈利能力分组\n",
    "    bin_df['OP'] = bin_df['operating_profit']/ bin_df['total_owner_equities']\n",
    "    ## 账面市值比分组\n",
    "    bin_df['B_M'] = bin_df['total_owner_equities']/ (bin_df['market_cap']*100000000)\n",
    "    ## 规模比分组\n",
    "    bin_df['Size'] = bin_df['market_cap']\n",
    "    \n",
    "    # 生成时间列，删选有用组\n",
    "    bin_df['date'] = bin_df.index\n",
    "    bin_df = bin_df[['code','date','Size','B_M','OP','Inv','pe_ratio','industry']].iloc[1:,:]\n",
    "#     bin_df.index = list(range(8))\n",
    "    \n",
    "    if cnt == 0:\n",
    "        save_df = bin_df\n",
    "    else:\n",
    "        save_df = pd.concat([save_df,bin_df],axis=0)\n",
    "    \n",
    "    cnt += 1\n",
    "    stock_lst.append(code) # 成功运行的股票记录\n",
    "    \n",
    "    print('Complete:',cnt/stock_num*100,'% Total:',cnt-drop_cnt,end=' \\r')\n",
    "    \n",
    "    if cnt%100 == 0:\n",
    "        save_df.to_csv('E:/Stock_Data/bin_data.csv',index=True)\n",
    "        pd.DataFrame(stock_lst).to_csv('E:/Stock_Data/stock_code.csv',index=False)"
   ]
  },
  {
   "cell_type": "code",
   "execution_count": 19,
   "metadata": {
    "scrolled": true
   },
   "outputs": [],
   "source": [
    "save_df.to_csv('E:/Stock_Data/bin_data.csv',index=True)\n",
    "pd.DataFrame(stock_lst).to_csv('E:/Stock_Data/stock_code.csv',index=False)"
   ]
  },
  {
   "cell_type": "code",
   "execution_count": null,
   "metadata": {},
   "outputs": [],
   "source": []
  }
 ],
 "metadata": {
  "kernelspec": {
   "display_name": "Python 3",
   "language": "python",
   "name": "python3"
  },
  "language_info": {
   "codemirror_mode": {
    "name": "ipython",
    "version": 3
   },
   "file_extension": ".py",
   "mimetype": "text/x-python",
   "name": "python",
   "nbconvert_exporter": "python",
   "pygments_lexer": "ipython3",
   "version": "3.6.5"
  }
 },
 "nbformat": 4,
 "nbformat_minor": 2
}
