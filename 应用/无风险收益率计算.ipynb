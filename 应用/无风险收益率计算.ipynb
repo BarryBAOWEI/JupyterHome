{
 "cells": [
  {
   "cell_type": "code",
   "execution_count": 20,
   "metadata": {},
   "outputs": [],
   "source": [
    "import pandas as pd\n",
    "import re\n",
    "import datetime"
   ]
  },
  {
   "cell_type": "code",
   "execution_count": 26,
   "metadata": {},
   "outputs": [],
   "source": [
    "df = pd.read_csv('C:/Users/jxjsj/Desktop/OneYearTreasureYield.csv')[['日期','收盘']]"
   ]
  },
  {
   "cell_type": "code",
   "execution_count": 27,
   "metadata": {},
   "outputs": [],
   "source": [
    "df['日期'] = df['日期'].apply(lambda x: x[:4]+'-'+re.findall('年(.*?)月',x)[0]+'-'+re.findall('月(.*?)日',x)[0])\n",
    "df['日期'] = df['日期'].apply(lambda x: datetime.datetime.strptime(x,'%Y-%m-%d'))\n",
    "df['收盘'] = df['收盘'].apply(lambda x: x/100)"
   ]
  },
  {
   "cell_type": "code",
   "execution_count": 28,
   "metadata": {},
   "outputs": [],
   "source": [
    "df.columns = ['date','close']"
   ]
  },
  {
   "cell_type": "code",
   "execution_count": 29,
   "metadata": {},
   "outputs": [],
   "source": [
    "df.to_csv('C:/Users/jxjsj/Desktop/JupyterHome/Data/OneYearTreasureYield.csv',index=False)"
   ]
  },
  {
   "cell_type": "code",
   "execution_count": null,
   "metadata": {},
   "outputs": [],
   "source": []
  }
 ],
 "metadata": {
  "kernelspec": {
   "display_name": "Python 3",
   "language": "python",
   "name": "python3"
  },
  "language_info": {
   "codemirror_mode": {
    "name": "ipython",
    "version": 3
   },
   "file_extension": ".py",
   "mimetype": "text/x-python",
   "name": "python",
   "nbconvert_exporter": "python",
   "pygments_lexer": "ipython3",
   "version": "3.6.5"
  }
 },
 "nbformat": 4,
 "nbformat_minor": 2
}
