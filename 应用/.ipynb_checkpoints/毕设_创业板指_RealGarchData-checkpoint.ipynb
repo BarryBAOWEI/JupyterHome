{
 "cells": [
  {
   "cell_type": "code",
   "execution_count": 1,
   "metadata": {},
   "outputs": [],
   "source": [
    "import pandas as pd\n",
    "import numpy as np"
   ]
  },
  {
   "cell_type": "code",
   "execution_count": 3,
   "metadata": {},
   "outputs": [],
   "source": [
    "# 创业板指日对数收益率计算\n",
    "CYBZ = pd.read_csv('C:/Users/jxjsj/Desktop/JupyterHome/Data/CYBZ100601-181201.csv',index_col=0)\n",
    "\n",
    "CYBZ_p = pd.DataFrame(CYBZ['close'],index=CYBZ.index)\n",
    "\n",
    "CYBZ_p['close-1'] = CYBZ_p['close'].shift(1)\n",
    "\n",
    "CYBZ_lnR = pd.DataFrame(np.log(CYBZ_p['close'])-np.log(CYBZ_p['close-1']),index=CYBZ.index,columns=['lnR']).dropna(axis=0)\n",
    "\n",
    "CYBZ_lnR_2 = pd.DataFrame(CYBZ_lnR['lnR'].apply(lambda x:x*x))\n",
    "\n",
    "CYBZ_lnR_2.columns = ['lnR_2']\n",
    "\n",
    "pd.concat([CYBZ_lnR,CYBZ_lnR_2],axis=1).to_csv('C:/Users/jxjsj/Desktop/JupyterHome/Data/CYBZ_r.csv')"
   ]
  },
  {
   "cell_type": "code",
   "execution_count": 4,
   "metadata": {},
   "outputs": [],
   "source": [
    "CYBZ_r = pd.concat([CYBZ_lnR,CYBZ_lnR_2],axis=1)"
   ]
  },
  {
   "cell_type": "code",
   "execution_count": 6,
   "metadata": {},
   "outputs": [],
   "source": [
    "# 创业板指已实现波动率计算\n",
    "df_fminCYBZ = pd.read_csv(r'C:\\Users\\jxjsj\\Desktop\\JupyterHome\\Data\\CYBZ_five_min100601-181201.csv',index_col=0,header=0)\n",
    "\n",
    "df_fminCYBZ['time'] = list(df_fminCYBZ.index)\n",
    "\n",
    "df_fminCYBZ['date'] = list(df_fminCYBZ['time'].apply(lambda x: str(x)[:10]))\n",
    "\n",
    "df_fminCYBZ\n",
    "\n",
    "df_fminCYBZ['close-1'] = df_fminCYBZ['close'].shift(1)\n",
    "\n",
    "df_fminCYBZ_lnR_temp = pd.DataFrame(np.log(df_fminCYBZ['close'])-np.log(df_fminCYBZ['close-1']),index=df_fminCYBZ.index,columns=['lnR'])\n",
    "\n",
    "df_fminCYBZ_lnR = pd.concat([df_fminCYBZ_lnR_temp,pd.DataFrame(list(df_fminCYBZ['date']),columns=['date'],index=df_fminCYBZ.index)],axis=1).dropna(axis=0,how='any')\n",
    "\n",
    "df_fminCYBZ_lnR['lnR^2'] = df_fminCYBZ_lnR['lnR'].apply(lambda x: x*x)\n",
    "\n",
    "groupby_temp = df_fminCYBZ_lnR['lnR^2'].groupby(df_fminCYBZ_lnR['date'])\n",
    "\n",
    "groupby_df = pd.DataFrame(groupby_temp.sum())\n",
    "\n",
    "rvCYBZ = pd.DataFrame(list(groupby_temp.sum()),columns=['CYBZRV'],index=groupby_df.index)"
   ]
  },
  {
   "cell_type": "code",
   "execution_count": 7,
   "metadata": {},
   "outputs": [],
   "source": [
    "df_temp1 = pd.merge(CYBZ_r,rvCYBZ, left_index=True,right_index=True)"
   ]
  },
  {
   "cell_type": "code",
   "execution_count": 8,
   "metadata": {},
   "outputs": [],
   "source": [
    "# 月份哑变量设计\n",
    "time_temp = pd.date_range('1/1/2008','12/31/2019')\n",
    "\n",
    "time_df = pd.DataFrame(time_temp,columns=['date'])\n",
    "\n",
    "month_lst = list(time_df['date'].apply(lambda x: str(x)[5:7]))\n",
    "\n",
    "month_df = pd.DataFrame(month_lst,columns=['month'])\n",
    "\n",
    "month_temp = pd.get_dummies(month_df)\n",
    "\n",
    "time_month_temp = pd.concat([time_df,month_temp],axis=1)\n",
    "\n",
    "time_month_temp.columns = ['date','Jan','Feb','Mar','Apr','May','June','July','Aug','Sep','Oct','Nov','Dec']\n",
    "\n",
    "time_month = time_month_temp[['Jan','Feb','Mar','Apr','May','June','July','Aug','Sep','Oct','Nov','Dec']]\n",
    "\n",
    "time_month.index=list(time_month_temp['date'])"
   ]
  },
  {
   "cell_type": "code",
   "execution_count": 9,
   "metadata": {},
   "outputs": [],
   "source": [
    "df_temp2 = pd.merge(df_temp1,time_month, left_index=True,right_index=True)"
   ]
  },
  {
   "cell_type": "code",
   "execution_count": 10,
   "metadata": {},
   "outputs": [],
   "source": [
    "# 星期哑变量设计\n",
    "time_temp = pd.date_range('1/1/2008','12/31/2019')\n",
    "\n",
    "time_df = pd.DataFrame(time_temp,columns=['date'])\n",
    "\n",
    "lst_week = []\n",
    "n=627\n",
    "while n>0:\n",
    "    for i in [2,3,4,5,6,7,1]:\n",
    "        lst_week.append(i)\n",
    "    n-=1\n",
    "\n",
    "week_temp = pd.get_dummies(pd.DataFrame(lst_week[:4383],columns=['week'])['week'])\n",
    "\n",
    "time_week_temp = pd.concat([time_df,week_temp],axis=1)\n",
    "\n",
    "time_week_temp.columns = ['date','M','Tu','W','Th',\"F\",\"Sa\",'Su']\n",
    "\n",
    "time_week = time_week_temp[['M','Tu','W','Th',\"F\",\"Sa\",'Su']]\n",
    "\n",
    "time_week.index=list(time_week_temp['date'])"
   ]
  },
  {
   "cell_type": "code",
   "execution_count": 11,
   "metadata": {},
   "outputs": [],
   "source": [
    "df_temp3 = pd.merge(df_temp2,time_week, left_index=True,right_index=True)"
   ]
  },
  {
   "cell_type": "code",
   "execution_count": 12,
   "metadata": {},
   "outputs": [],
   "source": [
    "# 休市天数计算\n",
    "import datetime\n",
    "notrade = pd.DataFrame(list(CYBZ.index),columns=['date'])\n",
    "\n",
    "notrade['date-1'] = notrade['date'].shift(1)\n",
    "\n",
    "notrade = notrade.dropna(axis=0,how='any')\n",
    "\n",
    "notrade_daycnt_temp = pd.DataFrame(notrade['date']+notrade['date-1'],columns=['daycnt'])\n",
    "\n",
    "notrade_daycnt_lst = list(\n",
    "    notrade_daycnt_temp['daycnt'].apply(\n",
    "    lambda x: (datetime.datetime.strptime(x[:10], \"%Y-%m-%d\")-datetime.datetime.strptime(x[10:20], \"%Y-%m-%d\")).days-1\n",
    "                         ))\n",
    "\n",
    "notrade_daycnt = pd.DataFrame(notrade_daycnt_lst,columns=['ntd_cnt'])\n",
    "notrade_daycnt.index = list(notrade['date'])"
   ]
  },
  {
   "cell_type": "code",
   "execution_count": 13,
   "metadata": {},
   "outputs": [],
   "source": [
    "df_temp4 = pd.merge(df_temp3,notrade_daycnt, left_index=True,right_index=True)"
   ]
  },
  {
   "cell_type": "code",
   "execution_count": 14,
   "metadata": {},
   "outputs": [],
   "source": [
    "df_temp4.to_csv('C:/Users/jxjsj/Desktop/JupyterHome/Data/CYBZ_lnr_rv_w_m_ntd_100601-181201.csv')"
   ]
  },
  {
   "cell_type": "code",
   "execution_count": null,
   "metadata": {},
   "outputs": [],
   "source": []
  },
  {
   "cell_type": "code",
   "execution_count": null,
   "metadata": {},
   "outputs": [],
   "source": []
  }
 ],
 "metadata": {
  "kernelspec": {
   "display_name": "Python 3",
   "language": "python",
   "name": "python3"
  },
  "language_info": {
   "codemirror_mode": {
    "name": "ipython",
    "version": 3
   },
   "file_extension": ".py",
   "mimetype": "text/x-python",
   "name": "python",
   "nbconvert_exporter": "python",
   "pygments_lexer": "ipython3",
   "version": "3.6.5"
  }
 },
 "nbformat": 4,
 "nbformat_minor": 2
}
