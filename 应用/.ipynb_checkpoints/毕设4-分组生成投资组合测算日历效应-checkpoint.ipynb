{
 "cells": [
  {
   "cell_type": "code",
   "execution_count": 19,
   "metadata": {},
   "outputs": [],
   "source": [
    "import pandas as pd\n",
    "import numpy as np\n",
    "import time,datetime\n",
    "import statsmodels.api as sm\n",
    "from arch import arch_model"
   ]
  },
  {
   "cell_type": "code",
   "execution_count": 2,
   "metadata": {},
   "outputs": [],
   "source": [
    "bin_df = pd.read_csv('E:/Stock_Data/bin_data.csv',index_col=0)"
   ]
  },
  {
   "cell_type": "code",
   "execution_count": 3,
   "metadata": {},
   "outputs": [
    {
     "data": {
      "text/plain": [
       "Index(['code', 'date', 'Size', 'B_M', 'OP', 'Inv', 'pe_ratio', 'industry'], dtype='object')"
      ]
     },
     "execution_count": 3,
     "metadata": {},
     "output_type": "execute_result"
    }
   ],
   "source": [
    "bin_df.columns"
   ]
  },
  {
   "cell_type": "code",
   "execution_count": 4,
   "metadata": {},
   "outputs": [],
   "source": [
    "# 无风险利率\n",
    "rf = pd.read_csv('E:/Stock_Data/rf.csv',index_col=0)"
   ]
  },
  {
   "cell_type": "code",
   "execution_count": 42,
   "metadata": {},
   "outputs": [],
   "source": [
    "for col in ['B_M', 'OP','pe_ratio']:\n",
    "    if isinstance(bin_df[col][0],float):\n",
    "        bin_df[col] = bin_df[col].apply(lambda x : np.nan if x<0 else x)\n",
    "bin_df = bin_df.dropna(how='any',axis=0)"
   ]
  },
  {
   "cell_type": "code",
   "execution_count": 43,
   "metadata": {},
   "outputs": [],
   "source": [
    "# 生成分组标识\n",
    "\n",
    "## 无需排序组\n",
    "no_sort = ['industry']\n",
    "\n",
    "## 分组组数\n",
    "bin_num = 5\n",
    "\n",
    "for i in range(8):\n",
    "    \n",
    "    year = str(2010+i)+'-12-31'\n",
    "    temp_df_0 = bin_df[bin_df.date==year]\n",
    "    \n",
    "    # 计算当年总行数\n",
    "    stock_num = len(temp_df_0)\n",
    "    \n",
    "    for bin_kind in ['Size','B_M','OP','Inv','pe_ratio','industry']:\n",
    "        \n",
    "        # 生成分组标识\n",
    "        bin_lst = []\n",
    "        for i in range(bin_num):\n",
    "            bin_lst += [bin_kind+str(i+1)]*int(stock_num/bin_num)\n",
    "        if len(bin_lst) != stock_num:\n",
    "            bin_lst += [bin_kind+str(i+1)]*(stock_num-len(bin_lst))\n",
    "        \n",
    "        if bin_kind in no_sort:\n",
    "            pass\n",
    "        else:\n",
    "            temp_df_0 = temp_df_0.sort_values(bin_kind)\n",
    "            temp_df_0[bin_kind] = bin_lst\n",
    "    temp_df_1 = bin_df[bin_df.date==year]\n",
    "    temp_df_1 = temp_df_1.sort_values('pe_ratio') # 和df_0对齐，最后一次是按照pe排序的\n",
    "    temp_df_0['S']=temp_df_1['Size']\n",
    "    temp_df_0.to_csv('E:/Stock_Data/bin_data'+year+'.csv',index=True)"
   ]
  },
  {
   "cell_type": "code",
   "execution_count": null,
   "metadata": {},
   "outputs": [],
   "source": []
  },
  {
   "cell_type": "code",
   "execution_count": 44,
   "metadata": {
    "scrolled": true
   },
   "outputs": [],
   "source": [
    "# 按要求生成投资组合\n",
    "\n",
    "# 保存在字典：除Size以外的另一个组别 -> 年份 -> bin1 x bin2 -> 组合，stock code list\n",
    "\n",
    "bin1 = 'Size'\n",
    "portfolio={}\n",
    "\n",
    "for bin2 in ['B_M','OP','Inv','pe_ratio','industry']:\n",
    "    portfolio[bin2] = {}\n",
    "    \n",
    "    for i in range(8):\n",
    "        year = str(2010+i)+'-12-31'\n",
    "        portfolio[bin2][str(2011+i)]={}\n",
    "        \n",
    "        temp_df_0 = pd.read_csv('E:/Stock_Data/bin_data'+year+'.csv',index_col=0)\n",
    "        bin1_lst = list(set(temp_df_0[bin1]))\n",
    "        bin2_lst = list(set(temp_df_0[bin2]))\n",
    "        \n",
    "        for bin1_ in bin1_lst:\n",
    "            temp_df_1 = temp_df_0[temp_df_0[bin1]==bin1_]\n",
    "            for bin2_ in bin2_lst:  \n",
    "                temp_df_2 = temp_df_1[temp_df_1[bin2]==bin2_]\n",
    "                list_code_value = [list(temp_df_2[['code','S']].iloc[i,:]) for i in range(len(temp_df_2))]\n",
    "                portfolio[bin2][str(2011+i)][bin1_+bin2_] = list_code_value\n",
    "# 保存字典\n",
    "f = open('E:/Stock_Data/portfolio.txt','w')\n",
    "f.write(str(portfolio))\n",
    "f.close()"
   ]
  },
  {
   "cell_type": "code",
   "execution_count": null,
   "metadata": {},
   "outputs": [],
   "source": []
  },
  {
   "cell_type": "code",
   "execution_count": 5,
   "metadata": {},
   "outputs": [],
   "source": [
    "# 读取字典\n",
    "f = open('E:/Stock_Data/portfolio.txt','r')\n",
    "a = f.read()\n",
    "portfolio = eval(a)\n",
    "f.close()"
   ]
  },
  {
   "cell_type": "code",
   "execution_count": null,
   "metadata": {},
   "outputs": [],
   "source": []
  },
  {
   "cell_type": "code",
   "execution_count": 47,
   "metadata": {
    "scrolled": true
   },
   "outputs": [
    {
     "name": "stderr",
     "output_type": "stream",
     "text": [
      "D:\\Anaconda3\\lib\\site-packages\\ipykernel_launcher.py:61: FutureWarning: Sorting because non-concatenation axis is not aligned. A future version\n",
      "of pandas will change to not sort by default.\n",
      "\n",
      "To accept the future behavior, pass 'sort=True'.\n",
      "\n",
      "To retain the current behavior and silence the warning, pass sort=False\n",
      "\n"
     ]
    }
   ],
   "source": [
    "# 对于某一投资组合 bin1 x bin2 计算所有收益率序列\n",
    "address = 'E:/Stock_Data/stock_return_data/'\n",
    "bin1 = 'Size'\n",
    "bin2s = ['B_M','OP','Inv','pe_ratio','industry']\n",
    "return_inf_used_stock = list(pd.read_csv('E:/Stock_Data/return_inf_used_stock.csv').iloc[:,0])\n",
    "\n",
    "## 第一层，分组依据\n",
    "for bin2 in bin2s:\n",
    "    portfolio_0 = portfolio[bin2]\n",
    "    \n",
    "    ## 第二层，不同年份\n",
    "    for i in range(8):\n",
    "        year = str(2011+i)\n",
    "        portfolio_1 = portfolio_0[year]\n",
    "        cnt_bin = 0\n",
    "        \n",
    "        ## 第三层，不同小组\n",
    "        for bin1_bin2_type in portfolio_1.keys():\n",
    "            cnt = 0\n",
    "            tol_weight = 0\n",
    "            portfolio_2 = portfolio_1[bin1_bin2_type]\n",
    "            for code_weight in portfolio_2:\n",
    "                \n",
    "                code = code_weight[0]\n",
    "                weight = code_weight[1]\n",
    "                \n",
    "                # 股票由于停牌时间过长被剔除\n",
    "                if code not in return_inf_used_stock:\n",
    "                    continue\n",
    "                \n",
    "                file_name = address+code+'.csv'\n",
    "                r = pd.read_csv(file_name,index_col=0)\n",
    "                r = r.iloc[:1943,:]\n",
    "                \n",
    "                # 读取到的序列过短，剔除\n",
    "                if len(r)<1943:\n",
    "                    continue\n",
    "                \n",
    "                if cnt == 0:\n",
    "                    r_sigma = r*weight\n",
    "                else:\n",
    "                    r_sigma = r_sigma+r*weight\n",
    "                \n",
    "                tol_weight += weight       \n",
    "                cnt+=1  \n",
    "            \n",
    "            ### 求加权平均数，得到一小组的收益率序列\n",
    "            r_mean = r_sigma/tol_weight\n",
    "            r_mean.columns = [bin1_bin2_type]\n",
    "            if cnt_bin == 0:\n",
    "                r_save = r_mean\n",
    "            else:\n",
    "                r_save = pd.concat([r_save,r_mean],axis=1)\n",
    "            cnt_bin += 1\n",
    "        ### 删选当年的数据\n",
    "        r_save_0 = r_save[r_save.index< str(int(year)+1)+'-01-01']\n",
    "        r_save_1 = r_save_0[r_save_0.index> str(int(year)-1)+'-12-31']\n",
    "        ### 每一年拼接\n",
    "        if i == 0:\n",
    "            r_save_year = r_save_1\n",
    "        else:\n",
    "            r_save_year = pd.concat([r_save_year,r_save_1],axis=0)\n",
    "    \n",
    "    ### 完成一个大组的每一年计算后，保存\n",
    "    r_save_year.to_csv('E:/Stock_Data/'+bin1+'_'+bin2+'.csv',index=True)"
   ]
  },
  {
   "cell_type": "raw",
   "metadata": {},
   "source": [
    "原始收益率序列中存在天数空缺情况，需要填满->删掉 ok\n",
    "改为value-weighted平均数 ok"
   ]
  },
  {
   "cell_type": "code",
   "execution_count": null,
   "metadata": {},
   "outputs": [],
   "source": []
  },
  {
   "cell_type": "code",
   "execution_count": 7,
   "metadata": {},
   "outputs": [],
   "source": [
    "# 引入日历效应哑变量 - 星期\n",
    "sample_df = pd.read_csv('E:/Stock_Data/stock_return_data/001896.XSHE.csv',index_col=0)\n",
    "trade_day_serises = list(sample_df.index)\n",
    "\n",
    "trade_day_df = pd.DataFrame(trade_day_serises)\n",
    "trade_day_df.columns = ['weekday']\n",
    "trade_day_df['weekday'] = trade_day_df['weekday'].apply(lambda x : datetime.datetime.strptime(x, \"%Y-%m-%d\").weekday()+1)\n",
    "\n",
    "dummy_df = pd.get_dummies(trade_day_df['weekday'])\n",
    "dummy_df = dummy_df[[1,2,3,4,5]]\n",
    "dummy_df.index = sample_df.index"
   ]
  },
  {
   "cell_type": "code",
   "execution_count": 28,
   "metadata": {
    "scrolled": true
   },
   "outputs": [],
   "source": [
    "bin1 = 'Size'\n",
    "bin2s = ['B_M','OP','Inv','pe_ratio']\n",
    "# bin2s = ['B_M','OP','Inv','pe_ratio','industry']\n",
    "for bin2 in bin2s:\n",
    "    file_name = 'E:/Stock_Data/'+bin1+'_'+bin2+'.csv'\n",
    "    return_df = pd.read_csv('E:/Stock_Data/'+bin1+'_'+bin2+'.csv',index_col=0)\n",
    "    return_df = return_df.dropna(how=\"any\",axis=0)\n",
    "    bin1_list = [bin1+str(i+1) for i in range(5)]\n",
    "    if bin2 == 'industry':\n",
    "        return_df_col = return_df.columns\n",
    "        bin2_list = [i[5:] for i in return_df_col]\n",
    "    else:\n",
    "        bin2_list = [bin2+str(i+1) for i in range(5)]\n",
    "    bin1_bin2_save_df = pd.DataFrame(index=bin1_list,columns=bin2_list)\n",
    "    # 拼接日历效应哑变量\n",
    "    ###\n",
    "    \n",
    "    row = 0\n",
    "    for bin1_ in bin1_list:\n",
    "        col = 0\n",
    "        for bin2_ in bin2_list:\n",
    "            bin1_bin2_ = bin1_+bin2_\n",
    "            # y减去无风险收益率\n",
    "            y_temp = return_df.iloc[:1943,:]\n",
    "            y = y_temp[[bin1_bin2_]]\n",
    "            X = dummy_df.iloc[:1943,:]\n",
    "            \n",
    "            # 用Garch\n",
    "#             reg = arch_model(y, x=X, mean='HARX', lags=0, vol='Garch', p=1, o=0, q=1, power=1.0, dist='ged', hold_back=None)\n",
    "#             result = reg.fit()\n",
    "            \n",
    "#             # 用OLS\n",
    "#             # 是否使用超额收益率\n",
    "            y.columns = ['return']\n",
    "            y = y - rf\n",
    "\n",
    "            est = sm.OLS(y,X)\n",
    "            result = est.fit()\n",
    "\n",
    "            \n",
    "            calandar_effect = list(result.params)[3]\n",
    "\n",
    "            # 测试 - 结果矩阵形式保存\n",
    "            bin1_bin2_save_df.iloc[row,col] = calandar_effect\n",
    "            \n",
    "            col += 1\n",
    "        row += 1\n",
    "    # 保存\n",
    "    bin1_bin2_save_df.to_csv('E:/Stock_Data/bin_result/'+bin1+'_'+bin2+'.csv')"
   ]
  },
  {
   "cell_type": "code",
   "execution_count": null,
   "metadata": {},
   "outputs": [],
   "source": []
  },
  {
   "cell_type": "raw",
   "metadata": {},
   "source": [
    "使用\n",
    "y ({ndarray, Series, None}) – 因变量\n",
    "x ({np.array, DataFrame}, optional) –外生变量.如果没有外生变量则模型自动省略。\n",
    "mean (str, optional) – 均值模型的名称.目前支持: ‘Constant’, ‘Zero’, ‘ARX’ 以及 ‘HARX’\n",
    "lags (int or list (int), optional) –一个整数标量，用来表明滞后阶，或者使用表明滞后位置的整数列表。\n",
    "vol (str, optional) – 波动率模型的名称，目前支持: ‘GARCH’ （默认）, ‘ARCH’, ‘EGARCH’, ‘FIARCH’ 以及 ‘HARCH’。\n",
    "p (int, optional) – 对称随机数的滞后阶（译者注：即扣除均值后的部分）。\n",
    "o (int, optional) – 非对称数据的滞后阶\n",
    "q (int, optional) – 波动率或对应变量的滞后阶\n",
    "power (float, optional) – 使用GARCH或相关模型的精度\n",
    "dist (int, optional) –\n",
    "误差分布的名称，目前支持下列分布：\n",
    "\n",
    "正态分布: ‘normal’, ‘gaussian’ (default)\n",
    "学生T分布: ‘t’, ‘studentst’\n",
    "偏态学生T分布: ‘skewstudent’, ‘skewt’\n",
    "通用误差分布: ‘ged’, ‘generalized error”\n",
    "hold_back (int) – 估计模型参数时样本最初需排除的观察值数. 对同一样本使用不同的滞后阶来比较模型时使用该参数。"
   ]
  },
  {
   "cell_type": "raw",
   "metadata": {},
   "source": [
    "结果\n",
    "params (ndarray) – 估计参数\n",
    "param_cov ({ndarray, None}) – 估计参数的方差协方差矩阵.如果为空，则表示使用方法基于参数协方差来计算模型方差。\n",
    "r2 (float) – 模型R2（即可决系数或判决系数）\n",
    "resid (ndarray) – 模型残差。残差矩阵大小相同，并包括估计中未使用的空值。\n",
    "volatility (ndarray) – 来自模型的条件波动率。\n",
    "cov_type (str) – 描述协方差估计值的字符串。\n",
    "dep_var (Series) – 因变量。\n",
    "names (list (str)) – 模型参数名称。\n",
    "loglikelihood (float) – 估计参数的对数似然率。\n",
    "is_pandas (bool) – 判断原始输入数据是否是pandas类型。\n",
    "fit_start (int) – 用来拟合模型的第一个观察值的整数索引。\n",
    "fit_stop (int) – 最后一个观察值的整数索引，切片表示： fit_start:fit_stop\n",
    "model (ARCHModel) – 用来估计参数的模型。\n",
    "\n",
    "summary() [source] :对结果进行汇总。\n",
    "plot() ：对波动率和标准化的残差进行绘图。\n",
    "conf_int()[source] ：置信区间。\n",
    "loglikelihood ：浮点型，对数似然率的值。\n",
    "params ：时间序列类型，估计所得参数。\n",
    "param_cov ：DataFrame类型，估计参数的方差协方差。\n",
    "resid ：{ndarray, Series}：观察值数组，包括模型残差。\n",
    "modelARCHModel –Model：用来拟合的模型实例\n",
    "conf_int(alpha=0.05)[source]"
   ]
  }
 ],
 "metadata": {
  "kernelspec": {
   "display_name": "Python 3",
   "language": "python",
   "name": "python3"
  },
  "language_info": {
   "codemirror_mode": {
    "name": "ipython",
    "version": 3
   },
   "file_extension": ".py",
   "mimetype": "text/x-python",
   "name": "python",
   "nbconvert_exporter": "python",
   "pygments_lexer": "ipython3",
   "version": "3.6.5"
  }
 },
 "nbformat": 4,
 "nbformat_minor": 2
}
