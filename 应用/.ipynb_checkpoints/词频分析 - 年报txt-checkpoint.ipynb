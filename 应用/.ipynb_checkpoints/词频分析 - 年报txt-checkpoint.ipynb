{
 "cells": [
  {
   "cell_type": "code",
   "execution_count": 1,
   "metadata": {},
   "outputs": [],
   "source": [
    "import pandas as pd\n",
    "import os\n",
    "import re"
   ]
  },
  {
   "cell_type": "code",
   "execution_count": 9,
   "metadata": {},
   "outputs": [],
   "source": [
    "# 词库 可用正则匹配表达式\n",
    "keywords = ['成本','经营','效率','低.{0,5}成本']"
   ]
  },
  {
   "cell_type": "code",
   "execution_count": 10,
   "metadata": {},
   "outputs": [],
   "source": [
    "# 零级目录 某市\n",
    "ss_txt_save_file_0 = 'C:/Users/jxjsj/Desktop/ss'\n",
    "ss_txt_file_year = os.listdir(ss_txt_save_file_0)"
   ]
  },
  {
   "cell_type": "code",
   "execution_count": 11,
   "metadata": {},
   "outputs": [
    {
     "data": {
      "text/plain": [
       "1"
      ]
     },
     "execution_count": 11,
     "metadata": {},
     "output_type": "execute_result"
    }
   ],
   "source": [
    "# 创建csv表格的表头（用txt方式写入） - 不要重复运行\n",
    "## panel_data_save_file不要和ss_txt_save_file_0目录一致！！\n",
    "panel_data_save_file = 'C:/Users/jxjsj/Desktop' \n",
    "panel_data_csv_save = open(panel_data_save_file+'/'+'PanelData.txt','w+',encoding='gbk') # 不存在则创建，覆盖方式写入\n",
    "panel_data_csv_save.write('year,industry,company,reportlen,')\n",
    "for keyword in keywords:\n",
    "    panel_data_csv_save.write(keyword+',')\n",
    "panel_data_csv_save.write('\\n')"
   ]
  },
  {
   "cell_type": "code",
   "execution_count": 12,
   "metadata": {},
   "outputs": [
    {
     "ename": "NotADirectoryError",
     "evalue": "[WinError 267] 目录名称无效。: 'C:/Users/jxjsj/Desktop/ss/PanelData - 副本.csv'",
     "output_type": "error",
     "traceback": [
      "\u001b[1;31m---------------------------------------------------------------------------\u001b[0m",
      "\u001b[1;31mNotADirectoryError\u001b[0m                        Traceback (most recent call last)",
      "\u001b[1;32m<ipython-input-12-2d214b4d9676>\u001b[0m in \u001b[0;36m<module>\u001b[1;34m()\u001b[0m\n\u001b[0;32m      3\u001b[0m     \u001b[1;31m# 一级目录 某市-年份\u001b[0m\u001b[1;33m\u001b[0m\u001b[1;33m\u001b[0m\u001b[0m\n\u001b[0;32m      4\u001b[0m     \u001b[0mss_txt_save_file_1\u001b[0m \u001b[1;33m=\u001b[0m \u001b[0mss_txt_save_file_0\u001b[0m \u001b[1;33m+\u001b[0m \u001b[1;34m'/'\u001b[0m \u001b[1;33m+\u001b[0m \u001b[0myear\u001b[0m\u001b[1;33m\u001b[0m\u001b[0m\n\u001b[1;32m----> 5\u001b[1;33m     \u001b[0mss_txt_file_industry\u001b[0m \u001b[1;33m=\u001b[0m \u001b[0mos\u001b[0m\u001b[1;33m.\u001b[0m\u001b[0mlistdir\u001b[0m\u001b[1;33m(\u001b[0m\u001b[0mss_txt_save_file_1\u001b[0m\u001b[1;33m)\u001b[0m\u001b[1;33m\u001b[0m\u001b[0m\n\u001b[0m\u001b[0;32m      6\u001b[0m     \u001b[1;32mfor\u001b[0m \u001b[0mindustry\u001b[0m \u001b[1;32min\u001b[0m \u001b[0mss_txt_file_industry\u001b[0m\u001b[1;33m:\u001b[0m\u001b[1;33m\u001b[0m\u001b[0m\n\u001b[0;32m      7\u001b[0m \u001b[1;33m\u001b[0m\u001b[0m\n",
      "\u001b[1;31mNotADirectoryError\u001b[0m: [WinError 267] 目录名称无效。: 'C:/Users/jxjsj/Desktop/ss/PanelData - 副本.csv'"
     ]
    }
   ],
   "source": [
    "for year in ss_txt_file_year:\n",
    "    \n",
    "    # 一级目录 某市-年份\n",
    "    ss_txt_save_file_1 = ss_txt_save_file_0 + '/' + year\n",
    "    ss_txt_file_industry = os.listdir(ss_txt_save_file_1)\n",
    "    for industry in ss_txt_file_industry:\n",
    "        \n",
    "        # 二级目录 某市-年份-行业\n",
    "        ss_txt_save_file_2 = ss_txt_save_file_1 + '/' + industry\n",
    "        ss_txt_file_industry = os.listdir(ss_txt_save_file_2)\n",
    "        for each_report in ss_txt_file_industry:\n",
    "            \n",
    "            # 三级目录 某市-年份-行业-某公司\n",
    "            ss_txt_save_file_3 = ss_txt_save_file_2 + '/' + each_report\n",
    "            \n",
    "            # 读取该公司txt年报\n",
    "            report_txt_0 = open(ss_txt_save_file_3, encoding = 'utf-8')\n",
    "            # 替换换行符为空值\n",
    "            report_txt_1 = report_txt_0.read().replace('\\n','')\n",
    "            report_txt_0.close()\n",
    "            # 替换空格为空值\n",
    "            report_txt_context = report_txt_1.replace(' ','')\n",
    "            \n",
    "            # 统计txt年报总字数，作为不能统计页数的替代\n",
    "            report_len = len(report_txt_context)\n",
    "            # 截取公司名称，即横截面标识\n",
    "            company = re.findall('(.*?)'+year,each_report)[0]\n",
    "            \n",
    "            # 填入除词库内关键词外所有的信息\n",
    "            panel_data_csv_save.write(year+','+industry+','+company+','+str(report_len)+',')\n",
    "            \n",
    "            # 逐个统计词库内的词频并写入\n",
    "            for keyword in keywords:\n",
    "                keyword_cnt = len(re.findall(keyword, report_txt_context)) # 是用正则匹配找的，词库中的词可以写成正则匹配的形式\n",
    "                panel_data_csv_save.write(str(keyword_cnt)+',')\n",
    "            \n",
    "            # 输入完一行数据，换行    \n",
    "            panel_data_csv_save.write('\\n')\n",
    "                \n",
    "#             break\n",
    "#         break\n",
    "#     break"
   ]
  },
  {
   "cell_type": "code",
   "execution_count": 13,
   "metadata": {},
   "outputs": [],
   "source": [
    "panel_data_csv_save.close()"
   ]
  },
  {
   "cell_type": "code",
   "execution_count": null,
   "metadata": {},
   "outputs": [],
   "source": []
  }
 ],
 "metadata": {
  "kernelspec": {
   "display_name": "Python 3",
   "language": "python",
   "name": "python3"
  },
  "language_info": {
   "codemirror_mode": {
    "name": "ipython",
    "version": 3
   },
   "file_extension": ".py",
   "mimetype": "text/x-python",
   "name": "python",
   "nbconvert_exporter": "python",
   "pygments_lexer": "ipython3",
   "version": "3.6.5"
  }
 },
 "nbformat": 4,
 "nbformat_minor": 2
}
