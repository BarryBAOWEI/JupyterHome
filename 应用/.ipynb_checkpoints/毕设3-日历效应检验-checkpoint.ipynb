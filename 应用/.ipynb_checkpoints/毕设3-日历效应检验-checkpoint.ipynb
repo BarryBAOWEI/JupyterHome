{
 "cells": [
  {
   "cell_type": "code",
   "execution_count": 2,
   "metadata": {},
   "outputs": [],
   "source": [
    "import pandas as pd\n",
    "from arch import arch_model\n",
    "# import jqdatasdk as jq\n",
    "import numpy as np\n",
    "import time,datetime\n",
    "import os\n",
    "import statsmodels.api as sm\n",
    "# from arch import arch_model"
   ]
  },
  {
   "cell_type": "code",
   "execution_count": 228,
   "metadata": {},
   "outputs": [],
   "source": [
    "# jq.auth('13918852005','960312Lsc')\n",
    "# jq.auth('15821912507','912507')"
   ]
  },
  {
   "cell_type": "code",
   "execution_count": 8,
   "metadata": {
    "scrolled": true
   },
   "outputs": [],
   "source": [
    "# 引入日历效应哑变量 - 星期\n",
    "sample_df = pd.read_csv('E:/Stock_Data/stock_return_data/001896.XSHE.csv',index_col=0)\n",
    "trade_day_serises = list(sample_df.index)\n",
    "\n",
    "trade_day_df = pd.DataFrame(trade_day_serises)\n",
    "trade_day_df.columns = ['weekday']\n",
    "trade_day_df['weekday'] = trade_day_df['weekday'].apply(lambda x : datetime.datetime.strptime(x, \"%Y-%m-%d\").weekday()+1)\n",
    "\n",
    "dummy_df = pd.get_dummies(trade_day_df['weekday'])\n",
    "dummy_df = dummy_df[[1,2,3,4,5]]\n",
    "dummy_df.index = sample_df.index\n",
    "dummy_df.to_csv('E:/Stock_Data/dummy_df.csv',index=True)"
   ]
  },
  {
   "cell_type": "code",
   "execution_count": 49,
   "metadata": {
    "scrolled": true
   },
   "outputs": [],
   "source": [
    "# 引入日历效应变量 - 假日\n",
    "sample_df = pd.read_csv('E:/Stock_Data/stock_return_data/001896.XSHE.csv',index_col=0)\n",
    "trade_day_serises = list(sample_df.index)\n",
    "\n",
    "trade_day_df = pd.DataFrame(trade_day_serises)\n",
    "trade_day_df.columns = ['holiday']\n",
    "trade_day_df['holiday'] = trade_day_df['holiday'].apply(lambda x : datetime.datetime.strptime(x, \"%Y-%m-%d\"))\n",
    "\n",
    "# 节前1\n",
    "# trade_day_df['holiday_1'] = trade_day_df['holiday'].shift(1)\n",
    "# trade_day_df['holiday'] = trade_day_df['holiday'] - trade_day_df['holiday_1']\n",
    "# 节后-1\n",
    "trade_day_df['holiday_1'] = trade_day_df['holiday'].shift(-1)\n",
    "trade_day_df['holiday'] =  trade_day_df['holiday_1'] - trade_day_df['holiday']\n",
    "\n",
    "trade_day_df = trade_day_df.fillna(1)\n",
    "trade_day_df['holiday'] = trade_day_df['holiday'].apply(lambda x : int(str(x)[:2]))\n",
    "\n",
    "trade_day_df.iloc[0,0] = 1\n",
    "\n",
    "holiday_df = trade_day_df[['holiday']]\n",
    "holiday_df.index = sample_df.index\n",
    "holiday_df.to_csv('E:/Stock_Data/holiday_df.csv',index=True)"
   ]
  },
  {
   "cell_type": "code",
   "execution_count": 50,
   "metadata": {},
   "outputs": [],
   "source": [
    "# 引入日历效应变量 - 月份\n",
    "sample_df = pd.read_csv('E:/Stock_Data/stock_return_mon_index/CYBZ.csv',index_col=0)\n",
    "trade_day_serises = list(sample_df.index)\n",
    "\n",
    "trade_day_df = pd.DataFrame(trade_day_serises)\n",
    "trade_day_df.columns = ['Month']\n",
    "trade_day_df['Month'] = trade_day_df['Month'].apply(lambda x : x[5:7])\n",
    "\n",
    "dummy_df_M = pd.get_dummies(trade_day_df['Month'])\n",
    "dummy_df_M.index = sample_df.index\n",
    "dummy_df_M.to_csv('E:/Stock_Data/dummy_df_M.csv',index=True)"
   ]
  },
  {
   "cell_type": "raw",
   "metadata": {},
   "source": [
    "Following French, Gibbons and Hess, and Keim and Stambaugh, we construct\n",
    "a test for differences in mean return across the days of the week by computing\n",
    "the following regression for each country index:\n",
    "rt = aidit + a2d2t + ... + a6d6t + ut"
   ]
  },
  {
   "cell_type": "code",
   "execution_count": 12,
   "metadata": {},
   "outputs": [],
   "source": [
    "# 无风险利率\n",
    "rf = pd.read_csv('E:/Stock_Data/rf.csv',index_col=0)"
   ]
  },
  {
   "cell_type": "code",
   "execution_count": 4,
   "metadata": {
    "scrolled": false
   },
   "outputs": [
    {
     "name": "stdout",
     "output_type": "stream",
     "text": [
      "指数 SZCZ \n",
      "系数 {1: '-0.000783', 2: '0.000949', 3: '0.000169', 4: '-0.002108', 5: '0.000301'} \n",
      "P值 {1: '0.352362', 2: '0.250988', 3: '0.837120', 4: '0.010647', 5: '0.715876'} \n",
      "F统计量P值 0.082460\n",
      "指数 SZZS \n",
      "系数 {1: '-0.000226', 2: '0.000664', 3: '0.000213', 4: '-0.001696', 5: '0.000688'} \n",
      "P值 {1: '0.750851', 2: '0.341403', 3: '0.758506', 4: '0.014909', 5: '0.324896'} \n",
      "F统计量P值 0.093651\n",
      "指数 CYBZ \n",
      "系数 {1: '0.000321', 2: '0.001084', 3: '0.000801', 4: '-0.002286', 5: '0.000290'} \n",
      "P值 {1: '0.755526', 2: '0.283907', 3: '0.425059', 4: '0.023571', 5: '0.774437'} \n",
      "F统计量P值 0.131635\n"
     ]
    }
   ],
   "source": [
    "# 指数角度检验 - 周历效应 - 全时段\n",
    "\n",
    "index_save_dct = {1:0,2:0,3:0,4:0,5:0}\n",
    "index_p_save_dct = {1:0,2:0,3:0,4:0,5:0}\n",
    "for index_file in ['SZCZ_lnr_rv_w_m_ntd_080101-','SZZS_lnr_rv_w_m_ntd_080101-','CYBZ_lnr_rv_w_m_ntd_100601-']:\n",
    "    index_df = pd.read_csv('C:/Users/jxjsj/Desktop/JupyterHome/Data/'+index_file+'190131adj.csv',index_col=0)\n",
    "\n",
    "    index_df = index_df[index_df.index>'2011-01-04']\n",
    "    index_df = index_df[index_df.index<'2018-12-28']\n",
    "    X = dummy_df.iloc[:1943,:]\n",
    "    y = index_df[['lnR']]\n",
    "    \n",
    "    # 是否使用超额收益率\n",
    "    y.columns = ['return']\n",
    "#     y = y - rf\n",
    "\n",
    "    # 用OLS\n",
    "#     X = sm.add_constant(X)\n",
    "    est = sm.OLS(y,X)\n",
    "    result = est.fit()\n",
    "    for i in range(5):\n",
    "        index_save_dct[i+1] = '%.6f' %list(result.params)[i]\n",
    "    for i in range(5):\n",
    "        index_p_save_dct[i+1] = '%.6f' %list(result.pvalues)[i]\n",
    "    f_p = '%.6f' %result.f_pvalue\n",
    "    print('指数',index_file[:4],'\\n系数',index_save_dct,'\\nP值',index_p_save_dct,'\\nF统计量P值',f_p)\n",
    "\n",
    "    # 用arch\n",
    "    # reg = arch_model(y, x=X, mean='ARX', lags=0, vol='Garch', p=1, o=0, q=1, power=1, dist='ged', hold_back=None)\n",
    "    # result = reg.fit()\n",
    "    # result.summary()"
   ]
  },
  {
   "cell_type": "code",
   "execution_count": 13,
   "metadata": {},
   "outputs": [],
   "source": [
    "cnt = 0\n",
    "for index_file in ['SZCZ_lnr_rv_w_m_ntd_080101-','SZZS_lnr_rv_w_m_ntd_080101-','CYBZ_lnr_rv_w_m_ntd_100601-']:\n",
    "    index_df = pd.read_csv('C:/Users/jxjsj/Desktop/JupyterHome/Data/'+index_file+'190131adj.csv',index_col=0)\n",
    "    index_df = index_df[index_df.index>'2011-01-04']\n",
    "    index_df = index_df[index_df.index<'2018-12-28']\n",
    "    y = index_df[['lnR']]\n",
    "    if cnt == 0:\n",
    "        save_df = y\n",
    "        save_df.columns=[index_file[:4]]\n",
    "    else:\n",
    "        save_df_temp = y\n",
    "        save_df_temp.columns=[index_file[:4]]\n",
    "        save_df=pd.concat([save_df,save_df_temp],axis=1)\n",
    "    cnt += 1"
   ]
  },
  {
   "cell_type": "code",
   "execution_count": 16,
   "metadata": {},
   "outputs": [],
   "source": [
    "save_df.describe().to_csv('E:/Stock_Data/describe_data/index_lnR.csv')"
   ]
  },
  {
   "cell_type": "code",
   "execution_count": 6,
   "metadata": {
    "scrolled": true
   },
   "outputs": [
    {
     "name": "stdout",
     "output_type": "stream",
     "text": [
      "                            OLS Regression Results                            \n",
      "==============================================================================\n",
      "Dep. Variable:                 return   R-squared:                       0.000\n",
      "Model:                            OLS   Adj. R-squared:                 -0.002\n",
      "Method:                 Least Squares   F-statistic:                   0.01316\n",
      "Date:                Wed, 03 Apr 2019   Prob (F-statistic):               1.00\n",
      "Time:                        13:52:25   Log-Likelihood:                 18174.\n",
      "No. Observations:                1943   AIC:                        -3.634e+04\n",
      "Df Residuals:                    1938   BIC:                        -3.631e+04\n",
      "Df Model:                           4                                         \n",
      "Covariance Type:            nonrobust                                         \n",
      "==============================================================================\n",
      "                 coef    std err          t      P>|t|      [0.025      0.975]\n",
      "------------------------------------------------------------------------------\n",
      "1              0.0001   1.08e-06    109.279      0.000       0.000       0.000\n",
      "2              0.0001   1.06e-06    111.265      0.000       0.000       0.000\n",
      "3              0.0001   1.06e-06    111.978      0.000       0.000       0.000\n",
      "4              0.0001   1.06e-06    111.448      0.000       0.000       0.000\n",
      "5              0.0001   1.06e-06    111.273      0.000       0.000       0.000\n",
      "==============================================================================\n",
      "Omnibus:                       92.828   Durbin-Watson:                   0.022\n",
      "Prob(Omnibus):                  0.000   Jarque-Bera (JB):               38.255\n",
      "Skew:                           0.042   Prob(JB):                     4.93e-09\n",
      "Kurtosis:                       2.318   Cond. No.                         1.03\n",
      "==============================================================================\n",
      "\n",
      "Warnings:\n",
      "[1] Standard Errors assume that the covariance matrix of the errors is correctly specified.\n"
     ]
    }
   ],
   "source": [
    "# 检验日历效应是否来自于rf\n",
    "est = sm.OLS(rf,X)\n",
    "result = est.fit()\n",
    "print(result.summary())"
   ]
  },
  {
   "cell_type": "code",
   "execution_count": 31,
   "metadata": {
    "scrolled": true
   },
   "outputs": [
    {
     "name": "stdout",
     "output_type": "stream",
     "text": [
      "时段 1 指数 SZCZ \n",
      "系数 {1: '-0.000901', 2: '0.000831', 3: '0.000051', 4: '-0.002226', 5: '0.000183'} \n",
      "P值 {1: '0.284369', 2: '0.314914', 3: '0.950908', 4: '0.006994', 5: '0.825185'} \n",
      "F统计量P值 0.082455 \n",
      "\n",
      "时段 1 指数 SZZS \n",
      "系数 {1: '-0.000344', 2: '0.000546', 3: '0.000095', 4: '-0.001814', 5: '0.000569'} \n",
      "P值 {1: '0.628359', 2: '0.434235', 3: '0.891158', 4: '0.009211', 5: '0.415068'} \n",
      "F统计量P值 0.093653 \n",
      "\n",
      "时段 1 指数 CYBZ \n",
      "系数 {1: '0.000203', 2: '0.000966', 3: '0.000683', 4: '-0.002405', 5: '0.000172'} \n",
      "P值 {1: '0.844184', 2: '0.339700', 3: '0.496462', 4: '0.017264', 5: '0.865276'} \n",
      "F统计量P值 0.131619 \n",
      "\n",
      "时段 2 指数 SZCZ \n",
      "系数 {1: '-0.000393', 2: '0.001235', 3: '-0.000045', 4: '-0.002040', 5: '0.000103'} \n",
      "P值 {1: '0.667800', 2: '0.170107', 3: '0.959553', 4: '0.023518', 5: '0.909520'} \n",
      "F统计量P值 0.141507 \n",
      "\n",
      "时段 2 指数 SZZS \n",
      "系数 {1: '0.000056', 2: '0.000839', 3: '-0.000019', 4: '-0.001626', 5: '0.000568'} \n",
      "P值 {1: '0.941960', 2: '0.270175', 3: '0.980106', 4: '0.032688', 5: '0.457323'} \n",
      "F统计量P值 0.176199 \n",
      "\n",
      "时段 2 指数 CYBZ \n",
      "系数 {1: '0.000924', 2: '0.001626', 3: '0.000547', 4: '-0.002238', 5: '0.000246'} \n",
      "P值 {1: '0.407621', 2: '0.138904', 3: '0.616635', 4: '0.041643', 5: '0.823654'} \n",
      "F统计量P值 0.129186 \n",
      "\n",
      "时段 3 指数 SZCZ \n",
      "系数 {1: '0.000095', 2: '0.001325', 3: '-0.000002', 4: '-0.002316', 5: '-0.000505'} \n",
      "P值 {1: '0.925570', 2: '0.181284', 3: '0.998402', 4: '0.020179', 5: '0.613763'} \n",
      "F统计量P值 0.132810 \n",
      "\n",
      "时段 3 指数 SZZS \n",
      "系数 {1: '0.000536', 2: '0.000831', 3: '0.000029', 4: '-0.001760', 5: '0.000074'} \n",
      "P值 {1: '0.535010', 2: '0.326502', 3: '0.972118', 4: '0.038729', 5: '0.931098'} \n",
      "F统计量P值 0.230565 \n",
      "\n",
      "时段 3 指数 CYBZ \n",
      "系数 {1: '0.001385', 2: '0.001790', 3: '0.000662', 4: '-0.002328', 5: '-0.000138'} \n",
      "P值 {1: '0.260966', 2: '0.138152', 3: '0.582023', 4: '0.055088', 5: '0.910156'} \n",
      "F统计量P值 0.125614 \n",
      "\n"
     ]
    }
   ],
   "source": [
    "# 指数角度检验 - 周历效应 - 分时段\n",
    "\n",
    "for time in range(3):\n",
    "    \n",
    "    start = str(2011+time)+'-01-04'\n",
    "    end = '2018-12-28'\n",
    "    \n",
    "#     if time ==0:\n",
    "#         start = '2011-01-04'\n",
    "#         end = '2014-12-31'\n",
    "#     if time ==1:\n",
    "#         start = '2014-12-31'\n",
    "#         end = '2015-12-31'\n",
    "#     if time ==2:\n",
    "#         start = '2012-12-31'\n",
    "#         end = '2018-12-31'\n",
    "#     if time ==3:\n",
    "#         start = '2014-01-01'\n",
    "#         end = '2017-12-31'\n",
    "#     if time ==4:\n",
    "#         start = '2015-01-01'\n",
    "#         end = '2018-12-31'\n",
    "    \n",
    "    index_save_dct = {1:0,2:0,3:0,4:0,5:0}\n",
    "    index_p_save_dct = {1:0,2:0,3:0,4:0,5:0}\n",
    "    for index_file in ['SZCZ_lnr_rv_w_m_ntd_080101-','SZZS_lnr_rv_w_m_ntd_080101-','CYBZ_lnr_rv_w_m_ntd_100601-']:\n",
    "        index_df = pd.read_csv('C:/Users/jxjsj/Desktop/JupyterHome/Data/'+index_file+'190131adj.csv',index_col=0)\n",
    "\n",
    "        index_df = index_df[index_df.index>start]\n",
    "        index_df = index_df[index_df.index<end]\n",
    "        X = dummy_df[dummy_df.index>start]\n",
    "        X = X[X.index<end]\n",
    "        y = index_df[['lnR']]\n",
    "\n",
    "        # 用OLS\n",
    "        # 是否使用超额收益率\n",
    "        temp_y = pd.merge(y,rf,left_index=True,right_index=True,how='left').fillna(rf.mean())\n",
    "        y = temp_y['lnR']-temp_y['return']\n",
    "\n",
    "        est = sm.OLS(y,X)\n",
    "        result = est.fit()\n",
    "        for i in range(5):\n",
    "            index_save_dct[i+1] = '%.6f' %list(result.params)[i]\n",
    "        for i in range(5):\n",
    "            index_p_save_dct[i+1] = '%.6f' %list(result.pvalues)[i]\n",
    "        f_p = '%.6f' %result.f_pvalue\n",
    "        print('时段',time+1,'指数',index_file[:4],'\\n系数',index_save_dct,'\\nP值',index_p_save_dct,'\\nF统计量P值',f_p,'\\n')"
   ]
  },
  {
   "cell_type": "code",
   "execution_count": 18,
   "metadata": {},
   "outputs": [
    {
     "name": "stdout",
     "output_type": "stream",
     "text": [
      "指数 SZCZ \n",
      "系数 {1: '-0.000075'} \n",
      "P值 {1: '0.819277'} \n",
      "F统计量P值 0.819277\n",
      "指数 SZZS \n",
      "系数 {1: '0.000046'} \n",
      "P值 {1: '0.869852'} \n",
      "F统计量P值 0.869852\n",
      "指数 CYBZ \n",
      "系数 {1: '0.000555'} \n",
      "P值 {1: '0.169069'} \n",
      "F统计量P值 0.169069\n"
     ]
    }
   ],
   "source": [
    "# 指数角度检验 - 假日效应 - 全时段 - 节前\n",
    "\n",
    "index_save_dct = {1:0}\n",
    "index_p_save_dct = {1:0}\n",
    "for index_file in ['SZCZ_lnr_rv_w_m_ntd_080101-','SZZS_lnr_rv_w_m_ntd_080101-','CYBZ_lnr_rv_w_m_ntd_100601-']:\n",
    "    index_df = pd.read_csv('C:/Users/jxjsj/Desktop/JupyterHome/Data/'+index_file+'190131adj.csv',index_col=0)\n",
    "\n",
    "    index_df = index_df[index_df.index>'2011-01-04']\n",
    "    index_df = index_df[index_df.index<'2018-12-28']\n",
    "    X = holiday_df.iloc[:1943,:]\n",
    "    y = index_df[['lnR']]\n",
    "    \n",
    "    # 是否使用超额收益率\n",
    "    y.columns = ['return']\n",
    "    y = y - rf\n",
    "\n",
    "    # 用OLS\n",
    "    X = sm.add_constant(X)\n",
    "    est = sm.OLS(y,X)\n",
    "    result = est.fit()\n",
    "    index_save_dct[1] = '%.6f' %list(result.params)[1]\n",
    "    index_p_save_dct[1] = '%.6f' %list(result.pvalues)[1]\n",
    "    f_p = '%.6f' %result.f_pvalue\n",
    "    print('指数',index_file[:4],'\\n系数',index_save_dct,'\\nP值',index_p_save_dct,'\\nF统计量P值',f_p)"
   ]
  },
  {
   "cell_type": "code",
   "execution_count": 20,
   "metadata": {},
   "outputs": [
    {
     "name": "stdout",
     "output_type": "stream",
     "text": [
      "指数 SZCZ \n",
      "系数 {1: '0.000356'} \n",
      "P值 {1: '0.280485'} \n",
      "F统计量P值 0.280485\n",
      "指数 SZZS \n",
      "系数 {1: '0.000424'} \n",
      "P值 {1: '0.128210'} \n",
      "F统计量P值 0.128210\n",
      "指数 CYBZ \n",
      "系数 {1: '0.000346'} \n",
      "P值 {1: '0.390849'} \n",
      "F统计量P值 0.390849\n"
     ]
    }
   ],
   "source": [
    "# 指数角度检验 - 假日效应 - 全时段 - 节后\n",
    "\n",
    "index_save_dct = {1:0}\n",
    "index_p_save_dct = {1:0}\n",
    "for index_file in ['SZCZ_lnr_rv_w_m_ntd_080101-','SZZS_lnr_rv_w_m_ntd_080101-','CYBZ_lnr_rv_w_m_ntd_100601-']:\n",
    "    index_df = pd.read_csv('C:/Users/jxjsj/Desktop/JupyterHome/Data/'+index_file+'190131adj.csv',index_col=0)\n",
    "\n",
    "    index_df = index_df[index_df.index>'2011-01-04']\n",
    "    index_df = index_df[index_df.index<'2018-12-28']\n",
    "    X = holiday_df.iloc[:1943,:]\n",
    "    y = index_df[['lnR']]\n",
    "    \n",
    "    # 是否使用超额收益率\n",
    "    y.columns = ['return']\n",
    "    y = y - rf\n",
    "\n",
    "    # 用OLS\n",
    "    X = sm.add_constant(X)\n",
    "    est = sm.OLS(y,X)\n",
    "    result = est.fit()\n",
    "    index_save_dct[1] = '%.6f' %list(result.params)[1]\n",
    "    index_p_save_dct[1] = '%.6f' %list(result.pvalues)[1]\n",
    "    f_p = '%.6f' %result.f_pvalue\n",
    "    print('指数',index_file[:4],'\\n系数',index_save_dct,'\\nP值',index_p_save_dct,'\\nF统计量P值',f_p)"
   ]
  },
  {
   "cell_type": "code",
   "execution_count": 16,
   "metadata": {},
   "outputs": [
    {
     "name": "stdout",
     "output_type": "stream",
     "text": [
      "指数 CYBZ.csv \n",
      "P值 {1: '0.4245697', 2: '0.1914693', 3: '0.4781058', 4: '0.9346424', 5: '0.2097283', 6: '0.3858935', 7: '0.5524133', 8: '0.7851465', 9: '0.8274198', 10: '0.8941116', 11: '0.8210424', 12: '0.3682128'} \n",
      "F统计量P值 0.823302\n",
      "指数 SZCZ.csv \n",
      "P值 {1: '0.1706793', 2: '0.5052851', 3: '0.7746526', 4: '0.7380739', 5: '0.7864885', 6: '0.1254395', 7: '0.4667076', 8: '0.1904186', 9: '0.8704636', 10: '0.7406948', 11: '0.9520211', 12: '0.5340434'} \n",
      "F统计量P值 0.770087\n",
      "指数 SZZS.csv \n",
      "P值 {1: '0.4205844', 2: '0.6942073', 3: '0.7024667', 4: '0.5182240', 5: '0.9397226', 6: '0.0756821', 7: '0.5845602', 8: '0.4340589', 9: '0.9551660', 10: '0.5491464', 11: '0.6816082', 12: '0.4010811'} \n",
      "F统计量P值 0.812310\n"
     ]
    }
   ],
   "source": [
    "# 指数角度检验 - 月历效应 - 全时段\n",
    "index_save_dct = {1:0,2:0,3:0,4:0,5:0,6:0,7:0,8:0,9:0,10:0,11:0,12:0}\n",
    "index_p_save_dct = {1:0,2:0,3:0,4:0,5:0,6:0,7:0,8:0,9:0,10:0,11:0,12:0}\n",
    "index_M_csvs = os.listdir('E:/Stock_Data/stock_return_mon_index/')\n",
    "for index_M_csv in index_M_csvs:\n",
    "    index_df = pd.read_csv('E:/Stock_Data/stock_return_mon_index/'+index_M_csv,index_col=0)\n",
    "\n",
    "    X = dummy_df_M\n",
    "    y = index_df\n",
    "    \n",
    "    # 是否使用超额收益率\n",
    "#     y.columns = ['return']\n",
    "#     y = y - rf\n",
    "\n",
    "    # 用OLS\n",
    "#     X = sm.add_constant(X)\n",
    "    est = sm.OLS(y,X)\n",
    "    result = est.fit()\n",
    "    for i in range(12):\n",
    "        index_save_dct[i+1] = '%.7f' %list(result.params)[i]\n",
    "        index_p_save_dct[i+1] = '%.7f' %list(result.pvalues)[i]\n",
    "        f_p = '%.6f' %result.f_pvalue\n",
    "#     print('指数',index_M_csv,'\\n系数',index_save_dct,'\\nP值',index_p_save_dct,'\\nF统计量P值',f_p)\n",
    "    print('指数',index_M_csv,'\\nP值',index_p_save_dct,'\\nF统计量P值',f_p)"
   ]
  },
  {
   "cell_type": "code",
   "execution_count": 21,
   "metadata": {},
   "outputs": [
    {
     "name": "stdout",
     "output_type": "stream",
     "text": [
      "指数 CYBZ.csv \n",
      "系数 {1: '-0.0277877', 2: '0.0456020', 3: '0.0246749', 4: '-0.0028483', 5: '0.0437716', 6: '-0.0301842', 7: '-0.0206582', 8: '-0.0094709', 9: '0.0075732', 10: '0.0046233', 11: '0.0078579', 12: '-0.0313293'} \n",
      "P值 {1: '0.4245697', 2: '0.1914693', 3: '0.4781058', 4: '0.9346424', 5: '0.2097283', 6: '0.3858935', 7: '0.5524133', 8: '0.7851465', 9: '0.8274198', 10: '0.8941116', 11: '0.8210424', 12: '0.3682128'} \n",
      "F统计量P值 0.823302\n",
      "指数 SZCZ.csv \n",
      "系数 {1: '-0.0365681', 2: '0.0177056', 3: '0.0076007', 4: '0.0088787', 5: '0.0071911', 6: '-0.0409584', 7: '-0.0193491', 8: '-0.0349314', 9: '-0.0043285', 10: '0.0087865', 11: '0.0015970', 12: '0.0165241'} \n",
      "P值 {1: '0.1706793', 2: '0.5052851', 3: '0.7746526', 4: '0.7380739', 5: '0.7864885', 6: '0.1254395', 7: '0.4667076', 8: '0.1904186', 9: '0.8704636', 10: '0.7406948', 11: '0.9520211', 12: '0.5340434'} \n",
      "F统计量P值 0.770087\n",
      "指数 SZZS.csv \n",
      "系数 {1: '-0.0187689', 2: '0.0091483', 3: '0.0088884', 4: '0.0150457', 5: '0.0017588', 6: '-0.0417070', 7: '-0.0127276', 8: '-0.0182276', 9: '-0.0013076', 10: '0.0139477', 11: '0.0095470', 12: '0.0195711'} \n",
      "P值 {1: '0.4205844', 2: '0.6942073', 3: '0.7024667', 4: '0.5182240', 5: '0.9397226', 6: '0.0756821', 7: '0.5845602', 8: '0.4340589', 9: '0.9551660', 10: '0.5491464', 11: '0.6816082', 12: '0.4010811'} \n",
      "F统计量P值 0.812310\n"
     ]
    }
   ],
   "source": [
    "# 指数角度检验 - 月历效应 - 全时段\n",
    "index_save_dct = {1:0,2:0,3:0,4:0,5:0,6:0,7:0,8:0,9:0,10:0,11:0,12:0}\n",
    "index_p_save_dct = {1:0,2:0,3:0,4:0,5:0,6:0,7:0,8:0,9:0,10:0,11:0,12:0}\n",
    "index_M_csvs = os.listdir('E:/Stock_Data/stock_return_mon_index/')\n",
    "for index_M_csv in index_M_csvs:\n",
    "    index_df = pd.read_csv('E:/Stock_Data/stock_return_mon_index/'+index_M_csv,index_col=0)\n",
    "\n",
    "    X = dummy_df_M[dummy_df_M.index>'2010-12-31']\n",
    "    y = index_df[index_df.index>'2010-12-31']\n",
    "    \n",
    "    # 是否使用超额收益率\n",
    "#     y.columns = ['return']\n",
    "#     y = y - rf\n",
    "\n",
    "    # 用OLS\n",
    "#     X = sm.add_constant(X)\n",
    "    est = sm.OLS(y,X)\n",
    "    result = est.fit()\n",
    "    for i in range(12):\n",
    "        index_save_dct[i+1] = '%.7f' %list(result.params)[i]\n",
    "        index_p_save_dct[i+1] = '%.7f' %list(result.pvalues)[i]\n",
    "        f_p = '%.6f' %result.f_pvalue\n",
    "    print('指数',index_M_csv,'\\n系数',index_save_dct,'\\nP值',index_p_save_dct,'\\nF统计量P值',f_p)\n",
    "#     print('指数',index_M_csv,'\\nP值',index_p_save_dct,'\\nF统计量P值',f_p)"
   ]
  },
  {
   "cell_type": "code",
   "execution_count": null,
   "metadata": {},
   "outputs": [],
   "source": []
  },
  {
   "cell_type": "code",
   "execution_count": 22,
   "metadata": {
    "scrolled": true
   },
   "outputs": [],
   "source": [
    "# 个股角度检验 - 周历效应\n",
    "\n",
    "code_lst = os.listdir('E:/Stock_Data/stock_return_data')\n",
    "X = dummy_df.iloc[:1943,:] \n",
    "result_save_dct = {1:0,2:0,3:0,4:0,5:0}\n",
    "cnt = 0\n",
    "tol_sig = 0\n",
    "positive = {1:0,2:0,3:0,4:0,5:0}\n",
    "pvalue_015 = {1:0,2:0,3:0,4:0,5:0}\n",
    "pvalue_01 = {1:0,2:0,3:0,4:0,5:0}\n",
    "pvalue_005 = {1:0,2:0,3:0,4:0,5:0}\n",
    "pvalue_001 = {1:0,2:0,3:0,4:0,5:0}\n",
    "pvalue_pos = {1:0,2:0,3:0,4:0,5:0}\n",
    "f_pvalue = 0\n",
    "Thu_neg = 0\n",
    "Thu_pos = 0\n",
    "Thu_tol = 0\n",
    "Thu_mean_r = []\n",
    "for code_csv in code_lst:\n",
    "    y_temp = pd.read_csv('E:/Stock_Data/stock_return_data/'+code_csv,index_col = 0)\n",
    "    if len(y_temp)<1943:\n",
    "        continue\n",
    "    y = y_temp.iloc[:1943,:]\n",
    "    \n",
    "    # 用OLS\n",
    "#     X = sm.add_constant(X)\n",
    "    # 是否使用超额收益率\n",
    "#     y = y - rf\n",
    "\n",
    "#     est = sm.OLS(y,X)\n",
    "#     result = est.fit()\n",
    "    \n",
    "    # pool 面板拼接\n",
    "#     code_name = pd.DataFrame([code_csv[:-4]]*len(y),index=y.index,columns=['code'])\n",
    "#     y = pd.concat([y,code_name],axis=1)\n",
    "#     if cnt ==0 :\n",
    "#         y_tol = y\n",
    "#         X_tol = X\n",
    "#     else:\n",
    "#         y_tol = pd.concat([y_tol,y],axis=0)\n",
    "#         X_tol = pd.concat([X_tol,X],axis=0)\n",
    "    \n",
    "    # 统计专用\n",
    "    \n",
    "#     # 显著结果统计(有显著性水平要求0.15)\n",
    "#     for i in range(5):\n",
    "#         if list(result.pvalues)[i]<0.15:\n",
    "#             pvalue_015[i+1] += 1 \n",
    "#     # 显著结果统计(有显著性水平要求0.1)\n",
    "#     for i in range(5):\n",
    "#         if list(result.pvalues)[i]<0.1:\n",
    "#             pvalue_01[i+1] += 1          \n",
    "#     # 显著结果统计(有显著性水平要求0.05)\n",
    "#     for i in range(5):\n",
    "#         if list(result.pvalues)[i]<0.05:\n",
    "#             pvalue_005[i+1] += 1\n",
    "#     # 显著结果统计(有显著性水平要求0.01)\n",
    "#     for i in range(5):\n",
    "#         if list(result.pvalues)[i]<0.01:\n",
    "#             pvalue_001[i+1] += 1\n",
    "            \n",
    "#     # 显著结果中正负统计(有显著性水平要求0.1)\n",
    "#     for i in range(5):\n",
    "#         if list(result.pvalues)[i]<0.1 and list(result.params)[i]>0:\n",
    "#             pvalue_pos[i+1] += 1\n",
    "    \n",
    "#     # 最显著结果统计(无显著性水平要求)\n",
    "#     result_save_dct[np.argmin(list(result.pvalues))+1]+=1    \n",
    "    \n",
    "#     # 正负统计-回归、其实就是样本均值\n",
    "#     for i in range(5):\n",
    "#         if list(result.params)[i]>0:\n",
    "#             positive[i+1] += 1\n",
    "            \n",
    "#     # F统计量显著统计\n",
    "#     if result.f_pvalue < 0.1:\n",
    "#         f_pvalue += 1\n",
    "    \n",
    "    # 收集周四收益率数据\n",
    "#     y_Thu = y[X[4]==1]['return']\n",
    "#     if cnt == 0:\n",
    "#         y_Thu_save=y_Thu\n",
    "#     else:\n",
    "#         y_Thu_save=pd.concat([y_Thu_save,y_Thu],axis=0)\n",
    "\n",
    "    # 收集周四平均收益率数据\n",
    "#     y_Thu = list(result.params)[3]\n",
    "#     Thu_mean_r.append(y_Thu)\n",
    "        \n",
    "#     # 频率统计，周四为负\n",
    "    y_Thu = y[X[4]==1]['return']\n",
    "#     y_Thu_std = y_Thu.std()\n",
    "    Thu_neg += sum(y_Thu.apply(lambda x: 1 if x<0 else 0))\n",
    "    Thu_pos += sum(y_Thu.apply(lambda x: 1 if x>0 else 0))\n",
    "    Thu_tol += Thu_neg/Thu_pos\n",
    "#     # 频率统计，周一为正\n",
    "#     y_Mon = y[(X[2]==0) & (X[3]==0) & (X[4]==0) & (X[5]==0)]['return']\n",
    "#     y_Mon_std = y_Mon.std()\n",
    "#     Mon_pos += sum(y_Mon.apply(lambda x: 1 if x> 3*y_Mon_std else 0))\n",
    "#     Mon_neg += sum(y_Mon.apply(lambda x: 1 if x<-3*y_Mon_std else 0))\n",
    "    # 频率统计，平均数正负\n",
    "    \n",
    "    # 频率统计，周四小于周一\n",
    "#     y_Mon = y[(X[2]==0) & (X[3]==0) & (X[4]==0) & (X[5]==0) ]['return']\n",
    "#     y_Thu = y[X[4]==1]['return']\n",
    "#     y_delta = y_Thu - y_Mon\n",
    "#     Thu_lower_Mon += sum(y_delta.apply(lambda x: 1 if x<0 else 0))  \n",
    "    \n",
    "    # 用arch\n",
    "#     reg = arch_model(y, x=X, mean='ARX', lags=0, vol='Garch', p=1, o=0, q=1, power=1, dist='ged', hold_back=None)\n",
    "#     result = reg.fit()\n",
    "#     result_save_dct[np.argmin(list(result.pvalues[:5]))+1]+=1\n",
    "        \n",
    "    cnt += 1\n",
    "#     tol_sig += list(result.pvalues)[4]"
   ]
  },
  {
   "cell_type": "code",
   "execution_count": 23,
   "metadata": {
    "scrolled": true
   },
   "outputs": [
    {
     "name": "stdout",
     "output_type": "stream",
     "text": [
      "显著结果统计0.15 {1: 272, 2: 282, 3: 155, 4: 1270, 5: 186} \n",
      "显著结果统计0.1 {1: 181, 2: 177, 3: 76, 4: 1085, 5: 105} \n",
      "显著结果统计0.05 {1: 88, 2: 86, 3: 33, 4: 721, 5: 43} \n",
      "显著结果统计0.01 {1: 17, 2: 10, 3: 4, 4: 237, 5: 8} \n",
      "显著结果中正负统计 {1: 33, 2: 176, 3: 74, 4: 0, 5: 82} \n",
      "最显著结果统计 {1: 201, 2: 155, 3: 103, 4: 1345, 5: 130} \n",
      "回归结果正负统计 {1: 702, 2: 1556, 3: 1477, 4: 22, 5: 991} \n",
      "F统计量显著数 596 \n",
      "总数 1934\n"
     ]
    }
   ],
   "source": [
    "print('显著结果统计0.15',pvalue_015,'\\n显著结果统计0.1',pvalue_01,'\\n显著结果统计0.05',pvalue_005,'\\n显著结果统计0.01',pvalue_001,'\\n显著结果中正负统计',pvalue_pos,'\\n最显著结果统计',result_save_dct,'\\n回归结果正负统计',positive,'\\nF统计量显著数',f_pvalue,'\\n总数',cnt)"
   ]
  },
  {
   "cell_type": "code",
   "execution_count": 11,
   "metadata": {
    "scrolled": true
   },
   "outputs": [
    {
     "name": "stdout",
     "output_type": "stream",
     "text": [
      "周四为负 371413 周四为正 312120 比值 0.5433724487332726\n"
     ]
    }
   ],
   "source": [
    "print('周四为负',Thu_neg,'周四为正',Thu_pos,'比值',Thu_neg/(Thu_pos+Thu_neg))"
   ]
  },
  {
   "cell_type": "code",
   "execution_count": 13,
   "metadata": {},
   "outputs": [
    {
     "name": "stdout",
     "output_type": "stream",
     "text": [
      "周一为负 302681 周一为正 355457 比值 0.4599050655029796\n"
     ]
    }
   ],
   "source": [
    "print('周一为负',Thu_neg,'周一为正',Thu_pos,'比值',Thu_neg/(Thu_pos+Thu_neg))"
   ]
  },
  {
   "cell_type": "code",
   "execution_count": 15,
   "metadata": {},
   "outputs": [
    {
     "name": "stdout",
     "output_type": "stream",
     "text": [
      "周二为负 310951 周二为正 368238 比值 0.4578269082685379\n"
     ]
    }
   ],
   "source": [
    "print('周二为负',Thu_neg,'周二为正',Thu_pos,'比值',Thu_neg/(Thu_pos+Thu_neg))"
   ]
  },
  {
   "cell_type": "code",
   "execution_count": 17,
   "metadata": {},
   "outputs": [
    {
     "name": "stdout",
     "output_type": "stream",
     "text": [
      "周三为负 336493 周三为正 352059 比值 0.4886965690318233\n"
     ]
    }
   ],
   "source": [
    "print('周三为负',Thu_neg,'周三为正',Thu_pos,'比值',Thu_neg/(Thu_pos+Thu_neg))"
   ]
  },
  {
   "cell_type": "code",
   "execution_count": 19,
   "metadata": {},
   "outputs": [
    {
     "name": "stdout",
     "output_type": "stream",
     "text": [
      "周五为负 328451 周五为正 347062 比值 0.4862245434210741\n"
     ]
    }
   ],
   "source": [
    "print('周五为负',Thu_neg,'周五为正',Thu_pos,'比值',Thu_neg/(Thu_pos+Thu_neg))"
   ]
  },
  {
   "cell_type": "code",
   "execution_count": 63,
   "metadata": {
    "scrolled": true
   },
   "outputs": [],
   "source": [
    "# 个股角度检验 - 月历效应\n",
    "\n",
    "code_lst = os.listdir('E:/Stock_Data/stock_return_data_monthly')\n",
    "result_save_dct = {1:0,2:0,3:0,4:0,5:0,6:0,7:0,8:0,9:0,10:0,11:0,12:0}\n",
    "cnt = 0\n",
    "tol_sig = 0\n",
    "positive = {1:0,2:0,3:0,4:0,5:0,6:0,7:0,8:0,9:0,10:0,11:0,12:0}\n",
    "pvalue_01 = {1:0,2:0,3:0,4:0,5:0,6:0,7:0,8:0,9:0,10:0,11:0,12:0}\n",
    "pvalue_005 = {1:0,2:0,3:0,4:0,5:0,6:0,7:0,8:0,9:0,10:0,11:0,12:0}\n",
    "pvalue_001 = {1:0,2:0,3:0,4:0,5:0,6:0,7:0,8:0,9:0,10:0,11:0,12:0}\n",
    "pvalue_pos = {1:0,2:0,3:0,4:0,5:0,6:0,7:0,8:0,9:0,10:0,11:0,12:0}\n",
    "f_pvalue = 0\n",
    "Thu_neg = 0\n",
    "Thu_pos = 0\n",
    "Thu_tol = 0\n",
    "Thu_mean_r = []\n",
    "for code_csv in code_lst:\n",
    "    X_temp = pd.read_csv('E:/Stock_Data/dummy_df_M.csv',index_col=0)\n",
    "    y_temp = pd.read_csv('E:/Stock_Data/stock_return_data_monthly/'+code_csv,index_col = 0)\n",
    "    X_temp.index = [month[:7] for month in X_temp.index]\n",
    "    y_temp.index = [month[:7] for month in y_temp.index]\n",
    "    X_y = pd.merge(X_temp,y_temp,left_index=True,right_index=True,how='left').fillna(0)\n",
    "    X = X_y.iloc[:,0:12]\n",
    "    y = X_y.iloc[:,12]\n",
    "    \n",
    "    # 用OLS\n",
    "#     X = sm.add_constant(X)\n",
    "    # 是否使用超额收益率\n",
    "#     y = y - rf\n",
    "\n",
    "    est = sm.OLS(y,X)\n",
    "    result = est.fit()\n",
    "    \n",
    "    # pool 面板拼接\n",
    "#     code_name = pd.DataFrame([code_csv[:-4]]*len(y),index=y.index,columns=['code'])\n",
    "#     y = pd.concat([y,code_name],axis=1)\n",
    "#     if cnt ==0 :\n",
    "#         y_tol = y\n",
    "#         X_tol = X\n",
    "#     else:\n",
    "#         y_tol = pd.concat([y_tol,y],axis=0)\n",
    "#         X_tol = pd.concat([X_tol,X],axis=0)\n",
    "    \n",
    "    # 统计专用\n",
    "    \n",
    "#     # 显著结果统计(有显著性水平要求0.15)\n",
    "#     for i in range(5):\n",
    "#         if list(result.pvalues)[i]<0.15:\n",
    "#             pvalue_015[i+1] += 1 \n",
    "    # 显著结果统计(有显著性水平要求0.1)\n",
    "    for i in range(12):\n",
    "        if list(result.pvalues)[i]<0.1:\n",
    "            pvalue_01[i+1] += 1          \n",
    "    # 显著结果统计(有显著性水平要求0.05)\n",
    "    for i in range(12):\n",
    "        if list(result.pvalues)[i]<0.05:\n",
    "            pvalue_005[i+1] += 1\n",
    "    # 显著结果统计(有显著性水平要求0.01)\n",
    "    for i in range(12):\n",
    "        if list(result.pvalues)[i]<0.01:\n",
    "            pvalue_001[i+1] += 1\n",
    "            \n",
    "    # 显著结果中正负统计(有显著性水平要求0.1)\n",
    "    for i in range(12):\n",
    "        if list(result.pvalues)[i]<0.1 and list(result.params)[i]>0:\n",
    "            pvalue_pos[i+1] += 1\n",
    "    \n",
    "#     # 最显著结果统计(无显著性水平要求)\n",
    "#     result_save_dct[np.argmin(list(result.pvalues))+1]+=1    \n",
    "    \n",
    "    # 正负统计-回归、其实就是样本均值\n",
    "    for i in range(12):\n",
    "        if list(result.params)[i]>0:\n",
    "            positive[i+1] += 1\n",
    "\n",
    "    cnt += 1"
   ]
  },
  {
   "cell_type": "code",
   "execution_count": 64,
   "metadata": {},
   "outputs": [
    {
     "name": "stdout",
     "output_type": "stream",
     "text": [
      "显著结果统计0.1 {1: 220, 2: 104, 3: 91, 4: 146, 5: 224, 6: 553, 7: 155, 8: 74, 9: 80, 10: 64, 11: 31, 12: 92} \n",
      "显著结果统计0.05 {1: 86, 2: 36, 3: 37, 4: 76, 5: 145, 6: 384, 7: 92, 8: 38, 9: 45, 10: 32, 11: 18, 12: 35} \n",
      "显著结果统计0.01 {1: 9, 2: 3, 3: 6, 4: 33, 5: 58, 6: 162, 7: 26, 8: 6, 9: 10, 10: 7, 11: 5, 12: 5} \n",
      "显著结果中正负统计 {1: 2, 2: 104, 3: 75, 4: 29, 5: 50, 6: 2, 7: 12, 8: 24, 9: 21, 10: 34, 11: 20, 12: 35} \n",
      "回归结果正负统计 {1: 255, 2: 1720, 3: 1359, 4: 839, 5: 816, 6: 185, 7: 515, 8: 770, 9: 859, 10: 1157, 11: 979, 12: 623} \n",
      "总数 1873\n"
     ]
    }
   ],
   "source": [
    "print('显著结果统计0.1',pvalue_01,'\\n显著结果统计0.05',pvalue_005,'\\n显著结果统计0.01',pvalue_001,'\\n显著结果中正负统计',pvalue_pos,'\\n回归结果正负统计',positive,'\\n总数',cnt)"
   ]
  },
  {
   "cell_type": "code",
   "execution_count": 3,
   "metadata": {},
   "outputs": [],
   "source": [
    "initial_df = pd.read_csv('E:/Stock_Data/Fama_beta_Thu.csv')"
   ]
  },
  {
   "cell_type": "code",
   "execution_count": 17,
   "metadata": {},
   "outputs": [],
   "source": [
    "# 个股负周四效应检验 - 负盈利能力因子风险溢价 - 子集\n",
    "initial_df = pd.read_csv('E:/Stock_Data/Fama_beta_Thu.csv')\n",
    "code_list = list(initial_df[initial_df.SMB_beta>0]['Code'])\n",
    "\n",
    "X = dummy_df.iloc[:1943,:] \n",
    "result_save_dct = {1:0,2:0,3:0,4:0,5:0}\n",
    "cnt = 0\n",
    "tol_sig = 0\n",
    "positive = {1:0,2:0,3:0,4:0,5:0}\n",
    "pvalue_015 = {1:0,2:0,3:0,4:0,5:0}\n",
    "pvalue_01 = {1:0,2:0,3:0,4:0,5:0}\n",
    "pvalue_005 = {1:0,2:0,3:0,4:0,5:0}\n",
    "pvalue_001 = {1:0,2:0,3:0,4:0,5:0}\n",
    "pvalue_pos = {1:0,2:0,3:0,4:0,5:0}\n",
    "f_pvalue = 0\n",
    "Thu_neg = 0\n",
    "Thu_pos = 0\n",
    "Thu_tol = 0\n",
    "Thu_mean_r = []\n",
    "for code in code_list:\n",
    "    y_temp = pd.read_csv('E:/Stock_Data/stock_return_data/'+code+'.csv',index_col = 0)\n",
    "    if len(y_temp)<1943:\n",
    "        continue\n",
    "    y = y_temp.iloc[:1943,:]\n",
    "    \n",
    "    # 用OLS\n",
    "#     X = sm.add_constant(X)\n",
    "    # 是否使用超额收益率\n",
    "    y = y - rf\n",
    "\n",
    "    est = sm.OLS(y,X)\n",
    "    result = est.fit()\n",
    "    \n",
    "    # 统计专用\n",
    "    \n",
    "    # 显著结果统计(有显著性水平要求0.1)\n",
    "    for i in range(5):\n",
    "        if list(result.pvalues)[i]<0.1:\n",
    "            pvalue_01[i+1] += 1          \n",
    "    # 显著结果统计(有显著性水平要求0.05)\n",
    "    for i in range(5):\n",
    "        if list(result.pvalues)[i]<0.05:\n",
    "            pvalue_005[i+1] += 1\n",
    "    # 显著结果统计(有显著性水平要求0.01)\n",
    "    for i in range(5):\n",
    "        if list(result.pvalues)[i]<0.01:\n",
    "            pvalue_001[i+1] += 1\n",
    "            \n",
    "    # 正负统计-回归、其实就是样本均值\n",
    "    for i in range(5):\n",
    "        if list(result.params)[i]>0:\n",
    "            positive[i+1] += 1\n",
    "        \n",
    "    cnt += 1"
   ]
  },
  {
   "cell_type": "raw",
   "metadata": {},
   "source": [
    "r<0"
   ]
  },
  {
   "cell_type": "code",
   "execution_count": 18,
   "metadata": {},
   "outputs": [
    {
     "name": "stdout",
     "output_type": "stream",
     "text": [
      "显著结果统计0.1 {1: 174, 2: 169, 3: 71, 4: 983, 5: 91} \n",
      "显著结果统计0.05 {1: 85, 2: 84, 3: 33, 4: 662, 5: 34} \n",
      "显著结果统计0.01 {1: 15, 2: 10, 3: 4, 4: 215, 5: 7} \n",
      "显著结果中正负统计 {1: 0, 2: 0, 3: 0, 4: 0, 5: 0} \n",
      "回归结果正负统计 {1: 590, 2: 1438, 3: 1371, 4: 19, 5: 873} \n",
      "总数 1747\n"
     ]
    }
   ],
   "source": [
    "print('显著结果统计0.1',pvalue_01,'\\n显著结果统计0.05',pvalue_005,'\\n显著结果统计0.01',pvalue_001,'\\n显著结果中正负统计',pvalue_pos,'\\n回归结果正负统计',positive,'\\n总数',cnt)"
   ]
  },
  {
   "cell_type": "raw",
   "metadata": {},
   "source": [
    "r>0"
   ]
  },
  {
   "cell_type": "code",
   "execution_count": 16,
   "metadata": {},
   "outputs": [
    {
     "name": "stdout",
     "output_type": "stream",
     "text": [
      "显著结果统计0.1 {1: 95, 2: 111, 3: 43, 4: 515, 5: 44} \n",
      "显著结果统计0.05 {1: 51, 2: 56, 3: 21, 4: 347, 5: 21} \n",
      "显著结果统计0.01 {1: 9, 2: 6, 3: 3, 4: 104, 5: 2} \n",
      "显著结果中正负统计 {1: 0, 2: 0, 3: 0, 4: 0, 5: 0} \n",
      "回归结果正负统计 {1: 362, 2: 828, 3: 779, 4: 10, 5: 489} \n",
      "总数 975\n"
     ]
    }
   ],
   "source": [
    "print('显著结果统计0.1',pvalue_01,'\\n显著结果统计0.05',pvalue_005,'\\n显著结果统计0.01',pvalue_001,'\\n显著结果中正负统计',pvalue_pos,'\\n回归结果正负统计',positive,'\\n总数',cnt)"
   ]
  },
  {
   "cell_type": "code",
   "execution_count": null,
   "metadata": {},
   "outputs": [],
   "source": []
  },
  {
   "cell_type": "code",
   "execution_count": 5,
   "metadata": {
    "scrolled": true
   },
   "outputs": [
    {
     "ename": "KeyboardInterrupt",
     "evalue": "",
     "output_type": "error",
     "traceback": [
      "\u001b[1;31m---------------------------------------------------------------------------\u001b[0m",
      "\u001b[1;31mKeyboardInterrupt\u001b[0m                         Traceback (most recent call last)",
      "\u001b[1;32m<ipython-input-5-ceb551dff333>\u001b[0m in \u001b[0;36m<module>\u001b[1;34m()\u001b[0m\n\u001b[0;32m     13\u001b[0m         \u001b[0my_tol\u001b[0m \u001b[1;33m=\u001b[0m \u001b[0my\u001b[0m\u001b[1;33m\u001b[0m\u001b[0m\n\u001b[0;32m     14\u001b[0m     \u001b[1;32melse\u001b[0m\u001b[1;33m:\u001b[0m\u001b[1;33m\u001b[0m\u001b[0m\n\u001b[1;32m---> 15\u001b[1;33m         \u001b[0my_tol\u001b[0m \u001b[1;33m=\u001b[0m \u001b[0mpd\u001b[0m\u001b[1;33m.\u001b[0m\u001b[0mconcat\u001b[0m\u001b[1;33m(\u001b[0m\u001b[1;33m[\u001b[0m\u001b[0my_tol\u001b[0m\u001b[1;33m,\u001b[0m\u001b[0my\u001b[0m\u001b[1;33m]\u001b[0m\u001b[1;33m,\u001b[0m\u001b[0maxis\u001b[0m\u001b[1;33m=\u001b[0m\u001b[1;36m0\u001b[0m\u001b[1;33m)\u001b[0m\u001b[1;33m\u001b[0m\u001b[0m\n\u001b[0m\u001b[0;32m     16\u001b[0m     \u001b[0mcnt\u001b[0m\u001b[1;33m+=\u001b[0m\u001b[1;36m1\u001b[0m\u001b[1;33m\u001b[0m\u001b[0m\n",
      "\u001b[1;32mD:\\Anaconda3\\lib\\site-packages\\pandas\\core\\reshape\\concat.py\u001b[0m in \u001b[0;36mconcat\u001b[1;34m(objs, axis, join, join_axes, ignore_index, keys, levels, names, verify_integrity, sort, copy)\u001b[0m\n\u001b[0;32m    223\u001b[0m                        \u001b[0mkeys\u001b[0m\u001b[1;33m=\u001b[0m\u001b[0mkeys\u001b[0m\u001b[1;33m,\u001b[0m \u001b[0mlevels\u001b[0m\u001b[1;33m=\u001b[0m\u001b[0mlevels\u001b[0m\u001b[1;33m,\u001b[0m \u001b[0mnames\u001b[0m\u001b[1;33m=\u001b[0m\u001b[0mnames\u001b[0m\u001b[1;33m,\u001b[0m\u001b[1;33m\u001b[0m\u001b[0m\n\u001b[0;32m    224\u001b[0m                        \u001b[0mverify_integrity\u001b[0m\u001b[1;33m=\u001b[0m\u001b[0mverify_integrity\u001b[0m\u001b[1;33m,\u001b[0m\u001b[1;33m\u001b[0m\u001b[0m\n\u001b[1;32m--> 225\u001b[1;33m                        copy=copy, sort=sort)\n\u001b[0m\u001b[0;32m    226\u001b[0m     \u001b[1;32mreturn\u001b[0m \u001b[0mop\u001b[0m\u001b[1;33m.\u001b[0m\u001b[0mget_result\u001b[0m\u001b[1;33m(\u001b[0m\u001b[1;33m)\u001b[0m\u001b[1;33m\u001b[0m\u001b[0m\n\u001b[0;32m    227\u001b[0m \u001b[1;33m\u001b[0m\u001b[0m\n",
      "\u001b[1;32mD:\\Anaconda3\\lib\\site-packages\\pandas\\core\\reshape\\concat.py\u001b[0m in \u001b[0;36m__init__\u001b[1;34m(self, objs, axis, join, join_axes, keys, levels, names, ignore_index, verify_integrity, copy, sort)\u001b[0m\n\u001b[0;32m    376\u001b[0m         \u001b[0mself\u001b[0m\u001b[1;33m.\u001b[0m\u001b[0mcopy\u001b[0m \u001b[1;33m=\u001b[0m \u001b[0mcopy\u001b[0m\u001b[1;33m\u001b[0m\u001b[0m\n\u001b[0;32m    377\u001b[0m \u001b[1;33m\u001b[0m\u001b[0m\n\u001b[1;32m--> 378\u001b[1;33m         \u001b[0mself\u001b[0m\u001b[1;33m.\u001b[0m\u001b[0mnew_axes\u001b[0m \u001b[1;33m=\u001b[0m \u001b[0mself\u001b[0m\u001b[1;33m.\u001b[0m\u001b[0m_get_new_axes\u001b[0m\u001b[1;33m(\u001b[0m\u001b[1;33m)\u001b[0m\u001b[1;33m\u001b[0m\u001b[0m\n\u001b[0m\u001b[0;32m    379\u001b[0m \u001b[1;33m\u001b[0m\u001b[0m\n\u001b[0;32m    380\u001b[0m     \u001b[1;32mdef\u001b[0m \u001b[0mget_result\u001b[0m\u001b[1;33m(\u001b[0m\u001b[0mself\u001b[0m\u001b[1;33m)\u001b[0m\u001b[1;33m:\u001b[0m\u001b[1;33m\u001b[0m\u001b[0m\n",
      "\u001b[1;32mD:\\Anaconda3\\lib\\site-packages\\pandas\\core\\reshape\\concat.py\u001b[0m in \u001b[0;36m_get_new_axes\u001b[1;34m(self)\u001b[0m\n\u001b[0;32m    456\u001b[0m                 \u001b[0mnew_axes\u001b[0m\u001b[1;33m[\u001b[0m\u001b[0mi\u001b[0m\u001b[1;33m]\u001b[0m \u001b[1;33m=\u001b[0m \u001b[0max\u001b[0m\u001b[1;33m\u001b[0m\u001b[0m\n\u001b[0;32m    457\u001b[0m \u001b[1;33m\u001b[0m\u001b[0m\n\u001b[1;32m--> 458\u001b[1;33m         \u001b[0mnew_axes\u001b[0m\u001b[1;33m[\u001b[0m\u001b[0mself\u001b[0m\u001b[1;33m.\u001b[0m\u001b[0maxis\u001b[0m\u001b[1;33m]\u001b[0m \u001b[1;33m=\u001b[0m \u001b[0mself\u001b[0m\u001b[1;33m.\u001b[0m\u001b[0m_get_concat_axis\u001b[0m\u001b[1;33m(\u001b[0m\u001b[1;33m)\u001b[0m\u001b[1;33m\u001b[0m\u001b[0m\n\u001b[0m\u001b[0;32m    459\u001b[0m         \u001b[1;32mreturn\u001b[0m \u001b[0mnew_axes\u001b[0m\u001b[1;33m\u001b[0m\u001b[0m\n\u001b[0;32m    460\u001b[0m \u001b[1;33m\u001b[0m\u001b[0m\n",
      "\u001b[1;32mD:\\Anaconda3\\lib\\site-packages\\pandas\\core\\reshape\\concat.py\u001b[0m in \u001b[0;36m_get_concat_axis\u001b[1;34m(self)\u001b[0m\n\u001b[0;32m    509\u001b[0m \u001b[1;33m\u001b[0m\u001b[0m\n\u001b[0;32m    510\u001b[0m         \u001b[1;32mif\u001b[0m \u001b[0mself\u001b[0m\u001b[1;33m.\u001b[0m\u001b[0mkeys\u001b[0m \u001b[1;32mis\u001b[0m \u001b[1;32mNone\u001b[0m\u001b[1;33m:\u001b[0m\u001b[1;33m\u001b[0m\u001b[0m\n\u001b[1;32m--> 511\u001b[1;33m             \u001b[0mconcat_axis\u001b[0m \u001b[1;33m=\u001b[0m \u001b[0m_concat_indexes\u001b[0m\u001b[1;33m(\u001b[0m\u001b[0mindexes\u001b[0m\u001b[1;33m)\u001b[0m\u001b[1;33m\u001b[0m\u001b[0m\n\u001b[0m\u001b[0;32m    512\u001b[0m         \u001b[1;32melse\u001b[0m\u001b[1;33m:\u001b[0m\u001b[1;33m\u001b[0m\u001b[0m\n\u001b[0;32m    513\u001b[0m             concat_axis = _make_concat_multiindex(indexes, self.keys,\n",
      "\u001b[1;32mD:\\Anaconda3\\lib\\site-packages\\pandas\\core\\reshape\\concat.py\u001b[0m in \u001b[0;36m_concat_indexes\u001b[1;34m(indexes)\u001b[0m\n\u001b[0;32m    527\u001b[0m \u001b[1;33m\u001b[0m\u001b[0m\n\u001b[0;32m    528\u001b[0m \u001b[1;32mdef\u001b[0m \u001b[0m_concat_indexes\u001b[0m\u001b[1;33m(\u001b[0m\u001b[0mindexes\u001b[0m\u001b[1;33m)\u001b[0m\u001b[1;33m:\u001b[0m\u001b[1;33m\u001b[0m\u001b[0m\n\u001b[1;32m--> 529\u001b[1;33m     \u001b[1;32mreturn\u001b[0m \u001b[0mindexes\u001b[0m\u001b[1;33m[\u001b[0m\u001b[1;36m0\u001b[0m\u001b[1;33m]\u001b[0m\u001b[1;33m.\u001b[0m\u001b[0mappend\u001b[0m\u001b[1;33m(\u001b[0m\u001b[0mindexes\u001b[0m\u001b[1;33m[\u001b[0m\u001b[1;36m1\u001b[0m\u001b[1;33m:\u001b[0m\u001b[1;33m]\u001b[0m\u001b[1;33m)\u001b[0m\u001b[1;33m\u001b[0m\u001b[0m\n\u001b[0m\u001b[0;32m    530\u001b[0m \u001b[1;33m\u001b[0m\u001b[0m\n\u001b[0;32m    531\u001b[0m \u001b[1;33m\u001b[0m\u001b[0m\n",
      "\u001b[1;32mD:\\Anaconda3\\lib\\site-packages\\pandas\\core\\indexes\\base.py\u001b[0m in \u001b[0;36mappend\u001b[1;34m(self, other)\u001b[0m\n\u001b[0;32m   2124\u001b[0m         \u001b[0mname\u001b[0m \u001b[1;33m=\u001b[0m \u001b[1;32mNone\u001b[0m \u001b[1;32mif\u001b[0m \u001b[0mlen\u001b[0m\u001b[1;33m(\u001b[0m\u001b[0mnames\u001b[0m\u001b[1;33m)\u001b[0m \u001b[1;33m>\u001b[0m \u001b[1;36m1\u001b[0m \u001b[1;32melse\u001b[0m \u001b[0mself\u001b[0m\u001b[1;33m.\u001b[0m\u001b[0mname\u001b[0m\u001b[1;33m\u001b[0m\u001b[0m\n\u001b[0;32m   2125\u001b[0m \u001b[1;33m\u001b[0m\u001b[0m\n\u001b[1;32m-> 2126\u001b[1;33m         \u001b[1;32mreturn\u001b[0m \u001b[0mself\u001b[0m\u001b[1;33m.\u001b[0m\u001b[0m_concat\u001b[0m\u001b[1;33m(\u001b[0m\u001b[0mto_concat\u001b[0m\u001b[1;33m,\u001b[0m \u001b[0mname\u001b[0m\u001b[1;33m)\u001b[0m\u001b[1;33m\u001b[0m\u001b[0m\n\u001b[0m\u001b[0;32m   2127\u001b[0m \u001b[1;33m\u001b[0m\u001b[0m\n\u001b[0;32m   2128\u001b[0m     \u001b[1;32mdef\u001b[0m \u001b[0m_concat\u001b[0m\u001b[1;33m(\u001b[0m\u001b[0mself\u001b[0m\u001b[1;33m,\u001b[0m \u001b[0mto_concat\u001b[0m\u001b[1;33m,\u001b[0m \u001b[0mname\u001b[0m\u001b[1;33m)\u001b[0m\u001b[1;33m:\u001b[0m\u001b[1;33m\u001b[0m\u001b[0m\n",
      "\u001b[1;32mD:\\Anaconda3\\lib\\site-packages\\pandas\\core\\indexes\\base.py\u001b[0m in \u001b[0;36m_concat\u001b[1;34m(self, to_concat, name)\u001b[0m\n\u001b[0;32m   2131\u001b[0m \u001b[1;33m\u001b[0m\u001b[0m\n\u001b[0;32m   2132\u001b[0m         \u001b[1;32mif\u001b[0m \u001b[0mlen\u001b[0m\u001b[1;33m(\u001b[0m\u001b[0mtyps\u001b[0m\u001b[1;33m)\u001b[0m \u001b[1;33m==\u001b[0m \u001b[1;36m1\u001b[0m\u001b[1;33m:\u001b[0m\u001b[1;33m\u001b[0m\u001b[0m\n\u001b[1;32m-> 2133\u001b[1;33m             \u001b[1;32mreturn\u001b[0m \u001b[0mself\u001b[0m\u001b[1;33m.\u001b[0m\u001b[0m_concat_same_dtype\u001b[0m\u001b[1;33m(\u001b[0m\u001b[0mto_concat\u001b[0m\u001b[1;33m,\u001b[0m \u001b[0mname\u001b[0m\u001b[1;33m=\u001b[0m\u001b[0mname\u001b[0m\u001b[1;33m)\u001b[0m\u001b[1;33m\u001b[0m\u001b[0m\n\u001b[0m\u001b[0;32m   2134\u001b[0m         \u001b[1;32mreturn\u001b[0m \u001b[0m_concat\u001b[0m\u001b[1;33m.\u001b[0m\u001b[0m_concat_index_asobject\u001b[0m\u001b[1;33m(\u001b[0m\u001b[0mto_concat\u001b[0m\u001b[1;33m,\u001b[0m \u001b[0mname\u001b[0m\u001b[1;33m=\u001b[0m\u001b[0mname\u001b[0m\u001b[1;33m)\u001b[0m\u001b[1;33m\u001b[0m\u001b[0m\n\u001b[0;32m   2135\u001b[0m \u001b[1;33m\u001b[0m\u001b[0m\n",
      "\u001b[1;32mD:\\Anaconda3\\lib\\site-packages\\pandas\\core\\indexes\\base.py\u001b[0m in \u001b[0;36m_concat_same_dtype\u001b[1;34m(self, to_concat, name)\u001b[0m\n\u001b[0;32m   2139\u001b[0m         \"\"\"\n\u001b[0;32m   2140\u001b[0m         \u001b[1;31m# must be overridden in specific classes\u001b[0m\u001b[1;33m\u001b[0m\u001b[1;33m\u001b[0m\u001b[0m\n\u001b[1;32m-> 2141\u001b[1;33m         \u001b[1;32mreturn\u001b[0m \u001b[0m_concat\u001b[0m\u001b[1;33m.\u001b[0m\u001b[0m_concat_index_asobject\u001b[0m\u001b[1;33m(\u001b[0m\u001b[0mto_concat\u001b[0m\u001b[1;33m,\u001b[0m \u001b[0mname\u001b[0m\u001b[1;33m)\u001b[0m\u001b[1;33m\u001b[0m\u001b[0m\n\u001b[0m\u001b[0;32m   2142\u001b[0m \u001b[1;33m\u001b[0m\u001b[0m\n\u001b[0;32m   2143\u001b[0m     _index_shared_docs['take'] = \"\"\"\n",
      "\u001b[1;32mD:\\Anaconda3\\lib\\site-packages\\pandas\\core\\dtypes\\concat.py\u001b[0m in \u001b[0;36m_concat_index_asobject\u001b[1;34m(to_concat, name)\u001b[0m\n\u001b[0;32m    532\u001b[0m     to_concat = [x._values if isinstance(x, Index) else x\n\u001b[0;32m    533\u001b[0m                  for x in to_concat]\n\u001b[1;32m--> 534\u001b[1;33m     \u001b[1;32mreturn\u001b[0m \u001b[0mself\u001b[0m\u001b[1;33m.\u001b[0m\u001b[0m_shallow_copy_with_infer\u001b[0m\u001b[1;33m(\u001b[0m\u001b[0mnp\u001b[0m\u001b[1;33m.\u001b[0m\u001b[0mconcatenate\u001b[0m\u001b[1;33m(\u001b[0m\u001b[0mto_concat\u001b[0m\u001b[1;33m)\u001b[0m\u001b[1;33m,\u001b[0m \u001b[1;33m**\u001b[0m\u001b[0mattribs\u001b[0m\u001b[1;33m)\u001b[0m\u001b[1;33m\u001b[0m\u001b[0m\n\u001b[0m\u001b[0;32m    535\u001b[0m \u001b[1;33m\u001b[0m\u001b[0m\n\u001b[0;32m    536\u001b[0m \u001b[1;33m\u001b[0m\u001b[0m\n",
      "\u001b[1;32mD:\\Anaconda3\\lib\\site-packages\\pandas\\core\\indexes\\base.py\u001b[0m in \u001b[0;36m_shallow_copy_with_infer\u001b[1;34m(self, values, **kwargs)\u001b[0m\n\u001b[0;32m    529\u001b[0m             \u001b[1;32mexcept\u001b[0m \u001b[1;33m(\u001b[0m\u001b[0mTypeError\u001b[0m\u001b[1;33m,\u001b[0m \u001b[0mValueError\u001b[0m\u001b[1;33m)\u001b[0m\u001b[1;33m:\u001b[0m\u001b[1;33m\u001b[0m\u001b[0m\n\u001b[0;32m    530\u001b[0m                 \u001b[1;32mpass\u001b[0m\u001b[1;33m\u001b[0m\u001b[0m\n\u001b[1;32m--> 531\u001b[1;33m         \u001b[1;32mreturn\u001b[0m \u001b[0mIndex\u001b[0m\u001b[1;33m(\u001b[0m\u001b[0mvalues\u001b[0m\u001b[1;33m,\u001b[0m \u001b[1;33m**\u001b[0m\u001b[0mattributes\u001b[0m\u001b[1;33m)\u001b[0m\u001b[1;33m\u001b[0m\u001b[0m\n\u001b[0m\u001b[0;32m    532\u001b[0m \u001b[1;33m\u001b[0m\u001b[0m\n\u001b[0;32m    533\u001b[0m     \u001b[1;32mdef\u001b[0m \u001b[0m_deepcopy_if_needed\u001b[0m\u001b[1;33m(\u001b[0m\u001b[0mself\u001b[0m\u001b[1;33m,\u001b[0m \u001b[0morig\u001b[0m\u001b[1;33m,\u001b[0m \u001b[0mcopy\u001b[0m\u001b[1;33m=\u001b[0m\u001b[1;32mFalse\u001b[0m\u001b[1;33m)\u001b[0m\u001b[1;33m:\u001b[0m\u001b[1;33m\u001b[0m\u001b[0m\n",
      "\u001b[1;32mD:\\Anaconda3\\lib\\site-packages\\pandas\\core\\indexes\\base.py\u001b[0m in \u001b[0;36m__new__\u001b[1;34m(cls, data, dtype, copy, name, fastpath, tupleize_cols, **kwargs)\u001b[0m\n\u001b[0;32m    376\u001b[0m             \u001b[1;32mif\u001b[0m \u001b[0mdtype\u001b[0m \u001b[1;32mis\u001b[0m \u001b[1;32mNone\u001b[0m\u001b[1;33m:\u001b[0m\u001b[1;33m\u001b[0m\u001b[0m\n\u001b[0;32m    377\u001b[0m                 \u001b[0minferred\u001b[0m \u001b[1;33m=\u001b[0m \u001b[0mlib\u001b[0m\u001b[1;33m.\u001b[0m\u001b[0minfer_dtype\u001b[0m\u001b[1;33m(\u001b[0m\u001b[0msubarr\u001b[0m\u001b[1;33m)\u001b[0m\u001b[1;33m\u001b[0m\u001b[0m\n\u001b[1;32m--> 378\u001b[1;33m                 \u001b[1;32mif\u001b[0m \u001b[0minferred\u001b[0m \u001b[1;33m==\u001b[0m \u001b[1;34m'integer'\u001b[0m\u001b[1;33m:\u001b[0m\u001b[1;33m\u001b[0m\u001b[0m\n\u001b[0m\u001b[0;32m    379\u001b[0m                     \u001b[1;32mtry\u001b[0m\u001b[1;33m:\u001b[0m\u001b[1;33m\u001b[0m\u001b[0m\n\u001b[0;32m    380\u001b[0m                         return cls._try_convert_to_int_index(\n",
      "\u001b[1;31mKeyboardInterrupt\u001b[0m: "
     ]
    }
   ],
   "source": [
    "# 个股数据描述性统计 - 忽视个股截面间差异混合描述性统计\n",
    "code_lst = os.listdir('E:/Stock_Data/stock_return_data')\n",
    "cnt = 0\n",
    "for code_csv in code_lst:\n",
    "    y_temp = pd.read_csv('E:/Stock_Data/stock_return_data/'+code_csv,index_col = 0)\n",
    "    if len(y_temp)<1943:\n",
    "        continue\n",
    "    y = y_temp.iloc[:1943,:]\n",
    "    # pool 面板拼接\n",
    "    code_name = pd.DataFrame([code_csv[:-4]]*len(y),index=y.index,columns=['code'])\n",
    "    y = pd.concat([y,code_name],axis=1)\n",
    "    if cnt ==0 :\n",
    "        y_tol = y\n",
    "    else:\n",
    "        y_tol = pd.concat([y_tol,y],axis=0)\n",
    "    cnt+=1"
   ]
  },
  {
   "cell_type": "code",
   "execution_count": 27,
   "metadata": {},
   "outputs": [],
   "source": [
    "y_tol.describe().to_csv('E:/Stock_Data/describe_data/indivi_stock_pool.csv')"
   ]
  },
  {
   "cell_type": "code",
   "execution_count": 30,
   "metadata": {},
   "outputs": [],
   "source": [
    "# 个股数据描述性统计 - 个股平均收益率进行描述性统计\n",
    "y_tol.groupby('code').mean().describe().to_csv('E:/Stock_Data/describe_data/indivi_stock_mean.csv')"
   ]
  },
  {
   "cell_type": "code",
   "execution_count": 32,
   "metadata": {},
   "outputs": [],
   "source": [
    "y_tol.to_csv('E:/Stock_Data/all_trade_data.csv',index=True)"
   ]
  },
  {
   "cell_type": "code",
   "execution_count": 123,
   "metadata": {},
   "outputs": [],
   "source": [
    "# 绘图专用，计算从第一日开始当日期望收益率（仅计算同星期）\n",
    "\n",
    "tol_need_date_lst = \\\n",
    "list(dummy_df.index)[0:5]+\\\n",
    "list(dummy_df.index)[63:68]+\\\n",
    "list(dummy_df.index)[121:126]+\\\n",
    "list(dummy_df.index)[185:190]+\\\n",
    "list(dummy_df.index)[240:245]+\\\n",
    "list(dummy_df.index)[323:328]+\\\n",
    "list(dummy_df.index)[362:367]+\\\n",
    "list(dummy_df.index)[417:422]+\\\n",
    "list(dummy_df.index)[477:482]+\\\n",
    "list(dummy_df.index)[529:534]\n",
    "\n",
    "code_lst = os.listdir('E:/Stock_Data/stock_return_data')\n",
    "X = dummy_df.iloc[:1943,:] \n",
    "cnt = 0\n",
    "for code_csv in code_lst:\n",
    "    y_temp = pd.read_csv('E:/Stock_Data/stock_return_data/'+code_csv,index_col = 0)\n",
    "    if len(y_temp)<1943:\n",
    "        continue\n",
    "    y = y_temp.iloc[:1943,:]\n",
    "    y = y - rf\n",
    "    y_X = pd.merge(y,X,left_index=True,right_index=True)\n",
    "    date_index = list(y_X.index)\n",
    "    save_df = pd.DataFrame(columns=['expect_return_Tvalue'],index=tol_need_date_lst)\n",
    "    for i in range(len(tol_need_date_lst)):\n",
    "        date=tol_need_date_lst[i]\n",
    "        weekday = datetime.datetime.strptime(date,'%Y-%m-%d').weekday()+1\n",
    "        y_X_sub_0 = y_X[y_X.index>date]\n",
    "        y_X_sub_1 = y_X_sub_0[y_X_sub_0[weekday]==1]['return']\n",
    "        mean_samp = y_X_sub_1.mean()\n",
    "        std_samp = y_X_sub_1.std()\n",
    "        n = len(y_X_sub_1)\n",
    "        t_value = mean_samp/(std_samp/np.sqrt(n))\n",
    "        save_df.iloc[i,]=t_value\n",
    "#         break\n",
    "    save_df.to_csv('E:/Stock_Data/expect_return_data/'+code_csv,index=True)\n",
    "#     break"
   ]
  },
  {
   "cell_type": "code",
   "execution_count": 125,
   "metadata": {},
   "outputs": [],
   "source": [
    "stock_data_T_lst = os.listdir('E:/Stock_Data/expect_return_data/')\n",
    "sample_df = pd.read_csv('E:/Stock_Data/expect_return_data/'+stock_data_T_lst[0],index_col=0)\n",
    "save_df = pd.DataFrame(columns=['mean_T'],index=sample_df.index)\n",
    "date_lst = list(sample_df.index)\n",
    "for i in range(len(date_lst)):\n",
    "    date = date_lst[i]\n",
    "    cnt = 0\n",
    "    tol_expect_return_T = 0\n",
    "    for stock_data_T_csv in stock_data_T_lst:\n",
    "        expect_return_T_df = pd.read_csv('E:/Stock_Data/expect_return_data/'+stock_data_T_csv,index_col=0)\n",
    "        expect_return_T = expect_return_T_df.iloc[i,0]\n",
    "        tol_expect_return_T += expect_return_T\n",
    "        cnt += 1\n",
    "    save_df.iloc[i,0] = tol_expect_return_T/cnt\n",
    "save_df.to_csv('E:/Stock_Data/expect_return_T_mean_all.csv',index=True)"
   ]
  },
  {
   "cell_type": "code",
   "execution_count": null,
   "metadata": {},
   "outputs": [],
   "source": []
  },
  {
   "cell_type": "code",
   "execution_count": 81,
   "metadata": {},
   "outputs": [
    {
     "data": {
      "text/plain": [
       "Ttest_1sampResult(statistic=array([70.89964599]), pvalue=array([0.]))"
      ]
     },
     "execution_count": 81,
     "metadata": {},
     "output_type": "execute_result"
    }
   ],
   "source": [
    "from scipy import stats\n",
    "stats.ttest_1samp(Thu_mean_r, [-(0.0000687+0.001+0.0003+0.0001)])"
   ]
  },
  {
   "cell_type": "code",
   "execution_count": 10,
   "metadata": {},
   "outputs": [],
   "source": [
    "# pool面板回归\n",
    "est = sm.OLS(y_tol,X_tol)\n",
    "result = est.fit()"
   ]
  },
  {
   "cell_type": "code",
   "execution_count": 11,
   "metadata": {
    "scrolled": true
   },
   "outputs": [
    {
     "name": "stdout",
     "output_type": "stream",
     "text": [
      "                            OLS Regression Results                            \n",
      "==============================================================================\n",
      "Dep. Variable:                 return   R-squared:                       0.002\n",
      "Model:                            OLS   Adj. R-squared:                  0.002\n",
      "Method:                 Least Squares   F-statistic:                     1742.\n",
      "Date:                Thu, 04 Apr 2019   Prob (F-statistic):               0.00\n",
      "Time:                        16:17:26   Log-Likelihood:             8.0710e+06\n",
      "No. Observations:             3757762   AIC:                        -1.614e+07\n",
      "Df Residuals:                 3757757   BIC:                        -1.614e+07\n",
      "Df Model:                           4                                         \n",
      "Covariance Type:            nonrobust                                         \n",
      "==============================================================================\n",
      "                 coef    std err          t      P>|t|      [0.025      0.975]\n",
      "------------------------------------------------------------------------------\n",
      "1             -0.0005   3.31e-05    -14.582      0.000      -0.001      -0.000\n",
      "2              0.0009   3.25e-05     28.979      0.000       0.001       0.001\n",
      "3              0.0007   3.23e-05     22.330      0.000       0.001       0.001\n",
      "4             -0.0024   3.24e-05    -75.102      0.000      -0.003      -0.002\n",
      "5              0.0001   3.26e-05      3.670      0.000    5.57e-05       0.000\n",
      "==============================================================================\n",
      "Omnibus:                  1187820.605   Durbin-Watson:                   1.825\n",
      "Prob(Omnibus):                  0.000   Jarque-Bera (JB):        218153656.146\n",
      "Skew:                           0.283   Prob(JB):                         0.00\n",
      "Kurtosis:                      40.323   Cond. No.                         1.03\n",
      "==============================================================================\n",
      "\n",
      "Warnings:\n",
      "[1] Standard Errors assume that the covariance matrix of the errors is correctly specified.\n"
     ]
    }
   ],
   "source": [
    "print(result.summary())"
   ]
  },
  {
   "cell_type": "code",
   "execution_count": null,
   "metadata": {},
   "outputs": [],
   "source": []
  },
  {
   "cell_type": "code",
   "execution_count": 235,
   "metadata": {
    "scrolled": true
   },
   "outputs": [
    {
     "name": "stderr",
     "output_type": "stream",
     "text": [
      "D:\\Anaconda3\\lib\\site-packages\\ipykernel_launcher.py:7: SettingWithCopyWarning: \n",
      "A value is trying to be set on a copy of a slice from a DataFrame.\n",
      "Try using .loc[row_indexer,col_indexer] = value instead\n",
      "\n",
      "See the caveats in the documentation: http://pandas.pydata.org/pandas-docs/stable/indexing.html#indexing-view-versus-copy\n",
      "  import sys\n"
     ]
    },
    {
     "ename": "KeyboardInterrupt",
     "evalue": "",
     "output_type": "error",
     "traceback": [
      "\u001b[1;31m---------------------------------------------------------------------------\u001b[0m",
      "\u001b[1;31mKeyboardInterrupt\u001b[0m                         Traceback (most recent call last)",
      "\u001b[1;32m<ipython-input-235-6a181e3cc554>\u001b[0m in \u001b[0;36m<module>\u001b[1;34m()\u001b[0m\n\u001b[0;32m      5\u001b[0m     \u001b[0my\u001b[0m \u001b[1;33m=\u001b[0m \u001b[0my_temp\u001b[0m\u001b[1;33m.\u001b[0m\u001b[0miloc\u001b[0m\u001b[1;33m[\u001b[0m\u001b[1;33m:\u001b[0m\u001b[1;36m1943\u001b[0m\u001b[1;33m,\u001b[0m\u001b[1;33m:\u001b[0m\u001b[1;33m]\u001b[0m\u001b[1;33m\u001b[0m\u001b[0m\n\u001b[0;32m      6\u001b[0m \u001b[1;33m\u001b[0m\u001b[0m\n\u001b[1;32m----> 7\u001b[1;33m     \u001b[0my\u001b[0m\u001b[1;33m[\u001b[0m\u001b[1;34m'return_'\u001b[0m\u001b[1;33m]\u001b[0m \u001b[1;33m=\u001b[0m \u001b[0my\u001b[0m\u001b[1;33m.\u001b[0m\u001b[0mshift\u001b[0m\u001b[1;33m(\u001b[0m\u001b[1;36m1\u001b[0m\u001b[1;33m)\u001b[0m\u001b[1;33m\u001b[0m\u001b[0m\n\u001b[0m\u001b[0;32m      8\u001b[0m     \u001b[0my\u001b[0m \u001b[1;33m=\u001b[0m \u001b[0my\u001b[0m\u001b[1;33m.\u001b[0m\u001b[0mdropna\u001b[0m\u001b[1;33m(\u001b[0m\u001b[1;33m)\u001b[0m\u001b[1;33m\u001b[0m\u001b[0m\n\u001b[0;32m      9\u001b[0m \u001b[1;33m\u001b[0m\u001b[0m\n",
      "\u001b[1;32mD:\\Anaconda3\\lib\\site-packages\\pandas\\core\\frame.py\u001b[0m in \u001b[0;36m__setitem__\u001b[1;34m(self, key, value)\u001b[0m\n\u001b[0;32m   3114\u001b[0m         \u001b[1;32melse\u001b[0m\u001b[1;33m:\u001b[0m\u001b[1;33m\u001b[0m\u001b[0m\n\u001b[0;32m   3115\u001b[0m             \u001b[1;31m# set column\u001b[0m\u001b[1;33m\u001b[0m\u001b[1;33m\u001b[0m\u001b[0m\n\u001b[1;32m-> 3116\u001b[1;33m             \u001b[0mself\u001b[0m\u001b[1;33m.\u001b[0m\u001b[0m_set_item\u001b[0m\u001b[1;33m(\u001b[0m\u001b[0mkey\u001b[0m\u001b[1;33m,\u001b[0m \u001b[0mvalue\u001b[0m\u001b[1;33m)\u001b[0m\u001b[1;33m\u001b[0m\u001b[0m\n\u001b[0m\u001b[0;32m   3117\u001b[0m \u001b[1;33m\u001b[0m\u001b[0m\n\u001b[0;32m   3118\u001b[0m     \u001b[1;32mdef\u001b[0m \u001b[0m_setitem_slice\u001b[0m\u001b[1;33m(\u001b[0m\u001b[0mself\u001b[0m\u001b[1;33m,\u001b[0m \u001b[0mkey\u001b[0m\u001b[1;33m,\u001b[0m \u001b[0mvalue\u001b[0m\u001b[1;33m)\u001b[0m\u001b[1;33m:\u001b[0m\u001b[1;33m\u001b[0m\u001b[0m\n",
      "\u001b[1;32mD:\\Anaconda3\\lib\\site-packages\\pandas\\core\\frame.py\u001b[0m in \u001b[0;36m_set_item\u001b[1;34m(self, key, value)\u001b[0m\n\u001b[0;32m   3196\u001b[0m         \u001b[1;31m# value exception to occur first\u001b[0m\u001b[1;33m\u001b[0m\u001b[1;33m\u001b[0m\u001b[0m\n\u001b[0;32m   3197\u001b[0m         \u001b[1;32mif\u001b[0m \u001b[0mlen\u001b[0m\u001b[1;33m(\u001b[0m\u001b[0mself\u001b[0m\u001b[1;33m)\u001b[0m\u001b[1;33m:\u001b[0m\u001b[1;33m\u001b[0m\u001b[0m\n\u001b[1;32m-> 3198\u001b[1;33m             \u001b[0mself\u001b[0m\u001b[1;33m.\u001b[0m\u001b[0m_check_setitem_copy\u001b[0m\u001b[1;33m(\u001b[0m\u001b[1;33m)\u001b[0m\u001b[1;33m\u001b[0m\u001b[0m\n\u001b[0m\u001b[0;32m   3199\u001b[0m \u001b[1;33m\u001b[0m\u001b[0m\n\u001b[0;32m   3200\u001b[0m     \u001b[1;32mdef\u001b[0m \u001b[0minsert\u001b[0m\u001b[1;33m(\u001b[0m\u001b[0mself\u001b[0m\u001b[1;33m,\u001b[0m \u001b[0mloc\u001b[0m\u001b[1;33m,\u001b[0m \u001b[0mcolumn\u001b[0m\u001b[1;33m,\u001b[0m \u001b[0mvalue\u001b[0m\u001b[1;33m,\u001b[0m \u001b[0mallow_duplicates\u001b[0m\u001b[1;33m=\u001b[0m\u001b[1;32mFalse\u001b[0m\u001b[1;33m)\u001b[0m\u001b[1;33m:\u001b[0m\u001b[1;33m\u001b[0m\u001b[0m\n",
      "\u001b[1;32mD:\\Anaconda3\\lib\\site-packages\\pandas\\core\\generic.py\u001b[0m in \u001b[0;36m_check_setitem_copy\u001b[1;34m(self, stacklevel, t, force)\u001b[0m\n\u001b[0;32m   2669\u001b[0m             \u001b[1;32mtry\u001b[0m\u001b[1;33m:\u001b[0m\u001b[1;33m\u001b[0m\u001b[0m\n\u001b[0;32m   2670\u001b[0m                 \u001b[0mgc\u001b[0m\u001b[1;33m.\u001b[0m\u001b[0mcollect\u001b[0m\u001b[1;33m(\u001b[0m\u001b[1;36m2\u001b[0m\u001b[1;33m)\u001b[0m\u001b[1;33m\u001b[0m\u001b[0m\n\u001b[1;32m-> 2671\u001b[1;33m                 \u001b[1;32mif\u001b[0m \u001b[1;32mnot\u001b[0m \u001b[0mgc\u001b[0m\u001b[1;33m.\u001b[0m\u001b[0mget_referents\u001b[0m\u001b[1;33m(\u001b[0m\u001b[0mself\u001b[0m\u001b[1;33m.\u001b[0m\u001b[0m_is_copy\u001b[0m\u001b[1;33m(\u001b[0m\u001b[1;33m)\u001b[0m\u001b[1;33m)\u001b[0m\u001b[1;33m:\u001b[0m\u001b[1;33m\u001b[0m\u001b[0m\n\u001b[0m\u001b[0;32m   2672\u001b[0m                     \u001b[0mself\u001b[0m\u001b[1;33m.\u001b[0m\u001b[0m_is_copy\u001b[0m \u001b[1;33m=\u001b[0m \u001b[1;32mNone\u001b[0m\u001b[1;33m\u001b[0m\u001b[0m\n\u001b[0;32m   2673\u001b[0m                     \u001b[1;32mreturn\u001b[0m\u001b[1;33m\u001b[0m\u001b[0m\n",
      "\u001b[1;31mKeyboardInterrupt\u001b[0m: "
     ]
    }
   ],
   "source": [
    "for code_csv in code_lst:\n",
    "    y_temp = pd.read_csv('E:/Stock_Data/stock_return_data/'+code_csv,index_col = 0)\n",
    "    if len(y_temp)<1943:\n",
    "        continue\n",
    "    y = y_temp.iloc[:1943,:]\n",
    "    \n",
    "    y['return_'] = y.shift(1)\n",
    "    y = y.dropna()\n",
    "    \n",
    "    X = y[['return_']]\n",
    "    y = y[['return']]\n",
    "    \n",
    "    # 用OLS\n",
    "    X = sm.add_constant(X)\n",
    "\n",
    "    est = sm.OLS(y,X)\n",
    "    result = est.fit()"
   ]
  },
  {
   "cell_type": "code",
   "execution_count": 236,
   "metadata": {},
   "outputs": [
    {
     "name": "stdout",
     "output_type": "stream",
     "text": [
      "                            OLS Regression Results                            \n",
      "==============================================================================\n",
      "Dep. Variable:                 return   R-squared:                       0.003\n",
      "Model:                            OLS   Adj. R-squared:                  0.003\n",
      "Method:                 Least Squares   F-statistic:                     6.113\n",
      "Date:                Fri, 05 Apr 2019   Prob (F-statistic):             0.0135\n",
      "Time:                        01:36:50   Log-Likelihood:                 4318.5\n",
      "No. Observations:                1942   AIC:                            -8633.\n",
      "Df Residuals:                    1940   BIC:                            -8622.\n",
      "Df Model:                           1                                         \n",
      "Covariance Type:            nonrobust                                         \n",
      "==============================================================================\n",
      "                 coef    std err          t      P>|t|      [0.025      0.975]\n",
      "------------------------------------------------------------------------------\n",
      "const       5.914e-05      0.001      0.099      0.921      -0.001       0.001\n",
      "return_        0.0560      0.023      2.472      0.014       0.012       0.101\n",
      "==============================================================================\n",
      "Omnibus:                      175.572   Durbin-Watson:                   1.996\n",
      "Prob(Omnibus):                  0.000   Jarque-Bera (JB):             1157.244\n",
      "Skew:                           0.028   Prob(JB):                    5.10e-252\n",
      "Kurtosis:                       6.781   Cond. No.                         38.1\n",
      "==============================================================================\n",
      "\n",
      "Warnings:\n",
      "[1] Standard Errors assume that the covariance matrix of the errors is correctly specified.\n"
     ]
    }
   ],
   "source": [
    "print(result.summary())"
   ]
  },
  {
   "cell_type": "code",
   "execution_count": null,
   "metadata": {},
   "outputs": [],
   "source": []
  },
  {
   "cell_type": "code",
   "execution_count": 205,
   "metadata": {},
   "outputs": [],
   "source": []
  },
  {
   "cell_type": "code",
   "execution_count": 197,
   "metadata": {
    "scrolled": true
   },
   "outputs": [],
   "source": [
    "# df_mean=y_tol.groupby('code').mean()[['return']]\n",
    "# df_mean.columns = ['mean']\n",
    "# df_std=y_tol.groupby('code').std()[['return']]\n",
    "# df_std.columns = ['std']"
   ]
  },
  {
   "cell_type": "code",
   "execution_count": 203,
   "metadata": {},
   "outputs": [],
   "source": [
    "# y_tol_temp_0 = pd.merge(y_tol,df_mean,left_on='code',right_index=True)\n",
    "# y_tol_temp_1 = pd.merge(y_tol_temp_0,df_std,left_on='code',right_index=True)\n",
    "# y_tol_temp_1['return'] = (y_tol_temp_1['return']-y_tol_temp_1['mean'])/y_tol_temp_1['std']\n",
    "# y_tol_ = y_tol_temp_1[['return','code']]"
   ]
  },
  {
   "cell_type": "code",
   "execution_count": 183,
   "metadata": {
    "scrolled": true
   },
   "outputs": [],
   "source": [
    "# y_tol['week'] = y_tol.index\n",
    "# y_tol['week'] = y_tol['week'].apply(lambda x: datetime.datetime.strptime(x,\"%Y-%m-%d\").weekday()+1)"
   ]
  },
  {
   "cell_type": "code",
   "execution_count": null,
   "metadata": {},
   "outputs": [],
   "source": []
  },
  {
   "cell_type": "code",
   "execution_count": 225,
   "metadata": {},
   "outputs": [],
   "source": [
    "X_tol_sub = X_tol[X_tol.index>'2009-01-01']\n",
    "y_tol_sub = y_tol_[y_tol_.index>'2009-01-01']"
   ]
  },
  {
   "cell_type": "code",
   "execution_count": 218,
   "metadata": {},
   "outputs": [
    {
     "data": {
      "text/html": [
       "<div>\n",
       "<style scoped>\n",
       "    .dataframe tbody tr th:only-of-type {\n",
       "        vertical-align: middle;\n",
       "    }\n",
       "\n",
       "    .dataframe tbody tr th {\n",
       "        vertical-align: top;\n",
       "    }\n",
       "\n",
       "    .dataframe thead th {\n",
       "        text-align: right;\n",
       "    }\n",
       "</style>\n",
       "<table border=\"1\" class=\"dataframe\">\n",
       "  <thead>\n",
       "    <tr style=\"text-align: right;\">\n",
       "      <th></th>\n",
       "      <th>return</th>\n",
       "      <th>code</th>\n",
       "    </tr>\n",
       "  </thead>\n",
       "  <tbody>\n",
       "  </tbody>\n",
       "</table>\n",
       "</div>"
      ],
      "text/plain": [
       "Empty DataFrame\n",
       "Columns: [return, code]\n",
       "Index: []"
      ]
     },
     "execution_count": 218,
     "metadata": {},
     "output_type": "execute_result"
    }
   ],
   "source": [
    "y_tol_sub[y_tol_sub.index=='2018-10-13']"
   ]
  },
  {
   "cell_type": "code",
   "execution_count": 226,
   "metadata": {
    "scrolled": true
   },
   "outputs": [
    {
     "name": "stdout",
     "output_type": "stream",
     "text": [
      "2-165\r"
     ]
    },
    {
     "ename": "KeyboardInterrupt",
     "evalue": "",
     "output_type": "error",
     "traceback": [
      "\u001b[1;31m---------------------------------------------------------------------------\u001b[0m",
      "\u001b[1;31mKeyboardInterrupt\u001b[0m                         Traceback (most recent call last)",
      "\u001b[1;32m<ipython-input-226-8a515e6076e8>\u001b[0m in \u001b[0;36m<module>\u001b[1;34m()\u001b[0m\n\u001b[0;32m     18\u001b[0m \u001b[1;33m\u001b[0m\u001b[0m\n\u001b[0;32m     19\u001b[0m         \u001b[0my_left\u001b[0m \u001b[1;33m=\u001b[0m \u001b[0my_tol_sub\u001b[0m\u001b[1;33m[\u001b[0m\u001b[0my_tol_sub\u001b[0m\u001b[1;33m.\u001b[0m\u001b[0mindex\u001b[0m\u001b[1;33m==\u001b[0m\u001b[0my_left_year\u001b[0m\u001b[1;33m]\u001b[0m\u001b[1;33m\u001b[0m\u001b[0m\n\u001b[1;32m---> 20\u001b[1;33m         \u001b[0my_right\u001b[0m \u001b[1;33m=\u001b[0m \u001b[0my_tol_sub\u001b[0m\u001b[1;33m[\u001b[0m\u001b[0my_tol_sub\u001b[0m\u001b[1;33m.\u001b[0m\u001b[0mindex\u001b[0m\u001b[1;33m==\u001b[0m\u001b[0my_right_year\u001b[0m\u001b[1;33m]\u001b[0m\u001b[1;33m\u001b[0m\u001b[0m\n\u001b[0m\u001b[0;32m     21\u001b[0m \u001b[1;33m\u001b[0m\u001b[0m\n\u001b[0;32m     22\u001b[0m         \u001b[1;32mif\u001b[0m \u001b[0mlen\u001b[0m\u001b[1;33m(\u001b[0m\u001b[0my_right\u001b[0m\u001b[1;33m)\u001b[0m\u001b[1;33m==\u001b[0m\u001b[1;36m0\u001b[0m \u001b[1;32mor\u001b[0m \u001b[0mlen\u001b[0m\u001b[1;33m(\u001b[0m\u001b[0my_left\u001b[0m\u001b[1;33m)\u001b[0m\u001b[1;33m==\u001b[0m\u001b[1;36m0\u001b[0m\u001b[1;33m:\u001b[0m\u001b[1;33m\u001b[0m\u001b[0m\n",
      "\u001b[1;32mD:\\Anaconda3\\lib\\site-packages\\pandas\\core\\indexes\\base.py\u001b[0m in \u001b[0;36mcmp_method\u001b[1;34m(self, other)\u001b[0m\n\u001b[0;32m    100\u001b[0m             \u001b[1;31m# don't pass MultiIndex\u001b[0m\u001b[1;33m\u001b[0m\u001b[1;33m\u001b[0m\u001b[0m\n\u001b[0;32m    101\u001b[0m             \u001b[1;32mwith\u001b[0m \u001b[0mnp\u001b[0m\u001b[1;33m.\u001b[0m\u001b[0merrstate\u001b[0m\u001b[1;33m(\u001b[0m\u001b[0mall\u001b[0m\u001b[1;33m=\u001b[0m\u001b[1;34m'ignore'\u001b[0m\u001b[1;33m)\u001b[0m\u001b[1;33m:\u001b[0m\u001b[1;33m\u001b[0m\u001b[0m\n\u001b[1;32m--> 102\u001b[1;33m                 \u001b[0mresult\u001b[0m \u001b[1;33m=\u001b[0m \u001b[0mops\u001b[0m\u001b[1;33m.\u001b[0m\u001b[0m_comp_method_OBJECT_ARRAY\u001b[0m\u001b[1;33m(\u001b[0m\u001b[0mop\u001b[0m\u001b[1;33m,\u001b[0m \u001b[0mself\u001b[0m\u001b[1;33m.\u001b[0m\u001b[0mvalues\u001b[0m\u001b[1;33m,\u001b[0m \u001b[0mother\u001b[0m\u001b[1;33m)\u001b[0m\u001b[1;33m\u001b[0m\u001b[0m\n\u001b[0m\u001b[0;32m    103\u001b[0m \u001b[1;33m\u001b[0m\u001b[0m\n\u001b[0;32m    104\u001b[0m         \u001b[1;32melse\u001b[0m\u001b[1;33m:\u001b[0m\u001b[1;33m\u001b[0m\u001b[0m\n",
      "\u001b[1;31mKeyboardInterrupt\u001b[0m: "
     ]
    }
   ],
   "source": [
    "# Fama-MacBeth回归检验周期性\n",
    "param_avg_save=[]\n",
    "param_std_save=[]\n",
    "\n",
    "for lag in range(70):\n",
    "# for lag in [7]:\n",
    "    \n",
    "    param = []\n",
    "    sum_tol = 200\n",
    "    for i in range(sum_tol):\n",
    "        \n",
    "        y_left_year = str(datetime.datetime.strptime('2018-12-27',\"%Y-%m-%d\") - datetime.timedelta(i*7))[:10] # 仅对周四求和\n",
    "        y_right_year = str(datetime.datetime.strptime(y_left_year,\"%Y-%m-%d\") - datetime.timedelta(lag+1))[:10]\n",
    "        \n",
    "        if datetime.datetime.strptime(y_left_year,\"%Y-%m-%d\").weekday()+1==6 or datetime.datetime.strptime(y_right_year,\"%Y-%m-%d\").weekday()+1==7:\n",
    "            print(str(lag+1)+'-'+str(i),end='\\r')\n",
    "            continue\n",
    "        \n",
    "        y_left = y_tol_sub[y_tol_sub.index==y_left_year]\n",
    "        y_right = y_tol_sub[y_tol_sub.index==y_right_year]\n",
    "        \n",
    "        if len(y_right)==0 or len(y_left)==0:\n",
    "            print(str(lag+1)+'-'+str(i),end='\\r')\n",
    "            continue\n",
    "        \n",
    "        temp_df = pd.merge(y_left,y_right,left_on='code',right_on='code',how='inner')\n",
    "        Y_left = temp_df['return_x']\n",
    "        Y_right = temp_df['return_y']\n",
    "           \n",
    "        Y_right =  sm.add_constant(Y_right)\n",
    "        est = sm.OLS(Y_left,Y_right)\n",
    "        result = est.fit()\n",
    "        \n",
    "        param.append(list(result.params)[1])\n",
    "        \n",
    "        print(str(lag+1)+'-'+str(i),end='\\r')\n",
    "    \n",
    "    param_avg_save.append(np.mean(param))\n",
    "    param_std_save.append(np.std(param))"
   ]
  },
  {
   "cell_type": "code",
   "execution_count": 212,
   "metadata": {},
   "outputs": [
    {
     "name": "stdout",
     "output_type": "stream",
     "text": [
      "                            OLS Regression Results                            \n",
      "==============================================================================\n",
      "Dep. Variable:               return_x   R-squared:                       0.003\n",
      "Model:                            OLS   Adj. R-squared:                  0.002\n",
      "Method:                 Least Squares   F-statistic:                     5.383\n",
      "Date:                Fri, 05 Apr 2019   Prob (F-statistic):             0.0204\n",
      "Time:                        00:46:37   Log-Likelihood:                -2188.0\n",
      "No. Observations:                1934   AIC:                             4380.\n",
      "Df Residuals:                    1932   BIC:                             4391.\n",
      "Df Model:                           1                                         \n",
      "Covariance Type:            nonrobust                                         \n",
      "==============================================================================\n",
      "                 coef    std err          t      P>|t|      [0.025      0.975]\n",
      "------------------------------------------------------------------------------\n",
      "const          0.3640      0.017     21.334      0.000       0.331       0.398\n",
      "return_y      -0.0608      0.026     -2.320      0.020      -0.112      -0.009\n",
      "==============================================================================\n",
      "Omnibus:                      248.335   Durbin-Watson:                   1.962\n",
      "Prob(Omnibus):                  0.000   Jarque-Bera (JB):             2594.037\n",
      "Skew:                          -0.148   Prob(JB):                         0.00\n",
      "Kurtosis:                       8.666   Cond. No.                         1.53\n",
      "==============================================================================\n",
      "\n",
      "Warnings:\n",
      "[1] Standard Errors assume that the covariance matrix of the errors is correctly specified.\n"
     ]
    }
   ],
   "source": [
    "print(result.summary())"
   ]
  },
  {
   "cell_type": "code",
   "execution_count": null,
   "metadata": {},
   "outputs": [],
   "source": [
    "pd.DataFrame(param_avg_save).to_csv('C:/Users/jxjsj/Desktop/test.csv')"
   ]
  },
  {
   "cell_type": "code",
   "execution_count": 224,
   "metadata": {
    "scrolled": true
   },
   "outputs": [
    {
     "data": {
      "text/plain": [
       "[<matplotlib.lines.Line2D at 0x1778caac048>]"
      ]
     },
     "execution_count": 224,
     "metadata": {},
     "output_type": "execute_result"
    },
    {
     "data": {
      "image/png": "[encoded data removed]",
      "text/plain": [
       "<Figure size 432x288 with 1 Axes>"
      ]
     },
     "metadata": {},
     "output_type": "display_data"
    }
   ],
   "source": [
    "import matplotlib.pyplot as plt\n",
    "plt.plot(range(1,len(pd.DataFrame(param_avg_save).dropna())+1),pd.DataFrame(param_avg_save).dropna())"
   ]
  },
  {
   "cell_type": "code",
   "execution_count": 223,
   "metadata": {},
   "outputs": [
    {
     "data": {
      "text/plain": [
       "[<matplotlib.lines.Line2D at 0x1778ca4ce80>]"
      ]
     },
     "execution_count": 223,
     "metadata": {},
     "output_type": "execute_result"
    },
    {
     "data": {
      "image/png": "[encoded data removed]",
      "text/plain": [
       "<Figure size 432x288 with 1 Axes>"
      ]
     },
     "metadata": {},
     "output_type": "display_data"
    }
   ],
   "source": [
    "import matplotlib.pyplot as plt\n",
    "plt.plot(range(1,len(pd.DataFrame(param_avg_save).dropna())+1),pd.DataFrame(param_avg_save).dropna())"
   ]
  },
  {
   "cell_type": "code",
   "execution_count": 222,
   "metadata": {},
   "outputs": [
    {
     "data": {
      "text/plain": [
       "[<matplotlib.lines.Line2D at 0x1778c9eeac8>]"
      ]
     },
     "execution_count": 222,
     "metadata": {},
     "output_type": "execute_result"
    },
    {
     "data": {
      "image/png": "[encoded data removed]",
      "text/plain": [
       "<Figure size 432x288 with 1 Axes>"
      ]
     },
     "metadata": {},
     "output_type": "display_data"
    }
   ],
   "source": [
    "plt.plot(range(1,len(pd.DataFrame(param_std_save).dropna())+1),pd.DataFrame(param_avg_save).dropna()/pd.DataFrame(param_std_save).dropna()*5.5)"
   ]
  },
  {
   "cell_type": "code",
   "execution_count": 51,
   "metadata": {
    "scrolled": true
   },
   "outputs": [
    {
     "name": "stdout",
     "output_type": "stream",
     "text": [
      "                            OLS Regression Results                            \n",
      "==============================================================================\n",
      "Dep. Variable:                      y   R-squared:                       0.000\n",
      "Model:                            OLS   Adj. R-squared:                 -0.000\n",
      "Method:                 Least Squares   F-statistic:                    0.1342\n",
      "Date:                Thu, 04 Apr 2019   Prob (F-statistic):              0.714\n",
      "Time:                        18:25:44   Log-Likelihood:                 4715.3\n",
      "No. Observations:                1934   AIC:                            -9427.\n",
      "Df Residuals:                    1932   BIC:                            -9415.\n",
      "Df Model:                           1                                         \n",
      "Covariance Type:            nonrobust                                         \n",
      "==============================================================================\n",
      "                 coef    std err          t      P>|t|      [0.025      0.975]\n",
      "------------------------------------------------------------------------------\n",
      "const         -0.0159      0.001    -19.567      0.000      -0.018      -0.014\n",
      "x1            -0.0091      0.025     -0.366      0.714      -0.058       0.040\n",
      "==============================================================================\n",
      "Omnibus:                      218.751   Durbin-Watson:                   1.983\n",
      "Prob(Omnibus):                  0.000   Jarque-Bera (JB):             1842.980\n",
      "Skew:                           0.147   Prob(JB):                         0.00\n",
      "Kurtosis:                       7.773   Cond. No.                         51.8\n",
      "==============================================================================\n",
      "\n",
      "Warnings:\n",
      "[1] Standard Errors assume that the covariance matrix of the errors is correctly specified.\n"
     ]
    }
   ],
   "source": [
    "y_right =  sm.add_constant(y_right)\n",
    "y_left = np.array(y_left)\n",
    "y_right = np.array(y_right)\n",
    "est = sm.OLS(y_left,y_right)\n",
    "result = est.fit()\n",
    "print(result.summary())"
   ]
  },
  {
   "cell_type": "code",
   "execution_count": 12,
   "metadata": {
    "scrolled": true
   },
   "outputs": [
    {
     "name": "stdout",
     "output_type": "stream",
     "text": [
      "                            OLS Regression Results                            \n",
      "==============================================================================\n",
      "Dep. Variable:                 return   R-squared:                       0.002\n",
      "Model:                            OLS   Adj. R-squared:                  0.000\n",
      "Method:                 Least Squares   F-statistic:                     1.052\n",
      "Date:                Thu, 04 Apr 2019   Prob (F-statistic):              0.379\n",
      "Time:                        16:19:25   Log-Likelihood:                 4365.5\n",
      "No. Observations:                1943   AIC:                            -8721.\n",
      "Df Residuals:                    1938   BIC:                            -8693.\n",
      "Df Model:                           4                                         \n",
      "Covariance Type:            nonrobust                                         \n",
      "==============================================================================\n",
      "                 coef    std err          t      P>|t|      [0.025      0.975]\n",
      "------------------------------------------------------------------------------\n",
      "1           3.226e-05      0.001      0.024      0.981      -0.003       0.003\n",
      "2              0.0011      0.001      0.878      0.380      -0.001       0.004\n",
      "3             -0.0008      0.001     -0.619      0.536      -0.003       0.002\n",
      "4             -0.0024      0.001     -1.880      0.060      -0.005       0.000\n",
      "5           7.264e-05      0.001      0.056      0.955      -0.002       0.003\n",
      "==============================================================================\n",
      "Omnibus:                      218.473   Durbin-Watson:                   1.847\n",
      "Prob(Omnibus):                  0.000   Jarque-Bera (JB):             1969.520\n",
      "Skew:                          -0.022   Prob(JB):                         0.00\n",
      "Kurtosis:                       7.932   Cond. No.                         1.03\n",
      "==============================================================================\n",
      "\n",
      "Warnings:\n",
      "[1] Standard Errors assume that the covariance matrix of the errors is correctly specified.\n"
     ]
    }
   ],
   "source": [
    "est = sm.OLS(y,X)\n",
    "result = est.fit()\n",
    "print(result.summary())"
   ]
  },
  {
   "cell_type": "code",
   "execution_count": 24,
   "metadata": {},
   "outputs": [],
   "source": [
    "y_right = y.shift(15).dropna(how=\"any\")\n",
    "y_left = y.iloc[15:,:]"
   ]
  },
  {
   "cell_type": "code",
   "execution_count": 25,
   "metadata": {
    "scrolled": true
   },
   "outputs": [
    {
     "name": "stdout",
     "output_type": "stream",
     "text": [
      "                            OLS Regression Results                            \n",
      "==============================================================================\n",
      "Dep. Variable:                 return   R-squared:                       0.000\n",
      "Model:                            OLS   Adj. R-squared:                 -0.000\n",
      "Method:                 Least Squares   F-statistic:                    0.1083\n",
      "Date:                Thu, 04 Apr 2019   Prob (F-statistic):              0.742\n",
      "Time:                        16:27:33   Log-Likelihood:                 4337.5\n",
      "No. Observations:                1928   AIC:                            -8671.\n",
      "Df Residuals:                    1926   BIC:                            -8660.\n",
      "Df Model:                           1                                         \n",
      "Covariance Type:            nonrobust                                         \n",
      "==============================================================================\n",
      "                 coef    std err          t      P>|t|      [0.025      0.975]\n",
      "------------------------------------------------------------------------------\n",
      "const         -0.0004      0.001     -0.673      0.501      -0.002       0.001\n",
      "return         0.0074      0.023      0.329      0.742      -0.037       0.052\n",
      "==============================================================================\n",
      "Omnibus:                      219.663   Durbin-Watson:                   1.834\n",
      "Prob(Omnibus):                  0.000   Jarque-Bera (JB):             2018.118\n",
      "Skew:                          -0.028   Prob(JB):                         0.00\n",
      "Kurtosis:                       8.012   Cond. No.                         38.9\n",
      "==============================================================================\n",
      "\n",
      "Warnings:\n",
      "[1] Standard Errors assume that the covariance matrix of the errors is correctly specified.\n"
     ]
    }
   ],
   "source": [
    "y_right =  sm.add_constant(y_right)\n",
    "est = sm.OLS(y_left,y_right)\n",
    "result = est.fit()\n",
    "print(result.summary())"
   ]
  },
  {
   "cell_type": "code",
   "execution_count": 28,
   "metadata": {
    "scrolled": true
   },
   "outputs": [
    {
     "data": {
      "text/plain": [
       "1936"
      ]
     },
     "execution_count": 28,
     "metadata": {},
     "output_type": "execute_result"
    }
   ],
   "source": [
    "len(X)-7"
   ]
  },
  {
   "cell_type": "code",
   "execution_count": null,
   "metadata": {},
   "outputs": [],
   "source": [
    "# 个股角度检验 - 月历效应 - 哑变量生成"
   ]
  },
  {
   "cell_type": "code",
   "execution_count": null,
   "metadata": {},
   "outputs": [],
   "source": [
    "# 个股角度检验 - 月历效应\n",
    "\n",
    "code_lst = os.listdir('E:/Stock_Data/stock_return_data_monthly')\n",
    "X = dummy_df.iloc[:1943,:] \n",
    "result_save_dct = {1:0,2:0,3:0,4:0,5:0}\n",
    "cnt = 0\n",
    "tol_sig = 0\n",
    "positive = {1:0,2:0,3:0,4:0,5:0}\n",
    "pvalue_015 = {1:0,2:0,3:0,4:0,5:0}\n",
    "pvalue_01 = {1:0,2:0,3:0,4:0,5:0}\n",
    "pvalue_005 = {1:0,2:0,3:0,4:0,5:0}\n",
    "pvalue_001 = {1:0,2:0,3:0,4:0,5:0}\n",
    "pvalue_pos = {1:0,2:0,3:0,4:0,5:0}\n",
    "f_pvalue = 0\n",
    "Thu_mean_r = []\n",
    "for code_csv in code_lst:\n",
    "    y_temp = pd.read_csv('E:/Stock_Data/stock_return_data/'+code_csv,index_col = 0)\n",
    "    if len(y_temp)<1943:\n",
    "        continue\n",
    "    y = y_temp.iloc[:1943,:]\n",
    "    \n",
    "    # 用OLS\n",
    "#     X = sm.add_constant(X)\n",
    "    # 是否使用超额收益率\n",
    "    y = y - rf\n",
    "\n",
    "#     est = sm.OLS(y,X)\n",
    "#     result = est.fit()\n",
    "    \n",
    "    # pool 面板拼接\n",
    "    if cnt ==0 :\n",
    "        y_tol = y\n",
    "        X_tol = X\n",
    "    else:\n",
    "        y_tol = pd.concat([y_tol,y],axis=0)\n",
    "        X_tol = pd.concat([X_tol,X],axis=0)\n",
    "    \n",
    "    # 统计专用\n",
    "    \n",
    "#     # 显著结果统计(有显著性水平要求0.15)\n",
    "#     for i in range(5):\n",
    "#         if list(result.pvalues)[i]<0.15:\n",
    "#             pvalue_015[i+1] += 1 \n",
    "#     # 显著结果统计(有显著性水平要求0.1)\n",
    "#     for i in range(5):\n",
    "#         if list(result.pvalues)[i]<0.1:\n",
    "#             pvalue_01[i+1] += 1          \n",
    "#     # 显著结果统计(有显著性水平要求0.05)\n",
    "#     for i in range(5):\n",
    "#         if list(result.pvalues)[i]<0.05:\n",
    "#             pvalue_005[i+1] += 1\n",
    "#     # 显著结果统计(有显著性水平要求0.01)\n",
    "#     for i in range(5):\n",
    "#         if list(result.pvalues)[i]<0.01:\n",
    "#             pvalue_001[i+1] += 1\n",
    "            \n",
    "#     # 显著结果中正负统计(有显著性水平要求0.1)\n",
    "#     for i in range(5):\n",
    "#         if list(result.pvalues)[i]<0.1 and list(result.params)[i]>0:\n",
    "#             pvalue_pos[i+1] += 1\n",
    "    \n",
    "#     # 最显著结果统计(无显著性水平要求)\n",
    "#     result_save_dct[np.argmin(list(result.pvalues))+1]+=1    \n",
    "    \n",
    "#     # 正负统计-回归、其实就是样本均值\n",
    "#     for i in range(5):\n",
    "#         if list(result.params)[i]>0:\n",
    "#             positive[i+1] += 1\n",
    "            \n",
    "#     # F统计量显著统计\n",
    "#     if result.f_pvalue < 0.1:\n",
    "#         f_pvalue += 1\n",
    "    \n",
    "    # 收集周四收益率数据\n",
    "#     y_Thu = y[X[4]==1]['return']\n",
    "#     if cnt == 0:\n",
    "#         y_Thu_save=y_Thu\n",
    "#     else:\n",
    "#         y_Thu_save=pd.concat([y_Thu_save,y_Thu],axis=0)\n",
    "\n",
    "    # 收集周四平均收益率数据\n",
    "#     y_Thu = list(result.params)[3]\n",
    "#     Thu_mean_r.append(y_Thu)\n",
    "        \n",
    "#     # 频率统计，周四为负\n",
    "#     y_Thu = y[X[4]==1]['return']\n",
    "#     y_Thu_std = y_Thu.std()\n",
    "#     Thu_neg += sum(y_Thu.apply(lambda x: 1 if x<-3*y_Thu_std else 0))\n",
    "#     Thu_pos += sum(y_Thu.apply(lambda x: 1 if x> 3*y_Thu_std else 0))\n",
    "#     # 频率统计，周一为正\n",
    "#     y_Mon = y[(X[2]==0) & (X[3]==0) & (X[4]==0) & (X[5]==0)]['return']\n",
    "#     y_Mon_std = y_Mon.std()\n",
    "#     Mon_pos += sum(y_Mon.apply(lambda x: 1 if x> 3*y_Mon_std else 0))\n",
    "#     Mon_neg += sum(y_Mon.apply(lambda x: 1 if x<-3*y_Mon_std else 0))\n",
    "    # 频率统计，平均数正负\n",
    "    \n",
    "    # 频率统计，周四小于周一\n",
    "#     y_Mon = y[(X[2]==0) & (X[3]==0) & (X[4]==0) & (X[5]==0) ]['return']\n",
    "#     y_Thu = y[X[4]==1]['return']\n",
    "#     y_delta = y_Thu - y_Mon\n",
    "#     Thu_lower_Mon += sum(y_delta.apply(lambda x: 1 if x<0 else 0))  \n",
    "    \n",
    "    # 用arch\n",
    "#     reg = arch_model(y, x=X, mean='ARX', lags=0, vol='Garch', p=1, o=0, q=1, power=1, dist='ged', hold_back=None)\n",
    "#     result = reg.fit()\n",
    "#     result_save_dct[np.argmin(list(result.pvalues[:5]))+1]+=1\n",
    "        \n",
    "    cnt += 1\n",
    "#     tol_sig += list(result.pvalues)[4]"
   ]
  }
 ],
 "metadata": {
  "kernelspec": {
   "display_name": "Python 3",
   "language": "python",
   "name": "python3"
  },
  "language_info": {
   "codemirror_mode": {
    "name": "ipython",
    "version": 3
   },
   "file_extension": ".py",
   "mimetype": "text/x-python",
   "name": "python",
   "nbconvert_exporter": "python",
   "pygments_lexer": "ipython3",
   "version": "3.6.5"
  }
 },
 "nbformat": 4,
 "nbformat_minor": 2
}
