{
 "cells": [
  {
   "cell_type": "code",
   "execution_count": 227,
   "metadata": {},
   "outputs": [],
   "source": [
    "import pandas as pd\n",
    "from arch import arch_model\n",
    "import jqdatasdk as jq\n",
    "import numpy as np\n",
    "import time,datetime\n",
    "import os\n",
    "import statsmodels.api as sm\n",
    "from arch import arch_model"
   ]
  },
  {
   "cell_type": "code",
   "execution_count": 228,
   "metadata": {},
   "outputs": [],
   "source": [
    "jq.auth('13918852005','960312Lsc')\n",
    "# jq.auth('15821912507','912507')"
   ]
  },
  {
   "cell_type": "code",
   "execution_count": 242,
   "metadata": {
    "scrolled": true
   },
   "outputs": [],
   "source": [
    "# 引入日历效应哑变量 - 星期\n",
    "sample_df = pd.read_csv('E:/Stock_Data/stock_return_data/001896.XSHE.csv',index_col=0)\n",
    "trade_day_serises = list(sample_df.index)\n",
    "\n",
    "trade_day_df = pd.DataFrame(trade_day_serises)\n",
    "trade_day_df.columns = ['weekday']\n",
    "trade_day_df['weekday'] = trade_day_df['weekday'].apply(lambda x : datetime.datetime.strptime(x, \"%Y-%m-%d\").weekday()+1)\n",
    "\n",
    "dummy_df = pd.get_dummies(trade_day_df['weekday'])\n",
    "dummy_df = dummy_df[[1,2,3,4,5]]\n",
    "dummy_df.index = sample_df.index"
   ]
  },
  {
   "cell_type": "code",
   "execution_count": 95,
   "metadata": {
    "scrolled": true
   },
   "outputs": [],
   "source": [
    "# 引入日历效应变量 - 假日\n",
    "sample_df = pd.read_csv('E:/Stock_Data/stock_return_data/001896.XSHE.csv',index_col=0)\n",
    "trade_day_serises = list(sample_df.index)\n",
    "\n",
    "trade_day_df = pd.DataFrame(trade_day_serises)\n",
    "trade_day_df.columns = ['holiday']\n",
    "trade_day_df['holiday'] = trade_day_df['holiday'].apply(lambda x : datetime.datetime.strptime(x, \"%Y-%m-%d\"))\n",
    "trade_day_df['holiday_1'] = trade_day_df['holiday'].shift(1)\n",
    "\n",
    "trade_day_df['holiday'] = trade_day_df['holiday'] - trade_day_df['holiday_1']\n",
    "trade_day_df = trade_day_df.fillna(1)\n",
    "trade_day_df['holiday'] = trade_day_df['holiday'].apply(lambda x : int(str(x)[:2])-1)\n",
    "trade_day_df.iloc[0,0] = 0\n",
    "\n",
    "holiday_df = trade_day_df[['holiday']]\n",
    "holiday_df.index = sample_df.index"
   ]
  },
  {
   "cell_type": "raw",
   "metadata": {},
   "source": [
    "Following French, Gibbons and Hess, and Keim and Stambaugh, we construct\n",
    "a test for differences in mean return across the days of the week by computing\n",
    "the following regression for each country index:\n",
    "rt = aidit + a2d2t + ... + a6d6t + ut"
   ]
  },
  {
   "cell_type": "code",
   "execution_count": 274,
   "metadata": {
    "scrolled": false
   },
   "outputs": [
    {
     "name": "stdout",
     "output_type": "stream",
     "text": [
      "指数 SZCZ \n",
      "系数 {1: '-0.000783', 2: '0.000949', 3: '0.000169', 4: '-0.002108', 5: '0.000301'} \n",
      "P值 {1: '0.352362', 2: '0.250988', 3: '0.837120', 4: '0.010647', 5: '0.715876'} \n",
      "F统计量P值 0.082460\n",
      "指数 SZZS \n",
      "系数 {1: '-0.000226', 2: '0.000664', 3: '0.000213', 4: '-0.001696', 5: '0.000688'} \n",
      "P值 {1: '0.750851', 2: '0.341403', 3: '0.758506', 4: '0.014909', 5: '0.324896'} \n",
      "F统计量P值 0.093651\n",
      "指数 CYBZ \n",
      "系数 {1: '0.000321', 2: '0.001084', 3: '0.000801', 4: '-0.002286', 5: '0.000290'} \n",
      "P值 {1: '0.755526', 2: '0.283907', 3: '0.425059', 4: '0.023571', 5: '0.774437'} \n",
      "F统计量P值 0.131635\n"
     ]
    }
   ],
   "source": [
    "# 指数角度检验 - 全时段\n",
    "\n",
    "index_save_dct = {1:0,2:0,3:0,4:0,5:0}\n",
    "index_p_save_dct = {1:0,2:0,3:0,4:0,5:0}\n",
    "for index_file in ['SZCZ_lnr_rv_w_m_ntd_080101-','SZZS_lnr_rv_w_m_ntd_080101-','CYBZ_lnr_rv_w_m_ntd_100601-']:\n",
    "    index_df = pd.read_csv('C:/Users/jxjsj/Desktop/JupyterHome/Data/'+index_file+'190131adj.csv',index_col=0)\n",
    "# index_df = pd.read_csv('C:/Users/jxjsj/Desktop/JupyterHome/Data/SZCZ_lnr_rv_w_m_ntd_080101-190131adj.csv',index_col=0)\n",
    "# index_df = pd.read_csv('C:/Users/jxjsj/Desktop/JupyterHome/Data/SZZS_lnr_rv_w_m_ntd_080101-190131adj.csv',index_col=0)\n",
    "# index_df = pd.read_csv('C:/Users/jxjsj/Desktop/JupyterHome/Data/CYBZ_lnr_rv_w_m_ntd_100601-190131adj.csv',index_col=0)\n",
    "\n",
    "    index_df = index_df[index_df.index>'2011-01-04']\n",
    "    index_df = index_df[index_df.index<'2018-12-28']\n",
    "    X = dummy_df.iloc[:1943,:]\n",
    "    y = index_df['lnR']\n",
    "\n",
    "    # 用OLS\n",
    "#     X = sm.add_constant(X)\n",
    "    est = sm.OLS(y,X)\n",
    "    result = est.fit()\n",
    "    for i in range(5):\n",
    "        index_save_dct[i+1] = '%.6f' %list(result.params)[i]\n",
    "    for i in range(5):\n",
    "        index_p_save_dct[i+1] = '%.6f' %list(result.pvalues)[i]\n",
    "    f_p = '%.6f' %result.f_pvalue\n",
    "    print('指数',index_file[:4],'\\n系数',index_save_dct,'\\nP值',index_p_save_dct,'\\nF统计量P值',f_p)\n",
    "\n",
    "    # 用arch\n",
    "    # reg = arch_model(y, x=X, mean='ARX', lags=0, vol='Garch', p=1, o=0, q=1, power=1, dist='ged', hold_back=None)\n",
    "    # result = reg.fit()\n",
    "    # result.summary()"
   ]
  },
  {
   "cell_type": "code",
   "execution_count": 291,
   "metadata": {
    "scrolled": true
   },
   "outputs": [
    {
     "name": "stdout",
     "output_type": "stream",
     "text": [
      "时段 1 指数 SZCZ \n",
      "系数 {1: '-0.001443', 2: '0.000094', 3: '0.001110', 4: '-0.002529', 5: '0.001846'} \n",
      "P值 {1: '0.151657', 2: '0.924683', 3: '0.261218', 4: '0.010380', 5: '0.061089'} \n",
      "F统计量P值 0.010309 \n",
      "\n",
      "时段 1 指数 SZZS \n",
      "系数 {1: '-0.000498', 2: '0.000090', 3: '0.000945', 4: '-0.001863', 5: '0.001844'} \n",
      "P值 {1: '0.542501', 2: '0.911670', 3: '0.239528', 4: '0.020188', 5: '0.021482'} \n",
      "F统计量P值 0.015052 \n",
      "\n",
      "时段 1 指数 CYBZ \n",
      "系数 {1: '0.000895', 2: '-0.000866', 3: '0.002342', 4: '-0.002842', 5: '0.001702'} \n",
      "P值 {1: '0.490130', 2: '0.498358', 3: '0.065961', 4: '0.025370', 5: '0.180218'} \n",
      "F统计量P值 0.027639 \n",
      "\n",
      "时段 2 指数 SZCZ \n",
      "系数 {1: '-0.000044', 2: '0.000742', 3: '0.001152', 4: '-0.001236', 5: '0.001275'} \n",
      "P值 {1: '0.972932', 2: '0.565841', 3: '0.371500', 4: '0.340174', 5: '0.326602'} \n",
      "F统计量P值 0.631493 \n",
      "\n",
      "时段 2 指数 SZZS \n",
      "系数 {1: '0.000688', 2: '0.000340', 3: '0.000895', 4: '-0.000851', 5: '0.001436'} \n",
      "P值 {1: '0.545549', 2: '0.762728', 3: '0.425459', 4: '0.451093', 5: '0.204566'} \n",
      "F统计量P值 0.682839 \n",
      "\n",
      "时段 2 指数 CYBZ \n",
      "系数 {1: '0.002363', 2: '0.001339', 3: '0.002339', 4: '-0.001295', 5: '0.002165'} \n",
      "P值 {1: '0.144198', 2: '0.403047', 3: '0.143078', 4: '0.419908', 5: '0.178543'} \n",
      "F统计量P值 0.441494 \n",
      "\n",
      "时段 3 指数 SZCZ \n",
      "系数 {1: '-0.000177', 2: '0.001685', 3: '0.001191', 4: '-0.002210', 5: '0.000011'} \n",
      "P值 {1: '0.896957', 2: '0.210030', 3: '0.376689', 4: '0.104651', 5: '0.993477'} \n",
      "F统计量P值 0.290600 \n",
      "\n",
      "时段 3 指数 SZZS \n",
      "系数 {1: '0.000690', 2: '0.000951', 3: '0.001085', 4: '-0.001731', 5: '0.000590'} \n",
      "P值 {1: '0.562589', 2: '0.416368', 3: '0.354893', 4: '0.144370', 5: '0.619227'} \n",
      "F统计量P值 0.425572 \n",
      "\n",
      "时段 3 指数 CYBZ \n",
      "系数 {1: '0.001842', 2: '0.002526', 3: '0.002132', 4: '-0.002093', 5: '0.000745'} \n",
      "P值 {1: '0.272927', 2: '0.125859', 3: '0.197586', 4: '0.210396', 5: '0.656306'} \n",
      "F统计量P值 0.285387 \n",
      "\n",
      "时段 4 指数 SZCZ \n",
      "系数 {1: '0.000042', 2: '0.001668', 3: '0.001163', 4: '-0.001442', 5: '0.000097'} \n",
      "P值 {1: '0.974344', 2: '0.191948', 3: '0.360561', 4: '0.261791', 5: '0.940333'} \n",
      "F统计量P值 0.476676 \n",
      "\n",
      "时段 4 指数 SZZS \n",
      "系数 {1: '0.000538', 2: '0.001141', 3: '0.000991', 4: '-0.000886', 5: '0.000486'} \n",
      "P值 {1: '0.635823', 2: '0.304366', 3: '0.370065', 4: '0.427755', 5: '0.665201'} \n",
      "F统计量P值 0.723704 \n",
      "\n",
      "时段 4 指数 CYBZ \n",
      "系数 {1: '-0.000428', 2: '0.002686', 3: '0.001305', 4: '-0.001708', 5: '-0.000421'} \n",
      "P值 {1: '0.784967', 2: '0.079998', 3: '0.392322', 4: '0.267751', 5: '0.785515'} \n",
      "F统计量P值 0.289112 \n",
      "\n",
      "时段 5 指数 SZCZ \n",
      "系数 {1: '-0.000124', 2: '0.001787', 3: '-0.000883', 4: '-0.001687', 5: '-0.001244'} \n",
      "P值 {1: '0.926908', 2: '0.174723', 3: '0.499290', 4: '0.201273', 5: '0.348458'} \n",
      "F统计量P值 0.368115 \n",
      "\n",
      "时段 5 指数 SZZS \n",
      "系数 {1: '0.000047', 2: '0.001227', 3: '-0.000607', 4: '-0.001529', 5: '-0.000461'} \n",
      "P值 {1: '0.967866', 2: '0.279467', 3: '0.589591', 4: '0.178904', 5: '0.686465'} \n",
      "F统计量P值 0.531381 \n",
      "\n",
      "时段 5 指数 CYBZ \n",
      "系数 {1: '-0.000253', 2: '0.002995', 3: '-0.000737', 4: '-0.001731', 5: '-0.001127'} \n",
      "P值 {1: '0.874300', 2: '0.055390', 3: '0.634311', 4: '0.269221', 5: '0.473936'} \n",
      "F统计量P值 0.231175 \n",
      "\n"
     ]
    }
   ],
   "source": [
    "# 指数角度检验 - 分时段\n",
    "\n",
    "for time in range(5):\n",
    "    \n",
    "    if time ==0:\n",
    "        start = '2011-01-04'\n",
    "        end = '2014-12-31'\n",
    "    if time ==1:\n",
    "        start = '2012-01-01'\n",
    "        end = '2015-12-31'\n",
    "    if time ==2:\n",
    "        start = '2013-01-01'\n",
    "        end = '2016-12-31'\n",
    "    if time ==3:\n",
    "        start = '2014-01-01'\n",
    "        end = '2017-12-31'\n",
    "    if time ==4:\n",
    "        start = '2015-01-01'\n",
    "        end = '2018-12-31'\n",
    "    \n",
    "    index_save_dct = {1:0,2:0,3:0,4:0,5:0}\n",
    "    index_p_save_dct = {1:0,2:0,3:0,4:0,5:0}\n",
    "    for index_file in ['SZCZ_lnr_rv_w_m_ntd_080101-','SZZS_lnr_rv_w_m_ntd_080101-','CYBZ_lnr_rv_w_m_ntd_100601-']:\n",
    "        index_df = pd.read_csv('C:/Users/jxjsj/Desktop/JupyterHome/Data/'+index_file+'190131adj.csv',index_col=0)\n",
    "\n",
    "        index_df = index_df[index_df.index>start]\n",
    "        index_df = index_df[index_df.index<end]\n",
    "        X = dummy_df[dummy_df.index>start]\n",
    "        X = X[X.index<end]\n",
    "        y = index_df['lnR']\n",
    "\n",
    "        # 用OLS\n",
    "    #     X = sm.add_constant(X)\n",
    "        est = sm.OLS(y,X)\n",
    "        result = est.fit()\n",
    "        for i in range(5):\n",
    "            index_save_dct[i+1] = '%.6f' %list(result.params)[i]\n",
    "        for i in range(5):\n",
    "            index_p_save_dct[i+1] = '%.6f' %list(result.pvalues)[i]\n",
    "        f_p = '%.6f' %result.f_pvalue\n",
    "        print('时段',time+1,'指数',index_file[:4],'\\n系数',index_save_dct,'\\nP值',index_p_save_dct,'\\nF统计量P值',f_p,'\\n')"
   ]
  },
  {
   "cell_type": "code",
   "execution_count": 296,
   "metadata": {
    "scrolled": true
   },
   "outputs": [],
   "source": [
    "# 个股角度检验\n",
    "\n",
    "code_lst = os.listdir('E:/Stock_Data/stock_return_data')\n",
    "X = dummy_df.iloc[:1943,:] \n",
    "result_save_dct = {1:0,2:0,3:0,4:0,5:0}\n",
    "cnt = 0\n",
    "tol_sig = 0\n",
    "positive = {1:0,2:0,3:0,4:0,5:0}\n",
    "pvalue = {1:0,2:0,3:0,4:0,5:0}\n",
    "pvalue_pos = {1:0,2:0,3:0,4:0,5:0}\n",
    "f_pvalue = 0\n",
    "for code_csv in code_lst:\n",
    "    y_temp = pd.read_csv('E:/Stock_Data/stock_return_data/'+code_csv,index_col = 0)\n",
    "    if len(y_temp)<1943:\n",
    "        continue\n",
    "    y = y_temp.iloc[:1943,:]\n",
    "    \n",
    "    # 用OLS\n",
    "#     X = sm.add_constant(X)\n",
    "    est = sm.OLS(y,X)\n",
    "    result = est.fit()\n",
    "    \n",
    "    # 统计专用\n",
    "    \n",
    "    # 显著结果统计(有显著性水平要求0.1)\n",
    "    for i in range(5):\n",
    "        if list(result.pvalues)[i]<0.05:\n",
    "            pvalue[i+1] += 1          \n",
    "    # 显著结果中正负统计(有显著性水平要求0.1)\n",
    "    for i in range(5):\n",
    "        if list(result.pvalues)[i]<0.05 and list(result.params)[i]>0:\n",
    "            pvalue_pos[i+1] += 1\n",
    "    \n",
    "    # 最显著结果统计(无显著性水平要求)\n",
    "    result_save_dct[np.argmin(list(result.pvalues))+1]+=1    \n",
    "    \n",
    "    # 正负统计-回归、其实就是样本均值\n",
    "    for i in range(5):\n",
    "        if list(result.params)[i]>0:\n",
    "            positive[i+1] += 1\n",
    "            \n",
    "    # F统计量显著统计\n",
    "    if result.f_pvalue < 0.1:\n",
    "        f_pvalue += 1\n",
    "                \n",
    "#     # 频率统计，周四为负\n",
    "#     y_Thu = y[X[4]==1]['return']\n",
    "#     y_Thu_std = y_Thu.std()\n",
    "#     Thu_neg += sum(y_Thu.apply(lambda x: 1 if x<-3*y_Thu_std else 0))\n",
    "#     Thu_pos += sum(y_Thu.apply(lambda x: 1 if x> 3*y_Thu_std else 0))\n",
    "#     # 频率统计，周一为正\n",
    "#     y_Mon = y[(X[2]==0) & (X[3]==0) & (X[4]==0) & (X[5]==0)]['return']\n",
    "#     y_Mon_std = y_Mon.std()\n",
    "#     Mon_pos += sum(y_Mon.apply(lambda x: 1 if x> 3*y_Mon_std else 0))\n",
    "#     Mon_neg += sum(y_Mon.apply(lambda x: 1 if x<-3*y_Mon_std else 0))\n",
    "    # 频率统计，平均数正负\n",
    "    \n",
    "    # 频率统计，周四小于周一\n",
    "#     y_Mon = y[(X[2]==0) & (X[3]==0) & (X[4]==0) & (X[5]==0) ]['return']\n",
    "#     y_Thu = y[X[4]==1]['return']\n",
    "#     y_delta = y_Thu - y_Mon\n",
    "#     Thu_lower_Mon += sum(y_delta.apply(lambda x: 1 if x<0 else 0))  \n",
    "    \n",
    "    # 用arch\n",
    "#     reg = arch_model(y, x=X, mean='ARX', lags=0, vol='Garch', p=1, o=0, q=1, power=1, dist='ged', hold_back=None)\n",
    "#     result = reg.fit()\n",
    "#     result_save_dct[np.argmin(list(result.pvalues[:5]))+1]+=1\n",
    "        \n",
    "    cnt += 1\n",
    "    tol_sig += list(result.pvalues)[4]"
   ]
  },
  {
   "cell_type": "code",
   "execution_count": 297,
   "metadata": {
    "scrolled": true
   },
   "outputs": [
    {
     "name": "stdout",
     "output_type": "stream",
     "text": [
      "显著结果统计 {1: 40, 2: 58, 3: 21, 4: 360, 5: 29} \n",
      "显著结果中正负统计 {1: 12, 2: 58, 3: 21, 4: 0, 5: 28} \n",
      "最显著结果统计 {1: 103, 2: 111, 3: 60, 4: 714, 5: 81} \n",
      "回归结果正负统计 {1: 438, 2: 886, 3: 834, 4: 12, 5: 620} \n",
      "F统计量显著数 350 \n",
      "总数 1069\n"
     ]
    }
   ],
   "source": [
    "print('显著结果统计',pvalue,'\\n显著结果中正负统计',pvalue_pos,'\\n最显著结果统计',result_save_dct,'\\n回归结果正负统计',positive,'\\nF统计量显著数',f_pvalue,'\\n总数',cnt)"
   ]
  },
  {
   "cell_type": "code",
   "execution_count": 256,
   "metadata": {},
   "outputs": [
    {
     "data": {
      "text/plain": [
       "0.23459151003391704"
      ]
     },
     "execution_count": 256,
     "metadata": {},
     "output_type": "execute_result"
    }
   ],
   "source": [
    "result.f_pvalue"
   ]
  },
  {
   "cell_type": "code",
   "execution_count": null,
   "metadata": {},
   "outputs": [],
   "source": []
  }
 ],
 "metadata": {
  "kernelspec": {
   "display_name": "Python 3",
   "language": "python",
   "name": "python3"
  },
  "language_info": {
   "codemirror_mode": {
    "name": "ipython",
    "version": 3
   },
   "file_extension": ".py",
   "mimetype": "text/x-python",
   "name": "python",
   "nbconvert_exporter": "python",
   "pygments_lexer": "ipython3",
   "version": "3.6.5"
  }
 },
 "nbformat": 4,
 "nbformat_minor": 2
}
