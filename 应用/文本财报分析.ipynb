{
 "cells": [
  {
   "cell_type": "code",
   "execution_count": 1,
   "metadata": {},
   "outputs": [],
   "source": [
    "import os"
   ]
  },
  {
   "cell_type": "code",
   "execution_count": null,
   "metadata": {},
   "outputs": [],
   "source": [
    "file = open('C:/Users/jxjsj/Desktop/年报TXT版本.txt', encoding = 'utf-8')\n",
    "lines = file.readlines()\n",
    "for line in lines:\n",
    "#     print(type(line))\n",
    "    if '第三节 公司业务概要 \\n' in line:\n",
    "        print('start')\n",
    "    if '第六节 普通股股份变动及股东情况 \\n' in line:\n",
    "        print('end')\n",
    "file.close()"
   ]
  },
  {
   "cell_type": "code",
   "execution_count": 20,
   "metadata": {},
   "outputs": [
    {
     "name": "stdout",
     "output_type": "stream",
     "text": [
      "600548 深高速 2015 低成本 计数: 1\n",
      "600548 深高速 2016 低成本 计数: 0\n",
      "600548 深高速 2017 低成本 计数: 0\n",
      "600688 用友网络 2015 低成本 计数: 1\n",
      "600688 用友网络 2016 低成本 计数: 0\n",
      "600688 用友网络 2017 低成本 计数: 2\n"
     ]
    }
   ],
   "source": [
    "def read_report(dir):\n",
    "    file_name_lst = os.listdir(dir)\n",
    "#     print(file_name_lst)\n",
    "    for file_name in file_name_lst:\n",
    "        file = open(dir+'/'+file_name, encoding = 'utf-8')\n",
    "        lines = file.readlines()\n",
    "        cnt = 0\n",
    "        for line in lines:\n",
    "        #     print(type(line))\n",
    "#             if '第三节 公司业务概要 \\n' in line:\n",
    "#                 print('start')\n",
    "#             if '第六节 普通股股份变动及股东情况 \\n' in line:\n",
    "#                 print('end')             \n",
    "            if '低成本' in line:\n",
    "                cnt += 1\n",
    "        print(file_name[:-4],'低成本','计数:',cnt)\n",
    "        file.close()\n",
    "\n",
    "read_report('C:/Users/jxjsj/Desktop/年报txt')"
   ]
  },
  {
   "cell_type": "code",
   "execution_count": 25,
   "metadata": {},
   "outputs": [],
   "source": []
  },
  {
   "cell_type": "code",
   "execution_count": null,
   "metadata": {},
   "outputs": [],
   "source": []
  }
 ],
 "metadata": {
  "kernelspec": {
   "display_name": "Python 3",
   "language": "python",
   "name": "python3"
  },
  "language_info": {
   "codemirror_mode": {
    "name": "ipython",
    "version": 3
   },
   "file_extension": ".py",
   "mimetype": "text/x-python",
   "name": "python",
   "nbconvert_exporter": "python",
   "pygments_lexer": "ipython3",
   "version": "3.6.5"
  }
 },
 "nbformat": 4,
 "nbformat_minor": 2
}
