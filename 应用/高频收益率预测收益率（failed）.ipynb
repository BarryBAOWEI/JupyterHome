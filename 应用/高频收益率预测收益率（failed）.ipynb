{
 "cells": [
  {
   "cell_type": "code",
   "execution_count": 1,
   "metadata": {},
   "outputs": [],
   "source": [
    "import pandas as pd\n",
    "import numpy as np"
   ]
  },
  {
   "cell_type": "code",
   "execution_count": 20,
   "metadata": {},
   "outputs": [],
   "source": [
    "# 上证指数已实现波动率计算\n",
    "df_fminSZZS = pd.read_csv(r'C:\\Users\\jxjsj\\Desktop\\JupyterHome\\Data\\SZZS_five_min080101-181201.csv',index_col=0,header=0)\n",
    "\n",
    "df_fminSZZS['time'] = list(df_fminSZZS.index)\n",
    "\n",
    "df_fminSZZS['date'] = list(df_fminSZZS['time'].apply(lambda x: str(x)[:10]))\n",
    "\n",
    "df_fminSZZS['close-1'] = df_fminSZZS['close'].shift(1)\n",
    "\n",
    "df_fminSZZS_lnR_temp = pd.DataFrame(np.log(df_fminSZZS['close'])-np.log(df_fminSZZS['close-1']),index=df_fminSZZS.index,columns=['lnR'])"
   ]
  },
  {
   "cell_type": "code",
   "execution_count": 21,
   "metadata": {},
   "outputs": [],
   "source": [
    "df_fminSZZS_lnR = pd.concat([df_fminSZZS_lnR_temp,pd.DataFrame(list(df_fminSZZS['date']),columns=['date'],index=df_fminSZZS.index)],axis=1).dropna(axis=0,how='any')\n",
    "\n",
    "df_fminSZZS_lnR['lnR^2'] = df_fminSZZS_lnR['lnR'].apply(lambda x: x*x)"
   ]
  },
  {
   "cell_type": "code",
   "execution_count": 22,
   "metadata": {
    "scrolled": true
   },
   "outputs": [],
   "source": [
    "# t天预测t+1天\n",
    "save_array = np.zeros(shape=(int((len(df_fminSZZS_lnR)-47)/48-21),48))\n",
    "column_n = 0\n",
    "row_n = -1\n",
    "date_record = 0\n",
    "for index in df_fminSZZS_lnR.index[47:-21*48]:\n",
    "    if date_record == str(index)[:10]:\n",
    "        save_array[row_n,column_n] = df_fminSZZS_lnR['lnR'][index]\n",
    "        column_n += 1\n",
    "    else:\n",
    "        date_record = str(index)[:10]\n",
    "        row_n += 1\n",
    "        column_n = 0\n",
    "        save_array[row_n,column_n] = df_fminSZZS_lnR['lnR'][index]\n",
    "        column_n += 1"
   ]
  },
  {
   "cell_type": "code",
   "execution_count": 5,
   "metadata": {},
   "outputs": [],
   "source": [
    "# t天上半天预测t天全天\n",
    "save_array = np.zeros(shape=(int((len(df_fminSZZS_lnR)-47)/48-21),24))\n",
    "column_n = 0\n",
    "row_n = -1\n",
    "date_record = 0\n",
    "for index in df_fminSZZS_lnR.index[47:-21*48]:\n",
    "    try:\n",
    "        if date_record == str(index)[:10]:\n",
    "            save_array[row_n,column_n] = df_fminSZZS_lnR['lnR'][index]\n",
    "            column_n += 1\n",
    "        else:\n",
    "            date_record = str(index)[:10]\n",
    "            row_n += 1\n",
    "            column_n = 0\n",
    "            save_array[row_n,column_n] = df_fminSZZS_lnR['lnR'][index]\n",
    "            column_n += 1\n",
    "    except:\n",
    "        column_n += 1"
   ]
  },
  {
   "cell_type": "code",
   "execution_count": 25,
   "metadata": {},
   "outputs": [],
   "source": [
    "def positive_negative(x):\n",
    "    if x>=0.009364169774957184:\n",
    "        return 2\n",
    "    if x>=0.002597620432019096 and x<0.009364169774957184:\n",
    "        return 1\n",
    "    if x<-0.009043426461761683:\n",
    "        return -2\n",
    "    if x>=-0.009043426461761683 and x<-0.001910275079918831:\n",
    "        return -1\n",
    "    else:\n",
    "        return 0\n",
    "\n",
    "# def positive_negative(x):\n",
    "#     if x>=0:\n",
    "#         return 1\n",
    "#     else:\n",
    "#         return 0\n",
    "\n",
    "data = pd.read_csv('C:/Users/jxjsj/Desktop/JupyterHome/Data/SZZS_lnr_rv_w_m_ntd_080101-181101.csv',index_col=0,header=0)\n",
    "lnR = pd.DataFrame(data['lnR'])\n",
    "lnR_dis = lnR['lnR'].apply(lambda x: positive_negative(x))"
   ]
  },
  {
   "cell_type": "code",
   "execution_count": 27,
   "metadata": {
    "scrolled": true
   },
   "outputs": [],
   "source": [
    "pd.concat(\n",
    "    [pd.DataFrame(save_array),pd.DataFrame(list(lnR['lnR'])),pd.DataFrame(list(lnR_dis))],\n",
    "    axis=1).to_csv('C:/Users/jxjsj/Desktop/JupyterHome/Data/SZZSlnrlnR.csv')"
   ]
  },
  {
   "cell_type": "code",
   "execution_count": 147,
   "metadata": {},
   "outputs": [],
   "source": [
    "save_array = save_array[:2634]\n",
    "lnR = lnR[1:2635]"
   ]
  },
  {
   "cell_type": "code",
   "execution_count": 133,
   "metadata": {},
   "outputs": [
    {
     "data": {
      "text/plain": [
       "0.09034457846970413"
      ]
     },
     "execution_count": 133,
     "metadata": {},
     "output_type": "execute_result"
    }
   ],
   "source": [
    "np.percentile(lnR, 100)"
   ]
  },
  {
   "cell_type": "code",
   "execution_count": 50,
   "metadata": {},
   "outputs": [],
   "source": [
    "import pandas as pd\n",
    "import numpy as np\n",
    "from sklearn.model_selection import train_test_split\n",
    "from sklearn.feature_extraction import DictVectorizer\n",
    "from sklearn.neural_network import MLPClassifier\n",
    "from sklearn.metrics import classification_report\n",
    "from imblearn.over_sampling import SMOTE\n",
    "from sklearn.model_selection import cross_val_score"
   ]
  },
  {
   "cell_type": "code",
   "execution_count": 162,
   "metadata": {},
   "outputs": [
    {
     "name": "stderr",
     "output_type": "stream",
     "text": [
      "D:\\Anaconda3\\lib\\site-packages\\sklearn\\model_selection\\_split.py:2179: FutureWarning: From version 0.21, test_size will always complement train_size unless both are specified.\n",
      "  FutureWarning)\n"
     ]
    }
   ],
   "source": [
    "x_train, x_test, y_train, y_test = train_test_split(save_array, lnR, random_state=1, train_size=0.8)"
   ]
  },
  {
   "cell_type": "code",
   "execution_count": 163,
   "metadata": {
    "scrolled": true
   },
   "outputs": [
    {
     "name": "stderr",
     "output_type": "stream",
     "text": [
      "D:\\Anaconda3\\lib\\site-packages\\sklearn\\neural_network\\multilayer_perceptron.py:916: DataConversionWarning: A column-vector y was passed when a 1d array was expected. Please change the shape of y to (n_samples, ), for example using ravel().\n",
      "  y = column_or_1d(y, warn=True)\n"
     ]
    },
    {
     "name": "stdout",
     "output_type": "stream",
     "text": [
      "trainAccracy: 0.7666034155597723\n",
      "              precision    recall  f1-score   support\n",
      "\n",
      "           0       0.77      0.73      0.75      1004\n",
      "           1       0.76      0.80      0.78      1104\n",
      "\n",
      "   micro avg       0.77      0.77      0.77      2108\n",
      "   macro avg       0.77      0.76      0.77      2108\n",
      "weighted avg       0.77      0.77      0.77      2108\n",
      "\n",
      "testAccracy: 0.7476280834914611\n",
      "              precision    recall  f1-score   support\n",
      "\n",
      "           0       0.76      0.67      0.71       247\n",
      "           1       0.74      0.82      0.77       280\n",
      "\n",
      "   micro avg       0.75      0.75      0.75       527\n",
      "   macro avg       0.75      0.74      0.74       527\n",
      "weighted avg       0.75      0.75      0.75       527\n",
      "\n"
     ]
    }
   ],
   "source": [
    "# 运用原非平衡样本-训练\n",
    "realvolEvaluation = MLPClassifier(activation='tanh', \n",
    "                    solver='lbfgs',\n",
    "                    alpha=1e-5,\n",
    "                    hidden_layer_sizes=(len(x_train[0])*5+1,),\n",
    "                    random_state=1, \n",
    "                   )\n",
    "realvolEvaluation.fit(x_train,y_train)\n",
    "\n",
    "# 运用原非平衡样本-评估\n",
    "y_train_predict = realvolEvaluation.predict(x_train)\n",
    "y_test_predict = realvolEvaluation.predict(x_test)\n",
    "\n",
    "print('trainAccracy:',realvolEvaluation.score(x_train,y_train))\n",
    "print(classification_report(y_train,y_train_predict)) #真实数据在前 训练结果在后！\n",
    "print('testAccracy:',realvolEvaluation.score(x_test,y_test))\n",
    "print(classification_report(y_test,y_test_predict))"
   ]
  },
  {
   "cell_type": "code",
   "execution_count": 164,
   "metadata": {
    "scrolled": true
   },
   "outputs": [
    {
     "name": "stderr",
     "output_type": "stream",
     "text": [
      "D:\\Anaconda3\\lib\\site-packages\\sklearn\\utils\\validation.py:761: DataConversionWarning: A column-vector y was passed when a 1d array was expected. Please change the shape of y to (n_samples, ), for example using ravel().\n",
      "  y = column_or_1d(y, warn=True)\n"
     ]
    },
    {
     "name": "stdout",
     "output_type": "stream",
     "text": [
      "trainAccracy: 0.6133776091081594\n",
      "              precision    recall  f1-score   support\n",
      "\n",
      "           0       0.80      0.25      0.38      1004\n",
      "           1       0.58      0.94      0.72      1104\n",
      "\n",
      "   micro avg       0.61      0.61      0.61      2108\n",
      "   macro avg       0.69      0.60      0.55      2108\n",
      "weighted avg       0.68      0.61      0.56      2108\n",
      "\n",
      "testAccracy: 0.6053130929791272\n",
      "              precision    recall  f1-score   support\n",
      "\n",
      "           0       0.78      0.22      0.34       247\n",
      "           1       0.58      0.95      0.72       280\n",
      "\n",
      "   micro avg       0.61      0.61      0.61       527\n",
      "   macro avg       0.68      0.58      0.53       527\n",
      "weighted avg       0.67      0.61      0.54       527\n",
      "\n"
     ]
    }
   ],
   "source": [
    "from sklearn import svm\n",
    "realvolEvaluation = svm.SVC(C=10, kernel='linear', decision_function_shape='ovr',class_weight = \"balanced\")\n",
    "\n",
    "realvolEvaluation.fit(x_train,y_train)\n",
    "# 运用原非平衡样本-评估\n",
    "y_train_predict = realvolEvaluation.predict(x_train)\n",
    "y_test_predict = realvolEvaluation.predict(x_test)\n",
    "\n",
    "print('trainAccracy:',realvolEvaluation.score(x_train,y_train))\n",
    "print(classification_report(y_train,y_train_predict)) #真实数据在前 训练结果在后！\n",
    "print('testAccracy:',realvolEvaluation.score(x_test,y_test))\n",
    "print(classification_report(y_test,y_test_predict))"
   ]
  },
  {
   "cell_type": "code",
   "execution_count": 165,
   "metadata": {
    "scrolled": true
   },
   "outputs": [
    {
     "name": "stdout",
     "output_type": "stream",
     "text": [
      "trainAccracy: 0.6475332068311196\n",
      "              precision    recall  f1-score   support\n",
      "\n",
      "           0       0.73      0.41      0.53      1004\n",
      "           1       0.62      0.86      0.72      1104\n",
      "\n",
      "   micro avg       0.65      0.65      0.65      2108\n",
      "   macro avg       0.67      0.64      0.62      2108\n",
      "weighted avg       0.67      0.65      0.63      2108\n",
      "\n",
      "testAccracy: 0.6451612903225806\n",
      "              precision    recall  f1-score   support\n",
      "\n",
      "           0       0.73      0.38      0.50       247\n",
      "           1       0.62      0.88      0.72       280\n",
      "\n",
      "   micro avg       0.65      0.65      0.65       527\n",
      "   macro avg       0.68      0.63      0.61       527\n",
      "weighted avg       0.67      0.65      0.62       527\n",
      "\n"
     ]
    },
    {
     "name": "stderr",
     "output_type": "stream",
     "text": [
      "D:\\Anaconda3\\lib\\site-packages\\sklearn\\utils\\validation.py:761: DataConversionWarning: A column-vector y was passed when a 1d array was expected. Please change the shape of y to (n_samples, ), for example using ravel().\n",
      "  y = column_or_1d(y, warn=True)\n"
     ]
    }
   ],
   "source": [
    "from sklearn.naive_bayes import GaussianNB\n",
    "realvolEvaluation = GaussianNB()\n",
    "\n",
    "realvolEvaluation.fit(x_train,y_train)\n",
    "# 运用原非平衡样本-评估\n",
    "y_train_predict = realvolEvaluation.predict(x_train)\n",
    "y_test_predict = realvolEvaluation.predict(x_test)\n",
    "\n",
    "print('trainAccracy:',realvolEvaluation.score(x_train,y_train))\n",
    "print(classification_report(y_train,y_train_predict)) #真实数据在前 训练结果在后！\n",
    "print('testAccracy:',realvolEvaluation.score(x_test,y_test))\n",
    "print(classification_report(y_test,y_test_predict))"
   ]
  },
  {
   "cell_type": "code",
   "execution_count": 173,
   "metadata": {
    "scrolled": true
   },
   "outputs": [
    {
     "name": "stdout",
     "output_type": "stream",
     "text": [
      "trainAccracy: 0.9169829222011385\n",
      "              precision    recall  f1-score   support\n",
      "\n",
      "           0       0.91      0.92      0.91      1004\n",
      "           1       0.92      0.92      0.92      1104\n",
      "\n",
      "   micro avg       0.92      0.92      0.92      2108\n",
      "   macro avg       0.92      0.92      0.92      2108\n",
      "weighted avg       0.92      0.92      0.92      2108\n",
      "\n",
      "testAccracy: 0.6546489563567363\n",
      "              precision    recall  f1-score   support\n",
      "\n",
      "           0       0.63      0.63      0.63       247\n",
      "           1       0.67      0.68      0.68       280\n",
      "\n",
      "   micro avg       0.65      0.65      0.65       527\n",
      "   macro avg       0.65      0.65      0.65       527\n",
      "weighted avg       0.65      0.65      0.65       527\n",
      "\n"
     ]
    }
   ],
   "source": [
    "from sklearn import tree\n",
    "realvolEvaluation = tree.DecisionTreeClassifier(criterion='gini', \n",
    "                                                max_depth=10, \n",
    "                                                min_samples_split=10, \n",
    "                                                min_samples_leaf =1, \n",
    "                                                min_weight_fraction_leaf=0.0, \n",
    "                                                max_features=None, \n",
    "                                                random_state=1, \n",
    "                                                max_leaf_nodes=None, \n",
    "                                                class_weight='balanced', \n",
    "                                                presort=False)\n",
    "\n",
    "realvolEvaluation.fit(x_train,y_train)\n",
    "# 运用原非平衡样本-评估\n",
    "y_train_predict = realvolEvaluation.predict(x_train)\n",
    "y_test_predict = realvolEvaluation.predict(x_test)\n",
    "\n",
    "print('trainAccracy:',realvolEvaluation.score(x_train,y_train))\n",
    "print(classification_report(y_train,y_train_predict)) #真实数据在前 训练结果在后！\n",
    "print('testAccracy:',realvolEvaluation.score(x_test,y_test))\n",
    "print(classification_report(y_test,y_test_predict))"
   ]
  },
  {
   "cell_type": "code",
   "execution_count": 32,
   "metadata": {
    "scrolled": true
   },
   "outputs": [],
   "source": [
    "true_pre = pd.read_csv(r'C:\\Users\\jxjsj\\Desktop\\JupyterHome\\Data\\true_pre.csv',header=None)"
   ]
  },
  {
   "cell_type": "code",
   "execution_count": 35,
   "metadata": {
    "scrolled": true
   },
   "outputs": [
    {
     "data": {
      "text/plain": [
       "0      -0.004119\n",
       "1      -0.002390\n",
       "2       0.006192\n",
       "3       0.002651\n",
       "4      -0.006591\n",
       "5      -0.002799\n",
       "6      -0.009108\n",
       "7      -0.003951\n",
       "8      -0.009983\n",
       "9       0.014363\n",
       "10     -0.026496\n",
       "11     -0.027085\n",
       "12      0.042471\n",
       "13      0.002717\n",
       "14      0.016828\n",
       "15     -0.024939\n",
       "16     -0.003882\n",
       "17     -0.014547\n",
       "18      0.024317\n",
       "19     -0.016394\n",
       "20      0.049732\n",
       "21     -0.009005\n",
       "22     -0.013802\n",
       "23     -0.004110\n",
       "24      0.000013\n",
       "25      0.001642\n",
       "26     -0.002177\n",
       "27      0.004975\n",
       "28     -0.004209\n",
       "29     -0.017289\n",
       "          ...   \n",
       "2603   -0.001672\n",
       "2604   -0.006610\n",
       "2605   -0.008409\n",
       "2606   -0.005067\n",
       "2607   -0.002523\n",
       "2608   -0.003888\n",
       "2609   -0.002270\n",
       "2610   -0.011079\n",
       "2611   -0.007028\n",
       "2612   -0.002156\n",
       "2613   -0.006908\n",
       "2614   -0.001755\n",
       "2615   -0.000347\n",
       "2616   -0.004996\n",
       "2617   -0.003653\n",
       "2618    0.000617\n",
       "2619   -0.010378\n",
       "2620    0.005957\n",
       "2621    0.001307\n",
       "2622   -0.010648\n",
       "2623   -0.005257\n",
       "2624    0.004482\n",
       "2625    0.008867\n",
       "2626   -0.000214\n",
       "2627    0.005414\n",
       "2628    0.017336\n",
       "2629   -0.008028\n",
       "2630   -0.006096\n",
       "2631   -0.003049\n",
       "2632    0.000324\n",
       "Name: 0, Length: 2633, dtype: float64"
      ]
     },
     "execution_count": 35,
     "metadata": {},
     "output_type": "execute_result"
    }
   ],
   "source": []
  },
  {
   "cell_type": "code",
   "execution_count": 45,
   "metadata": {},
   "outputs": [],
   "source": [
    "def positive_negative_true(x):\n",
    "    if x>=0.009364169774957184:\n",
    "        return 2\n",
    "    if x>=0.002597620432019096 and x<0.009364169774957184:\n",
    "        return 1\n",
    "    if x<-0.009043426461761683:\n",
    "        return -2\n",
    "    if x>=-0.009043426461761683 and x<-0.001910275079918831:\n",
    "        return -1\n",
    "    else:\n",
    "        return 0"
   ]
  },
  {
   "cell_type": "code",
   "execution_count": 46,
   "metadata": {},
   "outputs": [],
   "source": [
    "def positive_negative_pre(x):\n",
    "    if x>=0.0013781791999999994:\n",
    "        return 2\n",
    "    if x>=-0.0016004443999999996 and x<0.0013781791999999994:\n",
    "        return 1\n",
    "    if x<-0.0064392742:\n",
    "        return -2\n",
    "    if x>=-0.0036490524000000004 and x<-0.0064392742:\n",
    "        return -1\n",
    "    else:\n",
    "        return 0"
   ]
  },
  {
   "cell_type": "code",
   "execution_count": 44,
   "metadata": {},
   "outputs": [
    {
     "data": {
      "text/plain": [
       "0.0013781791999999994"
      ]
     },
     "execution_count": 44,
     "metadata": {},
     "output_type": "execute_result"
    }
   ],
   "source": [
    "np.percentile(true_pre[0],80)"
   ]
  },
  {
   "cell_type": "code",
   "execution_count": 47,
   "metadata": {},
   "outputs": [],
   "source": [
    "pre = true_pre[0].apply(lambda x: positive_negative_pre(x))\n",
    "true = true_pre[0].apply(lambda x: positive_negative_true(x))"
   ]
  },
  {
   "cell_type": "code",
   "execution_count": 53,
   "metadata": {},
   "outputs": [
    {
     "name": "stdout",
     "output_type": "stream",
     "text": [
      "              precision    recall  f1-score   support\n",
      "\n",
      "          -2       0.33      1.00      0.50         6\n",
      "          -1       0.00      0.00      0.00        84\n",
      "           0       0.05      0.12      0.07        32\n",
      "           1       0.00      0.00      0.00        13\n",
      "           2       0.10      1.00      0.18         2\n",
      "\n",
      "   micro avg       0.09      0.09      0.09       137\n",
      "   macro avg       0.10      0.42      0.15       137\n",
      "weighted avg       0.03      0.09      0.04       137\n",
      "\n"
     ]
    },
    {
     "name": "stderr",
     "output_type": "stream",
     "text": [
      "D:\\Anaconda3\\lib\\site-packages\\sklearn\\metrics\\classification.py:1143: UndefinedMetricWarning: Precision and F-score are ill-defined and being set to 0.0 in labels with no predicted samples.\n",
      "  'precision', 'predicted', average, warn_for)\n"
     ]
    }
   ],
   "source": [
    "print(classification_report(true[-137:],pre[-137:]))"
   ]
  },
  {
   "cell_type": "code",
   "execution_count": null,
   "metadata": {},
   "outputs": [],
   "source": []
  }
 ],
 "metadata": {
  "kernelspec": {
   "display_name": "Python 3",
   "language": "python",
   "name": "python3"
  },
  "language_info": {
   "codemirror_mode": {
    "name": "ipython",
    "version": 3
   },
   "file_extension": ".py",
   "mimetype": "text/x-python",
   "name": "python",
   "nbconvert_exporter": "python",
   "pygments_lexer": "ipython3",
   "version": "3.6.5"
  }
 },
 "nbformat": 4,
 "nbformat_minor": 2
}
