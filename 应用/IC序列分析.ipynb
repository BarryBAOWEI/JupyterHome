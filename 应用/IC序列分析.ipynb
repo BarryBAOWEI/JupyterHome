{
 "cells": [
  {
   "cell_type": "code",
   "execution_count": 1,
   "metadata": {},
   "outputs": [],
   "source": [
    "import pandas as pd\n",
    "import statsmodels.api as sm\n",
    "import matplotlib.pyplot as plt"
   ]
  },
  {
   "cell_type": "code",
   "execution_count": 5,
   "metadata": {
    "scrolled": true
   },
   "outputs": [],
   "source": [
    "df = pd.read_csv('C:/Users/jxjsj/Desktop/JupyterHome/Data/QuantOutPut/SingleFactorICSeriesROIC.csv',index_col=0)\n",
    "# df['IC_'] = df['IC'].shift(1)\n",
    "# df = df.dropna()\n",
    "save_df = df.copy()"
   ]
  },
  {
   "cell_type": "code",
   "execution_count": 8,
   "metadata": {},
   "outputs": [],
   "source": [
    "IC_mean = save_df['IC'].mean()\n",
    "IC_std = save_df['IC'].std()\n",
    "IR_mean = save_df['IR'].mean()\n",
    "IR_std = save_df['IR'].std()\n",
    "Rank_IC_mean = save_df['Rank_IC'].mean()\n",
    "Rank_IC_std = save_df['Rank_IC'].std()\n",
    "IC_isPositive = sum([1 if i>0 else 0 for i in save_df['IC'].tolist()])/len(save_df['IC'])\n",
    "IC_bigger005 = sum([1 if abs(i)>0.05 else 0 for i in save_df['IC'].tolist()])/len(save_df['IC'])\n",
    "IC_Posbigger005 = sum([1 if abs(i)>0.05 and i >0 else 0 for i in save_df['IC'].tolist()])/sum([1 if i >0 else 0 for i in save_df['IC'].tolist()])\n",
    "IC_Negbigger005 = sum([1 if abs(i)>0.05 and i <0 else 0 for i in save_df['IC'].tolist()])/sum([1 if i <0 else 0 for i in save_df['IC'].tolist()])\n",
    "Long_mean = save_df['Long'].mean()\n",
    "Long_std = save_df['Long'].std()\n",
    "Short_mean = save_df['Short'].mean()\n",
    "Short_std = save_df['Short'].std()"
   ]
  },
  {
   "cell_type": "code",
   "execution_count": 9,
   "metadata": {},
   "outputs": [
    {
     "name": "stdout",
     "output_type": "stream",
     "text": [
      "0.040279709343441876 0.1768709801661283 0.27734435778604744 0.6709807821524785 0.038120956434728084 0.1976080500219964 0.5900621118012422 0.8012422360248447 0.8526315789473684 0.7272727272727273 0.021553958558051967 0.0930759725463208 0.011115529666464818 0.10705162634284209\n"
     ]
    }
   ],
   "source": [
    "print(IC_mean,\n",
    "IC_std,\n",
    "IR_mean,\n",
    "IR_std,\n",
    "Rank_IC_mean,\n",
    "Rank_IC_std,\n",
    "IC_isPositive,\n",
    "IC_bigger005,\n",
    "IC_Posbigger005,\n",
    "IC_Negbigger005,\n",
    "Long_mean,\n",
    "Long_std,\n",
    "Short_mean,\n",
    "Short_std,)"
   ]
  },
  {
   "cell_type": "code",
   "execution_count": null,
   "metadata": {},
   "outputs": [],
   "source": []
  },
  {
   "cell_type": "code",
   "execution_count": 16,
   "metadata": {},
   "outputs": [
    {
     "name": "stdout",
     "output_type": "stream",
     "text": [
      "                            OLS Regression Results                            \n",
      "==============================================================================\n",
      "Dep. Variable:                      y   R-squared:                       0.009\n",
      "Model:                            OLS   Adj. R-squared:                  0.002\n",
      "Method:                 Least Squares   F-statistic:                     1.239\n",
      "Date:                Tue, 28 May 2019   Prob (F-statistic):              0.268\n",
      "Time:                        00:36:21   Log-Likelihood:                 48.379\n",
      "No. Observations:                 145   AIC:                            -92.76\n",
      "Df Residuals:                     143   BIC:                            -86.80\n",
      "Df Model:                           1                                         \n",
      "Covariance Type:            nonrobust                                         \n",
      "==============================================================================\n",
      "                 coef    std err          t      P>|t|      [0.025      0.975]\n",
      "------------------------------------------------------------------------------\n",
      "const          0.0377      0.015      2.540      0.012       0.008       0.067\n",
      "x1             0.0917      0.082      1.113      0.268      -0.071       0.255\n",
      "==============================================================================\n",
      "Omnibus:                        0.933   Durbin-Watson:                   2.015\n",
      "Prob(Omnibus):                  0.627   Jarque-Bera (JB):                0.945\n",
      "Skew:                          -0.041   Prob(JB):                        0.624\n",
      "Kurtosis:                       2.613   Cond. No.                         5.69\n",
      "==============================================================================\n",
      "\n",
      "Warnings:\n",
      "[1] Standard Errors assume that the covariance matrix of the errors is correctly specified.\n"
     ]
    }
   ],
   "source": [
    "X = df['IC_'].values\n",
    "y = df['IC'].values\n",
    "X = sm.add_constant(X)\n",
    "\n",
    "est = sm.OLS(y,X)\n",
    "result = est.fit()\n",
    "print(result.summary())"
   ]
  },
  {
   "cell_type": "code",
   "execution_count": 20,
   "metadata": {},
   "outputs": [
    {
     "data": {
      "text/plain": [
       "(array([ 3.,  1.,  7.,  9.,  8., 15., 17., 20., 16., 17., 12.,  9.,  7.,\n",
       "         3.,  1.]),\n",
       " array([-0.3986295 , -0.34069616, -0.28276283, -0.22482949, -0.16689615,\n",
       "        -0.10896281, -0.05102947,  0.00690387,  0.06483721,  0.12277054,\n",
       "         0.18070388,  0.23863722,  0.29657056,  0.3545039 ,  0.41243724,\n",
       "         0.47037058]),\n",
       " <a list of 15 Patch objects>)"
      ]
     },
     "execution_count": 20,
     "metadata": {},
     "output_type": "execute_result"
    },
    {
     "data": {
      "image/png": "[encoded data removed]",
      "text/plain": [
       "<Figure size 432x288 with 1 Axes>"
      ]
     },
     "metadata": {},
     "output_type": "display_data"
    }
   ],
   "source": [
    "plt.hist(df['IC'],15)"
   ]
  },
  {
   "cell_type": "code",
   "execution_count": null,
   "metadata": {},
   "outputs": [],
   "source": []
  }
 ],
 "metadata": {
  "kernelspec": {
   "display_name": "Python 3",
   "language": "python",
   "name": "python3"
  },
  "language_info": {
   "codemirror_mode": {
    "name": "ipython",
    "version": 3
   },
   "file_extension": ".py",
   "mimetype": "text/x-python",
   "name": "python",
   "nbconvert_exporter": "python",
   "pygments_lexer": "ipython3",
   "version": "3.6.5"
  }
 },
 "nbformat": 4,
 "nbformat_minor": 2
}
