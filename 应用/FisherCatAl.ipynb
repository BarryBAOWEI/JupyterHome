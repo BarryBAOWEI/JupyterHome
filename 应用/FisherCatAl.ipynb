{
 "cells": [
  {
   "cell_type": "code",
   "execution_count": 83,
   "metadata": {},
   "outputs": [],
   "source": [
    "import pandas as pd\n",
    "import numpy as np\n",
    "import jqdatasdk as jq"
   ]
  },
  {
   "cell_type": "code",
   "execution_count": 84,
   "metadata": {},
   "outputs": [
    {
     "name": "stdout",
     "output_type": "stream",
     "text": [
      "auth success  - 聚宽高频因子挖掘挑战赛正式启动。快来参赛获得认证证书、正式&实习Offer、奖金等，详情查看大赛官方网页：http://t.cn/EowDwNU\n"
     ]
    }
   ],
   "source": [
    "jq.auth('15123395860','395860')"
   ]
  },
  {
   "cell_type": "code",
   "execution_count": null,
   "metadata": {},
   "outputs": [],
   "source": [
    "jq.get_price('000001.XSHG', start_date'2002-01-01', end_date='2019-05-21', frequency='m', fields=None, skip_paused=False, fq='pre', count=None)"
   ]
  },
  {
   "cell_type": "code",
   "execution_count": 104,
   "metadata": {
    "scrolled": true
   },
   "outputs": [],
   "source": [
    "df = jq.get_bars('000001.XSHG', 120, unit='1M',\n",
    "         fields=['date','open','high','low','close'],\n",
    "         include_now=False, end_dt='2019-05-21', fq_ref_date=None)\n",
    "df.index = df['date']\n",
    "# df = df[['open','high','low','close']]\n",
    "df = df[['open','high','low','close']]\n",
    "# df = df - df.shift(1)\n",
    "# df = df.dropna()"
   ]
  },
  {
   "cell_type": "code",
   "execution_count": 80,
   "metadata": {},
   "outputs": [],
   "source": [
    "# df = pd.read_csv('C:/Users/jxjsj/Desktop/DataDownload/Stock_Data/stock_trade_data/001896.XSHE.csv',index_col = 0).iloc[1000:,:]"
   ]
  },
  {
   "cell_type": "code",
   "execution_count": 40,
   "metadata": {},
   "outputs": [],
   "source": [
    "sampleNum = len(df)\n",
    "sampleIndex = df.index\n",
    "sampleMatrix = np.array(df)\n",
    "\n",
    "def diameterCompute(i ,j ):\n",
    "    sampleMatrixItoJ = sampleMatrix[i:(j+1),:]\n",
    "    muVec = np.mean(sampleMatrixItoJ,axis = 0)\n",
    "    sampleMatrixItoJMinusMu = np.apply_along_axis((lambda x: x-muVec),1,sampleMatrixItoJ)\n",
    "    distance = 0\n",
    "    for cnt in range(j-i+1):\n",
    "        vecForSample = sampleMatrixItoJMinusMu[cnt,]\n",
    "        distance += np.dot(vecForSample,vecForSample)\n",
    "    return distance\n",
    "\n",
    "diameterMatrix = np.zeros((sampleNum,sampleNum))\n",
    "for row in range(sampleNum-1):\n",
    "    for col in range(row+1,sampleNum):\n",
    "        diameterMatrix[row,col]=diameterCompute(row,col)\n",
    "        diameterMatrix[col,row]=diameterCompute(row,col)"
   ]
  },
  {
   "cell_type": "code",
   "execution_count": 35,
   "metadata": {},
   "outputs": [],
   "source": [
    "def eP2(n):\n",
    "    num = n + 1\n",
    "    series = [diameterMatrix[0,j-2]+diameterMatrix[j-1,n-1] for j in range(2,num)]\n",
    "    return np.min(series),np.argmin(series)\n",
    "\n",
    "# def eP3(n):\n",
    "#     num = n + 1\n",
    "#     series = [eP2(j-1)[0]+diameterMatrix[j-1,n-1] for j in range(3,num)]\n",
    "#     return np.min(series),np.argmin(series)\n",
    "\n",
    "# def eP4(n):\n",
    "#     num = n + 1\n",
    "#     series = [eP3(j-1)[0]+diameterMatrix[j-1,n-1] for j in range(4,num)]\n",
    "#     return np.min(series),np.argmin(series)\n",
    "\n",
    "# def eP5(n):\n",
    "#     num = n + 1\n",
    "#     series = [eP4(j-1)[0]+diameterMatrix[j-1,n-1] for j in range(5,num)]\n",
    "#     return np.min(series),np.argmin(series)"
   ]
  },
  {
   "cell_type": "code",
   "execution_count": 46,
   "metadata": {},
   "outputs": [],
   "source": [
    "# 递归函数，各种输入都严格遵照公式，仅在矩阵取值时按照python特点“-1”；输出argmin时，直接返回的是list的索引，需要赋值到j的范围上！\n",
    "def eP2(n):\n",
    "    num = n + 1\n",
    "    series = [diameterMatrix[0,j-2]+diameterMatrix[j-1,n-1] for j in range(2,num)]\n",
    "    return np.min(series),range(2,num)[np.argmin(series)]\n",
    "def eP(n,k):\n",
    "    if k == 2:\n",
    "        return eP2(n) \n",
    "    num = n + 1\n",
    "    series = [eP(j-1,k-1)[0]+diameterMatrix[j-1,n-1] for j in range(k,num)]\n",
    "    return np.min(series),range(k,num)[np.argmin(series)]\n",
    "\n",
    "classNum = 4\n",
    "restNum = sampleNum + 1\n",
    "catList = []\n",
    "for i in range(classNum-1):\n",
    "    k = classNum - i\n",
    "    # 总样本是 1 至 （上一步最优点序号-1）\n",
    "    restNum = restNum-1\n",
    "    _,restNum = eP(restNum,k)\n",
    "    catList.append(restNum-1)\n",
    "\n",
    "catList = list(np.sort(catList))\n",
    "\n",
    "list(sampleIndex[catList])"
   ]
  },
  {
   "cell_type": "code",
   "execution_count": null,
   "metadata": {},
   "outputs": [],
   "source": []
  },
  {
   "cell_type": "code",
   "execution_count": 92,
   "metadata": {},
   "outputs": [],
   "source": [
    "import pandas as pd\n",
    "import numpy as np\n",
    "\n",
    "def ocluster(dataframe, classnum):\n",
    "    '''\n",
    "    dataframe: pandas中的DataFrame对象,行为观测,列为变量,最好标准化\n",
    "    classnum : 超参数,欲分类的数量，2-4类为宜\n",
    "    '''\n",
    "    sampleNum = len(dataframe)\n",
    "    sampleIndex = dataframe.index\n",
    "    sampleMatrix = np.array(dataframe)\n",
    "\n",
    "    def diameterCompute(i ,j ):\n",
    "        sampleMatrixItoJ = sampleMatrix[i:(j+1),:]\n",
    "        muVec = np.mean(sampleMatrixItoJ,axis = 0)\n",
    "        sampleMatrixItoJMinusMu = np.apply_along_axis((lambda x: x-muVec),1,sampleMatrixItoJ)\n",
    "        distance = 0\n",
    "        for cnt in range(j-i+1):\n",
    "            vecForSample = sampleMatrixItoJMinusMu[cnt,]\n",
    "            distance += np.dot(vecForSample,vecForSample)\n",
    "        return distance\n",
    "\n",
    "    diameterMatrix = np.zeros((sampleNum,sampleNum))\n",
    "    for row in range(sampleNum-1):\n",
    "        print('StartComputeRow:%d Total:%d' %(row+1,sampleNum-1),end='\\r')\n",
    "        for col in range(row+1,sampleNum):\n",
    "            diameterMatrix[row,col]=diameterCompute(row,col)\n",
    "            diameterMatrix[col,row]=diameterCompute(row,col)\n",
    "\n",
    "    leastLost = np.zeros((sampleNum-1,sampleNum-1))\n",
    "    classId = np.diag(range(1,sampleNum))\n",
    "\n",
    "    # 递归函数，各种输入都严格遵照公式，仅在矩阵取值时按照python特点“-1”；输出argmin时，直接返回的是list的索引，需要赋值到j的范围上！\n",
    "    def eP2(n):\n",
    "        num = n + 1\n",
    "        series = [diameterMatrix[0,j-2]+diameterMatrix[j-1,n-1] for j in range(2,num)]\n",
    "        return np.min(series),range(2,num)[np.argmin(series)]\n",
    "    def eP(n,k):\n",
    "        if k == 2:\n",
    "            return eP2(n) \n",
    "        num = n + 1\n",
    "        series = [eP(j-1,k-1)[0]+diameterMatrix[j-1,n-1] for j in range(k,num)]\n",
    "        return np.min(series),range(k,num)[np.argmin(series)]\n",
    "\n",
    "    restNum = sampleNum + 1\n",
    "    catList = []\n",
    "    for i in range(classnum-1):\n",
    "        k = classnum - i\n",
    "        # 总样本是 1 至 （上一步最优点序号-1）\n",
    "        restNum = restNum-1\n",
    "        _,restNum = eP(restNum,k)\n",
    "        # 保存到catList中时-1变成python中的索引\n",
    "        catList.append(restNum-1)\n",
    "    catList = list(np.sort(catList))\n",
    "\n",
    "    return list(sampleIndex[catList])"
   ]
  },
  {
   "cell_type": "code",
   "execution_count": 106,
   "metadata": {},
   "outputs": [
    {
     "name": "stdout",
     "output_type": "stream",
     "text": [
      "StartComputeRow:119 Total:119\r"
     ]
    },
    {
     "data": {
      "text/plain": [
       "[datetime.date(2011, 9, 30),\n",
       " datetime.date(2015, 1, 30),\n",
       " datetime.date(2015, 9, 30)]"
      ]
     },
     "execution_count": 106,
     "metadata": {},
     "output_type": "execute_result"
    }
   ],
   "source": [
    "ocluster(df, 4)"
   ]
  },
  {
   "cell_type": "code",
   "execution_count": null,
   "metadata": {},
   "outputs": [],
   "source": []
  }
 ],
 "metadata": {
  "kernelspec": {
   "display_name": "Python 3",
   "language": "python",
   "name": "python3"
  },
  "language_info": {
   "codemirror_mode": {
    "name": "ipython",
    "version": 3
   },
   "file_extension": ".py",
   "mimetype": "text/x-python",
   "name": "python",
   "nbconvert_exporter": "python",
   "pygments_lexer": "ipython3",
   "version": "3.6.5"
  }
 },
 "nbformat": 4,
 "nbformat_minor": 2
}
