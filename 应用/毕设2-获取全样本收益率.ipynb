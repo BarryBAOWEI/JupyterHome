{
 "cells": [
  {
   "cell_type": "code",
   "execution_count": 3,
   "metadata": {},
   "outputs": [],
   "source": [
    "import pandas as pd\n",
    "import numpy as np\n",
    "import jqdatasdk as jq\n",
    "import os"
   ]
  },
  {
   "cell_type": "code",
   "execution_count": 4,
   "metadata": {},
   "outputs": [
    {
     "name": "stdout",
     "output_type": "stream",
     "text": [
      "auth success （JQData现有流量增加活动，详情请咨询JQData管理员，微信号：JQData01）\n"
     ]
    }
   ],
   "source": [
    "jq.auth('13918852005','960312Lsc')\n",
    "# jq.auth('15821912507','912507')"
   ]
  },
  {
   "cell_type": "code",
   "execution_count": 3,
   "metadata": {},
   "outputs": [],
   "source": [
    "# 沪深两市自2011年1月1日前上市股票列表\n",
    "hslslist = list(jq.get_all_securities(types=['stock'], date='2011-01-01').index)\n",
    "stock_download_len = len(hslslist)"
   ]
  },
  {
   "cell_type": "code",
   "execution_count": 4,
   "metadata": {},
   "outputs": [
    {
     "name": "stdout",
     "output_type": "stream",
     "text": [
      "2042\n"
     ]
    }
   ],
   "source": [
    "print(stock_download_len)"
   ]
  },
  {
   "cell_type": "code",
   "execution_count": 10,
   "metadata": {},
   "outputs": [],
   "source": [
    "# stock_download_lst = pd.read_csv('E:/Stock_Data/stock_code.csv')\n",
    "# stock_download_lst = list(stock_download_lst.iloc[:,0])\n",
    "# stock_download_len = len(stock_download_lst)"
   ]
  },
  {
   "cell_type": "code",
   "execution_count": 4,
   "metadata": {
    "scrolled": true
   },
   "outputs": [],
   "source": [
    "trade_days = jq.get_trade_days(start_date='2011-01-01', end_date='2018-12-31')\n",
    "trade_days_len = len(trade_days)"
   ]
  },
  {
   "cell_type": "code",
   "execution_count": 5,
   "metadata": {
    "scrolled": true
   },
   "outputs": [
    {
     "name": "stdout",
     "output_type": "stream",
     "text": [
      "No.1958 Complete:95.8864%\r"
     ]
    }
   ],
   "source": [
    "used_stock_list = []\n",
    "cnt_code = 0\n",
    "code_list_temp = os.listdir('E:/Stock_Data/stock_return_data')\n",
    "code_list = [i[:-4] for i in code_list_temp]\n",
    "\n",
    "for code in hslslist: # 从stock_download_lst变为了hslslist，收益率数据要求更多，不一定要完整年报\n",
    "    \n",
    "    if code in code_list:\n",
    "        cnt_code += 1\n",
    "        print('No.'+str(cnt_code)+\" Complete:%.4f%%\" % (cnt_code/stock_download_len*100),end=\"\\r\")\n",
    "        continue\n",
    "    \n",
    "    price_inf = jq.get_price(code, \n",
    "                 start_date='2011-01-01', \n",
    "                 end_date='2018-12-31', \n",
    "                 frequency='daily', \n",
    "                 fields=['close'], \n",
    "                 skip_paused=False, \n",
    "                 fq='pre', \n",
    "                 count=None)\n",
    "    \n",
    "    # 价格中出现零，剔除\n",
    "    price_zero_num = len(price_inf[price_inf['close']==0])\n",
    "    if price_zero_num != 0:\n",
    "        continue\n",
    "    \n",
    "    price_inf['close_1'] = price_inf.shift(1)\n",
    "    price_inf['return'] = np.log(price_inf['close']/price_inf['close_1'])\n",
    "    price_inf = price_inf.dropna(how=\"any\",axis=0)\n",
    "    price_save_df = price_inf[['return']]\n",
    "    \n",
    "    # 记录收益率为0的天数和，停牌过多，剔除\n",
    "    return_zero_num = len(price_save_df[price_save_df['return']==0])\n",
    "    if return_zero_num > trade_days_len/3.8: # 2年的时间都处于停牌状态，剔除\n",
    "        continue\n",
    "\n",
    "    # 保存\n",
    "    cnt_code += 1\n",
    "    used_stock_list.append(code)\n",
    "    price_save_df.to_csv('E:/Stock_Data/stock_return_data/'+code+'.csv',index=True)\n",
    "    print('No.'+str(cnt_code)+\" Complete:%.4f%%\" % (cnt_code/stock_download_len*100),end=\"\\r\")\n",
    "    \n",
    "pd.DataFrame(used_stock_list).to_csv('E:/Stock_Data/return_inf_used_stock.csv',index=False)"
   ]
  },
  {
   "cell_type": "code",
   "execution_count": 6,
   "metadata": {},
   "outputs": [],
   "source": [
    "price_save_df.to_csv('E:/Stock_Data/stock_return_data/'+code+'.csv',index=True)\n",
    "pd.DataFrame(used_stock_list).to_csv('E:/Stock_Data/return_inf_used_stock.csv',index=False)"
   ]
  },
  {
   "cell_type": "code",
   "execution_count": null,
   "metadata": {},
   "outputs": [],
   "source": []
  },
  {
   "cell_type": "raw",
   "metadata": {},
   "source": [
    "月度"
   ]
  },
  {
   "cell_type": "code",
   "execution_count": 17,
   "metadata": {},
   "outputs": [
    {
     "name": "stdout",
     "output_type": "stream",
     "text": [
      "No.1946 Complete:100.0000%\r"
     ]
    }
   ],
   "source": [
    "cnt_code = 0\n",
    "code_list_temp = os.listdir('E:/Stock_Data/stock_return_data')\n",
    "code_list = [i[:-4] for i in code_list_temp]\n",
    "\n",
    "already_code_list_temp = os.listdir('E:/Stock_Data/stock_return_data_monthly')\n",
    "already_code_list = [i[:-4] for i in already_code_list_temp]\n",
    "\n",
    "stock_download_len = len(code_list)\n",
    "used_stock_list_monthly = []\n",
    "\n",
    "for code in code_list: # 从code_list下载，已经下载过日度数据，收益率数据要求更多，不一定要完整年报\n",
    "    \n",
    "    if code in already_code_list:\n",
    "        cnt_code += 1\n",
    "        print('No.'+str(cnt_code)+\" Complete:%.4f%%\" % (cnt_code/stock_download_len*100),end=\"\\r\")\n",
    "        continue\n",
    "    \n",
    "    price_inf = jq.get_bars(code, 97, unit='1M',\n",
    "         fields=['close','date'],\n",
    "         include_now=False, end_dt='2019-01-01', fq_ref_date=None)\n",
    "    \n",
    "    # 价格中出现零，剔除\n",
    "    price_zero_num = len(price_inf[price_inf['close']==0])\n",
    "    if price_zero_num != 0:\n",
    "        continue\n",
    "    \n",
    "    price_inf_new = price_inf[['close']]\n",
    "    price_inf_new.index = price_inf['date']\n",
    "    \n",
    "    price_inf_new['close_1'] = price_inf_new.shift(1)\n",
    "    price_inf_new['return'] = np.log(price_inf_new['close']/price_inf_new['close_1'])\n",
    "    price_inf_new = price_inf_new.dropna(how=\"any\",axis=0)\n",
    "    price_save_df = price_inf_new[['return']]\n",
    "    \n",
    "    # 记录收益率为0的天数和，停牌过多，剔除\n",
    "#     return_zero_num = len(price_save_df[price_save_df['return']==0])\n",
    "#     if return_zero_num > trade_days_len/3.8: # 2年的时间都处于停牌状态，剔除\n",
    "#         continue\n",
    "\n",
    "    # 保存\n",
    "    cnt_code += 1\n",
    "    used_stock_list_monthly.append(code)\n",
    "    price_save_df.to_csv('E:/Stock_Data/stock_return_data_monthly/'+code+'.csv',index=True)\n",
    "    print('No.'+str(cnt_code)+\" Complete:%.4f%%\" % (cnt_code/stock_download_len*100),end=\"\\r\")\n",
    "    \n",
    "pd.DataFrame(used_stock_list_monthly).to_csv('E:/Stock_Data/return_inf_used_stock_monthly.csv',index=False)"
   ]
  },
  {
   "cell_type": "code",
   "execution_count": 5,
   "metadata": {},
   "outputs": [],
   "source": [
    "for index_name in ['SZZS','SZCZ','CYBZ']:\n",
    "    if index_name == 'SZZS':\n",
    "        code = '000001.XSHG'\n",
    "    if index_name == 'SZCZ':\n",
    "        code = '399001.XSHE'\n",
    "    if index_name == 'CYBZ':\n",
    "        code = '399006.XSHE'\n",
    "\n",
    "    price_inf = jq.get_bars(code, 97, unit='1M',\n",
    "             fields=['close','date'],\n",
    "             include_now=False, end_dt='2019-01-01', fq_ref_date=None)\n",
    "\n",
    "    # 价格中出现零，剔除\n",
    "    price_zero_num = len(price_inf[price_inf['close']==0])\n",
    "    if price_zero_num != 0:\n",
    "        continue\n",
    "\n",
    "    price_inf_new = price_inf[['close']]\n",
    "    price_inf_new.index = price_inf['date']\n",
    "\n",
    "    price_inf_new['close_1'] = price_inf_new.shift(1)\n",
    "    price_inf_new['return'] = np.log(price_inf_new['close']/price_inf_new['close_1'])\n",
    "    price_inf_new = price_inf_new.dropna(how=\"any\",axis=0)\n",
    "    price_save_df = price_inf_new[['return']]\n",
    "\n",
    "    # 记录收益率为0的天数和，停牌过多，剔除\n",
    "    #     return_zero_num = len(price_save_df[price_save_df['return']==0])\n",
    "    #     if return_zero_num > trade_days_len/3.8: # 2年的时间都处于停牌状态，剔除\n",
    "    #         continue\n",
    "\n",
    "    # 保存\n",
    "    price_save_df.to_csv('E:/Stock_Data/stock_return_mon_index/'+index_name+'.csv',index=True)"
   ]
  },
  {
   "cell_type": "code",
   "execution_count": null,
   "metadata": {},
   "outputs": [],
   "source": []
  }
 ],
 "metadata": {
  "kernelspec": {
   "display_name": "Python 3",
   "language": "python",
   "name": "python3"
  },
  "language_info": {
   "codemirror_mode": {
    "name": "ipython",
    "version": 3
   },
   "file_extension": ".py",
   "mimetype": "text/x-python",
   "name": "python",
   "nbconvert_exporter": "python",
   "pygments_lexer": "ipython3",
   "version": "3.6.5"
  }
 },
 "nbformat": 4,
 "nbformat_minor": 2
}
