{
 "cells": [
  {
   "cell_type": "code",
   "execution_count": 8,
   "metadata": {},
   "outputs": [],
   "source": [
    "import pandas as pd\n",
    "import numpy as np\n",
    "import jqdatasdk as jq\n",
    "import os"
   ]
  },
  {
   "cell_type": "code",
   "execution_count": 9,
   "metadata": {},
   "outputs": [],
   "source": [
    "jq.auth('13918852005','960312Lsc')\n",
    "# jq.auth('15821912507','912507')"
   ]
  },
  {
   "cell_type": "code",
   "execution_count": 10,
   "metadata": {},
   "outputs": [],
   "source": [
    "stock_download_lst = pd.read_csv('E:/Stock_Data/stock_code.csv')\n",
    "stock_download_lst = list(stock_download_lst.iloc[:,0])\n",
    "stock_download_len = len(stock_download_lst)"
   ]
  },
  {
   "cell_type": "code",
   "execution_count": 11,
   "metadata": {
    "scrolled": true
   },
   "outputs": [],
   "source": [
    "trade_days = jq.get_trade_days(start_date='2011-01-01', end_date='2018-12-31')\n",
    "trade_days_len = len(trade_days)"
   ]
  },
  {
   "cell_type": "code",
   "execution_count": 12,
   "metadata": {
    "scrolled": true
   },
   "outputs": [
    {
     "name": "stdout",
     "output_type": "stream",
     "text": [
      "No.1071 Complete:96.4865%\r"
     ]
    }
   ],
   "source": [
    "used_stock_list = []\n",
    "cnt_code = 0\n",
    "code_list_temp = os.listdir('E:/Stock_Data/stock_return_data')\n",
    "code_list = [i[:-4] for i in code_list_temp]\n",
    "\n",
    "for code in stock_download_lst:\n",
    "    \n",
    "    if code in code_list:\n",
    "        cnt_code += 1\n",
    "        print('No.'+str(cnt_code)+\" Complete:%.4f%%\" % (cnt_code/stock_download_len*100),end=\"\\r\")\n",
    "        continue\n",
    "    \n",
    "    price_inf = jq.get_price(code, \n",
    "                 start_date='2011-01-01', \n",
    "                 end_date='2018-12-31', \n",
    "                 frequency='daily', \n",
    "                 fields=['close'], \n",
    "                 skip_paused=False, \n",
    "                 fq='pre', \n",
    "                 count=None)\n",
    "    \n",
    "    # 价格中出现零，剔除\n",
    "    price_zero_num = len(price_inf[price_inf['close']==0])\n",
    "    if price_zero_num != 0:\n",
    "        continue\n",
    "    \n",
    "    price_inf['close_1'] = price_inf.shift(1)\n",
    "    price_inf['return'] = np.log(price_inf['close']/price_inf['close_1'])\n",
    "    price_inf = price_inf.dropna(how=\"any\",axis=0)\n",
    "    price_save_df = price_inf[['return']]\n",
    "    \n",
    "    # 记录收益率为0的天数和，停牌过多，剔除\n",
    "    return_zero_num = len(price_save_df[price_save_df['return']==0])\n",
    "    if return_zero_num > trade_days_len/3.8: # 2年的时间都处于停牌状态，剔除\n",
    "        continue\n",
    "\n",
    "    # 保存\n",
    "    cnt_code += 1\n",
    "    used_stock_list.append(code)\n",
    "    price_save_df.to_csv('E:/Stock_Data/stock_return_data/'+code+'.csv',index=True)\n",
    "    print('No.'+str(cnt_code)+\" Complete:%.4f%%\" % (cnt_code/stock_download_len*100),end=\"\\r\")\n",
    "    \n",
    "pd.DataFrame(used_stock_list).to_csv('E:/Stock_Data/return_inf_used_stock.csv',index=False)"
   ]
  },
  {
   "cell_type": "code",
   "execution_count": 13,
   "metadata": {},
   "outputs": [],
   "source": [
    "price_save_df.to_csv('E:/Stock_Data/stock_return_data/'+code+'.csv',index=True)\n",
    "pd.DataFrame(used_stock_list).to_csv('E:/Stock_Data/return_inf_used_stock.csv',index=False)"
   ]
  },
  {
   "cell_type": "code",
   "execution_count": null,
   "metadata": {},
   "outputs": [],
   "source": []
  }
 ],
 "metadata": {
  "kernelspec": {
   "display_name": "Python 3",
   "language": "python",
   "name": "python3"
  },
  "language_info": {
   "codemirror_mode": {
    "name": "ipython",
    "version": 3
   },
   "file_extension": ".py",
   "mimetype": "text/x-python",
   "name": "python",
   "nbconvert_exporter": "python",
   "pygments_lexer": "ipython3",
   "version": "3.6.5"
  }
 },
 "nbformat": 4,
 "nbformat_minor": 2
}
