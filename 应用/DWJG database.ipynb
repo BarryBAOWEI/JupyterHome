{
 "cells": [
  {
   "cell_type": "code",
   "execution_count": 7,
   "metadata": {},
   "outputs": [],
   "source": [
    "# -*- coding: utf-8 -*-\n",
    "import re\n",
    "import urllib\n",
    "import cx_Oracle\n",
    "import urllib.request\n",
    "import os\n",
    "import pandas as pd\n",
    "\n",
    "os.environ['NLS_LANG']='SIMPLIFIED CHINESE_CHINA.UTF8'\n",
    "dwzx_oracle_ip = '222.92.214.61'\n",
    "dwzx_oracle_port = 20001\n",
    "dwzx_oracle_SID = 'sidwdzx1'\n",
    "dsn_tns = cx_Oracle.makedsn(dwzx_oracle_ip, dwzx_oracle_port, dwzx_oracle_SID)\n",
    "db1 = cx_Oracle.connect('sjcj','dwzqsjcj',dsn_tns )\n",
    "\n",
    "# cursor=db1.cursor()\n",
    "# cursor.execute(\"select * from wind.AShareMoneyFlow where trade_dt='20190307'\")\n",
    "# cursor.execute(\"select column_name  from all_tab_cols where Table_Name='wind.AShareMoneyFlow'\")\n",
    "# row=cursor.fetchall()\n",
    "# db1.close\n",
    "# result=pd.DataFrame(row)"
   ]
  },
  {
   "cell_type": "code",
   "execution_count": null,
   "metadata": {},
   "outputs": [],
   "source": [
    "'''\n",
    "wind.AShareMoneyFlow 资金流量数据\n",
    "'''"
   ]
  },
  {
   "cell_type": "code",
   "execution_count": 4,
   "metadata": {
    "scrolled": true
   },
   "outputs": [
    {
     "name": "stdout",
     "output_type": "stream",
     "text": [
      "2019 Finish\n"
     ]
    },
    {
     "data": {
      "text/plain": [
       "<function Connection.close>"
      ]
     },
     "execution_count": 4,
     "metadata": {},
     "output_type": "execute_result"
    }
   ],
   "source": [
    "os.environ['NLS_LANG']='SIMPLIFIED CHINESE_CHINA.UTF8'\n",
    "dwzx_oracle_ip = '222.92.214.61'\n",
    "dwzx_oracle_port = 20001\n",
    "dwzx_oracle_SID = 'sidwdzx1'\n",
    "dsn_tns = cx_Oracle.makedsn(dwzx_oracle_ip, dwzx_oracle_port, dwzx_oracle_SID)\n",
    "db1 = cx_Oracle.connect('sjcj','dwzqsjcj',dsn_tns )\n",
    "cursor = db1.cursor()\n",
    "\n",
    "save_df = pd.DataFrame(columns=['S_INFO_WINDCODE','TRADE_DT'])\n",
    "year_list = range(2019,2020)\n",
    "for cnt in range(len(year_list)):\n",
    "    year = year_list[cnt]\n",
    "    start = str(year)+'0101'\n",
    "    end = str(year)+'1231'\n",
    "    SQL = \"select * from wind.AShareMoneyFlow where trade_dt>=\"+start+\" and trade_dt<=\"+end\n",
    "    cursor.execute(SQL)\n",
    "    col_name_list = [i[0] for i in cursor.description]\n",
    "    row = cursor.fetchall()\n",
    "    result = pd.DataFrame(row)\n",
    "    if len(result) == 0:\n",
    "        print(year,'NoData')\n",
    "        continue\n",
    "    result.columns = col_name_list\n",
    "    save_df = save_df.merge(result,on=['S_INFO_WINDCODE','TRADE_DT'],how='outer')\n",
    "    save_df.to_csv('D:/DWDB/AShareMoneyFlow.csv',index=False)\n",
    "    print(year,'Finish')\n",
    "\n",
    "db1.close"
   ]
  },
  {
   "cell_type": "code",
   "execution_count": null,
   "metadata": {},
   "outputs": [],
   "source": [
    "'''\n",
    "wind.AShareEODPrices 每日行情数据\n",
    "'''"
   ]
  },
  {
   "cell_type": "code",
   "execution_count": 7,
   "metadata": {},
   "outputs": [
    {
     "name": "stdout",
     "output_type": "stream",
     "text": [
      "2016 Finish\n",
      "2017 Finish\n",
      "2018 Finish\n",
      "2019 Finish\n"
     ]
    },
    {
     "data": {
      "text/plain": [
       "<function Connection.close>"
      ]
     },
     "execution_count": 7,
     "metadata": {},
     "output_type": "execute_result"
    }
   ],
   "source": [
    "os.environ['NLS_LANG']='SIMPLIFIED CHINESE_CHINA.UTF8'\n",
    "dwzx_oracle_ip = '222.92.214.61'\n",
    "dwzx_oracle_port = 20001\n",
    "dwzx_oracle_SID = 'sidwdzx1'\n",
    "dsn_tns = cx_Oracle.makedsn(dwzx_oracle_ip, dwzx_oracle_port, dwzx_oracle_SID)\n",
    "db1 = cx_Oracle.connect('sjcj','dwzqsjcj',dsn_tns )\n",
    "cursor=db1.cursor()\n",
    "\n",
    "save_df = pd.DataFrame(columns=['S_INFO_WINDCODE','TRADE_DT'])\n",
    "year_list = range(2016,2020)\n",
    "for cnt in range(len(year_list)):\n",
    "    year = year_list[cnt]\n",
    "    start = str(year)+'0101'\n",
    "    end = str(year)+'1231'\n",
    "    SQL = \"select * from wind.AShareEODPrices where trade_dt>=\"+start+\" and trade_dt<=\"+end\n",
    "    cursor.execute(SQL)\n",
    "    col_name_list = [i[0] for i in cursor.description]\n",
    "    row = cursor.fetchall()\n",
    "    result = pd.DataFrame(row)\n",
    "    if len(result) == 0:\n",
    "        print(year,'NoData')\n",
    "        continue\n",
    "    result.columns = col_name_list\n",
    "    save_df = save_df.merge(result,on=['S_INFO_WINDCODE','TRADE_DT'],how='outer')\n",
    "    save_df.to_csv('D:/DWDB/AShareEODPrices.csv',index=False)\n",
    "    print(year,'Finish')\n",
    "\n",
    "db1.close"
   ]
  },
  {
   "cell_type": "code",
   "execution_count": null,
   "metadata": {},
   "outputs": [],
   "source": [
    "'''\n",
    "wind.AShareEODDerivativeIndicator 每日估值指标数据\n",
    "'''"
   ]
  },
  {
   "cell_type": "code",
   "execution_count": 4,
   "metadata": {},
   "outputs": [
    {
     "name": "stdout",
     "output_type": "stream",
     "text": [
      "2018 Finish\n",
      "2019 Finish\n"
     ]
    },
    {
     "data": {
      "text/plain": [
       "<function Connection.close>"
      ]
     },
     "execution_count": 4,
     "metadata": {},
     "output_type": "execute_result"
    }
   ],
   "source": [
    "os.environ['NLS_LANG']='SIMPLIFIED CHINESE_CHINA.UTF8'\n",
    "dwzx_oracle_ip = '222.92.214.61'\n",
    "dwzx_oracle_port = 20001\n",
    "dwzx_oracle_SID = 'sidwdzx1'\n",
    "dsn_tns = cx_Oracle.makedsn(dwzx_oracle_ip, dwzx_oracle_port, dwzx_oracle_SID)\n",
    "db1 = cx_Oracle.connect('sjcj','dwzqsjcj',dsn_tns )\n",
    "cursor=db1.cursor()\n",
    "\n",
    "save_df = pd.DataFrame(columns=['S_INFO_WINDCODE','TRADE_DT'])\n",
    "year_list = range(2018,2020)\n",
    "for cnt in range(len(year_list)):\n",
    "    year = year_list[cnt]\n",
    "    start = str(year)+'0101'\n",
    "    end = str(year)+'1231'\n",
    "    SQL = \"select * from wind.AShareEODDerivativeIndicator where trade_dt>=\"+start+\" and trade_dt<=\"+end\n",
    "    cursor.execute(SQL)\n",
    "    col_name_list = [i[0] for i in cursor.description]\n",
    "    row = cursor.fetchall()\n",
    "    result = pd.DataFrame(row)\n",
    "    if len(result) == 0:\n",
    "        print(year,'NoData')\n",
    "        continue\n",
    "    result.columns = col_name_list\n",
    "    save_df = save_df.merge(result,on=['S_INFO_WINDCODE','TRADE_DT'],how='outer')\n",
    "    save_df.to_csv('D:/DWDB/AShareEODDerivativeIndicator.csv',index=False)\n",
    "    print(year,'Finish')\n",
    "\n",
    "db1.close"
   ]
  },
  {
   "cell_type": "code",
   "execution_count": null,
   "metadata": {},
   "outputs": [],
   "source": [
    "'''\n",
    "wind.AShareL2Indicators level2行情指标\n",
    "'''"
   ]
  },
  {
   "cell_type": "code",
   "execution_count": 8,
   "metadata": {},
   "outputs": [
    {
     "name": "stdout",
     "output_type": "stream",
     "text": [
      "2019 Finish\n"
     ]
    },
    {
     "data": {
      "text/plain": [
       "<function Connection.close>"
      ]
     },
     "execution_count": 8,
     "metadata": {},
     "output_type": "execute_result"
    }
   ],
   "source": [
    "os.environ['NLS_LANG']='SIMPLIFIED CHINESE_CHINA.UTF8'\n",
    "dwzx_oracle_ip = '222.92.214.61'\n",
    "dwzx_oracle_port = 20001\n",
    "dwzx_oracle_SID = 'sidwdzx1'\n",
    "dsn_tns = cx_Oracle.makedsn(dwzx_oracle_ip, dwzx_oracle_port, dwzx_oracle_SID)\n",
    "db1 = cx_Oracle.connect('sjcj','dwzqsjcj',dsn_tns )\n",
    "cursor=db1.cursor()\n",
    "\n",
    "save_df = pd.DataFrame(columns=['S_INFO_WINDCODE','TRADE_DT'])\n",
    "year_list = range(2019,2020)\n",
    "for cnt in range(len(year_list)):\n",
    "    year = year_list[cnt]\n",
    "    start = str(year)+'0101'\n",
    "    end = str(year)+'1231'\n",
    "    SQL = \"select * from wind.AShareL2Indicators where trade_dt>=\"+start+\" and trade_dt<=\"+end\n",
    "    cursor.execute(SQL)\n",
    "    col_name_list = [i[0] for i in cursor.description]\n",
    "    row = cursor.fetchall()\n",
    "    result = pd.DataFrame(row)\n",
    "    if len(result) == 0:\n",
    "        print(year,'NoData')\n",
    "        continue\n",
    "    result.columns = col_name_list\n",
    "    save_df = save_df.merge(result,on=['S_INFO_WINDCODE','TRADE_DT'],how='outer')\n",
    "    save_df.to_csv('D:/DWDB/AShareL2Indicators.csv',index=False)\n",
    "    print(year,'Finish')\n",
    "\n",
    "db1.close"
   ]
  },
  {
   "cell_type": "code",
   "execution_count": null,
   "metadata": {},
   "outputs": [],
   "source": [
    "'''\n",
    "wind.AShareL2Indicators 停牌信息\n",
    "'''"
   ]
  },
  {
   "cell_type": "code",
   "execution_count": 9,
   "metadata": {},
   "outputs": [
    {
     "ename": "DatabaseError",
     "evalue": "ORA-00904: \"TRADE_DT\": 标识符无效",
     "output_type": "error",
     "traceback": [
      "\u001b[1;31m---------------------------------------------------------------------------\u001b[0m",
      "\u001b[1;31mDatabaseError\u001b[0m                             Traceback (most recent call last)",
      "\u001b[1;32m<ipython-input-9-55bb38882329>\u001b[0m in \u001b[0;36m<module>\u001b[1;34m()\u001b[0m\n\u001b[0;32m     14\u001b[0m     \u001b[0mend\u001b[0m \u001b[1;33m=\u001b[0m \u001b[0mstr\u001b[0m\u001b[1;33m(\u001b[0m\u001b[0myear\u001b[0m\u001b[1;33m)\u001b[0m\u001b[1;33m+\u001b[0m\u001b[1;34m'1231'\u001b[0m\u001b[1;33m\u001b[0m\u001b[0m\n\u001b[0;32m     15\u001b[0m     \u001b[0mSQL\u001b[0m \u001b[1;33m=\u001b[0m \u001b[1;34m\"select * from wind.AShareTradingSuspension where trade_dt>=\"\u001b[0m\u001b[1;33m+\u001b[0m\u001b[0mstart\u001b[0m\u001b[1;33m+\u001b[0m\u001b[1;34m\" and trade_dt<=\"\u001b[0m\u001b[1;33m+\u001b[0m\u001b[0mend\u001b[0m\u001b[1;33m\u001b[0m\u001b[0m\n\u001b[1;32m---> 16\u001b[1;33m     \u001b[0mcursor\u001b[0m\u001b[1;33m.\u001b[0m\u001b[0mexecute\u001b[0m\u001b[1;33m(\u001b[0m\u001b[0mSQL\u001b[0m\u001b[1;33m)\u001b[0m\u001b[1;33m\u001b[0m\u001b[0m\n\u001b[0m\u001b[0;32m     17\u001b[0m     \u001b[0mcol_name_list\u001b[0m \u001b[1;33m=\u001b[0m \u001b[1;33m[\u001b[0m\u001b[0mi\u001b[0m\u001b[1;33m[\u001b[0m\u001b[1;36m0\u001b[0m\u001b[1;33m]\u001b[0m \u001b[1;32mfor\u001b[0m \u001b[0mi\u001b[0m \u001b[1;32min\u001b[0m \u001b[0mcursor\u001b[0m\u001b[1;33m.\u001b[0m\u001b[0mdescription\u001b[0m\u001b[1;33m]\u001b[0m\u001b[1;33m\u001b[0m\u001b[0m\n\u001b[0;32m     18\u001b[0m     \u001b[0mrow\u001b[0m \u001b[1;33m=\u001b[0m \u001b[0mcursor\u001b[0m\u001b[1;33m.\u001b[0m\u001b[0mfetchall\u001b[0m\u001b[1;33m(\u001b[0m\u001b[1;33m)\u001b[0m\u001b[1;33m\u001b[0m\u001b[0m\n",
      "\u001b[1;31mDatabaseError\u001b[0m: ORA-00904: \"TRADE_DT\": 标识符无效"
     ]
    }
   ],
   "source": [
    "os.environ['NLS_LANG']='SIMPLIFIED CHINESE_CHINA.UTF8'\n",
    "dwzx_oracle_ip = '222.92.214.61'\n",
    "dwzx_oracle_port = 20001\n",
    "dwzx_oracle_SID = 'sidwdzx1'\n",
    "dsn_tns = cx_Oracle.makedsn(dwzx_oracle_ip, dwzx_oracle_port, dwzx_oracle_SID)\n",
    "db1 = cx_Oracle.connect('sjcj','dwzqsjcj',dsn_tns )\n",
    "cursor=db1.cursor()\n",
    "\n",
    "save_df = pd.DataFrame(columns=['S_INFO_WINDCODE','TRADE_DT'])\n",
    "year_list = range(2005,2020)\n",
    "for cnt in range(len(year_list)):\n",
    "    year = year_list[cnt]\n",
    "    start = str(year)+'0101'\n",
    "    end = str(year)+'1231'\n",
    "    SQL = \"select * from wind.AShareTradingSuspension where trade_dt>=\"+start+\" and trade_dt<=\"+end\n",
    "    cursor.execute(SQL)\n",
    "    col_name_list = [i[0] for i in cursor.description]\n",
    "    row = cursor.fetchall()\n",
    "    result = pd.DataFrame(row)\n",
    "    if len(result) == 0:\n",
    "        print(year,'NoData')\n",
    "        continue\n",
    "    result.columns = col_name_list\n",
    "    save_df = save_df.merge(result,on=['S_INFO_WINDCODE','TRADE_DT'],how='outer')\n",
    "    save_df.to_csv('D:/DWDB/AShareTradingSuspension.csv',index=False)\n",
    "    print(year,'Finish')\n",
    "\n",
    "db1.close"
   ]
  },
  {
   "cell_type": "code",
   "execution_count": null,
   "metadata": {},
   "outputs": [],
   "source": []
  }
 ],
 "metadata": {
  "kernelspec": {
   "display_name": "Python 3",
   "language": "python",
   "name": "python3"
  },
  "language_info": {
   "codemirror_mode": {
    "name": "ipython",
    "version": 3
   },
   "file_extension": ".py",
   "mimetype": "text/x-python",
   "name": "python",
   "nbconvert_exporter": "python",
   "pygments_lexer": "ipython3",
   "version": "3.6.5"
  }
 },
 "nbformat": 4,
 "nbformat_minor": 2
}
