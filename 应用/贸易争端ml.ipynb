{
 "cells": [
  {
   "cell_type": "code",
   "execution_count": 17,
   "metadata": {},
   "outputs": [],
   "source": [
    "import pandas as pd\n",
    "import numpy as np\n",
    "from sklearn import svm\n",
    "import sklearn\n",
    "from sklearn.model_selection import train_test_split\n",
    "from sklearn.feature_extraction import DictVectorizer\n",
    "from sklearn.metrics import classification_report\n",
    "from sklearn import preprocessing"
   ]
  },
  {
   "cell_type": "code",
   "execution_count": 69,
   "metadata": {
    "scrolled": true
   },
   "outputs": [],
   "source": [
    "df = pd.read_csv('C:/Users/jxjsj/Desktop/p.csv',header = 0)"
   ]
  },
  {
   "cell_type": "code",
   "execution_count": 70,
   "metadata": {
    "scrolled": true
   },
   "outputs": [],
   "source": [
    "df = df.dropna(how = 'any')"
   ]
  },
  {
   "cell_type": "code",
   "execution_count": 71,
   "metadata": {},
   "outputs": [],
   "source": [
    "y = df.iloc[:,2]\n",
    "yc = df.iloc[:,3]"
   ]
  },
  {
   "cell_type": "code",
   "execution_count": 72,
   "metadata": {},
   "outputs": [],
   "source": [
    "x = pd.concat([df.iloc[:,0:2],df.iloc[:,4::]],axis = 1)"
   ]
  },
  {
   "cell_type": "code",
   "execution_count": 73,
   "metadata": {},
   "outputs": [],
   "source": [
    "x_temp = x.iloc[:,2::]\n",
    "x_year = x.iloc[:,1]"
   ]
  },
  {
   "cell_type": "code",
   "execution_count": 74,
   "metadata": {},
   "outputs": [],
   "source": [
    "for i in x_temp.columns:\n",
    "    x_temp[i] = x_temp[i].apply(lambda x: (x-x_temp[i].min())/(x_temp[i].max()-x_temp[i].min()))"
   ]
  },
  {
   "cell_type": "code",
   "execution_count": 76,
   "metadata": {
    "scrolled": true
   },
   "outputs": [],
   "source": [
    "x_country = pd.get_dummies(x['Country'])"
   ]
  },
  {
   "cell_type": "code",
   "execution_count": 78,
   "metadata": {},
   "outputs": [],
   "source": [
    "X = pd.concat([x_country,x_year,x_temp],axis=1)"
   ]
  },
  {
   "cell_type": "code",
   "execution_count": 80,
   "metadata": {},
   "outputs": [
    {
     "name": "stderr",
     "output_type": "stream",
     "text": [
      "D:\\Anaconda3\\lib\\site-packages\\sklearn\\model_selection\\_split.py:2179: FutureWarning: From version 0.21, test_size will always complement train_size unless both are specified.\n",
      "  FutureWarning)\n"
     ]
    }
   ],
   "source": [
    "x_train, x_test, y_train, y_test = sklearn.model_selection.train_test_split(X , y, random_state=1, train_size=0.9) #随机划分训练集与验证集的函数"
   ]
  },
  {
   "cell_type": "code",
   "execution_count": 83,
   "metadata": {},
   "outputs": [
    {
     "name": "stdout",
     "output_type": "stream",
     "text": [
      "trainAccracy: 0.725258493353028\n",
      "              precision    recall  f1-score   support\n",
      "\n",
      "           0       0.86      0.74      0.80       491\n",
      "           1       0.50      0.69      0.58       186\n",
      "\n",
      "   micro avg       0.73      0.73      0.73       677\n",
      "   macro avg       0.68      0.72      0.69       677\n",
      "weighted avg       0.76      0.73      0.74       677\n",
      "\n",
      "testAccracy: 0.631578947368421\n",
      "              precision    recall  f1-score   support\n",
      "\n",
      "           0       0.92      0.58      0.71        60\n",
      "           1       0.34      0.81      0.48        16\n",
      "\n",
      "   micro avg       0.63      0.63      0.63        76\n",
      "   macro avg       0.63      0.70      0.60        76\n",
      "weighted avg       0.80      0.63      0.67        76\n",
      "\n"
     ]
    }
   ],
   "source": [
    "clf = svm.SVC(kernel='linear', decision_function_shape='ovr',class_weight = \"balanced\") # 线性核函数 \n",
    "clf.fit(x_train,y_train)\n",
    "\n",
    "# 运用原非平衡样本-评估\n",
    "y_train_predict = clf.predict(x_train)\n",
    "y_test_predict = clf.predict(x_test)\n",
    "\n",
    "print('trainAccracy:',clf.score(x_train,y_train))\n",
    "print(classification_report(y_train,y_train_predict)) #真实数据在前 训练结果在后！\n",
    "print('testAccracy:',clf.score(x_test,y_test))\n",
    "print(classification_report(y_test,y_test_predict))"
   ]
  },
  {
   "cell_type": "code",
   "execution_count": 87,
   "metadata": {
    "scrolled": true
   },
   "outputs": [
    {
     "name": "stdout",
     "output_type": "stream",
     "text": [
      "trainAccracy: 0.725258493353028\n",
      "              precision    recall  f1-score   support\n",
      "\n",
      "           0       0.73      1.00      0.84       491\n",
      "           1       0.00      0.00      0.00       186\n",
      "\n",
      "   micro avg       0.73      0.73      0.73       677\n",
      "   macro avg       0.36      0.50      0.42       677\n",
      "weighted avg       0.53      0.73      0.61       677\n",
      "\n",
      "testAccracy: 0.7894736842105263\n",
      "              precision    recall  f1-score   support\n",
      "\n",
      "           0       0.79      1.00      0.88        60\n",
      "           1       0.00      0.00      0.00        16\n",
      "\n",
      "   micro avg       0.79      0.79      0.79        76\n",
      "   macro avg       0.39      0.50      0.44        76\n",
      "weighted avg       0.62      0.79      0.70        76\n",
      "\n"
     ]
    },
    {
     "name": "stderr",
     "output_type": "stream",
     "text": [
      "D:\\Anaconda3\\lib\\site-packages\\sklearn\\metrics\\classification.py:1143: UndefinedMetricWarning: Precision and F-score are ill-defined and being set to 0.0 in labels with no predicted samples.\n",
      "  'precision', 'predicted', average, warn_for)\n",
      "D:\\Anaconda3\\lib\\site-packages\\sklearn\\metrics\\classification.py:1143: UndefinedMetricWarning: Precision and F-score are ill-defined and being set to 0.0 in labels with no predicted samples.\n",
      "  'precision', 'predicted', average, warn_for)\n"
     ]
    }
   ],
   "source": [
    "# 运用原非平衡样本-训练\n",
    "from sklearn.neural_network import MLPClassifier\n",
    "clf = MLPClassifier(activation='tanh', \n",
    "                    solver='lbfgs',\n",
    "                    alpha=1e-5,\n",
    "                    hidden_layer_sizes=(len(x_train.columns)*2+1,),\n",
    "                    random_state=1, \n",
    "                   )\n",
    "clf.fit(x_train,y_train)\n",
    "\n",
    "# 运用原非平衡样本-评估\n",
    "y_train_predict = clf.predict(x_train)\n",
    "y_test_predict = clf.predict(x_test)\n",
    "\n",
    "print('trainAccracy:',clf.score(x_train,y_train))\n",
    "print(classification_report(y_train,y_train_predict)) #真实数据在前 训练结果在后！\n",
    "print('testAccracy:',clf.score(x_test,y_test))\n",
    "print(classification_report(y_test,y_test_predict))"
   ]
  },
  {
   "cell_type": "code",
   "execution_count": 88,
   "metadata": {
    "scrolled": true
   },
   "outputs": [
    {
     "name": "stdout",
     "output_type": "stream",
     "text": [
      "trainAccracy: 1.0\n",
      "              precision    recall  f1-score   support\n",
      "\n",
      "           0       1.00      1.00      1.00       491\n",
      "           1       1.00      1.00      1.00       186\n",
      "\n",
      "   micro avg       1.00      1.00      1.00       677\n",
      "   macro avg       1.00      1.00      1.00       677\n",
      "weighted avg       1.00      1.00      1.00       677\n",
      "\n",
      "testAccracy: 0.7236842105263158\n",
      "              precision    recall  f1-score   support\n",
      "\n",
      "           0       0.87      0.77      0.81        60\n",
      "           1       0.39      0.56      0.46        16\n",
      "\n",
      "   micro avg       0.72      0.72      0.72        76\n",
      "   macro avg       0.63      0.66      0.64        76\n",
      "weighted avg       0.77      0.72      0.74        76\n",
      "\n"
     ]
    }
   ],
   "source": [
    "from sklearn import tree\n",
    "clf = tree.DecisionTreeClassifier(class_weight = \"balanced\")\n",
    "clf.fit(x_train,y_train)\n",
    "\n",
    "# 运用原非平衡样本-评估\n",
    "y_train_predict = clf.predict(x_train)\n",
    "y_test_predict = clf.predict(x_test)\n",
    "\n",
    "print('trainAccracy:',clf.score(x_train,y_train))\n",
    "print(classification_report(y_train,y_train_predict)) #真实数据在前 训练结果在后！\n",
    "print('testAccracy:',clf.score(x_test,y_test))\n",
    "print(classification_report(y_test,y_test_predict))"
   ]
  },
  {
   "cell_type": "code",
   "execution_count": 125,
   "metadata": {},
   "outputs": [
    {
     "name": "stdout",
     "output_type": "stream",
     "text": [
      "trainAccracy: 1.0\n",
      "              precision    recall  f1-score   support\n",
      "\n",
      "           0       1.00      1.00      1.00       491\n",
      "           1       1.00      1.00      1.00       186\n",
      "\n",
      "   micro avg       1.00      1.00      1.00       677\n",
      "   macro avg       1.00      1.00      1.00       677\n",
      "weighted avg       1.00      1.00      1.00       677\n",
      "\n",
      "testAccracy: 0.7894736842105263\n",
      "              precision    recall  f1-score   support\n",
      "\n",
      "           0       0.85      0.88      0.87        60\n",
      "           1       0.50      0.44      0.47        16\n",
      "\n",
      "   micro avg       0.79      0.79      0.79        76\n",
      "   macro avg       0.68      0.66      0.67        76\n",
      "weighted avg       0.78      0.79      0.78        76\n",
      "\n"
     ]
    }
   ],
   "source": [
    "from sklearn.ensemble import RandomForestClassifier\n",
    "# 训练随机森林，子属性集属性个数 log2底d，d为特征数\n",
    "blobEvaluation = RandomForestClassifier(n_estimators=len(x_train.columns)*2+1, \n",
    "                                        max_depth=None,\n",
    "                                        criterion='gini',\n",
    "                                        max_features=1,\n",
    "                                        class_weight = \"balanced\")\n",
    "blobEvaluation.fit(x_train, y_train)\n",
    "\n",
    "y_train_predict = blobEvaluation.predict(x_train)\n",
    "y_test_predict = blobEvaluation.predict(x_test)\n",
    "print('trainAccracy:',blobEvaluation.score(x_train,y_train))\n",
    "print(classification_report(y_train,y_train_predict))\n",
    "print('testAccracy:',blobEvaluation.score(x_test,y_test))\n",
    "print(classification_report(y_test,y_test_predict))"
   ]
  },
  {
   "cell_type": "code",
   "execution_count": 123,
   "metadata": {
    "scrolled": true
   },
   "outputs": [
    {
     "name": "stdout",
     "output_type": "stream",
     "text": [
      "trainAccracy: 0.725258493353028\n",
      "              precision    recall  f1-score   support\n",
      "\n",
      "           0       0.73      1.00      0.84       491\n",
      "           1       0.00      0.00      0.00       186\n",
      "\n",
      "   micro avg       0.73      0.73      0.73       677\n",
      "   macro avg       0.36      0.50      0.42       677\n",
      "weighted avg       0.53      0.73      0.61       677\n",
      "\n",
      "testAccracy: 0.7894736842105263\n",
      "              precision    recall  f1-score   support\n",
      "\n",
      "           0       0.79      1.00      0.88        60\n",
      "           1       0.00      0.00      0.00        16\n",
      "\n",
      "   micro avg       0.79      0.79      0.79        76\n",
      "   macro avg       0.39      0.50      0.44        76\n",
      "weighted avg       0.62      0.79      0.70        76\n",
      "\n"
     ]
    },
    {
     "name": "stderr",
     "output_type": "stream",
     "text": [
      "D:\\Anaconda3\\lib\\site-packages\\sklearn\\metrics\\classification.py:1143: UndefinedMetricWarning: Precision and F-score are ill-defined and being set to 0.0 in labels with no predicted samples.\n",
      "  'precision', 'predicted', average, warn_for)\n",
      "D:\\Anaconda3\\lib\\site-packages\\sklearn\\metrics\\classification.py:1143: UndefinedMetricWarning: Precision and F-score are ill-defined and being set to 0.0 in labels with no predicted samples.\n",
      "  'precision', 'predicted', average, warn_for)\n"
     ]
    }
   ],
   "source": [
    "from sklearn.ensemble import BaggingClassifier\n",
    "from sklearn.tree import DecisionTreeClassifier\n",
    "# 训练bagging，基学习器为决策树\n",
    "blobEvaluation = BaggingClassifier( base_estimator=DecisionTreeClassifier(class_weight = \"balanced\",\n",
    "                                                                          criterion='gini'), \n",
    "                                    n_estimators=1000, \n",
    "                                    max_samples=1, \n",
    "                                    max_features=0.9, \n",
    "                                    bootstrap=True, \n",
    "                                    bootstrap_features=False, \n",
    "                                    oob_score=False, \n",
    "                                    warm_start=False, \n",
    "                                    n_jobs=None, \n",
    "                                    random_state=1, \n",
    "                                    verbose=0)\n",
    "blobEvaluation.fit(x_train, y_train)\n",
    "y_train_predict = blobEvaluation.predict(x_train)\n",
    "y_test_predict = blobEvaluation.predict(x_test)\n",
    "print('trainAccracy:',blobEvaluation.score(x_train,y_train))\n",
    "print(classification_report(y_train,y_train_predict))\n",
    "print('testAccracy:',blobEvaluation.score(x_test,y_test))\n",
    "print(classification_report(y_test,y_test_predict))"
   ]
  },
  {
   "cell_type": "code",
   "execution_count": null,
   "metadata": {},
   "outputs": [],
   "source": []
  }
 ],
 "metadata": {
  "kernelspec": {
   "display_name": "Python 3",
   "language": "python",
   "name": "python3"
  },
  "language_info": {
   "codemirror_mode": {
    "name": "ipython",
    "version": 3
   },
   "file_extension": ".py",
   "mimetype": "text/x-python",
   "name": "python",
   "nbconvert_exporter": "python",
   "pygments_lexer": "ipython3",
   "version": "3.6.5"
  }
 },
 "nbformat": 4,
 "nbformat_minor": 2
}
