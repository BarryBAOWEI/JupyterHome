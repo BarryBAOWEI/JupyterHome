{
 "cells": [
  {
   "cell_type": "code",
   "execution_count": 1,
   "metadata": {},
   "outputs": [],
   "source": [
    "import pandas as pd\n",
    "from arch import arch_model\n",
    "# import jqdatasdk as jq\n",
    "import numpy as np\n",
    "import time,datetime\n",
    "import os\n",
    "import statsmodels.api as sm\n",
    "from arch import arch_model"
   ]
  },
  {
   "cell_type": "code",
   "execution_count": 228,
   "metadata": {},
   "outputs": [],
   "source": [
    "# jq.auth('13918852005','960312Lsc')\n",
    "# jq.auth('15821912507','912507')"
   ]
  },
  {
   "cell_type": "code",
   "execution_count": 40,
   "metadata": {
    "scrolled": true
   },
   "outputs": [],
   "source": [
    "# 引入日历效应哑变量 - 星期\n",
    "sample_df = pd.read_csv('E:/Stock_Data/stock_return_data/001896.XSHE.csv',index_col=0)\n",
    "trade_day_serises = list(sample_df.index)\n",
    "\n",
    "trade_day_df = pd.DataFrame(trade_day_serises)\n",
    "trade_day_df.columns = ['weekday']\n",
    "trade_day_df['weekday'] = trade_day_df['weekday'].apply(lambda x : datetime.datetime.strptime(x, \"%Y-%m-%d\").weekday()+1)\n",
    "\n",
    "dummy_df = pd.get_dummies(trade_day_df['weekday'])\n",
    "dummy_df = dummy_df[[1,2,3,4,5]]\n",
    "dummy_df.index = sample_df.index"
   ]
  },
  {
   "cell_type": "code",
   "execution_count": 43,
   "metadata": {
    "scrolled": true
   },
   "outputs": [],
   "source": [
    "# 引入日历效应变量 - 假日\n",
    "sample_df = pd.read_csv('E:/Stock_Data/stock_return_data/001896.XSHE.csv',index_col=0)\n",
    "trade_day_serises = list(sample_df.index)\n",
    "\n",
    "trade_day_df = pd.DataFrame(trade_day_serises)\n",
    "trade_day_df.columns = ['holiday']\n",
    "trade_day_df['holiday'] = trade_day_df['holiday'].apply(lambda x : datetime.datetime.strptime(x, \"%Y-%m-%d\"))\n",
    "trade_day_df['holiday_1'] = trade_day_df['holiday'].shift(1)\n",
    "\n",
    "trade_day_df['holiday'] = trade_day_df['holiday'] - trade_day_df['holiday_1']\n",
    "trade_day_df = trade_day_df.fillna(1)\n",
    "trade_day_df['holiday'] = trade_day_df['holiday'].apply(lambda x : int(str(x)[:2]))\n",
    "trade_day_df.iloc[0,0] = 1\n",
    "\n",
    "holiday_df = trade_day_df[['holiday']]\n",
    "holiday_df.index = sample_df.index"
   ]
  },
  {
   "cell_type": "raw",
   "metadata": {},
   "source": [
    "Following French, Gibbons and Hess, and Keim and Stambaugh, we construct\n",
    "a test for differences in mean return across the days of the week by computing\n",
    "the following regression for each country index:\n",
    "rt = aidit + a2d2t + ... + a6d6t + ut"
   ]
  },
  {
   "cell_type": "code",
   "execution_count": 18,
   "metadata": {},
   "outputs": [],
   "source": [
    "# 无风险利率\n",
    "rf = pd.read_csv('E:/Stock_Data/rf.csv',index_col=0)"
   ]
  },
  {
   "cell_type": "code",
   "execution_count": 42,
   "metadata": {
    "scrolled": false
   },
   "outputs": [
    {
     "name": "stdout",
     "output_type": "stream",
     "text": [
      "指数 SZCZ \n",
      "系数 {1: '-0.000901', 2: '0.000831', 3: '0.000051', 4: '-0.002226', 5: '0.000183'} \n",
      "P值 {1: '0.284369', 2: '0.314914', 3: '0.950908', 4: '0.006994', 5: '0.825185'} \n",
      "F统计量P值 0.082455\n",
      "指数 SZZS \n",
      "系数 {1: '-0.000344', 2: '0.000546', 3: '0.000095', 4: '-0.001814', 5: '0.000569'} \n",
      "P值 {1: '0.628359', 2: '0.434235', 3: '0.891158', 4: '0.009211', 5: '0.415068'} \n",
      "F统计量P值 0.093653\n",
      "指数 CYBZ \n",
      "系数 {1: '0.000203', 2: '0.000966', 3: '0.000683', 4: '-0.002405', 5: '0.000172'} \n",
      "P值 {1: '0.844184', 2: '0.339700', 3: '0.496462', 4: '0.017264', 5: '0.865276'} \n",
      "F统计量P值 0.131619\n"
     ]
    }
   ],
   "source": [
    "# 指数角度检验 - 周历效应 - 全时段\n",
    "\n",
    "index_save_dct = {1:0,2:0,3:0,4:0,5:0}\n",
    "index_p_save_dct = {1:0,2:0,3:0,4:0,5:0}\n",
    "for index_file in ['SZCZ_lnr_rv_w_m_ntd_080101-','SZZS_lnr_rv_w_m_ntd_080101-','CYBZ_lnr_rv_w_m_ntd_100601-']:\n",
    "    index_df = pd.read_csv('C:/Users/jxjsj/Desktop/JupyterHome/Data/'+index_file+'190131adj.csv',index_col=0)\n",
    "# index_df = pd.read_csv('C:/Users/jxjsj/Desktop/JupyterHome/Data/SZCZ_lnr_rv_w_m_ntd_080101-190131adj.csv',index_col=0)\n",
    "# index_df = pd.read_csv('C:/Users/jxjsj/Desktop/JupyterHome/Data/SZZS_lnr_rv_w_m_ntd_080101-190131adj.csv',index_col=0)\n",
    "# index_df = pd.read_csv('C:/Users/jxjsj/Desktop/JupyterHome/Data/CYBZ_lnr_rv_w_m_ntd_100601-190131adj.csv',index_col=0)\n",
    "\n",
    "    index_df = index_df[index_df.index>'2011-01-04']\n",
    "    index_df = index_df[index_df.index<'2018-12-28']\n",
    "    X = dummy_df.iloc[:1943,:]\n",
    "    y = index_df[['lnR']]\n",
    "    \n",
    "    # 是否使用超额收益率\n",
    "    y.columns = ['return']\n",
    "    y = y - rf\n",
    "\n",
    "    # 用OLS\n",
    "#     X = sm.add_constant(X)\n",
    "    est = sm.OLS(y,X)\n",
    "    result = est.fit()\n",
    "    for i in range(5):\n",
    "        index_save_dct[i+1] = '%.6f' %list(result.params)[i]\n",
    "    for i in range(5):\n",
    "        index_p_save_dct[i+1] = '%.6f' %list(result.pvalues)[i]\n",
    "    f_p = '%.6f' %result.f_pvalue\n",
    "    print('指数',index_file[:4],'\\n系数',index_save_dct,'\\nP值',index_p_save_dct,'\\nF统计量P值',f_p)\n",
    "\n",
    "    # 用arch\n",
    "    # reg = arch_model(y, x=X, mean='ARX', lags=0, vol='Garch', p=1, o=0, q=1, power=1, dist='ged', hold_back=None)\n",
    "    # result = reg.fit()\n",
    "    # result.summary()"
   ]
  },
  {
   "cell_type": "code",
   "execution_count": 11,
   "metadata": {
    "scrolled": true
   },
   "outputs": [
    {
     "name": "stdout",
     "output_type": "stream",
     "text": [
      "                            OLS Regression Results                            \n",
      "==============================================================================\n",
      "Dep. Variable:                 return   R-squared:                       0.000\n",
      "Model:                            OLS   Adj. R-squared:                 -0.002\n",
      "Method:                 Least Squares   F-statistic:                   0.01316\n",
      "Date:                Tue, 02 Apr 2019   Prob (F-statistic):               1.00\n",
      "Time:                        13:37:53   Log-Likelihood:                 18174.\n",
      "No. Observations:                1943   AIC:                        -3.634e+04\n",
      "Df Residuals:                    1938   BIC:                        -3.631e+04\n",
      "Df Model:                           4                                         \n",
      "Covariance Type:            nonrobust                                         \n",
      "==============================================================================\n",
      "                 coef    std err          t      P>|t|      [0.025      0.975]\n",
      "------------------------------------------------------------------------------\n",
      "1              0.0001   1.08e-06    109.279      0.000       0.000       0.000\n",
      "2              0.0001   1.06e-06    111.265      0.000       0.000       0.000\n",
      "3              0.0001   1.06e-06    111.978      0.000       0.000       0.000\n",
      "4              0.0001   1.06e-06    111.448      0.000       0.000       0.000\n",
      "5              0.0001   1.06e-06    111.273      0.000       0.000       0.000\n",
      "==============================================================================\n",
      "Omnibus:                       92.828   Durbin-Watson:                   0.022\n",
      "Prob(Omnibus):                  0.000   Jarque-Bera (JB):               38.255\n",
      "Skew:                           0.042   Prob(JB):                     4.93e-09\n",
      "Kurtosis:                       2.318   Cond. No.                         1.03\n",
      "==============================================================================\n",
      "\n",
      "Warnings:\n",
      "[1] Standard Errors assume that the covariance matrix of the errors is correctly specified.\n"
     ]
    }
   ],
   "source": [
    "# 检验日历效应是否来自于rf\n",
    "est = sm.OLS(rf,X)\n",
    "result = est.fit()\n",
    "print(result.summary())"
   ]
  },
  {
   "cell_type": "code",
   "execution_count": 34,
   "metadata": {
    "scrolled": true
   },
   "outputs": [
    {
     "name": "stdout",
     "output_type": "stream",
     "text": [
      "时段 1 指数 SZCZ \n",
      "系数 {1: '-0.001568', 2: '-0.000031', 3: '0.000985', 4: '-0.002653', 5: '0.001721'} \n",
      "P值 {1: '0.119230', 2: '0.974694', 3: '0.318687', 4: '0.007169', 5: '0.080801'} \n",
      "F统计量P值 0.010314 \n",
      "\n",
      "时段 1 指数 SZZS \n",
      "系数 {1: '-0.000623', 2: '-0.000036', 3: '0.000820', 4: '-0.001988', 5: '0.001719'} \n",
      "P值 {1: '0.445978', 2: '0.964626', 3: '0.307350', 4: '0.013214', 5: '0.032056'} \n",
      "F统计量P值 0.015061 \n",
      "\n",
      "时段 1 指数 CYBZ \n",
      "系数 {1: '0.000769', 2: '-0.000992', 3: '0.002217', 4: '-0.002967', 5: '0.001577'} \n",
      "P值 {1: '0.552810', 2: '0.438329', 3: '0.081706', 4: '0.019614', 5: '0.214374'} \n",
      "F统计量P值 0.027640 \n",
      "\n",
      "时段 2 指数 SZCZ \n",
      "系数 {1: '-0.000303', 2: '0.001545', 3: '0.001143', 4: '-0.001676', 5: '0.000204'} \n",
      "P值 {1: '0.857609', 2: '0.348105', 3: '0.487470', 4: '0.315404', 5: '0.903453'} \n",
      "F统计量P值 0.671776 \n",
      "\n",
      "时段 2 指数 SZZS \n",
      "系数 {1: '0.000328', 2: '0.001040', 3: '0.001103', 4: '-0.001094', 5: '0.000649'} \n",
      "P值 {1: '0.825425', 2: '0.473805', 3: '0.447676', 4: '0.457419', 5: '0.661326'} \n",
      "F统计量P值 0.828275 \n",
      "\n",
      "时段 2 指数 CYBZ \n",
      "系数 {1: '-0.000280', 2: '0.003184', 3: '0.001527', 4: '-0.002036', 5: '-0.000292'} \n",
      "P值 {1: '0.890033', 2: '0.107047', 3: '0.439398', 4: '0.308946', 5: '0.884825'} \n",
      "F统计量P值 0.402877 \n",
      "\n",
      "时段 3 指数 SZCZ \n",
      "系数 {1: '-0.000705', 2: '0.002048', 3: '-0.001624', 4: '-0.002838', 5: '-0.001257'} \n",
      "P值 {1: '0.567920', 2: '0.089195', 3: '0.173373', 4: '0.018632', 5: '0.296538'} \n",
      "F统计量P值 0.060324 \n",
      "\n",
      "时段 3 指数 SZZS \n",
      "系数 {1: '-0.000641', 2: '0.001660', 3: '-0.001149', 4: '-0.002438', 5: '-0.000390'} \n",
      "P值 {1: '0.510261', 2: '0.081073', 3: '0.222164', 4: '0.010494', 5: '0.681944'} \n",
      "F统计量P值 0.045081 \n",
      "\n",
      "时段 3 指数 CYBZ \n",
      "系数 {1: '-0.000875', 2: '0.002165', 3: '-0.001850', 4: '-0.003179', 5: '-0.002106'} \n",
      "P值 {1: '0.546554', 2: '0.126499', 3: '0.187023', 4: '0.024991', 5: '0.137077'} \n",
      "F统计量P值 0.082917 \n",
      "\n"
     ]
    }
   ],
   "source": [
    "# 指数角度检验 - 周历效应 - 分时段\n",
    "\n",
    "for time in range(3):\n",
    "    \n",
    "    if time ==0:\n",
    "        start = '2011-01-04'\n",
    "        end = '2014-12-31'\n",
    "    if time ==1:\n",
    "        start = '2013-12-31'\n",
    "        end = '2016-12-31'\n",
    "    if time ==2:\n",
    "        start = '2015-12-31'\n",
    "        end = '2018-12-31'\n",
    "#     if time ==3:\n",
    "#         start = '2014-01-01'\n",
    "#         end = '2017-12-31'\n",
    "#     if time ==4:\n",
    "#         start = '2015-01-01'\n",
    "#         end = '2018-12-31'\n",
    "    \n",
    "    index_save_dct = {1:0,2:0,3:0,4:0,5:0}\n",
    "    index_p_save_dct = {1:0,2:0,3:0,4:0,5:0}\n",
    "    for index_file in ['SZCZ_lnr_rv_w_m_ntd_080101-','SZZS_lnr_rv_w_m_ntd_080101-','CYBZ_lnr_rv_w_m_ntd_100601-']:\n",
    "        index_df = pd.read_csv('C:/Users/jxjsj/Desktop/JupyterHome/Data/'+index_file+'190131adj.csv',index_col=0)\n",
    "\n",
    "        index_df = index_df[index_df.index>start]\n",
    "        index_df = index_df[index_df.index<end]\n",
    "        X = dummy_df[dummy_df.index>start]\n",
    "        X = X[X.index<end]\n",
    "        y = index_df[['lnR']]\n",
    "\n",
    "        # 用OLS\n",
    "        # 是否使用超额收益率\n",
    "        temp_y = pd.merge(y,rf,left_index=True,right_index=True,how='left').fillna(rf.mean())\n",
    "        y = temp_y['lnR']-temp_y['return']\n",
    "\n",
    "        est = sm.OLS(y,X)\n",
    "        result = est.fit()\n",
    "        for i in range(5):\n",
    "            index_save_dct[i+1] = '%.6f' %list(result.params)[i]\n",
    "        for i in range(5):\n",
    "            index_p_save_dct[i+1] = '%.6f' %list(result.pvalues)[i]\n",
    "        f_p = '%.6f' %result.f_pvalue\n",
    "        print('时段',time+1,'指数',index_file[:4],'\\n系数',index_save_dct,'\\nP值',index_p_save_dct,'\\nF统计量P值',f_p,'\\n')"
   ]
  },
  {
   "cell_type": "code",
   "execution_count": 44,
   "metadata": {},
   "outputs": [
    {
     "name": "stdout",
     "output_type": "stream",
     "text": [
      "指数 SZCZ \n",
      "系数 {1: '-0.000075'} \n",
      "P值 {1: '0.819277'} \n",
      "F统计量P值 0.819277\n",
      "指数 SZZS \n",
      "系数 {1: '0.000046'} \n",
      "P值 {1: '0.869852'} \n",
      "F统计量P值 0.869852\n",
      "指数 CYBZ \n",
      "系数 {1: '0.000555'} \n",
      "P值 {1: '0.169069'} \n",
      "F统计量P值 0.169069\n"
     ]
    }
   ],
   "source": [
    "# 指数角度检验 - 假日效应 - 全时段\n",
    "\n",
    "index_save_dct = {1:0}\n",
    "index_p_save_dct = {1:0}\n",
    "for index_file in ['SZCZ_lnr_rv_w_m_ntd_080101-','SZZS_lnr_rv_w_m_ntd_080101-','CYBZ_lnr_rv_w_m_ntd_100601-']:\n",
    "    index_df = pd.read_csv('C:/Users/jxjsj/Desktop/JupyterHome/Data/'+index_file+'190131adj.csv',index_col=0)\n",
    "# index_df = pd.read_csv('C:/Users/jxjsj/Desktop/JupyterHome/Data/SZCZ_lnr_rv_w_m_ntd_080101-190131adj.csv',index_col=0)\n",
    "# index_df = pd.read_csv('C:/Users/jxjsj/Desktop/JupyterHome/Data/SZZS_lnr_rv_w_m_ntd_080101-190131adj.csv',index_col=0)\n",
    "# index_df = pd.read_csv('C:/Users/jxjsj/Desktop/JupyterHome/Data/CYBZ_lnr_rv_w_m_ntd_100601-190131adj.csv',index_col=0)\n",
    "\n",
    "    index_df = index_df[index_df.index>'2011-01-04']\n",
    "    index_df = index_df[index_df.index<'2018-12-28']\n",
    "    X = holiday_df.iloc[:1943,:]\n",
    "    y = index_df[['lnR']]\n",
    "    \n",
    "    # 是否使用超额收益率\n",
    "    y.columns = ['return']\n",
    "    y = y - rf\n",
    "\n",
    "    # 用OLS\n",
    "    X = sm.add_constant(X)\n",
    "    est = sm.OLS(y,X)\n",
    "    result = est.fit()\n",
    "    index_save_dct[1] = '%.6f' %list(result.params)[1]\n",
    "    index_p_save_dct[1] = '%.6f' %list(result.pvalues)[1]\n",
    "    f_p = '%.6f' %result.f_pvalue\n",
    "    print('指数',index_file[:4],'\\n系数',index_save_dct,'\\nP值',index_p_save_dct,'\\nF统计量P值',f_p)\n",
    "\n",
    "    # 用arch\n",
    "    # reg = arch_model(y, x=X, mean='ARX', lags=0, vol='Garch', p=1, o=0, q=1, power=1, dist='ged', hold_back=None)\n",
    "    # result = reg.fit()\n",
    "    # result.summary()"
   ]
  },
  {
   "cell_type": "code",
   "execution_count": null,
   "metadata": {},
   "outputs": [],
   "source": []
  },
  {
   "cell_type": "code",
   "execution_count": 23,
   "metadata": {
    "scrolled": true
   },
   "outputs": [],
   "source": [
    "# 个股角度检验\n",
    "\n",
    "code_lst = os.listdir('E:/Stock_Data/stock_return_data')\n",
    "X = dummy_df.iloc[:1943,:] \n",
    "result_save_dct = {1:0,2:0,3:0,4:0,5:0}\n",
    "cnt = 0\n",
    "tol_sig = 0\n",
    "positive = {1:0,2:0,3:0,4:0,5:0}\n",
    "pvalue = {1:0,2:0,3:0,4:0,5:0}\n",
    "pvalue_pos = {1:0,2:0,3:0,4:0,5:0}\n",
    "f_pvalue = 0\n",
    "for code_csv in code_lst:\n",
    "    y_temp = pd.read_csv('E:/Stock_Data/stock_return_data/'+code_csv,index_col = 0)\n",
    "    if len(y_temp)<1943:\n",
    "        continue\n",
    "    y = y_temp.iloc[:1943,:]\n",
    "    \n",
    "    # 用OLS\n",
    "#     X = sm.add_constant(X)\n",
    "    # 是否使用超额收益率\n",
    "    y = y - rf\n",
    "\n",
    "    est = sm.OLS(y,X)\n",
    "    result = est.fit()\n",
    "    \n",
    "    # 统计专用\n",
    "    \n",
    "    # 显著结果统计(有显著性水平要求0.1)\n",
    "    for i in range(5):\n",
    "        if list(result.pvalues)[i]<0.05:\n",
    "            pvalue[i+1] += 1          \n",
    "    # 显著结果中正负统计(有显著性水平要求0.1)\n",
    "    for i in range(5):\n",
    "        if list(result.pvalues)[i]<0.05 and list(result.params)[i]>0:\n",
    "            pvalue_pos[i+1] += 1\n",
    "    \n",
    "    # 最显著结果统计(无显著性水平要求)\n",
    "    result_save_dct[np.argmin(list(result.pvalues))+1]+=1    \n",
    "    \n",
    "    # 正负统计-回归、其实就是样本均值\n",
    "    for i in range(5):\n",
    "        if list(result.params)[i]>0:\n",
    "            positive[i+1] += 1\n",
    "            \n",
    "    # F统计量显著统计\n",
    "    if result.f_pvalue < 0.1:\n",
    "        f_pvalue += 1\n",
    "                \n",
    "#     # 频率统计，周四为负\n",
    "#     y_Thu = y[X[4]==1]['return']\n",
    "#     y_Thu_std = y_Thu.std()\n",
    "#     Thu_neg += sum(y_Thu.apply(lambda x: 1 if x<-3*y_Thu_std else 0))\n",
    "#     Thu_pos += sum(y_Thu.apply(lambda x: 1 if x> 3*y_Thu_std else 0))\n",
    "#     # 频率统计，周一为正\n",
    "#     y_Mon = y[(X[2]==0) & (X[3]==0) & (X[4]==0) & (X[5]==0)]['return']\n",
    "#     y_Mon_std = y_Mon.std()\n",
    "#     Mon_pos += sum(y_Mon.apply(lambda x: 1 if x> 3*y_Mon_std else 0))\n",
    "#     Mon_neg += sum(y_Mon.apply(lambda x: 1 if x<-3*y_Mon_std else 0))\n",
    "    # 频率统计，平均数正负\n",
    "    \n",
    "    # 频率统计，周四小于周一\n",
    "#     y_Mon = y[(X[2]==0) & (X[3]==0) & (X[4]==0) & (X[5]==0) ]['return']\n",
    "#     y_Thu = y[X[4]==1]['return']\n",
    "#     y_delta = y_Thu - y_Mon\n",
    "#     Thu_lower_Mon += sum(y_delta.apply(lambda x: 1 if x<0 else 0))  \n",
    "    \n",
    "    # 用arch\n",
    "#     reg = arch_model(y, x=X, mean='ARX', lags=0, vol='Garch', p=1, o=0, q=1, power=1, dist='ged', hold_back=None)\n",
    "#     result = reg.fit()\n",
    "#     result_save_dct[np.argmin(list(result.pvalues[:5]))+1]+=1\n",
    "        \n",
    "    cnt += 1\n",
    "    tol_sig += list(result.pvalues)[4]"
   ]
  },
  {
   "cell_type": "code",
   "execution_count": 24,
   "metadata": {
    "scrolled": true
   },
   "outputs": [
    {
     "name": "stdout",
     "output_type": "stream",
     "text": [
      "显著结果统计 {1: 45, 2: 49, 3: 16, 4: 412, 5: 25} \n",
      "显著结果中正负统计 {1: 9, 2: 49, 3: 16, 4: 0, 5: 23} \n",
      "最显著结果统计 {1: 106, 2: 77, 3: 44, 4: 764, 5: 78} \n",
      "回归结果正负统计 {1: 393, 2: 840, 3: 792, 4: 9, 5: 567} \n",
      "F统计量显著数 350 \n",
      "总数 1069\n"
     ]
    }
   ],
   "source": [
    "print('显著结果统计',pvalue,'\\n显著结果中正负统计',pvalue_pos,'\\n最显著结果统计',result_save_dct,'\\n回归结果正负统计',positive,'\\nF统计量显著数',f_pvalue,'\\n总数',cnt)"
   ]
  },
  {
   "cell_type": "code",
   "execution_count": 256,
   "metadata": {},
   "outputs": [
    {
     "data": {
      "text/plain": [
       "0.23459151003391704"
      ]
     },
     "execution_count": 256,
     "metadata": {},
     "output_type": "execute_result"
    }
   ],
   "source": [
    "result.f_pvalue"
   ]
  },
  {
   "cell_type": "code",
   "execution_count": null,
   "metadata": {},
   "outputs": [],
   "source": []
  }
 ],
 "metadata": {
  "kernelspec": {
   "display_name": "Python 3",
   "language": "python",
   "name": "python3"
  },
  "language_info": {
   "codemirror_mode": {
    "name": "ipython",
    "version": 3
   },
   "file_extension": ".py",
   "mimetype": "text/x-python",
   "name": "python",
   "nbconvert_exporter": "python",
   "pygments_lexer": "ipython3",
   "version": "3.6.5"
  }
 },
 "nbformat": 4,
 "nbformat_minor": 2
}
