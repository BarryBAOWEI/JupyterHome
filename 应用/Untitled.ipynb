{
 "cells": [
  {
   "cell_type": "code",
   "execution_count": 2,
   "metadata": {},
   "outputs": [],
   "source": [
    "kinds = ['rb','cu','al','au','fu','bu','zn','pb','sn','ni','hc']\n",
    "interperiod = ['1801','1805']\n",
    "goods_list = [['SHFE.'+i+j for j in interperiod] for i in kinds]"
   ]
  },
  {
   "cell_type": "code",
   "execution_count": 3,
   "metadata": {},
   "outputs": [
    {
     "data": {
      "text/plain": [
       "[['SHFE.rb1801', 'SHFE.rb1805'],\n",
       " ['SHFE.cu1801', 'SHFE.cu1805'],\n",
       " ['SHFE.al1801', 'SHFE.al1805'],\n",
       " ['SHFE.au1801', 'SHFE.au1805'],\n",
       " ['SHFE.fu1801', 'SHFE.fu1805'],\n",
       " ['SHFE.bu1801', 'SHFE.bu1805'],\n",
       " ['SHFE.zn1801', 'SHFE.zn1805'],\n",
       " ['SHFE.pb1801', 'SHFE.pb1805'],\n",
       " ['SHFE.sn1801', 'SHFE.sn1805'],\n",
       " ['SHFE.ni1801', 'SHFE.ni1805'],\n",
       " ['SHFE.hc1801', 'SHFE.hc1805']]"
      ]
     },
     "execution_count": 3,
     "metadata": {},
     "output_type": "execute_result"
    }
   ],
   "source": [
    "goods_list"
   ]
  },
  {
   "cell_type": "code",
   "execution_count": null,
   "metadata": {},
   "outputs": [],
   "source": []
  }
 ],
 "metadata": {
  "kernelspec": {
   "display_name": "Python 3",
   "language": "python",
   "name": "python3"
  },
  "language_info": {
   "codemirror_mode": {
    "name": "ipython",
    "version": 3
   },
   "file_extension": ".py",
   "mimetype": "text/x-python",
   "name": "python",
   "nbconvert_exporter": "python",
   "pygments_lexer": "ipython3",
   "version": "3.6.5"
  }
 },
 "nbformat": 4,
 "nbformat_minor": 2
}
