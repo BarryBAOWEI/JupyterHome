{
 "cells": [
  {
   "cell_type": "code",
   "execution_count": 1,
   "metadata": {},
   "outputs": [],
   "source": [
    "import pandas as pd\n",
    "import numpy as np\n",
    "import jqdatasdk as jq"
   ]
  },
  {
   "cell_type": "code",
   "execution_count": 2,
   "metadata": {},
   "outputs": [
    {
     "name": "stdout",
     "output_type": "stream",
     "text": [
      "auth success （JQData现有流量增加活动，详情请咨询JQData管理员，微信号：JQData01）\n"
     ]
    }
   ],
   "source": [
    "jq.auth('13918852005','960312Lsc')\n",
    "# jq.auth('15821912507','912507')"
   ]
  },
  {
   "cell_type": "code",
   "execution_count": 36,
   "metadata": {},
   "outputs": [],
   "source": [
    "for i in range(8):\n",
    "    \n",
    "    year=2010+i\n",
    "    year_str=str(year)\n",
    "    date=year_str+'-12-31'\n",
    "    \n",
    "    margincash_lst = jq.get_margincash_stocks(dt=date)\n",
    "    margin_df = pd.DataFrame(margincash_lst,columns=['code'])\n",
    "    margin_df['margin']=['margin' for i in range(len(margincash_lst))]\n",
    "\n",
    "    file_name= 'E:/Stock_Data/factor_portfolio/5factor'+date+'.csv'\n",
    "    save_df=pd.read_csv(file_name,index_col=0)\n",
    "    save_df_temp=pd.merge(save_df,margin_df,left_on='code',right_on='code',how='left')\n",
    "    \n",
    "    save_df_temp.index=save_df.index\n",
    "    save_df_temp['margin']=save_df_temp['margin'].fillna('Nomargin')\n",
    "    \n",
    "    save_df_temp.to_csv(file_name,index=True)\n",
    "    \n",
    "#     break"
   ]
  },
  {
   "cell_type": "code",
   "execution_count": 39,
   "metadata": {},
   "outputs": [
    {
     "name": "stdout",
     "output_type": "stream",
     "text": [
      "2010-12-31\n",
      "90\n",
      "2011-12-31\n",
      "285\n",
      "2012-12-31\n",
      "288\n",
      "2013-12-31\n",
      "713\n",
      "2014-12-31\n",
      "914\n",
      "2015-12-31\n",
      "913\n",
      "2016-12-31\n",
      "972\n",
      "2017-12-31\n",
      "970\n",
      "2018-12-31\n",
      "994\n"
     ]
    }
   ],
   "source": [
    "for i in range(9):\n",
    "    year=2010+i\n",
    "    year_str=str(year)\n",
    "    date=year_str+'-12-31'\n",
    "    margincash_lst = jq.get_margincash_stocks(dt=date)\n",
    "    print(date)\n",
    "    print(len(margincash_lst))"
   ]
  },
  {
   "cell_type": "code",
   "execution_count": null,
   "metadata": {},
   "outputs": [],
   "source": []
  }
 ],
 "metadata": {
  "kernelspec": {
   "display_name": "Python 3",
   "language": "python",
   "name": "python3"
  },
  "language_info": {
   "codemirror_mode": {
    "name": "ipython",
    "version": 3
   },
   "file_extension": ".py",
   "mimetype": "text/x-python",
   "name": "python",
   "nbconvert_exporter": "python",
   "pygments_lexer": "ipython3",
   "version": "3.6.5"
  }
 },
 "nbformat": 4,
 "nbformat_minor": 2
}
