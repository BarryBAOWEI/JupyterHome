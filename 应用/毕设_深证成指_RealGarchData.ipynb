{
 "cells": [
  {
   "cell_type": "code",
   "execution_count": 44,
   "metadata": {},
   "outputs": [],
   "source": [
    "import pandas as pd\n",
    "import numpy as np"
   ]
  },
  {
   "cell_type": "code",
   "execution_count": 45,
   "metadata": {},
   "outputs": [],
   "source": [
    "# 深证成指日对数收益率计算\n",
    "SZCZ = pd.read_csv('C:/Users/jxjsj/Desktop/JupyterHome/Data/SZCZ080101-190131.csv',index_col=0)\n",
    "\n",
    "SZCZ_p = pd.DataFrame(SZCZ['close'],index=SZCZ.index)\n",
    "\n",
    "SZCZ_p['close-1'] = SZCZ_p['close'].shift(1)\n",
    "\n",
    "SZCZ_lnR = pd.DataFrame(np.log(SZCZ_p['close'])-np.log(SZCZ_p['close-1']),index=SZCZ.index,columns=['lnR']).dropna(axis=0)\n",
    "\n",
    "SZCZ_lnR_2 = pd.DataFrame(SZCZ_lnR['lnR'].apply(lambda x:x*x))\n",
    "\n",
    "SZCZ_lnR_2.columns = ['lnR_2']\n",
    "\n",
    "# pd.concat([SZCZ_lnR,SZCZ_lnR_2],axis=1).to_csv('C:/Users/jxjsj/Desktop/JupyterHome/Data/SZCZ_r_new.csv')"
   ]
  },
  {
   "cell_type": "code",
   "execution_count": 46,
   "metadata": {},
   "outputs": [],
   "source": [
    "SZCZ_temp = SZCZ[['open','close','high','low']]\n",
    "SZCZ_r = pd.concat([SZCZ_lnR,SZCZ_lnR_2,SZCZ_temp],axis=1,sort=True)"
   ]
  },
  {
   "cell_type": "code",
   "execution_count": 47,
   "metadata": {},
   "outputs": [],
   "source": [
    "# 深证成指已实现波动率计算\n",
    "df_fminSZCZ = pd.read_csv(r'C:\\Users\\jxjsj\\Desktop\\JupyterHome\\Data\\SZCZ_five_min080101-190131.csv',index_col=0,header=0)\n",
    "\n",
    "df_fminSZCZ['time'] = list(df_fminSZCZ.index)\n",
    "\n",
    "df_fminSZCZ['date'] = list(df_fminSZCZ['time'].apply(lambda x: str(x)[:10]))\n",
    "\n",
    "df_fminSZCZ\n",
    "\n",
    "df_fminSZCZ['close-1'] = df_fminSZCZ['close'].shift(1)\n",
    "\n",
    "df_fminSZCZ_lnR_temp = pd.DataFrame(np.log(df_fminSZCZ['close'])-np.log(df_fminSZCZ['close-1']),index=df_fminSZCZ.index,columns=['lnR'])\n",
    "\n",
    "df_fminSZCZ_lnR = pd.concat([df_fminSZCZ_lnR_temp,pd.DataFrame(list(df_fminSZCZ['date']),columns=['date'],index=df_fminSZCZ.index)],axis=1).dropna(axis=0,how='any')\n",
    "\n",
    "df_fminSZCZ_lnR['lnR^2'] = df_fminSZCZ_lnR['lnR'].apply(lambda x: x*x)\n",
    "\n",
    "groupby_temp = df_fminSZCZ_lnR['lnR^2'].groupby(df_fminSZCZ_lnR['date'])\n",
    "\n",
    "groupby_df = pd.DataFrame(groupby_temp.sum())\n",
    "\n",
    "rvSZCZ = pd.DataFrame(list(groupby_temp.sum()),columns=['SZCZRV'],index=groupby_df.index)"
   ]
  },
  {
   "cell_type": "code",
   "execution_count": 48,
   "metadata": {},
   "outputs": [],
   "source": [
    "df_temp1 = pd.merge(SZCZ_r,rvSZCZ, left_index=True,right_index=True)"
   ]
  },
  {
   "cell_type": "code",
   "execution_count": 49,
   "metadata": {},
   "outputs": [],
   "source": [
    "# 月份哑变量设计\n",
    "time_temp = pd.date_range('1/1/2008','12/31/2019')\n",
    "\n",
    "time_df = pd.DataFrame(time_temp,columns=['date'])\n",
    "\n",
    "month_lst = list(time_df['date'].apply(lambda x: str(x)[5:7]))\n",
    "\n",
    "month_df = pd.DataFrame(month_lst,columns=['month'])\n",
    "\n",
    "month_temp = pd.get_dummies(month_df)\n",
    "\n",
    "time_month_temp = pd.concat([time_df,month_temp],axis=1)\n",
    "\n",
    "time_month_temp.columns = ['date','Jan','Feb','Mar','Apr','May','June','July','Aug','Sep','Oct','Nov','Dec']\n",
    "\n",
    "time_month = time_month_temp[['Jan','Feb','Mar','Apr','May','June','July','Aug','Sep','Oct','Nov','Dec']]\n",
    "\n",
    "time_month.index=list(time_month_temp['date'])"
   ]
  },
  {
   "cell_type": "code",
   "execution_count": 50,
   "metadata": {},
   "outputs": [],
   "source": [
    "df_temp2 = pd.merge(df_temp1,time_month, left_index=True,right_index=True)"
   ]
  },
  {
   "cell_type": "code",
   "execution_count": 51,
   "metadata": {},
   "outputs": [],
   "source": [
    "# 星期哑变量设计\n",
    "time_temp = pd.date_range('1/1/2008','12/31/2019')\n",
    "\n",
    "time_df = pd.DataFrame(time_temp,columns=['date'])\n",
    "\n",
    "lst_week = []\n",
    "n=627\n",
    "while n>0:\n",
    "    for i in [2,3,4,5,6,7,1]:\n",
    "        lst_week.append(i)\n",
    "    n-=1\n",
    "\n",
    "week_temp = pd.get_dummies(pd.DataFrame(lst_week[:4383],columns=['week'])['week'])\n",
    "\n",
    "time_week_temp = pd.concat([time_df,week_temp],axis=1)\n",
    "\n",
    "time_week_temp.columns = ['date','M','Tu','W','Th',\"F\",\"Sa\",'Su']\n",
    "\n",
    "time_week = time_week_temp[['M','Tu','W','Th',\"F\",\"Sa\",'Su']]\n",
    "\n",
    "time_week.index=list(time_week_temp['date'])"
   ]
  },
  {
   "cell_type": "code",
   "execution_count": 52,
   "metadata": {},
   "outputs": [],
   "source": [
    "df_temp3 = pd.merge(df_temp2,time_week, left_index=True,right_index=True)"
   ]
  },
  {
   "cell_type": "code",
   "execution_count": 53,
   "metadata": {},
   "outputs": [],
   "source": [
    "# 休市天数计算\n",
    "import datetime\n",
    "notrade = pd.DataFrame(list(SZCZ.index),columns=['date'])\n",
    "\n",
    "notrade['date-1'] = notrade['date'].shift(1)\n",
    "\n",
    "notrade = notrade.dropna(axis=0,how='any')\n",
    "\n",
    "notrade_daycnt_temp = pd.DataFrame(notrade['date']+notrade['date-1'],columns=['daycnt'])\n",
    "\n",
    "notrade_daycnt_lst = list(\n",
    "    notrade_daycnt_temp['daycnt'].apply(\n",
    "    lambda x: (datetime.datetime.strptime(x[:10], \"%Y-%m-%d\")-datetime.datetime.strptime(x[10:20], \"%Y-%m-%d\")).days-1\n",
    "                         ))\n",
    "\n",
    "notrade_daycnt = pd.DataFrame(notrade_daycnt_lst,columns=['ntd_cnt'])\n",
    "notrade_daycnt.index = list(notrade['date'])"
   ]
  },
  {
   "cell_type": "code",
   "execution_count": 54,
   "metadata": {},
   "outputs": [],
   "source": [
    "df_temp4 = pd.merge(df_temp3,notrade_daycnt, left_index=True,right_index=True)"
   ]
  },
  {
   "cell_type": "code",
   "execution_count": 55,
   "metadata": {},
   "outputs": [],
   "source": [
    "# 换手率交易量\n",
    "SZCZ_motion = pd.read_csv('C:/Users/jxjsj/Desktop/JupyterHome/Data/SZCZ_motion090101-190227.csv',index_col=0)\n",
    "\n",
    "SZCZ_motion['volume-1'] = SZCZ_motion['volume'].shift(1)\n",
    "SZCZ_motion['volumeR'] = np.log(SZCZ_motion['volume']) - np.log(SZCZ_motion['volume-1'])\n",
    "\n",
    "SZCZ_motion['money-1'] = SZCZ_motion['money'].shift(1)\n",
    "SZCZ_motion['moneyR'] = np.log(SZCZ_motion['money']) - np.log(SZCZ_motion['money-1'])\n",
    "\n",
    "SZCZ_motion['turnoverR'] = SZCZ_motion['turnover_ratio']/100\n",
    "\n",
    "SZCZ_motion_temp = SZCZ_motion[['volume','money','volumeR','moneyR','turnoverR']]"
   ]
  },
  {
   "cell_type": "code",
   "execution_count": 56,
   "metadata": {},
   "outputs": [],
   "source": [
    "df_temp5 = pd.merge(df_temp4,SZCZ_motion_temp,how='left' ,left_index=True,right_index=True)\n",
    "df_temp5 = df_temp5.fillna(0)"
   ]
  },
  {
   "cell_type": "code",
   "execution_count": 57,
   "metadata": {},
   "outputs": [],
   "source": [
    "# 前日新闻条数\n",
    "SZCZ_new = pd.read_csv('C:/Users/jxjsj/Desktop/JupyterHome/Data/news_cnt_090101-190201.csv',index_col=0)\n",
    "\n",
    "df_temp6 = pd.merge(df_temp5,SZCZ_new,how='left' ,left_index=True,right_index=True)"
   ]
  },
  {
   "cell_type": "code",
   "execution_count": 58,
   "metadata": {},
   "outputs": [],
   "source": [
    "# 5日均收益率\n",
    "df_temp6['lnRroll5'] = df_temp6['lnR'].rolling(5).mean()\n",
    "\n",
    "# 20日均换手率\n",
    "df_temp6['turnoverRroll20'] = df_temp6['turnoverR'].rolling(20).mean()\n",
    "\n",
    "# 20日均收益率\n",
    "df_temp6['lnRroll20'] = df_temp6['lnR'].rolling(20).mean()\n",
    "\n",
    "# 20日标准差\n",
    "df_temp6['stdlnRroll20'] = df_temp6['lnR'].rolling(20).std()\n",
    "\n",
    "# 60日方差\n",
    "df_temp6['varlnRroll60'] = df_temp6['lnR'].rolling(20).var()\n",
    "\n",
    "######################################################################################\n",
    "# 60日均收益率\n",
    "df_temp6['lnRroll60'] = df_temp6['lnR'].rolling(60).mean()\n",
    "\n",
    "# 60日标准差\n",
    "df_temp6['stdlnRroll60'] = df_temp6['lnR'].rolling(60).std()\n",
    "\n",
    "# 60日夏普 无风险0.04\n",
    "df_temp6['sharpe60'] = (df_temp6['lnRroll60']*250 - 0.04) / (df_temp6['stdlnRroll60']*(250**0.5))\n",
    "\n",
    "# 60日夏普倒数\n",
    "df_temp6['sharpe60'] = df_temp6['sharpe60'].apply(lambda x: 1/x)\n",
    "######################################################################################\n",
    "\n",
    "# 威廉变异离散量 (收盘价－开盘价)/(最高价－最低价)×成交量，再做加和，使用过去6个交易日的数据\n",
    "df_temp6['WVAD_temp'] = (df_temp6.close-df_temp6.open)/(df_temp6.high-df_temp6.low)*df_temp6.volume\n",
    "df_temp6['WVAD'] = df_temp6['WVAD_temp'].rolling(6).sum()\n",
    "\n",
    "# 60日负偏度\n",
    "df_temp6['skewlnR60'] = -df_temp6['lnR'].rolling(60).skew()\n",
    "\n",
    "# 60日峰度\n",
    "df_temp6['kurtlnR60'] = df_temp6['lnR'].rolling(60).kurt()\n",
    "\n",
    "df_temp6 = df_temp6.fillna(0)"
   ]
  },
  {
   "cell_type": "code",
   "execution_count": 59,
   "metadata": {},
   "outputs": [],
   "source": [
    "# 主成分分析    \n",
    "from sklearn.decomposition import PCA"
   ]
  },
  {
   "cell_type": "code",
   "execution_count": 60,
   "metadata": {},
   "outputs": [
    {
     "name": "stdout",
     "output_type": "stream",
     "text": [
      "[0.43174593]\n"
     ]
    }
   ],
   "source": [
    "# 短期风险因素\n",
    "\n",
    "# 合成成分\n",
    "risk_pd = pd.concat([df_temp6['skewlnR60'],df_temp6['sharpe60'],df_temp6['kurtlnR60'],df_temp6['varlnRroll60']],axis=1)\n",
    "\n",
    "# 标准化 - 统一量级、分布 (有问题！df前400行很多0！！)\n",
    "for i in risk_pd.columns:\n",
    "    risk_pd[i] = risk_pd[i].apply(lambda x: (x-risk_pd[i].mean())/risk_pd[i].std())\n",
    "\n",
    "pca=PCA(n_components=1)\n",
    "newData=pca.fit_transform(risk_pd)\n",
    "print(pca.explained_variance_ratio_)\n",
    "\n",
    "df_temp6['risk'] = newData"
   ]
  },
  {
   "cell_type": "code",
   "execution_count": 61,
   "metadata": {},
   "outputs": [
    {
     "name": "stdout",
     "output_type": "stream",
     "text": [
      "[0.59531388]\n"
     ]
    }
   ],
   "source": [
    "# 投资者情绪因素\n",
    "\n",
    "# 合成成分\n",
    "emotion_pd = pd.concat([df_temp6['turnoverRroll20'],df_temp6['WVAD']],axis=1)\n",
    "\n",
    "# 标准化 - 统一量级、分布 (有问题！df前400行很多0！！)\n",
    "for i in emotion_pd.columns:\n",
    "    emotion_pd[i] = emotion_pd[i].apply(lambda x: (x-emotion_pd[i].mean())/emotion_pd[i].std())\n",
    "\n",
    "pca=PCA(n_components=1)\n",
    "newData=pca.fit_transform(emotion_pd)\n",
    "print(pca.explained_variance_ratio_)\n",
    "\n",
    "df_temp6['emotion'] = newData"
   ]
  },
  {
   "cell_type": "code",
   "execution_count": 62,
   "metadata": {},
   "outputs": [],
   "source": [
    "# 政策因素\n",
    "\n",
    "df_temp6['news'] = df_temp6['content']"
   ]
  },
  {
   "cell_type": "code",
   "execution_count": 63,
   "metadata": {},
   "outputs": [],
   "source": [
    "var_lst = ['risk','emotion','news']\n",
    "col_lst = ['M', 'Tu', 'Th', 'F','Jan','Feb','May','Dec','ntd_cnt']\n",
    "for var in var_lst:\n",
    "    for column in col_lst:\n",
    "        column_name = var + '_' + column\n",
    "        df_temp6[column_name] = df_temp6[var]*df_temp6[column]"
   ]
  },
  {
   "cell_type": "code",
   "execution_count": 64,
   "metadata": {},
   "outputs": [],
   "source": [
    "df_temp7 = df_temp6[['lnR', 'lnR_2', 'SZCZRV', 'Jan', 'Feb', 'Mar', 'Apr', 'May', 'June',\n",
    "       'July', 'Aug', 'Sep', 'Oct', 'Nov', 'Dec', 'M', 'Tu', 'W', 'Th', 'F',\n",
    "       'Sa', 'Su', 'ntd_cnt', 'risk_M', 'risk_Tu', 'risk_Th', 'risk_F', 'risk_Jan',\n",
    "       'risk_Feb', 'risk_May', 'risk_Dec', 'risk_ntd_cnt', 'emotion_M',\n",
    "       'emotion_Tu', 'emotion_Th', 'emotion_F', 'emotion_Jan', 'emotion_Feb',\n",
    "       'emotion_May', 'emotion_Dec', 'emotion_ntd_cnt', 'news_M', 'news_Tu',\n",
    "       'news_Th', 'news_F', 'news_Jan', 'news_Feb', 'news_May', 'news_Dec',\n",
    "       'news_ntd_cnt']]"
   ]
  },
  {
   "cell_type": "code",
   "execution_count": 65,
   "metadata": {},
   "outputs": [],
   "source": [
    "df_temp7.to_csv('C:/Users/jxjsj/Desktop/JupyterHome/Data/SZCZ_lnr_rv_w_m_ntd_100601-190131adj.csv')"
   ]
  },
  {
   "cell_type": "code",
   "execution_count": 66,
   "metadata": {},
   "outputs": [
    {
     "data": {
      "text/plain": [
       "32"
      ]
     },
     "execution_count": 66,
     "metadata": {},
     "output_type": "execute_result"
    }
   ],
   "source": [
    "list(df_temp7.columns).index('risk_ntd_cnt')+1"
   ]
  },
  {
   "cell_type": "code",
   "execution_count": null,
   "metadata": {},
   "outputs": [],
   "source": []
  }
 ],
 "metadata": {
  "kernelspec": {
   "display_name": "Python 3",
   "language": "python",
   "name": "python3"
  },
  "language_info": {
   "codemirror_mode": {
    "name": "ipython",
    "version": 3
   },
   "file_extension": ".py",
   "mimetype": "text/x-python",
   "name": "python",
   "nbconvert_exporter": "python",
   "pygments_lexer": "ipython3",
   "version": "3.6.5"
  }
 },
 "nbformat": 4,
 "nbformat_minor": 2
}
