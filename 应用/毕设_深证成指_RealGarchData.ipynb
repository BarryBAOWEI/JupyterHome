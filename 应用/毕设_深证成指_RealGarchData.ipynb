{
 "cells": [
  {
   "cell_type": "code",
   "execution_count": 1,
   "metadata": {},
   "outputs": [],
   "source": [
    "import pandas as pd\n",
    "import numpy as np"
   ]
  },
  {
   "cell_type": "code",
   "execution_count": 2,
   "metadata": {},
   "outputs": [],
   "source": [
    "# 深证成指日对数收益率计算\n",
    "SZCZ = pd.read_csv('C:/Users/jxjsj/Desktop/JupyterHome/Data/SZCZ080101-190131.csv',index_col=0)\n",
    "\n",
    "SZCZ_p = pd.DataFrame(SZCZ['close'],index=SZCZ.index)\n",
    "\n",
    "SZCZ_p['close-1'] = SZCZ_p['close'].shift(1)\n",
    "\n",
    "SZCZ_lnR = pd.DataFrame(np.log(SZCZ_p['close'])-np.log(SZCZ_p['close-1']),index=SZCZ.index,columns=['lnR']).dropna(axis=0)\n",
    "\n",
    "SZCZ_lnR_2 = pd.DataFrame(SZCZ_lnR['lnR'].apply(lambda x:x*x))\n",
    "\n",
    "SZCZ_lnR_2.columns = ['lnR_2']\n",
    "\n",
    "pd.concat([SZCZ_lnR,SZCZ_lnR_2],axis=1).to_csv('C:/Users/jxjsj/Desktop/JupyterHome/Data/SZCZ_r_new.csv')"
   ]
  },
  {
   "cell_type": "code",
   "execution_count": 3,
   "metadata": {},
   "outputs": [],
   "source": [
    "SZCZ_r = pd.concat([SZCZ_lnR,SZCZ_lnR_2],axis=1)"
   ]
  },
  {
   "cell_type": "code",
   "execution_count": 4,
   "metadata": {},
   "outputs": [],
   "source": [
    "# 深证成指已实现波动率计算\n",
    "df_fminSZCZ = pd.read_csv(r'C:\\Users\\jxjsj\\Desktop\\JupyterHome\\Data\\SZCZ_five_min080101-190131.csv',index_col=0,header=0)\n",
    "\n",
    "df_fminSZCZ['time'] = list(df_fminSZCZ.index)\n",
    "\n",
    "df_fminSZCZ['date'] = list(df_fminSZCZ['time'].apply(lambda x: str(x)[:10]))\n",
    "\n",
    "df_fminSZCZ\n",
    "\n",
    "df_fminSZCZ['close-1'] = df_fminSZCZ['close'].shift(1)\n",
    "\n",
    "df_fminSZCZ_lnR_temp = pd.DataFrame(np.log(df_fminSZCZ['close'])-np.log(df_fminSZCZ['close-1']),index=df_fminSZCZ.index,columns=['lnR'])\n",
    "\n",
    "df_fminSZCZ_lnR = pd.concat([df_fminSZCZ_lnR_temp,pd.DataFrame(list(df_fminSZCZ['date']),columns=['date'],index=df_fminSZCZ.index)],axis=1).dropna(axis=0,how='any')\n",
    "\n",
    "df_fminSZCZ_lnR['lnR^2'] = df_fminSZCZ_lnR['lnR'].apply(lambda x: x*x)\n",
    "\n",
    "groupby_temp = df_fminSZCZ_lnR['lnR^2'].groupby(df_fminSZCZ_lnR['date'])\n",
    "\n",
    "groupby_df = pd.DataFrame(groupby_temp.sum())\n",
    "\n",
    "rvSZCZ = pd.DataFrame(list(groupby_temp.sum()),columns=['SZCZRV'],index=groupby_df.index)"
   ]
  },
  {
   "cell_type": "code",
   "execution_count": 5,
   "metadata": {},
   "outputs": [],
   "source": [
    "df_temp1 = pd.merge(SZCZ_r,rvSZCZ, left_index=True,right_index=True)"
   ]
  },
  {
   "cell_type": "code",
   "execution_count": 6,
   "metadata": {},
   "outputs": [],
   "source": [
    "# 月份哑变量设计\n",
    "time_temp = pd.date_range('1/1/2008','12/31/2019')\n",
    "\n",
    "time_df = pd.DataFrame(time_temp,columns=['date'])\n",
    "\n",
    "month_lst = list(time_df['date'].apply(lambda x: str(x)[5:7]))\n",
    "\n",
    "month_df = pd.DataFrame(month_lst,columns=['month'])\n",
    "\n",
    "month_temp = pd.get_dummies(month_df)\n",
    "\n",
    "time_month_temp = pd.concat([time_df,month_temp],axis=1)\n",
    "\n",
    "time_month_temp.columns = ['date','Jan','Feb','Mar','Apr','May','June','July','Aug','Sep','Oct','Nov','Dec']\n",
    "\n",
    "time_month = time_month_temp[['Jan','Feb','Mar','Apr','May','June','July','Aug','Sep','Oct','Nov','Dec']]\n",
    "\n",
    "time_month.index=list(time_month_temp['date'])"
   ]
  },
  {
   "cell_type": "code",
   "execution_count": 7,
   "metadata": {},
   "outputs": [],
   "source": [
    "df_temp2 = pd.merge(df_temp1,time_month, left_index=True,right_index=True)"
   ]
  },
  {
   "cell_type": "code",
   "execution_count": 8,
   "metadata": {},
   "outputs": [],
   "source": [
    "# 星期哑变量设计\n",
    "time_temp = pd.date_range('1/1/2008','12/31/2019')\n",
    "\n",
    "time_df = pd.DataFrame(time_temp,columns=['date'])\n",
    "\n",
    "lst_week = []\n",
    "n=627\n",
    "while n>0:\n",
    "    for i in [2,3,4,5,6,7,1]:\n",
    "        lst_week.append(i)\n",
    "    n-=1\n",
    "\n",
    "week_temp = pd.get_dummies(pd.DataFrame(lst_week[:4383],columns=['week'])['week'])\n",
    "\n",
    "time_week_temp = pd.concat([time_df,week_temp],axis=1)\n",
    "\n",
    "time_week_temp.columns = ['date','M','Tu','W','Th',\"F\",\"Sa\",'Su']\n",
    "\n",
    "time_week = time_week_temp[['M','Tu','W','Th',\"F\",\"Sa\",'Su']]\n",
    "\n",
    "time_week.index=list(time_week_temp['date'])"
   ]
  },
  {
   "cell_type": "code",
   "execution_count": 9,
   "metadata": {},
   "outputs": [],
   "source": [
    "df_temp3 = pd.merge(df_temp2,time_week, left_index=True,right_index=True)"
   ]
  },
  {
   "cell_type": "code",
   "execution_count": 10,
   "metadata": {},
   "outputs": [],
   "source": [
    "# 休市天数计算\n",
    "import datetime\n",
    "notrade = pd.DataFrame(list(SZCZ.index),columns=['date'])\n",
    "\n",
    "notrade['date-1'] = notrade['date'].shift(1)\n",
    "\n",
    "notrade = notrade.dropna(axis=0,how='any')\n",
    "\n",
    "notrade_daycnt_temp = pd.DataFrame(notrade['date']+notrade['date-1'],columns=['daycnt'])\n",
    "\n",
    "notrade_daycnt_lst = list(\n",
    "    notrade_daycnt_temp['daycnt'].apply(\n",
    "    lambda x: (datetime.datetime.strptime(x[:10], \"%Y-%m-%d\")-datetime.datetime.strptime(x[10:20], \"%Y-%m-%d\")).days-1\n",
    "                         ))\n",
    "\n",
    "notrade_daycnt = pd.DataFrame(notrade_daycnt_lst,columns=['ntd_cnt'])\n",
    "notrade_daycnt.index = list(notrade['date'])"
   ]
  },
  {
   "cell_type": "code",
   "execution_count": 11,
   "metadata": {},
   "outputs": [],
   "source": [
    "df_temp4 = pd.merge(df_temp3,notrade_daycnt, left_index=True,right_index=True)"
   ]
  },
  {
   "cell_type": "code",
   "execution_count": 12,
   "metadata": {},
   "outputs": [],
   "source": [
    "# 换手率交易量\n",
    "SZCZ_motion = pd.read_csv('C:/Users/jxjsj/Desktop/JupyterHome/Data/SZCZ_motion090101-190227.csv',index_col=0)\n",
    "\n",
    "SZCZ_motion['volume-1'] = SZCZ_motion['volume'].shift(1)\n",
    "SZCZ_motion['volumeR'] = np.log(SZCZ_motion['volume']) - np.log(SZCZ_motion['volume-1'])\n",
    "\n",
    "SZCZ_motion['money-1'] = SZCZ_motion['money'].shift(1)\n",
    "SZCZ_motion['moneyR'] = np.log(SZCZ_motion['money']) - np.log(SZCZ_motion['money-1'])\n",
    "\n",
    "SZCZ_motion['turnoverR'] = SZCZ_motion['turnover_ratio']/100\n",
    "\n",
    "SZCZ_motion_temp = SZCZ_motion[['volume','money','volumeR','moneyR','turnoverR']]"
   ]
  },
  {
   "cell_type": "code",
   "execution_count": 13,
   "metadata": {},
   "outputs": [],
   "source": [
    "df_temp5 = pd.merge(df_temp4,SZCZ_motion_temp,how='left' ,left_index=True,right_index=True)\n",
    "df_temp5 = df_temp5.fillna(0)"
   ]
  },
  {
   "cell_type": "code",
   "execution_count": 14,
   "metadata": {},
   "outputs": [],
   "source": [
    "# 前日新闻条数\n",
    "SZCZ_new = pd.read_csv('C:/Users/jxjsj/Desktop/JupyterHome/Data/news_cnt_090101-190201.csv',index_col=0)\n",
    "\n",
    "df_temp6 = pd.merge(df_temp5,SZCZ_new,how='left' ,left_index=True,right_index=True)"
   ]
  },
  {
   "cell_type": "code",
   "execution_count": 15,
   "metadata": {},
   "outputs": [],
   "source": [
    "# 5日均收益率\n",
    "df_temp6['lnRroll5'] = df_temp6['lnR'].rolling(5).mean()\n",
    "\n",
    "# 5日均换手率\n",
    "df_temp6['turnoverRroll5'] = df_temp6['turnoverR'].rolling(5).mean()\n",
    "\n",
    "# 20日均收益率\n",
    "df_temp6['lnRroll20'] = df_temp6['lnR'].rolling(20).mean()\n",
    "\n",
    "# 20日标准差\n",
    "df_temp6['stdlnRroll20'] = df_temp6['lnR'].rolling(20).std()\n",
    "\n",
    "# 20日夏普 无风险0.04\n",
    "df_temp6['sharpe20'] = (df_temp6['lnRroll20']*250 - 0.04) / (df_temp6['stdlnRroll20']*(250**0.5))\n",
    "\n",
    "# 60日偏度\n",
    "df_temp6['skewlnR60'] = df_temp6['lnR'].rolling(60).skew()\n",
    "\n",
    "# 60日峰度\n",
    "df_temp6['kurtlnR60'] = df_temp6['lnR'].rolling(60).kurt()\n",
    "\n",
    "df_temp6 = df_temp6.fillna(0)"
   ]
  },
  {
   "cell_type": "code",
   "execution_count": 16,
   "metadata": {},
   "outputs": [],
   "source": [
    "df_temp7 = df_temp6"
   ]
  },
  {
   "cell_type": "code",
   "execution_count": 17,
   "metadata": {},
   "outputs": [],
   "source": [
    "var_lst = ['lnRroll5','turnoverRroll5','lnRroll20','stdlnRroll20','sharpe20','skewlnR60','kurtlnR60']\n",
    "col_lst = list(df_temp6.columns)\n",
    "for var in var_lst:\n",
    "    for column in col_lst:\n",
    "        if (var == column) or (column in var_lst):\n",
    "            continue\n",
    "        else:\n",
    "            column_name = var + '_' + column\n",
    "            df_temp7[column_name] = df_temp6[var]*df_temp6[column]"
   ]
  },
  {
   "cell_type": "code",
   "execution_count": 18,
   "metadata": {},
   "outputs": [],
   "source": [
    "df_temp6.to_csv('C:/Users/jxjsj/Desktop/JupyterHome/Data/SZCZ_lnr_rv_w_m_ntd_080101-190131adj.csv')"
   ]
  },
  {
   "cell_type": "code",
   "execution_count": null,
   "metadata": {},
   "outputs": [],
   "source": []
  }
 ],
 "metadata": {
  "kernelspec": {
   "display_name": "Python 3",
   "language": "python",
   "name": "python3"
  },
  "language_info": {
   "codemirror_mode": {
    "name": "ipython",
    "version": 3
   },
   "file_extension": ".py",
   "mimetype": "text/x-python",
   "name": "python",
   "nbconvert_exporter": "python",
   "pygments_lexer": "ipython3",
   "version": "3.6.5"
  }
 },
 "nbformat": 4,
 "nbformat_minor": 2
}
