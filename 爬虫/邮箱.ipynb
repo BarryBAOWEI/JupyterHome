{
 "cells": [
  {
   "cell_type": "code",
   "execution_count": 1,
   "metadata": {},
   "outputs": [],
   "source": [
    "import requests\n",
    "import json\n",
    "\n",
    "# 设置URL\n",
    "url = \"https://mail.unionpay.com/mail3/zhaopin.nsf/iNotes/Proxy/?OpenDocument&Form=s_ReadViewEntries&PresetFields=DBQuotaInfo;1,FolderName;($Inbox),UnreadCountInfo;1,s_UsingHttps;1,noPI;1&TZType=UTC&Start=10&Count=46\"\n",
    "# 设置消息头\n",
    "headers = {\n",
    "'Accept': '*/*'\n",
    ",'Accept-Encoding': 'gzip, deflate, br'\n",
    ",'Accept-Language': 'zh-CN,zh;q=0.9'\n",
    ",'Connection': 'keep-alive'\n",
    ",'Cookie': 'Shimmer=SI_TLM:20190528T080703%2C59Z&ST_Counter:3&LAO:mail&DMS:36&V_TLM:20190528T115220%2C84Z; LtpaToken02=bt2Pt1WcB+NN6s81OPcWQRRCzSMMf6vsPHTFUlrQ2jaSQ1Ianc8WVIjrZaAD99fMN+XE5jXneitrckg+EHlxQOwyLqrwkU7rRNbJN2VZqT2kcHiT2pbePzm/VaCJgY89atqFhsOs8P6NFppx0t58WWKvqYZ+s4Dn+xQDf0atmjReWQByF78e4pDjdNY+jTdLczeSe+KghXgy9idtwMjvmHzPRIsrc2z71NRjrFokrSAtyssY8wYl+JrG/okPZJsZ+uliLDrIYHhMUeR9ZNWoBxzfWAb9T2VZnLWRk4qJzxm5HAnHwMM/aASJEQlvS3VwJYkZQNu2CpDyy1BP9Ee0IQ==; LtpaToken01=7wvglqblkfa+Wl+IA0ZpNcWL7LPmZwWLznYUMUxOEg9K1NxmPP/GTiZaCNkFFxrFQcB1l4bv38ge+rPD7uJPSEKuVkPp83/mAXXHIyt2sJIG9gvYydM/ehRxjzLSVBV7UXQCZ8L76O4X28erldpXymg7TIsz1SrmNXm49ArdAKyp2OBayXFYfkVUYqkuI4jnVPnqhDLeDhPGAYTuVMGzjrhnurxAGUM32UB8bA0GvWNTaZlDQ6eREi8PVT0itsvAFa8hL3hy4n39l5miVcYZZqLw/XjFAVlDQhU8VTF3V5Zfaij2D4DdaA==; mailserver=ppmlsrv04; ShimmerS=ET:20190528T154758%2c00Z&R:0&AT:M'\n",
    ",'Host': 'mail.unionpay.com'\n",
    ",'Referer': 'https://mail.unionpay.com/mail3/zhaopin.nsf/iNotes/Proxy/?OpenDocument&Form=l_ScriptFrame&l=zh-CN&gz&CR&MX&TS=20190528T063711,65Z&TSX=20170323T123021,83Z&charset=UTF-8&charset=UTF-8&KIC&ua=safari'\n",
    ",'User-Agent': 'Mozilla/5.0 (Windows NT 10.0; Win64; x64) AppleWebKit/537.36 (KHTML, like Gecko) Chrome/72.0.3626.81 Safari/537.36'\n",
    "    }\n",
    "\n",
    "# headers = {\n",
    "#     \"Cookie\":\"JSESSIONID=EA01FF2B025861F39E29712C97F7DF69;CASTGC=TGT-136-bLQMf0CAikK4BGaydOfIeKd6tWpZQEznJ2ZWdcVl9ofI4LiaQb-cas01.example.org\",\n",
    "#     \"Content-Type\":\"application/json\"\n",
    "#     }\n",
    "# 设置消息体\n",
    "data = {\n",
    "'OpenDocument': ''\n",
    ",'Form': 's_ReadViewEntries'\n",
    ",'PresetFields': 'DBQuotaInfo;1,FolderName;($Inbox),UnreadCountInfo;1,s_UsingHttps;1,noPI;1'\n",
    ",'TZType': 'UTC'\n",
    ",'Start': '10'\n",
    ",'Count': '46'\n",
    "       }\n",
    "# 获取相应\n",
    "response=requests.get(url,headers=headers,data=json.dumps(data))\n",
    "print(\"Status code:\",response.status_code)\n",
    "print(response.text)\n",
    "# 解析相应\n",
    "# info=response.json()\n",
    "# # 验证数据\n",
    "# assert str(info['answer'])=='reject'"
   ]
  },
  {
   "cell_type": "code",
   "execution_count": 10,
   "metadata": {},
   "outputs": [
    {
     "ename": "NameError",
     "evalue": "name 'info' is not defined",
     "output_type": "error",
     "traceback": [
      "\u001b[1;31m---------------------------------------------------------------------------\u001b[0m",
      "\u001b[1;31mNameError\u001b[0m                                 Traceback (most recent call last)",
      "\u001b[1;32m<ipython-input-10-886ead46232a>\u001b[0m in \u001b[0;36m<module>\u001b[1;34m()\u001b[0m\n\u001b[1;32m----> 1\u001b[1;33m \u001b[0minfo\u001b[0m\u001b[1;33m\u001b[0m\u001b[0m\n\u001b[0m",
      "\u001b[1;31mNameError\u001b[0m: name 'info' is not defined"
     ]
    }
   ],
   "source": [
    "# info"
   ]
  },
  {
   "cell_type": "code",
   "execution_count": null,
   "metadata": {},
   "outputs": [],
   "source": []
  }
 ],
 "metadata": {
  "kernelspec": {
   "display_name": "Python 3",
   "language": "python",
   "name": "python3"
  },
  "language_info": {
   "codemirror_mode": {
    "name": "ipython",
    "version": 3
   },
   "file_extension": ".py",
   "mimetype": "text/x-python",
   "name": "python",
   "nbconvert_exporter": "python",
   "pygments_lexer": "ipython3",
   "version": "3.6.5"
  }
 },
 "nbformat": 4,
 "nbformat_minor": 2
}
