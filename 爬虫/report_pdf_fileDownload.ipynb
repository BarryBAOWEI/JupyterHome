{
 "cells": [
  {
   "cell_type": "code",
   "execution_count": 18,
   "metadata": {
    "scrolled": true
   },
   "outputs": [
    {
     "name": "stdout",
     "output_type": "stream",
     "text": [
      "2007制造业 finished!\n",
      "2008制造业 finished!\n",
      "2009交通运输、仓储和邮政业 finished!\n",
      "2009住宿和餐饮业 finished!\n",
      "2009信息传输、软件和信息技术服务业 finished!\n",
      "2009农、林、牧、渔业 finished!\n",
      "2009制造业0.081\r"
     ]
    },
    {
     "ename": "KeyboardInterrupt",
     "evalue": "",
     "output_type": "error",
     "traceback": [
      "\u001b[1;31m---------------------------------------------------------------------------\u001b[0m",
      "\u001b[1;31mKeyboardInterrupt\u001b[0m                         Traceback (most recent call last)",
      "\u001b[1;32m<ipython-input-18-a9496bc83eaa>\u001b[0m in \u001b[0;36m<module>\u001b[1;34m()\u001b[0m\n\u001b[0;32m     81\u001b[0m \u001b[1;33m\u001b[0m\u001b[0m\n\u001b[0;32m     82\u001b[0m report_pdf_download(previous_save_file = 'D:/report_pdf',\n\u001b[1;32m---> 83\u001b[1;33m                     file_save_root = 'D:/report_pdf_download')\n\u001b[0m",
      "\u001b[1;32m<ipython-input-18-a9496bc83eaa>\u001b[0m in \u001b[0;36mreport_pdf_download\u001b[1;34m(previous_save_file, file_save_root)\u001b[0m\n\u001b[0;32m     65\u001b[0m                 \u001b[0mblock_sz\u001b[0m \u001b[1;33m=\u001b[0m \u001b[1;36m8192\u001b[0m\u001b[1;33m\u001b[0m\u001b[0m\n\u001b[0;32m     66\u001b[0m                 \u001b[1;32mwhile\u001b[0m \u001b[1;32mTrue\u001b[0m\u001b[1;33m:\u001b[0m\u001b[1;33m\u001b[0m\u001b[0m\n\u001b[1;32m---> 67\u001b[1;33m                     \u001b[0mbuffer\u001b[0m \u001b[1;33m=\u001b[0m \u001b[0mu\u001b[0m\u001b[1;33m.\u001b[0m\u001b[0mread\u001b[0m\u001b[1;33m(\u001b[0m\u001b[0mblock_sz\u001b[0m\u001b[1;33m)\u001b[0m\u001b[1;33m\u001b[0m\u001b[0m\n\u001b[0m\u001b[0;32m     68\u001b[0m \u001b[1;33m\u001b[0m\u001b[0m\n\u001b[0;32m     69\u001b[0m                     \u001b[1;32mif\u001b[0m \u001b[1;32mnot\u001b[0m \u001b[0mbuffer\u001b[0m\u001b[1;33m:\u001b[0m\u001b[1;33m\u001b[0m\u001b[0m\n",
      "\u001b[1;32mD:\\Anaconda3\\lib\\http\\client.py\u001b[0m in \u001b[0;36mread\u001b[1;34m(self, amt)\u001b[0m\n\u001b[0;32m    447\u001b[0m             \u001b[1;31m# Amount is given, implement using readinto\u001b[0m\u001b[1;33m\u001b[0m\u001b[1;33m\u001b[0m\u001b[0m\n\u001b[0;32m    448\u001b[0m             \u001b[0mb\u001b[0m \u001b[1;33m=\u001b[0m \u001b[0mbytearray\u001b[0m\u001b[1;33m(\u001b[0m\u001b[0mamt\u001b[0m\u001b[1;33m)\u001b[0m\u001b[1;33m\u001b[0m\u001b[0m\n\u001b[1;32m--> 449\u001b[1;33m             \u001b[0mn\u001b[0m \u001b[1;33m=\u001b[0m \u001b[0mself\u001b[0m\u001b[1;33m.\u001b[0m\u001b[0mreadinto\u001b[0m\u001b[1;33m(\u001b[0m\u001b[0mb\u001b[0m\u001b[1;33m)\u001b[0m\u001b[1;33m\u001b[0m\u001b[0m\n\u001b[0m\u001b[0;32m    450\u001b[0m             \u001b[1;32mreturn\u001b[0m \u001b[0mmemoryview\u001b[0m\u001b[1;33m(\u001b[0m\u001b[0mb\u001b[0m\u001b[1;33m)\u001b[0m\u001b[1;33m[\u001b[0m\u001b[1;33m:\u001b[0m\u001b[0mn\u001b[0m\u001b[1;33m]\u001b[0m\u001b[1;33m.\u001b[0m\u001b[0mtobytes\u001b[0m\u001b[1;33m(\u001b[0m\u001b[1;33m)\u001b[0m\u001b[1;33m\u001b[0m\u001b[0m\n\u001b[0;32m    451\u001b[0m         \u001b[1;32melse\u001b[0m\u001b[1;33m:\u001b[0m\u001b[1;33m\u001b[0m\u001b[0m\n",
      "\u001b[1;32mD:\\Anaconda3\\lib\\http\\client.py\u001b[0m in \u001b[0;36mreadinto\u001b[1;34m(self, b)\u001b[0m\n\u001b[0;32m    491\u001b[0m         \u001b[1;31m# connection, and the user is reading more bytes than will be provided\u001b[0m\u001b[1;33m\u001b[0m\u001b[1;33m\u001b[0m\u001b[0m\n\u001b[0;32m    492\u001b[0m         \u001b[1;31m# (for example, reading in 1k chunks)\u001b[0m\u001b[1;33m\u001b[0m\u001b[1;33m\u001b[0m\u001b[0m\n\u001b[1;32m--> 493\u001b[1;33m         \u001b[0mn\u001b[0m \u001b[1;33m=\u001b[0m \u001b[0mself\u001b[0m\u001b[1;33m.\u001b[0m\u001b[0mfp\u001b[0m\u001b[1;33m.\u001b[0m\u001b[0mreadinto\u001b[0m\u001b[1;33m(\u001b[0m\u001b[0mb\u001b[0m\u001b[1;33m)\u001b[0m\u001b[1;33m\u001b[0m\u001b[0m\n\u001b[0m\u001b[0;32m    494\u001b[0m         \u001b[1;32mif\u001b[0m \u001b[1;32mnot\u001b[0m \u001b[0mn\u001b[0m \u001b[1;32mand\u001b[0m \u001b[0mb\u001b[0m\u001b[1;33m:\u001b[0m\u001b[1;33m\u001b[0m\u001b[0m\n\u001b[0;32m    495\u001b[0m             \u001b[1;31m# Ideally, we would raise IncompleteRead if the content-length\u001b[0m\u001b[1;33m\u001b[0m\u001b[1;33m\u001b[0m\u001b[0m\n",
      "\u001b[1;32mD:\\Anaconda3\\lib\\socket.py\u001b[0m in \u001b[0;36mreadinto\u001b[1;34m(self, b)\u001b[0m\n\u001b[0;32m    584\u001b[0m         \u001b[1;32mwhile\u001b[0m \u001b[1;32mTrue\u001b[0m\u001b[1;33m:\u001b[0m\u001b[1;33m\u001b[0m\u001b[0m\n\u001b[0;32m    585\u001b[0m             \u001b[1;32mtry\u001b[0m\u001b[1;33m:\u001b[0m\u001b[1;33m\u001b[0m\u001b[0m\n\u001b[1;32m--> 586\u001b[1;33m                 \u001b[1;32mreturn\u001b[0m \u001b[0mself\u001b[0m\u001b[1;33m.\u001b[0m\u001b[0m_sock\u001b[0m\u001b[1;33m.\u001b[0m\u001b[0mrecv_into\u001b[0m\u001b[1;33m(\u001b[0m\u001b[0mb\u001b[0m\u001b[1;33m)\u001b[0m\u001b[1;33m\u001b[0m\u001b[0m\n\u001b[0m\u001b[0;32m    587\u001b[0m             \u001b[1;32mexcept\u001b[0m \u001b[0mtimeout\u001b[0m\u001b[1;33m:\u001b[0m\u001b[1;33m\u001b[0m\u001b[0m\n\u001b[0;32m    588\u001b[0m                 \u001b[0mself\u001b[0m\u001b[1;33m.\u001b[0m\u001b[0m_timeout_occurred\u001b[0m \u001b[1;33m=\u001b[0m \u001b[1;32mTrue\u001b[0m\u001b[1;33m\u001b[0m\u001b[0m\n",
      "\u001b[1;31mKeyboardInterrupt\u001b[0m: "
     ]
    }
   ],
   "source": [
    "import pandas as pd\n",
    "import urllib\n",
    "import os\n",
    "\n",
    "def report_pdf_download(previous_save_file, file_save_root):\n",
    "    '''\n",
    "    previous_save_file : 保存有pdf下载地址csv的总目录\n",
    "    file_save_root     ：用以保存pdf文件的总目录\n",
    "    '''\n",
    "    previous_save_file = 'D:/report_pdf'\n",
    "    file_save_root = 'D:/report_pdf_download'\n",
    "\n",
    "    total_file = os.listdir(previous_save_file) # 读取第一级目录\n",
    "\n",
    "    for each_file in total_file:\n",
    "\n",
    "        downloaded_file = previous_save_file+'/'+each_file\n",
    "        downloaded_lst = os.listdir(downloaded_file) # 读取第二级目录\n",
    "\n",
    "        # 是否存在储存pdf用的年份文件夹，不存在则创建\n",
    "        if os.path.exists(file_save_root+'/'+each_file):\n",
    "            pass\n",
    "        else:\n",
    "            os.makedirs(file_save_root+'/'+each_file)\n",
    "\n",
    "        for each_csv in downloaded_lst:\n",
    "\n",
    "            # 是否存在储存pdf用的年份文件夹下的行业文件夹，不存在则创建\n",
    "            if os.path.exists(file_save_root+'/'+each_file+'/'+each_csv[:-4]):\n",
    "                pass\n",
    "            else:\n",
    "                os.makedirs(file_save_root+'/'+each_file+'/'+each_csv[:-4])\n",
    "\n",
    "            file_save_pdf = file_save_root+'/'+each_file+'/'+each_csv[:-4] # 用于保存该年份该行业的pdf年报的文件夹\n",
    "\n",
    "            download_df_file = downloaded_file+'/'+each_csv\n",
    "            download_df = pd.read_csv(download_df_file, engine='python' , header = None) # 读取包含下载地址的csv文件\n",
    "\n",
    "            already_downloaded_list = os.listdir(file_save_pdf)\n",
    "\n",
    "            for i in range(len(download_df)):\n",
    "                stock_pdf = download_df.iloc[i,]\n",
    "\n",
    "                # 已经下载过则不再下载\n",
    "                if stock_pdf[0] in already_downloaded_list:\n",
    "                    continue\n",
    "\n",
    "                # 标题包含已取消与摘要不下载\n",
    "                if '已取消' in stock_pdf[0] or '摘要' in stock_pdf[0] or '英文版' in stock_pdf[0]:\n",
    "                    continue\n",
    "\n",
    "                # 报错下载地址记录，暂时好像没起作用？\n",
    "                try:\n",
    "                    u = urllib.request.urlopen(stock_pdf[1]) # 下载文件\n",
    "                except:\n",
    "                    errorAddress = open(file_save_root+'/'+'errorAddress.txt', 'a')\n",
    "                    errorAddress.write(stock_pdf[1]+'\\r\\n')\n",
    "                    errorAddress.close()\n",
    "                    print('--------------------')\n",
    "                    continue\n",
    "\n",
    "                stock_pdf_name = stock_pdf[0].replace('*',\"S\") # 将*ST改为SST\n",
    "                f = open(file_save_pdf+'/'+stock_pdf_name, 'wb')\n",
    "\n",
    "                block_sz = 8192\n",
    "                while True:\n",
    "                    buffer = u.read(block_sz)\n",
    "\n",
    "                    if not buffer:\n",
    "                        break\n",
    "\n",
    "                    f.write(buffer) # 保存文件\n",
    "                f.close()\n",
    "                u.close()\n",
    "                pct = i/len(download_df)\n",
    "                print(each_file+each_csv[:-4]+'%.3f' % pct, end=\"\\r\") # 记录进度\n",
    "\n",
    "            print(each_file+each_csv[:-4],'finished!')\n",
    "\n",
    "####### RUN ################################################################################################      \n",
    "\n",
    "report_pdf_download(previous_save_file = 'D:/report_pdf',\n",
    "                    file_save_root = 'D:/report_pdf_download')"
   ]
  },
  {
   "cell_type": "code",
   "execution_count": null,
   "metadata": {},
   "outputs": [],
   "source": []
  }
 ],
 "metadata": {
  "kernelspec": {
   "display_name": "Python 3",
   "language": "python",
   "name": "python3"
  },
  "language_info": {
   "codemirror_mode": {
    "name": "ipython",
    "version": 3
   },
   "file_extension": ".py",
   "mimetype": "text/x-python",
   "name": "python",
   "nbconvert_exporter": "python",
   "pygments_lexer": "ipython3",
   "version": "3.6.5"
  }
 },
 "nbformat": 4,
 "nbformat_minor": 2
}
