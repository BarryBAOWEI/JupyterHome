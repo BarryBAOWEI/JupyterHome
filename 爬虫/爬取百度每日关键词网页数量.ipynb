{
 "cells": [
  {
   "cell_type": "code",
   "execution_count": 6,
   "metadata": {
    "scrolled": true
   },
   "outputs": [
    {
     "name": "stdout",
     "output_type": "stream",
     "text": [
      "News3350/3350\r"
     ]
    },
    {
     "ename": "TypeError",
     "evalue": "to_csv() got an unexpected keyword argument 'replace'",
     "output_type": "error",
     "traceback": [
      "\u001b[1;31m---------------------------------------------------------------------------\u001b[0m",
      "\u001b[1;31mTypeError\u001b[0m                                 Traceback (most recent call last)",
      "\u001b[1;32m<ipython-input-6-e734ddc3e2de>\u001b[0m in \u001b[0;36m<module>\u001b[1;34m()\u001b[0m\n\u001b[0;32m     56\u001b[0m     \u001b[0mprint\u001b[0m\u001b[1;33m(\u001b[0m\u001b[1;34m'News%d/%d'\u001b[0m\u001b[1;33m%\u001b[0m \u001b[1;33m(\u001b[0m\u001b[0mcnt\u001b[0m\u001b[1;33m,\u001b[0m\u001b[0mlen\u001b[0m\u001b[1;33m(\u001b[0m\u001b[0mlist\u001b[0m\u001b[1;33m(\u001b[0m\u001b[0mpd\u001b[0m\u001b[1;33m.\u001b[0m\u001b[0mdate_range\u001b[0m\u001b[1;33m(\u001b[0m\u001b[1;34m'12/1/2009'\u001b[0m\u001b[1;33m,\u001b[0m\u001b[1;34m'2/1/2019'\u001b[0m\u001b[1;33m)\u001b[0m\u001b[1;33m)\u001b[0m\u001b[1;33m)\u001b[0m\u001b[1;33m)\u001b[0m\u001b[1;33m,\u001b[0m \u001b[0mend\u001b[0m\u001b[1;33m=\u001b[0m\u001b[1;34m\"\\r\"\u001b[0m\u001b[1;33m)\u001b[0m\u001b[1;33m\u001b[0m\u001b[0m\n\u001b[0;32m     57\u001b[0m \u001b[1;33m\u001b[0m\u001b[0m\n\u001b[1;32m---> 58\u001b[1;33m \u001b[0mdf_save\u001b[0m\u001b[1;33m.\u001b[0m\u001b[0mto_csv\u001b[0m\u001b[1;33m(\u001b[0m\u001b[1;34m'C:/Users/jxjsj/Desktop/JupyterHome/Data/news091201-190201.csv'\u001b[0m\u001b[1;33m,\u001b[0m\u001b[0mindex\u001b[0m\u001b[1;33m=\u001b[0m \u001b[1;32mTrue\u001b[0m\u001b[1;33m,\u001b[0m\u001b[0mreplace\u001b[0m \u001b[1;33m=\u001b[0m \u001b[1;32mTrue\u001b[0m\u001b[1;33m)\u001b[0m\u001b[1;33m\u001b[0m\u001b[0m\n\u001b[0m",
      "\u001b[1;31mTypeError\u001b[0m: to_csv() got an unexpected keyword argument 'replace'"
     ]
    }
   ],
   "source": [
    "import requests, urllib, time, re\n",
    "from datetime import datetime, date, timedelta\n",
    "import numpy as np\n",
    "import pandas as pd\n",
    "\n",
    "# 第一遍跑\n",
    "# df_save = pd.DataFrame(columns=['news_cnt'],index=pd.date_range('12/1/2009','2/1/2019'))\n",
    "# df_save = df_save.fillna(-1)\n",
    "# 非第一遍泡\n",
    "df_save = pd.read_csv('C:/Users/jxjsj/Desktop/JupyterHome/Data/news091201-190201.csv',index_col=0)\n",
    "\n",
    "cnt = 0\n",
    "for i in list(pd.date_range('12/1/2009','2/1/2019')):\n",
    "    \n",
    "    # ！！第一编跑，关闭该段！！！！！最前判断 - 已经读取过则不再搜索\n",
    "    if df_save.iloc[cnt,0]!=str(-1):\n",
    "        cnt += 1\n",
    "        print('News%d/%d'% (cnt,len(list(pd.date_range('12/1/2009','2/1/2019')))), end=\"\\r\")\n",
    "        continue\n",
    "    \n",
    "    # 生成i日时间戳与过去一周时间戳\n",
    "    end_day = str(int(time.mktime(time.strptime(str(i), \"%Y-%m-%d %H:%M:%S\")))+60*60*24-1)\n",
    "    start_day = str(int(time.mktime(time.strptime(str(i), \"%Y-%m-%d %H:%M:%S\")))-60*60*24*(6+7)) # 这两个要相同！！--------\n",
    "    \n",
    "    # 获取起始与终止时间\n",
    "    end_day_ = str(i)[0:10]\n",
    "    start_day_ = str(i+timedelta(-13))[0:10] # 这两个要相同！！--------\n",
    "    \n",
    "    # 生成搜索关键词\n",
    "    keywords_lst = ''\n",
    "    for keyword in ['证监会','股市']:\n",
    "        keywords_lst += urllib.parse.quote(\"\\\"\"+keyword+\"\\\"\"+\" \")     \n",
    "    keywords_str = keywords_lst[:-3]\n",
    "    \n",
    "    url = 'https://news.baidu.com/ns?from=news&cl=2'+\\\n",
    "    '&bt='+start_day+\\\n",
    "    '&et='+end_day+\\\n",
    "    '&q3='+keywords_str+\\\n",
    "    '&y0='+start_day_[:4]+\\\n",
    "    '&m0='+start_day_[5:7]+\\\n",
    "    '&d0='+start_day_[8:10]+\\\n",
    "    '&y1='+end_day_[:4]+\\\n",
    "    '&m1='+end_day_[5:7]+\\\n",
    "    '&d1='+end_day_[8:10]+\\\n",
    "    '&begin_date='+start_day[0:10]+\\\n",
    "    '&end_date='+end_day_[0:10]+\\\n",
    "    '&mt=0&s=2&tn=newsdy&ct1=1&ct=1&rn=20'\n",
    "    \n",
    "    try:\n",
    "        # 发送请求，获取内容\n",
    "        response = requests.get(url)\n",
    "        text = response.text\n",
    "        find = re.findall('<span class=\"nums\">(.*?)</span>',text)[0]\n",
    "        \n",
    "        # 记录\n",
    "        df_save.iloc[cnt,0] = find\n",
    "                \n",
    "    except:\n",
    "        df_save.to_csv('C:/Users/jxjsj/Desktop/JupyterHome/Data/news091201-190201.csv',index= True)\n",
    "        time.sleep(3)\n",
    "        print('pass',end=\"\\r\")    \n",
    "    \n",
    "    if (cnt+1)%100 >  (cnt)%100:\n",
    "        df_save.to_csv('C:/Users/jxjsj/Desktop/JupyterHome/Data/news091201-190201.csv',index= True)\n",
    "        \n",
    "    cnt += 1\n",
    "    \n",
    "    print('News%d/%d'% (cnt,len(list(pd.date_range('12/1/2009','2/1/2019')))), end=\"\\r\")\n",
    "\n",
    "df_save.to_csv('C:/Users/jxjsj/Desktop/JupyterHome/Data/news091201-190201.csv',index= True,replace = True)"
   ]
  },
  {
   "cell_type": "code",
   "execution_count": 5,
   "metadata": {},
   "outputs": [
    {
     "data": {
      "text/plain": [
       "'找到相关新闻80篇'"
      ]
     },
     "execution_count": 5,
     "metadata": {},
     "output_type": "execute_result"
    }
   ],
   "source": [
    "df_save.iloc[3093,0]"
   ]
  },
  {
   "cell_type": "code",
   "execution_count": null,
   "metadata": {},
   "outputs": [],
   "source": [
    "'https://news.baidu.com/ns?from=news&cl=2'\n",
    "'&bt='1551456000\n",
    "'&et='1551542399\n",
    "'&q3='\n",
    "'&mt=0&s=2&tn=newsdy&ct1=1&ct=1&rn=20'"
   ]
  },
  {
   "cell_type": "code",
   "execution_count": 110,
   "metadata": {},
   "outputs": [],
   "source": [
    "keywords_lst = ''\n",
    "for keyword in ['股市','证监会']:\n",
    "    keywords_lst += urllib.parse.quote(\"\\\"\"+keyword+\"\\\"\")"
   ]
  },
  {
   "cell_type": "code",
   "execution_count": 6,
   "metadata": {},
   "outputs": [
    {
     "data": {
      "text/plain": [
       "'https://news.baidu.com/ns?from=news&cl=2&bt=1259164800&et=1260374399&q3=%22%E8%AF%81%E7%9B%91%E4%BC%9A%22%20%22%E8%82%A1%E5%B8%82%22&y0=2009&m0=11&d0=26&y1=2009&m1=12&d1=09&begin_date=1259164800&end_date=2009-12-09&mt=0&s=2&tn=newsdy&ct1=1&ct=1&rn=20'"
      ]
     },
     "execution_count": 6,
     "metadata": {},
     "output_type": "execute_result"
    }
   ],
   "source": [
    "url"
   ]
  },
  {
   "cell_type": "code",
   "execution_count": null,
   "metadata": {},
   "outputs": [],
   "source": []
  }
 ],
 "metadata": {
  "kernelspec": {
   "display_name": "Python 3",
   "language": "python",
   "name": "python3"
  },
  "language_info": {
   "codemirror_mode": {
    "name": "ipython",
    "version": 3
   },
   "file_extension": ".py",
   "mimetype": "text/x-python",
   "name": "python",
   "nbconvert_exporter": "python",
   "pygments_lexer": "ipython3",
   "version": "3.6.5"
  }
 },
 "nbformat": 4,
 "nbformat_minor": 2
}
