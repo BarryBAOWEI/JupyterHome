{
 "cells": [
  {
   "cell_type": "code",
   "execution_count": 109,
   "metadata": {},
   "outputs": [],
   "source": [
    "import tushare as ts\n",
    "import pandas as pd\n",
    "import datetime\n",
    "from sklearn import linear_model\n",
    "from sklearn.metrics import mean_squared_error"
   ]
  },
  {
   "cell_type": "code",
   "execution_count": 53,
   "metadata": {},
   "outputs": [],
   "source": [
    "today = str(datetime.date.today())"
   ]
  },
  {
   "cell_type": "code",
   "execution_count": 76,
   "metadata": {},
   "outputs": [],
   "source": [
    "df_index_sh = ts.get_k_data('sh',start = '2000-01-01',end = today)\n",
    "df_vanke = ts.get_k_data('000002',start = '2000-01-01',end = today)"
   ]
  },
  {
   "cell_type": "code",
   "execution_count": 92,
   "metadata": {},
   "outputs": [],
   "source": [
    "df_test = pd.merge(left=pd_vanke, right=pd_index_sh, how='inner', left_on='date', right_on='date')[['date','close_x','close_y']]"
   ]
  },
  {
   "cell_type": "code",
   "execution_count": 93,
   "metadata": {},
   "outputs": [],
   "source": [
    "df_test.columns = ['date','vanke','index_sh']"
   ]
  },
  {
   "cell_type": "code",
   "execution_count": 105,
   "metadata": {},
   "outputs": [],
   "source": [
    "regr = linear_model.LinearRegression()\n",
    "model = regr.fit(df_test['vanke'].values.reshape(-1, 1),df_test['index_sh']) "
   ]
  },
  {
   "cell_type": "code",
   "execution_count": 108,
   "metadata": {},
   "outputs": [
    {
     "data": {
      "text/plain": [
       "0.49256270183439965"
      ]
     },
     "execution_count": 108,
     "metadata": {},
     "output_type": "execute_result"
    }
   ],
   "source": [
    "model.score(df_test['vanke'].values.reshape(-1, 1),df_test['index_sh'])"
   ]
  },
  {
   "cell_type": "code",
   "execution_count": null,
   "metadata": {
    "collapsed": true
   },
   "outputs": [],
   "source": [
    "def get_k_data_describe(code=None, start='', end='',\n",
    "                  ktype='D', autype='qfq', \n",
    "                  index=False,\n",
    "                  retry_count=3,\n",
    "                  pause=0.001):\n",
    "    \"\"\"\n",
    "    获取k线数据\n",
    "    ---------\n",
    "    Parameters:\n",
    "      code:string\n",
    "                  股票代码 e.g. 600848\n",
    "      start:string\n",
    "                  开始日期 format：YYYY-MM-DD 为空时取当前日期\n",
    "      end:string\n",
    "                  结束日期 format：YYYY-MM-DD 为空时取去年今日\n",
    "      autype:string\n",
    "                  复权类型，qfq-前复权 hfq-后复权 None-不复权，默认为qfq\n",
    "      ktype：string\n",
    "                  数据类型，D=日k线 W=周 M=月 5=5分钟 15=15分钟 30=30分钟 60=60分钟，默认为D\n",
    "      retry_count : int, 默认 3\n",
    "                 如遇网络等问题重复执行的次数 \n",
    "      pause : int, 默认 0\n",
    "                重复请求数据过程中暂停的秒数，防止请求间隔时间太短出现的问题\n",
    "      drop_factor : bool, 默认 True\n",
    "                是否移除复权因子，在分析过程中可能复权因子意义不大，但是如需要先储存到数据库之后再分析的话，有该项目会更加灵活\n",
    "    \"\"\"\n",
    "    pass"
   ]
  }
 ],
 "metadata": {
  "kernelspec": {
   "display_name": "Python 3",
   "language": "python",
   "name": "python3"
  },
  "language_info": {
   "codemirror_mode": {
    "name": "ipython",
    "version": 3
   },
   "file_extension": ".py",
   "mimetype": "text/x-python",
   "name": "python",
   "nbconvert_exporter": "python",
   "pygments_lexer": "ipython3",
   "version": "3.6.5"
  }
 },
 "nbformat": 4,
 "nbformat_minor": 1
}
