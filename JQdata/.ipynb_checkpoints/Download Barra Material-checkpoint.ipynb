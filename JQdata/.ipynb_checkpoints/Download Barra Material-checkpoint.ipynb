{
 "cells": [
  {
   "cell_type": "code",
   "execution_count": 1,
   "metadata": {},
   "outputs": [],
   "source": [
    "import jqdatasdk as jq\n",
    "import pandas as pd\n",
    "import numpy as np"
   ]
  },
  {
   "cell_type": "code",
   "execution_count": 2,
   "metadata": {},
   "outputs": [
    {
     "name": "stdout",
     "output_type": "stream",
     "text": [
      "auth success （JQData现有流量增加活动，详情请咨询JQData管理员，微信号：JQData02）\n"
     ]
    }
   ],
   "source": [
    "jq.auth('13918852005','960312Lsc')"
   ]
  },
  {
   "cell_type": "code",
   "execution_count": null,
   "metadata": {},
   "outputs": [],
   "source": [
    "'''\n",
    "数据储存处csv\n",
    "D:/DataBaseForBarra/\n",
    "'''"
   ]
  },
  {
   "cell_type": "code",
   "execution_count": null,
   "metadata": {},
   "outputs": [],
   "source": [
    "'''\n",
    "样本范围\n",
    "不选取全部股票，由于下载量限制\n",
    "选择11-19年出现于沪深300的沪深590只股票\n",
    "'''"
   ]
  },
  {
   "cell_type": "code",
   "execution_count": 3,
   "metadata": {},
   "outputs": [],
   "source": [
    "tol_hs300_list = []\n",
    "for year in range(2011,2020):\n",
    "    hs300_list = jq.get_index_stocks('000300.XSHG', date=str(year)+'-06-01')\n",
    "    tol_hs300_list += hs300_list"
   ]
  },
  {
   "cell_type": "code",
   "execution_count": 4,
   "metadata": {},
   "outputs": [],
   "source": [
    "tol_hs300_list = list(set(tol_hs300_list))"
   ]
  },
  {
   "cell_type": "code",
   "execution_count": null,
   "metadata": {},
   "outputs": [],
   "source": [
    "'''\n",
    "获取交易日 - 顺便获取沪深300基准行情数据，前复权\n",
    "时间范围选择 2010-01-01 至 2019-05-31\n",
    "'''"
   ]
  },
  {
   "cell_type": "code",
   "execution_count": 24,
   "metadata": {},
   "outputs": [],
   "source": [
    "hs300_trade_data = jq.get_price('000300.XSHG', start_date='2010-01-01', end_date='2019-05-31', frequency='daily', fields=None, skip_paused=False, fq='pre')\n",
    "hs300_trade_data.to_csv('D:/DataBaseForBarra/hs300_trade_data.csv',index=True)"
   ]
  },
  {
   "cell_type": "code",
   "execution_count": 29,
   "metadata": {},
   "outputs": [],
   "source": [
    "hs300_trade_data.index.to_frame().rename(columns={0:'trade_day'}).to_csv('D:/DataBaseForBarra/trade_day_data.csv',index=False)"
   ]
  },
  {
   "cell_type": "code",
   "execution_count": null,
   "metadata": {},
   "outputs": [],
   "source": [
    "'''\n",
    "获取市值相关数据 - 总股本、流通股本、总市值、流通市值、换手率、市盈率、市净率、市销率、市现率\n",
    "涉及到基本面数据的均用当日可见最近一年（静态除外）的数据计算\n",
    "'''"
   ]
  },
  {
   "cell_type": "code",
   "execution_count": 8,
   "metadata": {},
   "outputs": [],
   "source": [
    "trade_day_df = pd.read_csv('D:/DataBaseForBarra/trade_day_data.csv')\n",
    "trade_day_list = trade_day_df['trade_day'].tolist()"
   ]
  },
  {
   "cell_type": "code",
   "execution_count": 74,
   "metadata": {
    "scrolled": true
   },
   "outputs": [],
   "source": [
    "# database1 = pd.DataFrame()\n",
    "cnt1 = 0\n",
    "for date in trade_day_list:\n",
    "        \n",
    "    if len(database1[(database1['day'] == date)]) != 0:\n",
    "        continue\n",
    "\n",
    "    tmp1 = jq.get_fundamentals(jq.query(jq.valuation).filter(jq.valuation.code.in_(tol_hs300_list))\n",
    "                          ,date = date, statDate = None)\n",
    "    database1 = pd.concat([database1,tmp1],axis=0)\n",
    "\n",
    "    if cnt1%50 == 0:\n",
    "        database1.to_csv('D:/DataBaseForBarra/database1.csv',index=False)\n",
    "    cnt1 += 1"
   ]
  },
  {
   "cell_type": "code",
   "execution_count": 75,
   "metadata": {},
   "outputs": [],
   "source": [
    "database1.to_csv('D:/DataBaseForBarra/database1.csv',index=False)\n",
    "database1 = pd.read_csv('D:/DataBaseForBarra/database1.csv')"
   ]
  },
  {
   "cell_type": "code",
   "execution_count": null,
   "metadata": {},
   "outputs": [],
   "source": [
    "'''\n",
    "获取财务指标数据\n",
    "最近一个季度基本面数据及衍生指标\n",
    "'''"
   ]
  },
  {
   "cell_type": "code",
   "execution_count": 79,
   "metadata": {},
   "outputs": [],
   "source": [
    "# database2 = pd.DataFrame()\n",
    "cnt2 = 0\n",
    "for date in trade_day_list:\n",
    "        \n",
    "    if len(database2[(database2['day'] == date)]) != 0:\n",
    "        continue\n",
    "\n",
    "    tmp2 = jq.get_fundamentals(jq.query(jq.indicator).filter(jq.indicator.code.in_(tol_hs300_list))\n",
    "                          ,date = date, statDate = None)\n",
    "    database2 = pd.concat([database2,tmp2],axis=0)\n",
    "    \n",
    "    if cnt2%50 == 0:\n",
    "        database2.to_csv('D:/DataBaseForBarra/database2.csv',index=False)\n",
    "    cnt2 += 1"
   ]
  },
  {
   "cell_type": "code",
   "execution_count": 80,
   "metadata": {},
   "outputs": [],
   "source": [
    "database2.to_csv('D:/DataBaseForBarra/database2.csv',index=False)\n",
    "database2 = pd.read_csv('D:/DataBaseForBarra/database2.csv')"
   ]
  },
  {
   "cell_type": "code",
   "execution_count": null,
   "metadata": {},
   "outputs": [],
   "source": [
    "'''\n",
    "获取行业数据\n",
    "日度数据，会存在暂时未被分类到申万一级行业的情况NaN\n",
    "'''"
   ]
  },
  {
   "cell_type": "code",
   "execution_count": 170,
   "metadata": {
    "scrolled": true
   },
   "outputs": [],
   "source": [
    "# database3 = pd.DataFrame()\n",
    "cnt3 = 0\n",
    "for date in trade_day_list:\n",
    "        \n",
    "    if len(database3[(database3['day'] == date)]) != 0:\n",
    "        continue\n",
    "    \n",
    "    tmp3_dict = jq.get_industry(tol_hs300_list, date=date)\n",
    "    \n",
    "    stock_in_list = tmp3_dict.keys()\n",
    "    \n",
    "    save_dict = {}\n",
    "    for keys in stock_in_list:\n",
    "        try:\n",
    "            in_code = tmp3_dict[keys]['sw_l1']['industry_code']\n",
    "            in_name = tmp3_dict[keys]['sw_l1']['industry_name']\n",
    "        except:\n",
    "            in_code = np.nan\n",
    "            in_name = np.nan\n",
    "        save_dict[keys] = [in_name,in_code]\n",
    "    tmp3 = pd.DataFrame.from_dict(save_dict,orient='index').rename(columns={0:'in_name',1:'in_code'})\n",
    "    tmp3['day'] = date\n",
    "    tmp3 = tmp3.reset_index().rename(columns={'index':'code'})\n",
    "    database3 = pd.concat([database3,tmp3],axis=0)\n",
    "\n",
    "    if cnt3%50 == 0:\n",
    "        database3.to_csv('D:/DataBaseForBarra/database3.csv',index=False)\n",
    "    cnt3 += 1"
   ]
  },
  {
   "cell_type": "code",
   "execution_count": 171,
   "metadata": {},
   "outputs": [],
   "source": [
    "database3.to_csv('D:/DataBaseForBarra/database3.csv',index=False)\n",
    "database3 = pd.read_csv('D:/DataBaseForBarra/database3.csv')"
   ]
  },
  {
   "cell_type": "code",
   "execution_count": null,
   "metadata": {},
   "outputs": [],
   "source": [
    "'''\n",
    "获取行情数据\n",
    "'''"
   ]
  },
  {
   "cell_type": "code",
   "execution_count": 172,
   "metadata": {
    "scrolled": true
   },
   "outputs": [],
   "source": [
    "# database4 = pd.DataFrame()\n",
    "cnt4 = 0\n",
    "for date in trade_day_list:\n",
    "\n",
    "    if len(database4[(database4['day'] == date)]) != 0:\n",
    "        continue    \n",
    "    \n",
    "    t4 = jq.get_price(tol_hs300_list, start_date=date, end_date=date, frequency='daily', fields=None, skip_paused=False, fq='pre')\n",
    "    \n",
    "    tmp4 = pd.DataFrame(columns=['code'])\n",
    "    for col in ['open','close','high','low','volume','money']:\n",
    "        tt4 = t4[col].T.reset_index()\n",
    "        tt4.columns = ['code',col]\n",
    "        tmp4 = tmp4.merge(tt4,on=['code'],how='outer')\n",
    "    tmp4['day'] = date\n",
    "    \n",
    "    database4 = pd.concat([database4,tmp4],axis=0)\n",
    "\n",
    "    if cnt4%50 == 0:\n",
    "        database4.to_csv('D:/DataBaseForBarra/database4.csv',index=False)\n",
    "    cnt4 += 1"
   ]
  },
  {
   "cell_type": "code",
   "execution_count": 173,
   "metadata": {},
   "outputs": [],
   "source": [
    "database4.to_csv('D:/DataBaseForBarra/database4.csv',index=False)\n",
    "database4 = pd.read_csv('D:/DataBaseForBarra/database4.csv')"
   ]
  },
  {
   "cell_type": "code",
   "execution_count": null,
   "metadata": {},
   "outputs": [],
   "source": [
    "'''\n",
    "获取资产负债表数据\n",
    "'''"
   ]
  },
  {
   "cell_type": "code",
   "execution_count": 9,
   "metadata": {
    "scrolled": true
   },
   "outputs": [],
   "source": [
    "# database5 = pd.DataFrame()\n",
    "cnt5 = 0\n",
    "for date in trade_day_list:\n",
    "        \n",
    "    if len(database5[(database5['day'] == date)]) != 0:\n",
    "        continue\n",
    "\n",
    "    tmp5 = jq.get_fundamentals(jq.query(jq.balance).filter(jq.balance.code.in_(tol_hs300_list))\n",
    "                          ,date = date, statDate = None)\n",
    "    database5 = pd.concat([database5,tmp5],axis=0)\n",
    "    \n",
    "    if cnt5%50 == 0:\n",
    "        database5.to_csv('D:/DataBaseForBarra/database5.csv',index=False)\n",
    "    cnt5 += 1"
   ]
  },
  {
   "cell_type": "code",
   "execution_count": 10,
   "metadata": {},
   "outputs": [],
   "source": [
    "database5.to_csv('D:/DataBaseForBarra/database5.csv',index=False)\n",
    "database5 = pd.read_csv('D:/DataBaseForBarra/database5.csv')"
   ]
  }
 ],
 "metadata": {
  "kernelspec": {
   "display_name": "Python 3",
   "language": "python",
   "name": "python3"
  },
  "language_info": {
   "codemirror_mode": {
    "name": "ipython",
    "version": 3
   },
   "file_extension": ".py",
   "mimetype": "text/x-python",
   "name": "python",
   "nbconvert_exporter": "python",
   "pygments_lexer": "ipython3",
   "version": "3.6.5"
  }
 },
 "nbformat": 4,
 "nbformat_minor": 2
}
