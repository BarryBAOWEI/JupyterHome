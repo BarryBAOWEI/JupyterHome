{
 "cells": [
  {
   "cell_type": "code",
   "execution_count": 1,
   "metadata": {},
   "outputs": [],
   "source": [
    "import jqdatasdk as jq\n",
    "import pandas as pd"
   ]
  },
  {
   "cell_type": "code",
   "execution_count": 2,
   "metadata": {},
   "outputs": [
    {
     "name": "stdout",
     "output_type": "stream",
     "text": [
      "auth success\n"
     ]
    }
   ],
   "source": [
    "jq.auth('13918852005','jxjslsc,.?2')"
   ]
  },
  {
   "cell_type": "code",
   "execution_count": 3,
   "metadata": {},
   "outputs": [],
   "source": [
    "# szzs 1day data\n",
    "SZZS = jq.get_price(security='000001.XSHG', start_date='2008-01-01', end_date='2018-11-01', frequency='daily', fields=None, skip_paused=False, fq='pre', count=None)\n",
    "\n",
    "SZZS.to_csv('C:/Users/jxjsj/Desktop/JupyterHome/Data/SZZS080101-181101.csv',index= True)"
   ]
  },
  {
   "cell_type": "code",
   "execution_count": 5,
   "metadata": {
    "scrolled": true
   },
   "outputs": [],
   "source": [
    "# szzs 5min data\n",
    "SZZS_five_min = jq.get_price(security='000001.XSHG', start_date='2008-01-01', end_date='2018-12-01', frequency='5m', fields=None, skip_paused=False, fq='pre', count=None)\n",
    "\n",
    "SZZS_five_min.to_csv('C:/Users/jxjsj/Desktop/JupyterHome/Data/SZZS_five_min080101-181201.csv',index= True)"
   ]
  },
  {
   "cell_type": "code",
   "execution_count": 3,
   "metadata": {},
   "outputs": [],
   "source": [
    "# cybz 1day data\n",
    "CYBZ = jq.get_price(security='399006.XSHE', start_date='2010-06-01', end_date='2018-12-01', frequency='daily', fields=None, skip_paused=False, fq='pre', count=None)\n",
    "\n",
    "CYBZ.to_csv('C:/Users/jxjsj/Desktop/JupyterHome/Data/CYBZ100601-181201.csv',index= True)"
   ]
  },
  {
   "cell_type": "code",
   "execution_count": 5,
   "metadata": {},
   "outputs": [],
   "source": [
    "# cybz 5min data\n",
    "CYBZ_five_min = jq.get_price(security='399006.XSHE', start_date='2010-06-01', end_date='2018-12-01', frequency='5m', fields=None, skip_paused=False, fq='pre', count=None)\n",
    "\n",
    "CYBZ_five_min.to_csv('C:/Users/jxjsj/Desktop/JupyterHome/Data/CYBZ_five_min100601-181201.csv',index= True)"
   ]
  },
  {
   "cell_type": "code",
   "execution_count": null,
   "metadata": {},
   "outputs": [],
   "source": []
  }
 ],
 "metadata": {
  "kernelspec": {
   "display_name": "Python 3",
   "language": "python",
   "name": "python3"
  },
  "language_info": {
   "codemirror_mode": {
    "name": "ipython",
    "version": 3
   },
   "file_extension": ".py",
   "mimetype": "text/x-python",
   "name": "python",
   "nbconvert_exporter": "python",
   "pygments_lexer": "ipython3",
   "version": "3.6.5"
  }
 },
 "nbformat": 4,
 "nbformat_minor": 2
}
