{
 "cells": [
  {
   "cell_type": "code",
   "execution_count": 1,
   "metadata": {
    "collapsed": true
   },
   "outputs": [],
   "source": [
    "import tushare as ts\n",
    "import pandas as pd\n",
    "import datetime"
   ]
  },
  {
   "cell_type": "code",
   "execution_count": 2,
   "metadata": {
    "collapsed": true
   },
   "outputs": [],
   "source": [
    "def stock_inf_get(L,start_date,end_date):\n",
    "    \"\"\"\n",
    "    L         : list 股票代码的列表，例如['000002','000423',...]\n",
    "    start_date: str  数据起始时间，格式YYYY-MM-DD\n",
    "    end_date  : str  数据结束时间，格式YYYY-MM-DD\n",
    "    \"\"\"\n",
    "    dict_stock_all = {}\n",
    "    for stock_code in L:\n",
    "        df = ts.get_k_data(stock_code,start = start_date,end = end_date)[['code','date','open','close','volume']]\n",
    "        df['return'] = df['close'].pct_change()\n",
    "        dict_stock_all[stock_code] = df\n",
    "    return dict_stock_all"
   ]
  },
  {
   "cell_type": "code",
   "execution_count": 3,
   "metadata": {
    "collapsed": true
   },
   "outputs": [],
   "source": [
    "def stock_to_excel(outputpath,df_dict):\n",
    "    \"\"\"\n",
    "    outputpath: str  输出路径，例如'c:/XXX/YYYYY'\n",
    "    df_dict   : dict stock_inf_get函数得到的结果字典\n",
    "    \"\"\"\n",
    "    outputfile = outputpath + '/stock_inf.xlsx'\n",
    "    writer = pd.ExcelWriter(outputfile)\n",
    "    for key, value in df_dict.items():\n",
    "        value.to_excel(writer,key,index=False)\n",
    "    writer.save()"
   ]
  },
  {
   "cell_type": "code",
   "execution_count": 7,
   "metadata": {
    "collapsed": false
   },
   "outputs": [],
   "source": [
    "################### 启动函数,跑它就行 ###################\n",
    "def run_all(L,start_date,end_date,outputpath):\n",
    "    \"\"\"\n",
    "    参数说明\n",
    "    L         : list 股票代码的列表，例如['000002','000423',...]\n",
    "    start_date: str  数据起始时间，格式YYYY-MM-DD\n",
    "    end_date  : str  数据结束时间，格式YYYY-MM-DD\n",
    "    outputpath: str  输出路径，例如'c:/XXX/YYYYY'\n",
    "    \"\"\"\n",
    "    df_dict = stock_inf_get(L,start_date,end_date)\n",
    "    stock_to_excel(outputpath,df_dict)\n",
    "    return df_dict\n",
    "######################################################\n",
    "\n",
    "#['600518','000538','000963','601607','600332','000153','000650','600196','600436','600085','300267','600572','600511']\n",
    "#康美药业，云南白药，华东医药，上海医药，白云山，丰原药业，仁和药业，复兴药业，片仔癀，同仁堂，尔康制药，康恩贝，国药股份\n",
    "\n",
    "all_stock_dict = run_all(\n",
    "    L = ['600436']\n",
    "    ,start_date = '2011-01-01'\n",
    "    ,end_date = '2017-12-31'\n",
    "    ,outputpath = 'C:/Users/43460/Desktop')"
   ]
  },
  {
   "cell_type": "code",
   "execution_count": 5,
   "metadata": {
    "collapsed": true
   },
   "outputs": [],
   "source": [
    "# python 的 DataFrame 结果全部保存在 all_stock_dict 中，以字典的形式\n",
    "# 以 df1 = all_stock_dict['600518'] 的方式就可以读取其中某一个股票的DataFrame并保存在df1中"
   ]
  }
 ],
 "metadata": {
  "kernelspec": {
   "display_name": "Python [Root]",
   "language": "python",
   "name": "Python [Root]"
  },
  "language_info": {
   "codemirror_mode": {
    "name": "ipython",
    "version": 3
   },
   "file_extension": ".py",
   "mimetype": "text/x-python",
   "name": "python",
   "nbconvert_exporter": "python",
   "pygments_lexer": "ipython3",
   "version": "3.5.2"
  }
 },
 "nbformat": 4,
 "nbformat_minor": 0
}
