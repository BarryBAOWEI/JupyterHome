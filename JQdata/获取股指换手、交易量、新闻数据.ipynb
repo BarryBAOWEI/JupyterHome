{
 "cells": [
  {
   "cell_type": "code",
   "execution_count": 1,
   "metadata": {},
   "outputs": [],
   "source": [
    "import jqdatasdk as jq\n",
    "import pandas as pd"
   ]
  },
  {
   "cell_type": "code",
   "execution_count": 2,
   "metadata": {},
   "outputs": [
    {
     "name": "stdout",
     "output_type": "stream",
     "text": [
      "auth success （JQData现有流量增加活动，详情请咨询JQData管理员，微信号：JQData01）\n"
     ]
    }
   ],
   "source": [
    "jq.auth('13918852005','jxjslsc,.?2')"
   ]
  },
  {
   "cell_type": "code",
   "execution_count": 17,
   "metadata": {},
   "outputs": [],
   "source": [
    "# 股指换手率、交易量数据 #\n",
    "df = jq.finance.run_query(jq.query(jq.finance.STK_EXCHANGE_TRADE_INFO).filter(\n",
    "    jq.finance.STK_EXCHANGE_TRADE_INFO.exchange_code==322001,\n",
    "    jq.finance.STK_EXCHANGE_TRADE_INFO.date>='2009-01-01'\n",
    "))"
   ]
  },
  {
   "cell_type": "code",
   "execution_count": 18,
   "metadata": {},
   "outputs": [],
   "source": [
    "df.index = df['date']"
   ]
  },
  {
   "cell_type": "code",
   "execution_count": 19,
   "metadata": {},
   "outputs": [],
   "source": [
    "df.to_csv('C:/Users/jxjsj/Desktop/JupyterHome/Data/SZZS_motion090101-190227.csv',index= True)"
   ]
  },
  {
   "cell_type": "code",
   "execution_count": 22,
   "metadata": {},
   "outputs": [],
   "source": [
    "df1 = jq.finance.run_query(jq.query(jq.finance.STK_EXCHANGE_TRADE_INFO).filter(\n",
    "    jq.finance.STK_EXCHANGE_TRADE_INFO.exchange_code==322005,\n",
    "    jq.finance.STK_EXCHANGE_TRADE_INFO.date>='2009-01-01'\n",
    "))\n",
    "df1.index = df1['date']\n",
    "df1.drop(['turnover_ratio'],axis=1,inplace=True)\n",
    "df1['turnover_ratio'] = df1.money/df1.circulating_market_cap*100\n",
    "df1.to_csv('C:/Users/jxjsj/Desktop/JupyterHome/Data/SZCZ_motion090101-190227.csv',index= True)"
   ]
  },
  {
   "cell_type": "code",
   "execution_count": 25,
   "metadata": {},
   "outputs": [],
   "source": [
    "df2 = jq.finance.run_query(jq.query(jq.finance.STK_EXCHANGE_TRADE_INFO).filter(\n",
    "    jq.finance.STK_EXCHANGE_TRADE_INFO.exchange_code==322007,\n",
    "    jq.finance.STK_EXCHANGE_TRADE_INFO.date>='2009-01-01'\n",
    "))\n",
    "df2.index = df2['date']\n",
    "df2.drop(['turnover_ratio'],axis=1,inplace=True)\n",
    "df2['turnover_ratio'] = df2.money/df2.circulating_market_cap*100\n",
    "df2.to_csv('C:/Users/jxjsj/Desktop/JupyterHome/Data/CYBZ_motion090101-190227.csv',index= True)"
   ]
  },
  {
   "cell_type": "code",
   "execution_count": 30,
   "metadata": {},
   "outputs": [],
   "source": [
    "# 交易日前一日新闻联播内容股市相关提到次数 全跑一遍 #\n",
    "# 关键词词库\n",
    "df_temp0 = jq.finance.run_query(jq.query(jq.finance.CCTV_NEWS).filter(\n",
    "        jq.finance.CCTV_NEWS.day>='2009-01-01',\n",
    "        jq.finance.CCTV_NEWS.title.like('%%金融%%')\n",
    "    ))\n",
    "\n",
    "for key_word in ['股市','证监会','证券','股票']:\n",
    "    df_temp1 = jq.finance.run_query(jq.query(jq.finance.CCTV_NEWS).filter(\n",
    "        jq.finance.CCTV_NEWS.day>='2009-01-01',\n",
    "        jq.finance.CCTV_NEWS.title.like('%%'+key_word+'%%'),\n",
    "    ))\n",
    "    df_temp0 = pd.concat([df_temp0,df_temp1],axis=0)\n",
    "    \n",
    "for key_word in ['金融','股市','证监会','证券','股票']:\n",
    "    df_temp2 = jq.finance.run_query(jq.query(jq.finance.CCTV_NEWS).filter(\n",
    "        jq.finance.CCTV_NEWS.day>='2009-01-01',\n",
    "        jq.finance.CCTV_NEWS.content.like('%%'+key_word+'%%'),\n",
    "    ))\n",
    "    df_temp0 = pd.concat([df_temp0,df_temp2],axis=0)"
   ]
  },
  {
   "cell_type": "code",
   "execution_count": 31,
   "metadata": {},
   "outputs": [],
   "source": [
    "df_new_cnt = df_temp0.groupby(df_temp0['day']).count()[['content']]"
   ]
  },
  {
   "cell_type": "code",
   "execution_count": 32,
   "metadata": {},
   "outputs": [],
   "source": [
    "# 今天的新闻联播对明天有影响，因此日期+1\n",
    "from datetime import datetime, date, timedelta\n",
    "day_list_pre1 = []\n",
    "for i in list(df_new_cnt.index):\n",
    "    day_temp = i + timedelta(1)\n",
    "    day_list_pre1.append(str(day_temp))"
   ]
  },
  {
   "cell_type": "code",
   "execution_count": 33,
   "metadata": {},
   "outputs": [],
   "source": [
    "df_new_cnt.index = day_list_pre1"
   ]
  },
  {
   "cell_type": "code",
   "execution_count": 34,
   "metadata": {
    "scrolled": true
   },
   "outputs": [],
   "source": [
    "df_new_cnt_all = pd.DataFrame(columns=['temp'],index=pd.date_range('1/1/2009','2/1/2019'))\n",
    "df_new_cnt_all = pd.merge(df_new_cnt_all, df_new_cnt, how = 'outer' ,left_index=True, right_index=True)\n",
    "df_new_cnt_all = df_new_cnt_all[['content']]\n",
    "df_new_cnt_all = df_new_cnt_all.fillna(0)"
   ]
  },
  {
   "cell_type": "code",
   "execution_count": 35,
   "metadata": {},
   "outputs": [],
   "source": [
    "# datetime.strptime(df_new_cnt_all.index[i], '%Y-%m-%d').weekday() == 5 or datetime.strptime(df_new_cnt_all.index[i], '%Y-%m-%d').weekday() == 6"
   ]
  },
  {
   "cell_type": "code",
   "execution_count": 36,
   "metadata": {
    "scrolled": true
   },
   "outputs": [],
   "source": [
    "for i in range(len(df_new_cnt_all)-1):\n",
    "    if df_new_cnt_all.index[i].weekday() == 5 or df_new_cnt_all.index[i].weekday() == 6:\n",
    "        df_new_cnt_all.iloc[i+1,0] += df_new_cnt_all.iloc[i,0]"
   ]
  },
  {
   "cell_type": "code",
   "execution_count": 37,
   "metadata": {},
   "outputs": [],
   "source": [
    "df_new_cnt_all['content'] = df_new_cnt_all.rolling(7).sum() # 过去一周新闻总和 - 持续影响，减少0"
   ]
  },
  {
   "cell_type": "code",
   "execution_count": 38,
   "metadata": {},
   "outputs": [],
   "source": [
    "df_new_cnt_all.to_csv('C:/Users/jxjsj/Desktop/JupyterHome/Data/news_cnt_090101-190201.csv',index= True)  \n",
    "# 最后用inner merge将df_new_cnt_all合并到总表中，会自动删除=5and=6(周六、周日新闻，留下周一（实际是周五+周六+周日）)"
   ]
  },
  {
   "cell_type": "code",
   "execution_count": 23,
   "metadata": {},
   "outputs": [
    {
     "data": {
      "text/plain": [
       "'-1'"
      ]
     },
     "execution_count": 23,
     "metadata": {},
     "output_type": "execute_result"
    }
   ],
   "source": [
    "df_new.iloc[3093,0]"
   ]
  },
  {
   "cell_type": "code",
   "execution_count": 25,
   "metadata": {},
   "outputs": [],
   "source": [
    "# 爬虫形式自行获取的过去两周新闻搜索量\n",
    "df_new = pd.read_csv('C:/Users/jxjsj/Desktop/JupyterHome/Data/news091201-190201.csv',index_col=0)"
   ]
  },
  {
   "cell_type": "code",
   "execution_count": 26,
   "metadata": {},
   "outputs": [],
   "source": [
    "import re\n",
    "new_cnt_lst=[]\n",
    "for i in range(len(df_new)):\n",
    "    try:\n",
    "        new_cnt = re.findall('找到相关新闻约(.*?)篇',df_new.iloc[i,0])[0]\n",
    "    except:\n",
    "        new_cnt = re.findall('找到相关新闻(.*?)篇',df_new.iloc[i,0])[0]\n",
    "    new_cnt_lst.append(int(new_cnt.replace(',','')))"
   ]
  },
  {
   "cell_type": "code",
   "execution_count": 27,
   "metadata": {},
   "outputs": [],
   "source": [
    "import numpy as np\n",
    "df_new['content'] = new_cnt_lst\n",
    "df_new['content'] = df_new['content'].apply(lambda x: np.log(x+1))"
   ]
  },
  {
   "cell_type": "code",
   "execution_count": 28,
   "metadata": {},
   "outputs": [],
   "source": [
    "df_new_save = df_new[['content']]\n",
    "df_new_save.to_csv('C:/Users/jxjsj/Desktop/JupyterHome/Data/news_cnt_090101-190201.csv',index= True) # 会覆盖JQData的数据！"
   ]
  },
  {
   "cell_type": "code",
   "execution_count": null,
   "metadata": {},
   "outputs": [],
   "source": []
  }
 ],
 "metadata": {
  "kernelspec": {
   "display_name": "Python 3",
   "language": "python",
   "name": "python3"
  },
  "language_info": {
   "codemirror_mode": {
    "name": "ipython",
    "version": 3
   },
   "file_extension": ".py",
   "mimetype": "text/x-python",
   "name": "python",
   "nbconvert_exporter": "python",
   "pygments_lexer": "ipython3",
   "version": "3.6.5"
  }
 },
 "nbformat": 4,
 "nbformat_minor": 2
}
