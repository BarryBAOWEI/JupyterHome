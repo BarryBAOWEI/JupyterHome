{
 "cells": [
  {
   "cell_type": "code",
   "execution_count": 1,
   "metadata": {},
   "outputs": [],
   "source": [
    "import jqdatasdk as jq\n",
    "import pandas as pd\n",
    "from jqdatasdk import macro"
   ]
  },
  {
   "cell_type": "code",
   "execution_count": 2,
   "metadata": {},
   "outputs": [
    {
     "name": "stdout",
     "output_type": "stream",
     "text": [
      "auth success\n"
     ]
    }
   ],
   "source": [
    "jq.auth('13918852005','jxjslsc,.?2')"
   ]
  },
  {
   "cell_type": "code",
   "execution_count": 43,
   "metadata": {},
   "outputs": [],
   "source": [
    "from jqdatasdk import finance\n",
    "for index in ['322001','322004' ,'322007']:    \n",
    "    data = finance.run_query(jq.query(jq.finance.STK_EXCHANGE_TRADE_INFO).filter(\n",
    "        jq.finance.STK_EXCHANGE_TRADE_INFO.exchange_code==index,\n",
    "        jq.finance.STK_EXCHANGE_TRADE_INFO.date>='2008-01-01'\n",
    "    ))\n",
    "    data.to_csv('C:/Users/jxjsj/Desktop/JupyterHome/Data/'+index+'Mcap080101_181212.csv',index= True)"
   ]
  },
  {
   "cell_type": "code",
   "execution_count": null,
   "metadata": {},
   "outputs": [],
   "source": []
  }
 ],
 "metadata": {
  "kernelspec": {
   "display_name": "Python 3",
   "language": "python",
   "name": "python3"
  },
  "language_info": {
   "codemirror_mode": {
    "name": "ipython",
    "version": 3
   },
   "file_extension": ".py",
   "mimetype": "text/x-python",
   "name": "python",
   "nbconvert_exporter": "python",
   "pygments_lexer": "ipython3",
   "version": "3.6.5"
  }
 },
 "nbformat": 4,
 "nbformat_minor": 2
}
