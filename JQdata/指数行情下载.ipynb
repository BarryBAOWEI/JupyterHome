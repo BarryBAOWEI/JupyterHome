{
 "cells": [
  {
   "cell_type": "code",
   "execution_count": 1,
   "metadata": {},
   "outputs": [],
   "source": [
    "import jqdatasdk as jq\n",
    "import pandas as pd\n",
    "import numpy as np"
   ]
  },
  {
   "cell_type": "code",
   "execution_count": 2,
   "metadata": {},
   "outputs": [
    {
     "name": "stdout",
     "output_type": "stream",
     "text": [
      "auth success （JQData现有流量增加活动，详情请咨询JQData管理员，微信号：JQData02）\n"
     ]
    }
   ],
   "source": [
    "jq.auth('13918852005','960312Lsc')"
   ]
  },
  {
   "cell_type": "code",
   "execution_count": null,
   "metadata": {},
   "outputs": [],
   "source": [
    "'''\n",
    "000016.XSHG 上证50\n",
    "000300.XSHG 沪深300\n",
    "000905.XSHG 中证500\n",
    "'''"
   ]
  },
  {
   "cell_type": "code",
   "execution_count": 5,
   "metadata": {
    "scrolled": true
   },
   "outputs": [],
   "source": [
    "sz50 = jq.get_price('000016.XSHG', start_date='2016-01-01', end_date='2019-05-31', frequency='daily', fields=None, skip_paused=False, fq='pre', count=None)"
   ]
  },
  {
   "cell_type": "code",
   "execution_count": 6,
   "metadata": {},
   "outputs": [],
   "source": [
    "hs300 = jq.get_price('000300.XSHG', start_date='2016-01-01', end_date='2019-05-31', frequency='daily', fields=None, skip_paused=False, fq='pre', count=None)"
   ]
  },
  {
   "cell_type": "code",
   "execution_count": 7,
   "metadata": {},
   "outputs": [],
   "source": [
    "zz500 = jq.get_price('000905.XSHG', start_date='2016-01-01', end_date='2019-05-31', frequency='daily', fields=None, skip_paused=False, fq='pre', count=None)"
   ]
  },
  {
   "cell_type": "code",
   "execution_count": 9,
   "metadata": {},
   "outputs": [],
   "source": [
    "sz50.to_csv('C:/Users/jxjsj/Desktop/sz50.csv',index=True)\n",
    "hs300.to_csv('C:/Users/jxjsj/Desktop/hs300.csv',index=True)\n",
    "zz500.to_csv('C:/Users/jxjsj/Desktop/zz500.csv',index=True)"
   ]
  },
  {
   "cell_type": "code",
   "execution_count": null,
   "metadata": {},
   "outputs": [],
   "source": []
  }
 ],
 "metadata": {
  "kernelspec": {
   "display_name": "Python 3",
   "language": "python",
   "name": "python3"
  },
  "language_info": {
   "codemirror_mode": {
    "name": "ipython",
    "version": 3
   },
   "file_extension": ".py",
   "mimetype": "text/x-python",
   "name": "python",
   "nbconvert_exporter": "python",
   "pygments_lexer": "ipython3",
   "version": "3.6.5"
  }
 },
 "nbformat": 4,
 "nbformat_minor": 2
}
