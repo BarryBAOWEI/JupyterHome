{
 "cells": [
  {
   "cell_type": "raw",
   "metadata": {},
   "source": [
    "transforms.Compose([transforms.CenterCrop(10),transforms.ToTensor(),])\n",
    "这样就把两个步骤整合到一起接下来介绍transforms中的函数\n",
    "\n",
    "\n",
    "Resize：把给定的图片resize到given size\n",
    "Normalize：Normalized an tensor image with mean and standard deviation\n",
    "ToTensor：convert a PIL image to tensor (H*W*C) in range [0,255] to a torch.Tensor(C*H*W) in the range [0.0,1.0]\n",
    "ToPILImage: convert a tensor to PIL imageScale：目前已经不用了，推荐用Resize\n",
    "CenterCrop：在图片的中间区域进行裁剪RandomCrop：在一个随机的位置进行裁剪\n",
    "RandomHorizontalFlip：以0.5的概率水平翻转给定的PIL图像\n",
    "RandomVerticalFlip：以0.5的概率竖直翻转给定的PIL图像\n",
    "RandomResizedCrop：将PIL图像裁剪成任意大小和纵横比\n",
    "Grayscale：将图像转换为灰度图像\n",
    "RandomGrayscale：将图像以一定的概率转换为灰度图像\n",
    "FiceCrop：把图像裁剪为四个角和一个中心\n",
    "TenCropPad：填充ColorJitter：随机改变图像的亮度对比度和饱和度"
   ]
  }
 ],
 "metadata": {
  "kernelspec": {
   "display_name": "Python 3",
   "language": "python",
   "name": "python3"
  },
  "language_info": {
   "codemirror_mode": {
    "name": "ipython",
    "version": 3
   },
   "file_extension": ".py",
   "mimetype": "text/x-python",
   "name": "python",
   "nbconvert_exporter": "python",
   "pygments_lexer": "ipython3",
   "version": "3.6.5"
  }
 },
 "nbformat": 4,
 "nbformat_minor": 2
}
