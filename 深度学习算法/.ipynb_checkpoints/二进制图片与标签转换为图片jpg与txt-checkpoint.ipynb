{
 "cells": [
  {
   "cell_type": "code",
   "execution_count": null,
   "metadata": {},
   "outputs": [],
   "source": [
    "import os\n",
    "from skimage import io\n",
    "import torchvision.datasets.mnist as mnist\n",
    "\n",
    "root=\"C:/Users/jxjsj/Desktop/JupyterHome/Data/fashion/\"\n",
    "train_set = (\n",
    "    mnist.read_image_file(os.path.join(root, 'train-images-idx3-ubyte')),\n",
    "    mnist.read_label_file(os.path.join(root, 'train-labels-idx1-ubyte'))\n",
    "        )\n",
    "test_set = (\n",
    "    mnist.read_image_file(os.path.join(root, 't10k-images-idx3-ubyte')),\n",
    "    mnist.read_label_file(os.path.join(root, 't10k-labels-idx1-ubyte'))\n",
    "        )\n",
    "print(\"training set :\",train_set[0].size())\n",
    "print(\"test set :\",test_set[0].size())\n",
    "\n",
    "def convert_to_img(train=True):\n",
    "    if(train):\n",
    "        f=open(root+'train.txt','w')\n",
    "        data_path=root+'/train/'\n",
    "        if(not os.path.exists(data_path)):\n",
    "            os.makedirs(data_path)\n",
    "        for i, (img,label) in enumerate(zip(train_set[0],train_set[1])):\n",
    "            img_path=data_path+str(i)+'.jpg'\n",
    "            io.imsave(img_path,img.numpy())\n",
    "            f.write(img_path+' '+str(label)+'\\n')\n",
    "        f.close()\n",
    "    else:\n",
    "        f = open(root + 'test.txt', 'w')\n",
    "        data_path = root + '/test/'\n",
    "        if (not os.path.exists(data_path)):\n",
    "            os.makedirs(data_path)\n",
    "        for i, (img,label) in enumerate(zip(test_set[0],test_set[1])):\n",
    "            img_path = data_path+ str(i) + '.jpg'\n",
    "            io.imsave(img_path, img.numpy())\n",
    "            f.write(img_path + ' ' + str(label) + '\\n')\n",
    "        f.close()\n",
    "\n",
    "convert_to_img(True)\n",
    "convert_to_img(False)\n",
    "\n",
    "# 这样就会在e:/fashion_mnist/目录下分别生成train和test文件夹，用于存放图片。还在该目录下生成了标签文件train.txt和test.txt."
   ]
  }
 ],
 "metadata": {
  "kernelspec": {
   "display_name": "Python 3",
   "language": "python",
   "name": "python3"
  },
  "language_info": {
   "codemirror_mode": {
    "name": "ipython",
    "version": 3
   },
   "file_extension": ".py",
   "mimetype": "text/x-python",
   "name": "python",
   "nbconvert_exporter": "python",
   "pygments_lexer": "ipython3",
   "version": "3.6.5"
  }
 },
 "nbformat": 4,
 "nbformat_minor": 2
}
