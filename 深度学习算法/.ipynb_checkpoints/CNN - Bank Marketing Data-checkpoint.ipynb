{
 "cells": [
  {
   "cell_type": "code",
   "execution_count": 65,
   "metadata": {},
   "outputs": [],
   "source": [
    "import pandas as pd\n",
    "from sklearn.model_selection import train_test_split\n",
    "from sklearn.feature_extraction import DictVectorizer\n",
    "\n",
    "import torch\n",
    "import torch.nn as nn\n",
    "from torch.autograd import Variable\n",
    "import torch.utils.data as Data\n",
    "import torchvision\n",
    "import numpy as np"
   ]
  },
  {
   "cell_type": "code",
   "execution_count": 7,
   "metadata": {
    "scrolled": true
   },
   "outputs": [],
   "source": [
    "bank_loan_data = pd.read_csv('D:/bank-additional/bank-additional-full.csv',sep=';')"
   ]
  },
  {
   "cell_type": "code",
   "execution_count": 57,
   "metadata": {
    "scrolled": true
   },
   "outputs": [],
   "source": [
    "labels = list(bank_loan_data['y'].apply(lambda x : {'yes':1,'no':0}[x]))"
   ]
  },
  {
   "cell_type": "code",
   "execution_count": 44,
   "metadata": {},
   "outputs": [],
   "source": [
    "X = bank_loan_data.iloc[:,0:20]"
   ]
  },
  {
   "cell_type": "code",
   "execution_count": 46,
   "metadata": {
    "scrolled": true
   },
   "outputs": [
    {
     "data": {
      "text/plain": [
       "{numpy.float64: ['emp.var.rate',\n",
       "  'cons.price.idx',\n",
       "  'cons.conf.idx',\n",
       "  'euribor3m',\n",
       "  'nr.employed'],\n",
       " numpy.int64: ['age', 'duration', 'campaign', 'pdays', 'previous'],\n",
       " str: ['job',\n",
       "  'marital',\n",
       "  'education',\n",
       "  'default',\n",
       "  'housing',\n",
       "  'loan',\n",
       "  'contact',\n",
       "  'month',\n",
       "  'day_of_week',\n",
       "  'poutcome']}"
      ]
     },
     "execution_count": 46,
     "metadata": {},
     "output_type": "execute_result"
    }
   ],
   "source": [
    "# 将类别变量转化为dummy\n",
    "type_to_columns = {}\n",
    "for data_type in data_types:\n",
    "    type_lst = []\n",
    "    for column in X.columns:\n",
    "        if type(X[column][0]) == data_type:\n",
    "            type_lst.append(column)\n",
    "    type_to_columns[data_type] = type_lst\n",
    "print(type_to_columns)\n",
    "vec = DictVectorizer(sparse=False)\n",
    "X_dummy = vec.fit_transform(X.to_dict(orient='record'))   #对训练数据的特征进行提取"
   ]
  },
  {
   "cell_type": "code",
   "execution_count": 183,
   "metadata": {
    "scrolled": true
   },
   "outputs": [
    {
     "name": "stderr",
     "output_type": "stream",
     "text": [
      "D:\\Anaconda3\\lib\\site-packages\\sklearn\\model_selection\\_split.py:2179: FutureWarning: From version 0.21, test_size will always complement train_size unless both are specified.\n",
      "  FutureWarning)\n"
     ]
    }
   ],
   "source": [
    "x_train, x_test, y_train, y_test = train_test_split(X_dummy, labels, random_state=1, train_size=0.9)"
   ]
  },
  {
   "cell_type": "code",
   "execution_count": 208,
   "metadata": {},
   "outputs": [],
   "source": [
    "# NN模型构造 - BN处理\n",
    "class fcNN(nn.Module):\n",
    "    def __init__(self):\n",
    "        super(fcNN, self).__init__()\n",
    "        #需要将事先训练好的词向量载入\n",
    "        self.conv1 = nn.Sequential( # 1*63\n",
    "                      nn.Conv1d(in_channels=1, out_channels=32, kernel_size=7,stride=1, padding=3),\n",
    "                      nn.BatchNorm1d(num_features=32, eps=1e-05, momentum=0.1, affine=True), # BN 处理\n",
    "                      nn.ReLU(),\n",
    "                      nn.MaxPool1d(kernel_size=2) # (6,31)\n",
    "                     )\n",
    "        self.conv2 = nn.Sequential( # 1*63\n",
    "                      nn.Conv1d(in_channels=32, out_channels=64, kernel_size=7,stride=1, padding=3),\n",
    "                      nn.BatchNorm1d(num_features=64, eps=1e-05, momentum=0.1, affine=True), # BN 处理\n",
    "                      nn.ReLU(),\n",
    "                      nn.MaxPool1d(kernel_size=2) # (6,31)\n",
    "                     )\n",
    "        self.fc1 = nn.Sequential(\n",
    "                      nn.Linear(15, 31),\n",
    "#                       nn.BatchNorm1d(num_features=6, eps=1e-05, momentum=0.1, affine=True), # BN 处理\n",
    "                      nn.ReLU()\n",
    "                     )\n",
    "#         self.fc2 = nn.Sequential(\n",
    "#                       nn.Linear(63, 127),\n",
    "# #                       nn.BatchNorm1d(num_features=6, eps=1e-05, momentum=0.1, affine=True), # BN 处理\n",
    "#                       nn.ReLU()\n",
    "#                      )\n",
    "        self.out = nn.Linear(64*31, len(set(labels)))\n",
    "\n",
    "    def forward(self, x):\n",
    "        #print(x.size())\n",
    "        x = self.conv1(x)\n",
    "        x = self.conv2(x)\n",
    "        x = self.fc1(x)\n",
    "#         x = self.fc2(x)\n",
    "        x = x.view(x.size(0), -1) # 将（batch，outchanel,w,h）展平为（batch，outchanel*w*h）\n",
    "        output = self.out(x)\n",
    "        return output"
   ]
  },
  {
   "cell_type": "code",
   "execution_count": 209,
   "metadata": {},
   "outputs": [],
   "source": [
    "fcnn = fcNN()"
   ]
  },
  {
   "cell_type": "code",
   "execution_count": 210,
   "metadata": {},
   "outputs": [],
   "source": [
    "# 构建NN模型超参数与数据封装入加载器 - LSC\n",
    "\n",
    "#损失函数\n",
    "loss_function = nn.CrossEntropyLoss()\n",
    "\n",
    "x_train = torch.Tensor(x_train)\n",
    "y_train = torch.LongTensor(y_train)\n",
    "x_test = torch.Tensor(x_test)\n",
    "y_test = torch.LongTensor(y_test)\n",
    "\n",
    "train_dataset = torch.utils.data.TensorDataset(x_train, y_train)\n",
    "test_dataset = torch.utils.data.TensorDataset(x_test, y_test)\n",
    "\n",
    "train_data_loader = torch.utils.data.DataLoader(train_dataset, batch_size=2000,shuffle=True)\n",
    "test_data_loader = torch.utils.data.DataLoader(test_dataset, batch_size=800,shuffle=True)"
   ]
  },
  {
   "cell_type": "code",
   "execution_count": 214,
   "metadata": {
    "scrolled": true
   },
   "outputs": [
    {
     "name": "stdout",
     "output_type": "stream",
     "text": [
      "epoch 1\n",
      "Train Acc: 0.906499\n",
      "Test Acc: 0.901190\n",
      "epoch 2\n",
      "Train Acc: 0.905905\n",
      "Test Acc: 0.900947\n",
      "epoch 3\n",
      "Train Acc: 0.906607\n",
      "Test Acc: 0.900947\n",
      "epoch 4\n",
      "Train Acc: 0.906175\n",
      "Test Acc: 0.900947\n",
      "epoch 5\n",
      "Train Acc: 0.906391\n",
      "Test Acc: 0.900704\n",
      "epoch 6\n",
      "Train Acc: 0.905743\n",
      "Test Acc: 0.901432\n",
      "epoch 7\n",
      "Train Acc: 0.906310\n",
      "Test Acc: 0.901190\n",
      "epoch 8\n",
      "Train Acc: 0.906094\n",
      "Test Acc: 0.900704\n",
      "epoch 9\n",
      "Train Acc: 0.906175\n",
      "Test Acc: 0.901190\n",
      "epoch 10\n",
      "Train Acc: 0.906040\n",
      "Test Acc: 0.901432\n",
      "epoch 11\n",
      "Train Acc: 0.906067\n",
      "Test Acc: 0.901190\n",
      "epoch 12\n",
      "Train Acc: 0.906148\n",
      "Test Acc: 0.901190\n",
      "epoch 13\n",
      "Train Acc: 0.906121\n",
      "Test Acc: 0.901190\n",
      "epoch 14\n",
      "Train Acc: 0.905959\n",
      "Test Acc: 0.901432\n",
      "epoch 15\n",
      "Train Acc: 0.906418\n",
      "Test Acc: 0.901432\n",
      "epoch 16\n",
      "Train Acc: 0.906715\n",
      "Test Acc: 0.901190\n",
      "epoch 17\n",
      "Train Acc: 0.906256\n",
      "Test Acc: 0.901432\n",
      "epoch 18\n",
      "Train Acc: 0.906229\n",
      "Test Acc: 0.901190\n",
      "epoch 19\n",
      "Train Acc: 0.906040\n",
      "Test Acc: 0.901190\n",
      "epoch 20\n",
      "Train Acc: 0.906121\n",
      "Test Acc: 0.901432\n",
      "epoch 21\n",
      "Train Acc: 0.906283\n",
      "Test Acc: 0.901190\n",
      "epoch 22\n",
      "Train Acc: 0.906229\n",
      "Test Acc: 0.901675\n",
      "epoch 23\n",
      "Train Acc: 0.906418\n",
      "Test Acc: 0.901190\n",
      "epoch 24\n",
      "Train Acc: 0.906229\n",
      "Test Acc: 0.901190\n",
      "epoch 25\n",
      "Train Acc: 0.906175\n",
      "Test Acc: 0.901190\n",
      "epoch 26\n",
      "Train Acc: 0.906229\n",
      "Test Acc: 0.901432\n",
      "epoch 27\n",
      "Train Acc: 0.906067\n",
      "Test Acc: 0.901432\n",
      "epoch 28\n",
      "Train Acc: 0.905608\n",
      "Test Acc: 0.901432\n",
      "epoch 29\n",
      "Train Acc: 0.906310\n",
      "Test Acc: 0.901190\n",
      "epoch 30\n",
      "Train Acc: 0.905959\n",
      "Test Acc: 0.901675\n"
     ]
    }
   ],
   "source": [
    "# 训练 - LSC\n",
    "\n",
    "LR = 0.00001\n",
    "optimizer = torch.optim.Adam(fcnn.parameters(), lr=LR)\n",
    "\n",
    "use_gpu = True\n",
    "\n",
    "if use_gpu:\n",
    "    fcnn = fcnn.cuda()\n",
    "else:\n",
    "    fcnn = fcnn.cpu()\n",
    "\n",
    "for epoch in range(30):\n",
    "    print('epoch {}'.format(epoch + 1))\n",
    "    # training-----------------------------\n",
    "    fcnn.train()\n",
    "    train_acc = 0.\n",
    "\n",
    "    for step, (batch_x, batch_y) in enumerate(train_data_loader):\n",
    "        batch_x, batch_y = Variable(batch_x), Variable(batch_y)\n",
    "                \n",
    "        batch_x=batch_x.view(batch_x.size(0),1,len(x_train[0]))\n",
    "#         print(batch_x.size())\n",
    "#         batch_y = batch_y.view(batch_y.size(0),1)\n",
    "#         print(batch_y)\n",
    "        \n",
    "        if use_gpu:\n",
    "            batch_x = batch_x.cuda()\n",
    "            batch_y = batch_y.cuda()\n",
    "            \n",
    "        out = fcnn(batch_x)\n",
    "        loss = loss_function(out, batch_y)\n",
    "        optimizer.zero_grad()\n",
    "        loss.backward()\n",
    "        optimizer.step()\n",
    "        \n",
    "        pred = torch.max(out, 1)[1]\n",
    "        num_correct = (pred == batch_y).sum()\n",
    "        train_acc += num_correct.data\n",
    "        \n",
    "#         print('Step:',step+1,'Finished! Loss:',loss.detach().cpu().numpy())\n",
    "    print('Train Acc: {:.6f}'.format(train_acc.cpu().numpy() / (len(train_dataset))))\n",
    "#     print(classification_report(L_train_real,L_train_pred))\n",
    "\n",
    "    # evaluation--------------------------------\n",
    "    fcnn.eval()\n",
    "    with torch.no_grad():\n",
    "        eval_acc = 0.\n",
    "\n",
    "        for batch_x, batch_y in test_data_loader:\n",
    "            batch_x, batch_y = Variable(batch_x), Variable(batch_y)\n",
    "            \n",
    "            batch_x=batch_x.view(batch_x.size(0),1,len(x_train[0]))\n",
    "\n",
    "            if use_gpu:\n",
    "                batch_x = batch_x.cuda()\n",
    "                batch_y = batch_y.cuda()\n",
    "\n",
    "            out = fcnn(batch_x)\n",
    "            loss = loss_function(out, batch_y)\n",
    "            \n",
    "            pred = torch.max(out, 1)[1]\n",
    "            num_correct = (pred == batch_y).sum()\n",
    "            eval_acc += num_correct\n",
    "            \n",
    "        print('Test Acc: {:.6f}'.format(eval_acc.cpu().numpy() / (len(test_dataset))))\n",
    "#         print(classification_report(L_val_real,L_val_pred))"
   ]
  },
  {
   "cell_type": "code",
   "execution_count": null,
   "metadata": {},
   "outputs": [],
   "source": []
  },
  {
   "cell_type": "code",
   "execution_count": null,
   "metadata": {},
   "outputs": [],
   "source": []
  }
 ],
 "metadata": {
  "kernelspec": {
   "display_name": "Python 3",
   "language": "python",
   "name": "python3"
  },
  "language_info": {
   "codemirror_mode": {
    "name": "ipython",
    "version": 3
   },
   "file_extension": ".py",
   "mimetype": "text/x-python",
   "name": "python",
   "nbconvert_exporter": "python",
   "pygments_lexer": "ipython3",
   "version": "3.6.5"
  }
 },
 "nbformat": 4,
 "nbformat_minor": 2
}
