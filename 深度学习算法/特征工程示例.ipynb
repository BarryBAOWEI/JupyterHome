{
 "cells": [
  {
   "cell_type": "code",
   "execution_count": 4,
   "metadata": {},
   "outputs": [
    {
     "name": "stdout",
     "output_type": "stream",
     "text": [
      "[(-2.578, 'INDUS'), (-3.319, 'PTRATIO'), (-3.362, 'TAX'), (-3.599, 'CHAS'), (-3.626, 'AGE'), (-3.994, 'RAD'), (-4.33, 'NOX'), (-4.888, 'ZN'), (-5.234, 'LSTAT'), (-5.395, 'RM'), (-5.765, 'B'), (-10.518, 'CRIM'), (-23.508, 'DIS')]\n"
     ]
    }
   ],
   "source": [
    "# from sklearn.cross_validation import ShuffleSplit\n",
    "from sklearn.datasets import load_boston\n",
    "from sklearn.ensemble import RandomForestRegressor\n",
    "from sklearn.model_selection import cross_val_score, ShuffleSplit\n",
    "import numpy as np\n",
    "\n",
    "#加载波士顿房价作为数据集\n",
    "boston = load_boston()\n",
    "X = boston[\"data\"]\n",
    "Y = boston[\"target\"]\n",
    "names = boston[\"feature_names\"]\n",
    "\n",
    "#n_estimators为森林中树木数量，max_depth树的最大深度\n",
    "rf = RandomForestRegressor(n_estimators=20, max_depth=4)\n",
    "scores = []\n",
    "for i in range(X.shape[1]):\n",
    "     #每次选择一个特征，进行交叉验证，训练集和测试集为7:3的比例进行分配，\n",
    "     #ShuffleSplit()函数用于随机抽样（数据集总数，迭代次数，test所占比例）\n",
    "     score = cross_val_score(rf, X[:, i:i+1], Y, scoring=\"r2\",\n",
    "                              cv=ShuffleSplit(len(X), 3, .3))\n",
    "     scores.append((round(np.mean(score), 3), names[i]))\n",
    "\n",
    "#打印出各个特征所对应的得分\n",
    "print(sorted(scores, reverse=True))"
   ]
  },
  {
   "cell_type": "code",
   "execution_count": null,
   "metadata": {},
   "outputs": [],
   "source": []
  }
 ],
 "metadata": {
  "kernelspec": {
   "display_name": "Python 3",
   "language": "python",
   "name": "python3"
  },
  "language_info": {
   "codemirror_mode": {
    "name": "ipython",
    "version": 3
   },
   "file_extension": ".py",
   "mimetype": "text/x-python",
   "name": "python",
   "nbconvert_exporter": "python",
   "pygments_lexer": "ipython3",
   "version": "3.6.5"
  }
 },
 "nbformat": 4,
 "nbformat_minor": 2
}
