{
 "cells": [
  {
   "cell_type": "code",
   "execution_count": null,
   "metadata": {
    "collapsed": true
   },
   "outputs": [],
   "source": [
    "# 输入一个键值对为 sheet名-sheet内容（字符串，DataFrame）的字典输出一个excel\n",
    "def stock_to_excel(outputpath,df_dict):\n",
    "        \"\"\"\n",
    "        outputpath: str  输出路径，例如'c:/XXX/YYYYY/'\n",
    "        df_dict   : dict stock_inf_get函数得到的结果字典\n",
    "        \"\"\"\n",
    "        outputfile = outputpath + 'stock_inf.xlsx'\n",
    "        writer = pd.ExcelWriter(outputfile)\n",
    "        for key, value in df_dict.items():\n",
    "            value.to_excel(writer,key,index=False)\n",
    "        writer.save()     "
   ]
  },
  {
   "cell_type": "code",
   "execution_count": null,
   "metadata": {
    "collapsed": true
   },
   "outputs": [],
   "source": [
    "# 循环写法，不断将获取到的数据一行一行放入一个DataFrame中\n",
    "df_save = pd.DataFrame(columns = ['A','B','C',...])\n",
    "cnt = 0\n",
    "for i in LST:\n",
    "    pass \n",
    "    #自定义内容 \n",
    "    # A = ...\n",
    "    # B = ...\n",
    "    # C = ...\n",
    "    df_save.loc[cnt] = [A,B,C,...]\n",
    "    cnt = cnt + 1"
   ]
  },
  {
   "cell_type": "code",
   "execution_count": null,
   "metadata": {
    "collapsed": true
   },
   "outputs": [],
   "source": [
    "# 批量读取大量股票价格数据，需用到JQ账号\n",
    "def get_stocks_price_inf(outputpath, start_date, end_date, stock_lst, frequent, fq = 'pre'):\n",
    "    \"\"\"\n",
    "    parameter statement:\n",
    "    outputpath : str  输出路径，到一个文件夹为止，'X:/YY/ZZZ/'\n",
    "    start_date : str  起始时间，'2017-01-01'\n",
    "    end_date   : str  结束时间\n",
    "    stock_lst  : list 股票代码列表，['000019.XSHE','000034.XSHE',...]\n",
    "    frequent   : str  取数频率，'Xd'，'Xm'，'daily'(等同于'1d')，'minute'(等同于'1m')\n",
    "    fq         : str  复权选项，'pre'，'None'，'post'，默认为前复权\n",
    "    \"\"\"\n",
    "    \n",
    "    save_dict = {}\n",
    "    \n",
    "    for stock in stock_lst:\n",
    "        stock_name = jq.get_security_info(stock).display_name\n",
    "        stock_df = jq.get_price(stock, start_date=start_date, end_date=end_date, frequency=frequent, fields=None, skip_paused=False, fq=fq, count=None)\n",
    "        save_dict[stock_name] = stock_df\n",
    "    \n",
    "    def stock_to_excel(outputpath,df_dict):\n",
    "        \"\"\"\n",
    "        outputpath: str  输出路径，例如'c:/XXX/YYYYY/'\n",
    "        df_dict   : dict stock_inf_get函数得到的结果字典\n",
    "        \"\"\"\n",
    "        outputfile = outputpath + 'stock__price_inf.xlsx'\n",
    "        writer = pd.ExcelWriter(outputfile)\n",
    "        for key, value in df_dict.items():\n",
    "            value.to_excel(writer,key,index=False)\n",
    "        writer.save()\n",
    "    \n",
    "    stock_to_excel(outputpath,save_dict)"
   ]
  }
 ],
 "metadata": {
  "kernelspec": {
   "display_name": "Python 3",
   "language": "python",
   "name": "python3"
  },
  "language_info": {
   "codemirror_mode": {
    "name": "ipython",
    "version": 3
   },
   "file_extension": ".py",
   "mimetype": "text/x-python",
   "name": "python",
   "nbconvert_exporter": "python",
   "pygments_lexer": "ipython3",
   "version": "3.6.5"
  }
 },
 "nbformat": 4,
 "nbformat_minor": 1
}
