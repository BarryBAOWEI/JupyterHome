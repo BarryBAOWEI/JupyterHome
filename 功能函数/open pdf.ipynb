{
 "cells": [
  {
   "cell_type": "code",
   "execution_count": 10,
   "metadata": {},
   "outputs": [
    {
     "ename": "ModuleNotFoundError",
     "evalue": "No module named 'pdfminer'",
     "output_type": "error",
     "traceback": [
      "\u001b[1;31m---------------------------------------------------------------------------\u001b[0m",
      "\u001b[1;31mModuleNotFoundError\u001b[0m                       Traceback (most recent call last)",
      "\u001b[1;32m<ipython-input-10-7170d38e8237>\u001b[0m in \u001b[0;36m<module>\u001b[1;34m()\u001b[0m\n\u001b[0;32m      4\u001b[0m \u001b[1;33m@\u001b[0m\u001b[0mtime\u001b[0m\u001b[1;33m:\u001b[0m\u001b[1;33m\u001b[0m\u001b[0m\n\u001b[0;32m      5\u001b[0m '''  \n\u001b[1;32m----> 6\u001b[1;33m \u001b[1;32mfrom\u001b[0m \u001b[0mpdfminer\u001b[0m\u001b[1;33m.\u001b[0m\u001b[0mconverter\u001b[0m \u001b[1;32mimport\u001b[0m \u001b[0mPDFPageAggregator\u001b[0m\u001b[1;33m\u001b[0m\u001b[0m\n\u001b[0m\u001b[0;32m      7\u001b[0m \u001b[1;32mfrom\u001b[0m \u001b[0mpdfminer\u001b[0m\u001b[1;33m.\u001b[0m\u001b[0mlayout\u001b[0m \u001b[1;32mimport\u001b[0m \u001b[0mLAParams\u001b[0m\u001b[1;33m\u001b[0m\u001b[0m\n\u001b[0;32m      8\u001b[0m \u001b[1;32mfrom\u001b[0m \u001b[0mpdfminer\u001b[0m\u001b[1;33m.\u001b[0m\u001b[0mpdfparser\u001b[0m \u001b[1;32mimport\u001b[0m \u001b[0mPDFParser\u001b[0m\u001b[1;33m,\u001b[0m \u001b[0mPDFDocument\u001b[0m\u001b[1;33m\u001b[0m\u001b[0m\n",
      "\u001b[1;31mModuleNotFoundError\u001b[0m: No module named 'pdfminer'"
     ]
    }
   ],
   "source": [
    "# encoding:utf-8  \n",
    "'''  \n",
    "@author:  \n",
    "@time:  \n",
    "'''  \n",
    "from pdfminer.converter import PDFPageAggregator  \n",
    "from pdfminer.layout import LAParams  \n",
    "from pdfminer.pdfparser import PDFParser, PDFDocument  \n",
    "from pdfminer.pdfinterp import PDFResourceManager, PDFPageInterpreter  \n",
    "from pdfminer.pdfdevice import PDFDevice  \n",
    "from pprint import pprint  \n",
    "from urllib.request import urlopen  \n",
    "  \n",
    "# 获取文档对象  \n",
    "pdf0 = open('D:/光大证券实习总文件夹/江南布衣/2016-10-19-3306.HK-20161019+0734++江南布衣03306+-+全球發售.pdf','rb')\n",
    "# pdf1 = urlopen('http://www.tencent.com/zh-cn/content/ir/an/2016/attachments/20160321.pdf')  \n",
    "  \n",
    "# 创建一个与文档关联的解释器  \n",
    "parser = PDFParser(pdf0)  \n",
    "  \n",
    "# 创建一个PDF文档对象  \n",
    "doc = PDFDocument()  \n",
    "  \n",
    "# 连接两者  \n",
    "parser.set_document(doc)  \n",
    "doc.set_parser(parser)  \n",
    "  \n",
    "# 文档初始化  \n",
    "doc.initialize('')  \n",
    "  \n",
    "# 创建PDF资源管理器  \n",
    "resources = PDFResourceManager()  \n",
    "  \n",
    "# 创建参数分析器  \n",
    "laparam = LAParams()  \n",
    "  \n",
    "# 创建一个聚合器，并接收资源管理器，参数分析器作为参数  \n",
    "device = PDFPageAggregator(resources,laparams=laparam)  \n",
    "  \n",
    "# 创建一个页面解释器  \n",
    "interpreter = PDFPageInterpreter(resources,device)  \n",
    "  \n",
    "# 使用文档对象获取页面的集合  \n",
    "for page in doc.get_pages():  \n",
    "    # 使用页面解释器读取页面  \n",
    "    interpreter.process_page(page)  \n",
    "    # 使用聚合器读取页面页面内容  \n",
    "    layout = device.get_result()  \n",
    "  \n",
    "    for out in layout:  \n",
    "        if hasattr(out,'get_text'):     # 因为文档中不只有text文本  \n",
    "            pprint(out.get_text())  "
   ]
  },
  {
   "cell_type": "code",
   "execution_count": null,
   "metadata": {},
   "outputs": [],
   "source": []
  }
 ],
 "metadata": {
  "kernelspec": {
   "display_name": "Python 3",
   "language": "python",
   "name": "python3"
  },
  "language_info": {
   "codemirror_mode": {
    "name": "ipython",
    "version": 3
   },
   "file_extension": ".py",
   "mimetype": "text/x-python",
   "name": "python",
   "nbconvert_exporter": "python",
   "pygments_lexer": "ipython3",
   "version": "3.6.5"
  }
 },
 "nbformat": 4,
 "nbformat_minor": 2
}
