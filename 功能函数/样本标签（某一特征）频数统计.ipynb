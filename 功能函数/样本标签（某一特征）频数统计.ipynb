{
 "cells": [
  {
   "cell_type": "code",
   "execution_count": null,
   "metadata": {},
   "outputs": [],
   "source": [
    "# 统计y标签各分类频数\n",
    "y = over_samples_y\n",
    "labelCounts = {}\n",
    "for i in y:\n",
    "    if i[0] not in labelCounts.keys(): \n",
    "        labelCounts[i[0]] = 0\n",
    "    labelCounts[i[0]] += 1\n",
    "print(labelCounts)\n",
    "sum_n = 0\n",
    "for i in labelCounts.keys():\n",
    "    sum_n += labelCounts[i]\n",
    "sum_n"
   ]
  }
 ],
 "metadata": {
  "kernelspec": {
   "display_name": "Python 3",
   "language": "python",
   "name": "python3"
  },
  "language_info": {
   "codemirror_mode": {
    "name": "ipython",
    "version": 3
   },
   "file_extension": ".py",
   "mimetype": "text/x-python",
   "name": "python",
   "nbconvert_exporter": "python",
   "pygments_lexer": "ipython3",
   "version": "3.6.5"
  }
 },
 "nbformat": 4,
 "nbformat_minor": 2
}
