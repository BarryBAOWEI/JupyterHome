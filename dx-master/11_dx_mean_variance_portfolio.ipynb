{
 "cells": [
  {
   "cell_type": "markdown",
   "metadata": {},
   "source": [
    "<img src=\"http://hilpisch.com/tpq_logo.png\" alt=\"The Python Quants\" width=\"45%\" align=\"right\" border=\"4\">"
   ]
  },
  {
   "cell_type": "markdown",
   "metadata": {},
   "source": [
    "# Mean-Variance Portfolio Class"
   ]
  },
  {
   "cell_type": "markdown",
   "metadata": {},
   "source": [
    "Without doubt, the Markowitz (1952) **mean-variance portfolio theory** is a cornerstone of modern financial theory. This section illustrates the use of the `mean_variance_portfolio` class to implement this approach."
   ]
  },
  {
   "cell_type": "code",
   "execution_count": 1,
   "metadata": {},
   "outputs": [],
   "source": [
    "from dx import *\n",
    "from pylab import plt\n",
    "plt.style.use('seaborn')"
   ]
  },
  {
   "cell_type": "markdown",
   "metadata": {},
   "source": [
    "## Market Environment and Portfolio Object"
   ]
  },
  {
   "cell_type": "markdown",
   "metadata": {},
   "source": [
    "We start by instantiating a `market environment` object which in particular contains a list of **ticker symbols** in which we are interested in."
   ]
  },
  {
   "cell_type": "code",
   "execution_count": 11,
   "metadata": {},
   "outputs": [],
   "source": [
    "ma = market_environment('ma', dt.date(2010, 1, 1))\n",
    "ma.add_list('symbols', ['AAPL.O', 'INTC.O', 'MSFT.O', 'GS.N'])\n",
    "ma.add_constant('source', 'google')\n",
    "ma.add_constant('final date', dt.date(2014, 3, 1))"
   ]
  },
  {
   "cell_type": "markdown",
   "metadata": {},
   "source": [
    "Using pandas under the hood, the class **retrieves historial stock price data** from either Yahoo! Finance of Google."
   ]
  },
  {
   "cell_type": "code",
   "execution_count": 13,
   "metadata": {},
   "outputs": [
    {
     "name": "stdout",
     "output_type": "stream",
     "text": [
      "CPU times: user 16.1 ms, sys: 4.44 ms, total: 20.5 ms\n",
      "Wall time: 179 ms\n"
     ]
    }
   ],
   "source": [
    "%%time\n",
    "port = mean_variance_portfolio('am_tech_stocks', ma)\n",
    "  # instantiates the portfolio class\n",
    "  # and retrieves all the time series data needed"
   ]
  },
  {
   "cell_type": "code",
   "execution_count": 14,
   "metadata": {},
   "outputs": [
    {
     "data": {
      "text/plain": [
       "Index(['AAPL.O', 'MSFT.O', 'INTC.O', 'AMZN.O', 'GS.N', 'SPY', '.SPX', '.VIX',\n",
       "       'EUR=', 'XAU=', 'GDX', 'GLD'],\n",
       "      dtype='object')"
      ]
     },
     "execution_count": 14,
     "metadata": {},
     "output_type": "execute_result"
    }
   ],
   "source": [
    "port.get_available_symbols()"
   ]
  },
  {
   "cell_type": "markdown",
   "metadata": {},
   "source": [
    "## Basic Statistics"
   ]
  },
  {
   "cell_type": "markdown",
   "metadata": {},
   "source": [
    "Since no **portfolio weights** have been provided, the class defaults to equal weights."
   ]
  },
  {
   "cell_type": "code",
   "execution_count": 15,
   "metadata": {},
   "outputs": [
    {
     "data": {
      "text/plain": [
       "{'AAPL.O': 0.25, 'GS.N': 0.25, 'INTC.O': 0.25, 'MSFT.O': 0.25}"
      ]
     },
     "execution_count": 15,
     "metadata": {},
     "output_type": "execute_result"
    }
   ],
   "source": [
    "port.get_weights()\n",
    "  # defaults to equal weights"
   ]
  },
  {
   "cell_type": "markdown",
   "metadata": {},
   "source": [
    "Given these weights you can calculate the **portfolio return** via the method `get_portfolio_return`."
   ]
  },
  {
   "cell_type": "code",
   "execution_count": 16,
   "metadata": {},
   "outputs": [
    {
     "data": {
      "text/plain": [
       "0.12192541796457722"
      ]
     },
     "execution_count": 16,
     "metadata": {},
     "output_type": "execute_result"
    }
   ],
   "source": [
    "port.get_portfolio_return()\n",
    "  # expected (= historical mean) return"
   ]
  },
  {
   "cell_type": "markdown",
   "metadata": {},
   "source": [
    "Analogously, you can call `get_portfolio_variance` to get the historical **portfolio variance**."
   ]
  },
  {
   "cell_type": "code",
   "execution_count": 17,
   "metadata": {},
   "outputs": [
    {
     "data": {
      "text/plain": [
       "0.03365126396235786"
      ]
     },
     "execution_count": 17,
     "metadata": {},
     "output_type": "execute_result"
    }
   ],
   "source": [
    "port.get_portfolio_variance()\n",
    "  # expected (= historical) variance"
   ]
  },
  {
   "cell_type": "markdown",
   "metadata": {},
   "source": [
    "The class also has a neatly printable `string` representation."
   ]
  },
  {
   "cell_type": "code",
   "execution_count": 18,
   "metadata": {},
   "outputs": [
    {
     "name": "stdout",
     "output_type": "stream",
     "text": [
      "Portfolio am_tech_stocks \n",
      "--------------------------\n",
      "return            0.122\n",
      "volatility        0.183\n",
      "Sharpe ratio      0.665\n",
      "\n",
      "Positions\n",
      "symbol | weight | ret. con. \n",
      "--------------------------- \n",
      "AAPL.O |  0.250 |     0.055 \n",
      "INTC.O |  0.250 |     0.025 \n",
      "MSFT.O |  0.250 |     0.032 \n",
      "GS.N   |  0.250 |     0.011 \n",
      "\n"
     ]
    }
   ],
   "source": [
    "print(port)\n",
    "  # ret. con. is \"return contribution\"\n",
    "  # given the mean return and the weight\n",
    "  # of the security"
   ]
  },
  {
   "cell_type": "markdown",
   "metadata": {},
   "source": [
    "## Setting Weights"
   ]
  },
  {
   "cell_type": "markdown",
   "metadata": {},
   "source": [
    "Via the method `set_weights` the weights of the single portfolio components can be adjusted."
   ]
  },
  {
   "cell_type": "code",
   "execution_count": 19,
   "metadata": {},
   "outputs": [],
   "source": [
    "port.set_weights([0.6, 0.2, 0.1, 0.1])"
   ]
  },
  {
   "cell_type": "code",
   "execution_count": 21,
   "metadata": {},
   "outputs": [
    {
     "name": "stdout",
     "output_type": "stream",
     "text": [
      "Portfolio am_tech_stocks \n",
      "--------------------------\n",
      "return            0.168\n",
      "volatility        0.201\n",
      "Sharpe ratio      0.837\n",
      "\n",
      "Positions\n",
      "symbol | weight | ret. con. \n",
      "--------------------------- \n",
      "AAPL.O |  0.600 |     0.131 \n",
      "INTC.O |  0.200 |     0.020 \n",
      "MSFT.O |  0.100 |     0.013 \n",
      "GS.N   |  0.100 |     0.004 \n",
      "\n"
     ]
    }
   ],
   "source": [
    "print(port)"
   ]
  },
  {
   "cell_type": "markdown",
   "metadata": {},
   "source": [
    "You cal also easily **check results for different weights** with changing the attribute values of an object."
   ]
  },
  {
   "cell_type": "code",
   "execution_count": 22,
   "metadata": {},
   "outputs": [
    {
     "data": {
      "text/plain": [
       "array([0.16804275, 0.20076851, 0.83699753])"
      ]
     },
     "execution_count": 22,
     "metadata": {},
     "output_type": "execute_result"
    }
   ],
   "source": [
    "port.test_weights([0.6, 0.2, 0.1, 0.1])\n",
    "    # returns av. return + vol + Sharp ratio\n",
    "    # without setting new weights"
   ]
  },
  {
   "cell_type": "markdown",
   "metadata": {},
   "source": [
    "Let us implement a **Monte Carlo simulation** over potential portfolio weights."
   ]
  },
  {
   "cell_type": "code",
   "execution_count": 23,
   "metadata": {},
   "outputs": [],
   "source": [
    "# Monte Carlo simulation of portfolio compositions\n",
    "rets = []\n",
    "vols = []\n",
    "\n",
    "for w in range(500):\n",
    "    weights = np.random.random(4)\n",
    "    weights /= sum(weights)\n",
    "    r, v, sr = port.test_weights(weights)\n",
    "    rets.append(r)\n",
    "    vols.append(v)\n",
    "\n",
    "rets = np.array(rets)\n",
    "vols = np.array(vols)"
   ]
  },
  {
   "cell_type": "markdown",
   "metadata": {},
   "source": [
    "And the simulation results **visualized**."
   ]
  },
  {
   "cell_type": "code",
   "execution_count": 29,
   "metadata": {},
   "outputs": [
    {
     "data": {
      "image/png": "[encoded data removed]",
      "text/plain": [
       "<matplotlib.figure.Figure at 0x10f35a208>"
      ]
     },
     "metadata": {},
     "output_type": "display_data"
    }
   ],
   "source": [
    "import matplotlib.pyplot as plt\n",
    "%matplotlib inline\n",
    "plt.figure(figsize=(10, 6))\n",
    "plt.scatter(vols, rets, c=rets / vols, marker='o', cmap='coolwarm')\n",
    "plt.xlabel('expected volatility')\n",
    "plt.ylabel('expected return')\n",
    "plt.colorbar(label='Sharpe ratio');"
   ]
  },
  {
   "cell_type": "markdown",
   "metadata": {},
   "source": [
    "## Optimizing Portfolio Composition"
   ]
  },
  {
   "cell_type": "markdown",
   "metadata": {},
   "source": [
    "One of the major application areas of the mean-variance portfolio theory and therewith of this DX Analytics class it the **optimization of the portfolio composition**. Different target functions can be used to this end."
   ]
  },
  {
   "cell_type": "markdown",
   "metadata": {},
   "source": [
    "### Return"
   ]
  },
  {
   "cell_type": "markdown",
   "metadata": {},
   "source": [
    "The first target function might be the **portfolio return**."
   ]
  },
  {
   "cell_type": "code",
   "execution_count": 30,
   "metadata": {},
   "outputs": [],
   "source": [
    "port.optimize('Return')\n",
    "  # maximizes expected return of portfolio\n",
    "  # no volatility constraint"
   ]
  },
  {
   "cell_type": "code",
   "execution_count": 31,
   "metadata": {},
   "outputs": [
    {
     "name": "stdout",
     "output_type": "stream",
     "text": [
      "Portfolio am_tech_stocks \n",
      "--------------------------\n",
      "return            0.219\n",
      "volatility        0.255\n",
      "Sharpe ratio      0.858\n",
      "\n",
      "Positions\n",
      "symbol | weight | ret. con. \n",
      "--------------------------- \n",
      "AAPL.O |  1.000 |     0.219 \n",
      "INTC.O |  0.000 |     0.000 \n",
      "MSFT.O |  0.000 |     0.000 \n",
      "GS.N   |  0.000 |     0.000 \n",
      "\n"
     ]
    }
   ],
   "source": [
    "print(port)"
   ]
  },
  {
   "cell_type": "markdown",
   "metadata": {},
   "source": [
    "Instead of maximizing the portfolio return without any constraints, you can also set a (sensible/possible) **maximum target volatility** level as a constraint. Both, in an **exact sense** (\"equality constraint\") ..."
   ]
  },
  {
   "cell_type": "code",
   "execution_count": 32,
   "metadata": {},
   "outputs": [],
   "source": [
    "port.optimize('Return', constraint=0.225, constraint_type='Exact')\n",
    "  # interpretes volatility constraint as equality"
   ]
  },
  {
   "cell_type": "code",
   "execution_count": 33,
   "metadata": {},
   "outputs": [
    {
     "name": "stdout",
     "output_type": "stream",
     "text": [
      "Portfolio am_tech_stocks \n",
      "--------------------------\n",
      "return            0.095\n",
      "volatility        0.225\n",
      "Sharpe ratio      0.421\n",
      "\n",
      "Positions\n",
      "symbol | weight | ret. con. \n",
      "--------------------------- \n",
      "AAPL.O |  0.294 |     0.064 \n",
      "INTC.O |  0.000 |     0.000 \n",
      "MSFT.O |  0.000 |     0.000 \n",
      "GS.N   |  0.706 |     0.030 \n",
      "\n"
     ]
    }
   ],
   "source": [
    "print(port)"
   ]
  },
  {
   "cell_type": "markdown",
   "metadata": {},
   "source": [
    "... or just a an **upper bound** (\"inequality constraint\")."
   ]
  },
  {
   "cell_type": "code",
   "execution_count": 34,
   "metadata": {},
   "outputs": [],
   "source": [
    "port.optimize('Return', constraint=0.4, constraint_type='Bound')\n",
    "  # interpretes volatility constraint as inequality (upper bound)"
   ]
  },
  {
   "cell_type": "code",
   "execution_count": 35,
   "metadata": {},
   "outputs": [
    {
     "name": "stdout",
     "output_type": "stream",
     "text": [
      "Portfolio am_tech_stocks \n",
      "--------------------------\n",
      "return            0.219\n",
      "volatility        0.255\n",
      "Sharpe ratio      0.858\n",
      "\n",
      "Positions\n",
      "symbol | weight | ret. con. \n",
      "--------------------------- \n",
      "AAPL.O |  1.000 |     0.219 \n",
      "INTC.O |  0.000 |     0.000 \n",
      "MSFT.O |  0.000 |     0.000 \n",
      "GS.N   |  0.000 |     0.000 \n",
      "\n"
     ]
    }
   ],
   "source": [
    "print(port)"
   ]
  },
  {
   "cell_type": "markdown",
   "metadata": {},
   "source": [
    "### Risk"
   ]
  },
  {
   "cell_type": "markdown",
   "metadata": {},
   "source": [
    "The class also allows you to minimize **portfolio risk**."
   ]
  },
  {
   "cell_type": "code",
   "execution_count": 36,
   "metadata": {},
   "outputs": [],
   "source": [
    "port.optimize('Vol')\n",
    "  # minimizes expected volatility of portfolio\n",
    "  # no return constraint"
   ]
  },
  {
   "cell_type": "code",
   "execution_count": 37,
   "metadata": {},
   "outputs": [
    {
     "name": "stdout",
     "output_type": "stream",
     "text": [
      "Portfolio am_tech_stocks \n",
      "--------------------------\n",
      "return            0.128\n",
      "volatility        0.182\n",
      "Sharpe ratio      0.702\n",
      "\n",
      "Positions\n",
      "symbol | weight | ret. con. \n",
      "--------------------------- \n",
      "AAPL.O |  0.250 |     0.055 \n",
      "INTC.O |  0.275 |     0.027 \n",
      "MSFT.O |  0.305 |     0.039 \n",
      "GS.N   |  0.169 |     0.007 \n",
      "\n"
     ]
    }
   ],
   "source": [
    "print(port)"
   ]
  },
  {
   "cell_type": "markdown",
   "metadata": {},
   "source": [
    "And, as before, to set **constraints** (in this case) for the target return level."
   ]
  },
  {
   "cell_type": "code",
   "execution_count": 38,
   "metadata": {},
   "outputs": [],
   "source": [
    "port.optimize('Vol', constraint=0.175, constraint_type='Exact')\n",
    "  # interpretes return constraint as equality"
   ]
  },
  {
   "cell_type": "code",
   "execution_count": 39,
   "metadata": {},
   "outputs": [
    {
     "name": "stdout",
     "output_type": "stream",
     "text": [
      "Portfolio am_tech_stocks \n",
      "--------------------------\n",
      "return            0.175\n",
      "volatility        0.199\n",
      "Sharpe ratio      0.879\n",
      "\n",
      "Positions\n",
      "symbol | weight | ret. con. \n",
      "--------------------------- \n",
      "AAPL.O |  0.561 |     0.123 \n",
      "INTC.O |  0.118 |     0.012 \n",
      "MSFT.O |  0.321 |     0.041 \n",
      "GS.N   |  0.000 |     0.000 \n",
      "\n"
     ]
    }
   ],
   "source": [
    "print(port)"
   ]
  },
  {
   "cell_type": "code",
   "execution_count": 40,
   "metadata": {},
   "outputs": [],
   "source": [
    "port.optimize('Vol', constraint=0.20, constraint_type='Bound')\n",
    "  # interpretes return constraint as inequality (upper bound)"
   ]
  },
  {
   "cell_type": "code",
   "execution_count": 41,
   "metadata": {},
   "outputs": [
    {
     "name": "stdout",
     "output_type": "stream",
     "text": [
      "Portfolio am_tech_stocks \n",
      "--------------------------\n",
      "return            0.200\n",
      "volatility        0.225\n",
      "Sharpe ratio      0.889\n",
      "\n",
      "Positions\n",
      "symbol | weight | ret. con. \n",
      "--------------------------- \n",
      "AAPL.O |  0.798 |     0.174 \n",
      "INTC.O |  0.000 |     0.000 \n",
      "MSFT.O |  0.202 |     0.026 \n",
      "GS.N   |  0.000 |     0.000 \n",
      "\n"
     ]
    }
   ],
   "source": [
    "print(port)"
   ]
  },
  {
   "cell_type": "markdown",
   "metadata": {},
   "source": [
    "### Sharpe Ratio"
   ]
  },
  {
   "cell_type": "markdown",
   "metadata": {},
   "source": [
    "Often, the target of the portfolio optimization efforts is the so called **Sharpe ratio**. The `mean_variance_portfolio` class of DX Analytics assumes a **risk-free rate of zero** in this context."
   ]
  },
  {
   "cell_type": "code",
   "execution_count": 42,
   "metadata": {},
   "outputs": [],
   "source": [
    "port.optimize('Sharpe')\n",
    "  # maximize Sharpe ratio"
   ]
  },
  {
   "cell_type": "code",
   "execution_count": 43,
   "metadata": {},
   "outputs": [
    {
     "name": "stdout",
     "output_type": "stream",
     "text": [
      "Portfolio am_tech_stocks \n",
      "--------------------------\n",
      "return            0.192\n",
      "volatility        0.215\n",
      "Sharpe ratio      0.893\n",
      "\n",
      "Positions\n",
      "symbol | weight | ret. con. \n",
      "--------------------------- \n",
      "AAPL.O |  0.713 |     0.156 \n",
      "INTC.O |  0.000 |     0.000 \n",
      "MSFT.O |  0.287 |     0.036 \n",
      "GS.N   |  0.000 |     0.000 \n",
      "\n"
     ]
    }
   ],
   "source": [
    "print(port)"
   ]
  },
  {
   "cell_type": "markdown",
   "metadata": {},
   "source": [
    "## Efficient Frontier"
   ]
  },
  {
   "cell_type": "markdown",
   "metadata": {},
   "source": [
    "Another application area is to derive the **efficient frontier** in the mean-variance space. These are all these portfolios for which there is **no portfolio with both lower risk and higher return**. The method `get_efficient_frontier` yields the desired results."
   ]
  },
  {
   "cell_type": "code",
   "execution_count": 44,
   "metadata": {},
   "outputs": [
    {
     "name": "stdout",
     "output_type": "stream",
     "text": [
      "CPU times: user 4.24 s, sys: 10.8 ms, total: 4.25 s\n",
      "Wall time: 4.25 s\n"
     ]
    }
   ],
   "source": [
    "%%time\n",
    "evols, erets = port.get_efficient_frontier(100)\n",
    "  # 100 points of the effient frontier"
   ]
  },
  {
   "cell_type": "markdown",
   "metadata": {},
   "source": [
    "The plot with the **random and efficient portfolios**."
   ]
  },
  {
   "cell_type": "code",
   "execution_count": 46,
   "metadata": {},
   "outputs": [
    {
     "data": {
      "text/plain": [
       "<matplotlib.colorbar.Colorbar at 0x10f8dc550>"
      ]
     },
     "execution_count": 46,
     "metadata": {},
     "output_type": "execute_result"
    },
    {
     "data": {
      "image/png": "[encoded data removed]",
      "text/plain": [
       "<matplotlib.figure.Figure at 0x10f77fe10>"
      ]
     },
     "metadata": {},
     "output_type": "display_data"
    }
   ],
   "source": [
    "plt.figure(figsize=(10, 6))\n",
    "plt.scatter(vols, rets, c=rets / vols, marker='o')\n",
    "plt.scatter(evols, erets, c=erets / evols, marker='o', cmap='coolwarm')\n",
    "plt.xlabel('expected volatility')\n",
    "plt.ylabel('expected return')\n",
    "plt.colorbar(label='Sharpe ratio')"
   ]
  },
  {
   "cell_type": "markdown",
   "metadata": {},
   "source": [
    "## Capital Market Line"
   ]
  },
  {
   "cell_type": "markdown",
   "metadata": {},
   "source": [
    "The **capital market line** is another key element of the mean-variance portfolio approach representing all those risk-return combinations (in mean-variance space) that are possible to form from a **risk-less money market account** and **the market portfolio** (or another appropriate substitute efficient portfolio)."
   ]
  },
  {
   "cell_type": "code",
   "execution_count": 47,
   "metadata": {},
   "outputs": [
    {
     "name": "stdout",
     "output_type": "stream",
     "text": [
      "CPU times: user 4.04 s, sys: 4.81 ms, total: 4.05 s\n",
      "Wall time: 4.05 s\n"
     ]
    }
   ],
   "source": [
    "%%time\n",
    "cml, optv, optr = port.get_capital_market_line(riskless_asset=0.05)\n",
    "  # capital market line for effiecient frontier and risk-less short rate"
   ]
  },
  {
   "cell_type": "code",
   "execution_count": 48,
   "metadata": {},
   "outputs": [
    {
     "data": {
      "text/plain": [
       "<function dx.portfolio.mean_variance_portfolio.get_capital_market_line.<locals>.<lambda>>"
      ]
     },
     "execution_count": 48,
     "metadata": {},
     "output_type": "execute_result"
    }
   ],
   "source": [
    "cml  # lambda function for capital market line"
   ]
  },
  {
   "cell_type": "markdown",
   "metadata": {},
   "source": [
    "The following plot illustrates that the capital market line has an ordinate value equal to the **risk-free rate** (the safe return of the money market account) and is tangent to the **efficient frontier**."
   ]
  },
  {
   "cell_type": "code",
   "execution_count": 49,
   "metadata": {},
   "outputs": [
    {
     "data": {
      "text/plain": [
       "<matplotlib.text.Text at 0x10f3809e8>"
      ]
     },
     "execution_count": 49,
     "metadata": {},
     "output_type": "execute_result"
    },
    {
     "data": {
      "image/png": "[encoded data removed]",
      "text/plain": [
       "<matplotlib.figure.Figure at 0x10f556940>"
      ]
     },
     "metadata": {},
     "output_type": "display_data"
    }
   ],
   "source": [
    "plt.figure(figsize=(10, 6))\n",
    "plt.plot(evols, erets, lw=2.0, label='efficient frontier')\n",
    "plt.plot((0, 0.4), (cml(0), cml(0.4)), lw=2.0, label='capital market line')\n",
    "plt.plot(optv, optr, 'r*', markersize=10, label='optimal portfolio')\n",
    "plt.legend(loc=0)\n",
    "plt.ylim(0)\n",
    "plt.xlabel('expected volatility')\n",
    "plt.ylabel('expected return')"
   ]
  },
  {
   "cell_type": "markdown",
   "metadata": {},
   "source": [
    "Portfolio return and risk of the efficient portfolio used are:"
   ]
  },
  {
   "cell_type": "code",
   "execution_count": 50,
   "metadata": {},
   "outputs": [
    {
     "data": {
      "text/plain": [
       "0.20507680142118542"
      ]
     },
     "execution_count": 50,
     "metadata": {},
     "output_type": "execute_result"
    }
   ],
   "source": [
    "optr"
   ]
  },
  {
   "cell_type": "code",
   "execution_count": 51,
   "metadata": {},
   "outputs": [
    {
     "data": {
      "text/plain": [
       "0.23227456779433622"
      ]
     },
     "execution_count": 51,
     "metadata": {},
     "output_type": "execute_result"
    }
   ],
   "source": [
    "optv"
   ]
  },
  {
   "cell_type": "markdown",
   "metadata": {},
   "source": [
    "The **portfolio composition** can be derived as follows."
   ]
  },
  {
   "cell_type": "code",
   "execution_count": 52,
   "metadata": {},
   "outputs": [],
   "source": [
    "port.optimize('Vol', constraint=optr, constraint_type='Exact')"
   ]
  },
  {
   "cell_type": "code",
   "execution_count": 53,
   "metadata": {},
   "outputs": [
    {
     "name": "stdout",
     "output_type": "stream",
     "text": [
      "Portfolio am_tech_stocks \n",
      "--------------------------\n",
      "return            0.205\n",
      "volatility        0.232\n",
      "Sharpe ratio      0.883\n",
      "\n",
      "Positions\n",
      "symbol | weight | ret. con. \n",
      "--------------------------- \n",
      "AAPL.O |  0.853 |     0.186 \n",
      "INTC.O |  0.000 |     0.000 \n",
      "MSFT.O |  0.147 |     0.019 \n",
      "GS.N   |  0.000 |     0.000 \n",
      "\n"
     ]
    }
   ],
   "source": [
    "print(port)"
   ]
  },
  {
   "cell_type": "markdown",
   "metadata": {},
   "source": [
    "Or also in this way."
   ]
  },
  {
   "cell_type": "code",
   "execution_count": 54,
   "metadata": {},
   "outputs": [],
   "source": [
    "port.optimize('Return', constraint=optv, constraint_type='Exact')"
   ]
  },
  {
   "cell_type": "code",
   "execution_count": 55,
   "metadata": {},
   "outputs": [
    {
     "name": "stdout",
     "output_type": "stream",
     "text": [
      "Portfolio am_tech_stocks \n",
      "--------------------------\n",
      "return            0.083\n",
      "volatility        0.232\n",
      "Sharpe ratio      0.357\n",
      "\n",
      "Positions\n",
      "symbol | weight | ret. con. \n",
      "--------------------------- \n",
      "AAPL.O |  0.226 |     0.050 \n",
      "INTC.O |  0.000 |     0.000 \n",
      "MSFT.O |  0.000 |     0.000 \n",
      "GS.N   |  0.774 |     0.033 \n",
      "\n"
     ]
    }
   ],
   "source": [
    "print(port)"
   ]
  },
  {
   "cell_type": "markdown",
   "metadata": {},
   "source": [
    "## More Assets"
   ]
  },
  {
   "cell_type": "markdown",
   "metadata": {},
   "source": [
    "As a larger, more realistic example, consider a larger set of assets."
   ]
  },
  {
   "cell_type": "code",
   "execution_count": 71,
   "metadata": {},
   "outputs": [
    {
     "data": {
      "text/plain": [
       "['AAPL.O', 'MSFT.O', 'INTC.O', 'AMZN.O', 'GS.N', 'SPY', '.SPX']"
      ]
     },
     "execution_count": 71,
     "metadata": {},
     "output_type": "execute_result"
    }
   ],
   "source": [
    "symbols = list(port.get_available_symbols())[:7]\n",
    "symbols"
   ]
  },
  {
   "cell_type": "code",
   "execution_count": 72,
   "metadata": {},
   "outputs": [],
   "source": [
    "ma = market_environment('ma', dt.date(2010, 1, 1))\n",
    "ma.add_list('symbols', symbols)\n",
    "ma.add_constant('source', 'google')\n",
    "ma.add_constant('final date', dt.date(2014, 3, 1))"
   ]
  },
  {
   "cell_type": "markdown",
   "metadata": {},
   "source": [
    "**Data retrieval** in this case takes a bit."
   ]
  },
  {
   "cell_type": "code",
   "execution_count": 73,
   "metadata": {},
   "outputs": [
    {
     "name": "stdout",
     "output_type": "stream",
     "text": [
      "CPU times: user 14.2 ms, sys: 4.63 ms, total: 18.8 ms\n",
      "Wall time: 212 ms\n"
     ]
    }
   ],
   "source": [
    "%%time\n",
    "djia = mean_variance_portfolio('djia', ma)\n",
    "  # defining the portfolio and retrieving the data"
   ]
  },
  {
   "cell_type": "code",
   "execution_count": 74,
   "metadata": {},
   "outputs": [
    {
     "name": "stdout",
     "output_type": "stream",
     "text": [
      "0.021982829770393886 0.14826607761181884\n",
      "CPU times: user 55.8 ms, sys: 1.83 ms, total: 57.6 ms\n",
      "Wall time: 56.1 ms\n"
     ]
    }
   ],
   "source": [
    "%%time\n",
    "djia.optimize('Vol')\n",
    "print(djia.variance, djia.variance ** 0.5)\n",
    "  # minimium variance & volatility in decimals"
   ]
  },
  {
   "cell_type": "markdown",
   "metadata": {},
   "source": [
    "Given the larger data set now used, **efficient frontier** ..."
   ]
  },
  {
   "cell_type": "code",
   "execution_count": 75,
   "metadata": {},
   "outputs": [
    {
     "name": "stdout",
     "output_type": "stream",
     "text": [
      "CPU times: user 2.28 s, sys: 3.93 ms, total: 2.28 s\n",
      "Wall time: 2.28 s\n"
     ]
    }
   ],
   "source": [
    "%%time\n",
    "evols, erets = djia.get_efficient_frontier(25)\n",
    "  # efficient frontier of DJIA"
   ]
  },
  {
   "cell_type": "markdown",
   "metadata": {},
   "source": [
    "... and **capital market line** derivations take also longer."
   ]
  },
  {
   "cell_type": "code",
   "execution_count": 76,
   "metadata": {},
   "outputs": [
    {
     "name": "stdout",
     "output_type": "stream",
     "text": [
      "CPU times: user 8.4 s, sys: 6.07 ms, total: 8.4 s\n",
      "Wall time: 8.4 s\n"
     ]
    }
   ],
   "source": [
    "%%time\n",
    "cml, optv, optr = djia.get_capital_market_line(riskless_asset=0.01)\n",
    "  # capital market line and optimal (tangent) portfolio"
   ]
  },
  {
   "cell_type": "code",
   "execution_count": 77,
   "metadata": {},
   "outputs": [
    {
     "data": {
      "text/plain": [
       "<matplotlib.text.Text at 0x1103a70b8>"
      ]
     },
     "execution_count": 77,
     "metadata": {},
     "output_type": "execute_result"
    },
    {
     "data": {
      "image/png": "[encoded data removed]",
      "text/plain": [
       "<matplotlib.figure.Figure at 0x10e3b7d30>"
      ]
     },
     "metadata": {},
     "output_type": "display_data"
    }
   ],
   "source": [
    "plt.figure(figsize=(10, 6))\n",
    "plt.plot(evols, erets, lw=2.0, label='efficient frontier')\n",
    "plt.plot((0, 0.4), (cml(0), cml(0.4)), lw=2.0, label='capital market line')\n",
    "plt.plot(optv, optr, 'r*', markersize=10, label='optimal portfolio')\n",
    "plt.legend(loc=0)\n",
    "plt.ylim(0)\n",
    "plt.xlabel('expected volatility')\n",
    "plt.ylabel('expected return')"
   ]
  },
  {
   "cell_type": "markdown",
   "metadata": {},
   "source": [
    "**Copyright, License & Disclaimer**\n",
    "\n",
    "© Dr. Yves J. Hilpisch | The Python Quants GmbH\n",
    "\n",
    "DX Analytics (the \"dx library\" or \"dx package\") is licensed under the GNU Affero General\n",
    "Public License version 3 or later (see http://www.gnu.org/licenses/).\n",
    "\n",
    "DX Analytics comes with no representations or warranties, to the extent\n",
    "permitted by applicable law.\n",
    "\n",
    "http://tpq.io | [dx@tpq.io](mailto:team@tpq.io) |\n",
    "http://twitter.com/dyjh\n",
    "\n",
    "<img src=\"http://hilpisch.com/tpq_logo.png\" alt=\"The Python Quants\" width=\"35%\" align=\"right\" border=\"0\"><br>\n",
    "\n",
    "**Quant Platform** | http://pqp.io\n",
    "\n",
    "**Python for Finance Training** | http://training.tpq.io\n",
    "\n",
    "**Certificate in Computational Finance** | http://compfinance.tpq.io\n",
    "\n",
    "**Derivatives Analytics with Python (Wiley Finance)** |\n",
    "http://dawp.tpq.io\n",
    "\n",
    "**Python for Finance (2nd ed., O'Reilly)** |\n",
    "http://py4fi.tpq.io"
   ]
  }
 ],
 "metadata": {
  "anaconda-cloud": {},
  "kernelspec": {
   "display_name": "Python 3",
   "language": "python",
   "name": "python3"
  },
  "language_info": {
   "codemirror_mode": {
    "name": "ipython",
    "version": 3
   },
   "file_extension": ".py",
   "mimetype": "text/x-python",
   "name": "python",
   "nbconvert_exporter": "python",
   "pygments_lexer": "ipython3",
   "version": "3.6.8"
  }
 },
 "nbformat": 4,
 "nbformat_minor": 1
}
