{
 "cells": [
  {
   "cell_type": "code",
   "execution_count": 62,
   "metadata": {},
   "outputs": [],
   "source": [
    "import pandas as pd\n",
    "import numpy as np\n",
    "from sklearn.model_selection import train_test_split\n",
    "from sklearn.metrics import classification_report\n",
    "from imblearn.over_sampling import SMOTE\n",
    "from sklearn.linear_model import LogisticRegression\n",
    "from sklearn.feature_extraction import DictVectorizer"
   ]
  },
  {
   "cell_type": "markdown",
   "metadata": {},
   "source": [
    "class_weight：用于处理类别不平衡问题，即这时的阈值不再是0.5，而是一个再缩放后的值；\n",
    "fit_intercept：bool型参数，设置是否求解截距项，即b，默认True；\n",
    "random_state：设置随机数种子；\n",
    "solver：选择用于求解最大化“对数似然”的算法，有以下几种及其适用场景：\n",
    "　　1.对于较小的数据集，使用\"liblinear\"更佳；\n",
    "　　2.对于较大的数据集，\"sag\"、\"saga\"更佳；\n",
    "　　3.对于多分类问题，应使用\"newton-cg\"、\"sag\"、\"saga\"、\"lbfgs\"；\n",
    "max_iter：设置求解算法的迭代次数，仅适用于solver设置为\"newton-cg\"、\"lbfgs\"、\"sag\"的情况； \n",
    "multi_class：为多分类问题选择训练策略，有\"ovr\"、\"multinomial\" ，后者不支持\"liblinear\"；\n",
    "n_jobs：当处理多分类问题训练策略为'ovr'时，在训练时并行运算使用的CPU核心数量。"
   ]
  },
  {
   "cell_type": "code",
   "execution_count": 54,
   "metadata": {},
   "outputs": [],
   "source": [
    "######################################## car数据 ########################################\n",
    "# 读取数据carEvaluation数据集\n",
    "path = u'C:/Users/jxjsj/Desktop/JupyterHome/carEvaluation.txt'\n",
    "dataSet = pd.read_csv(path, header = None)\n",
    "x_temp, y_temp = np.split(dataSet, (6,), axis=1)\n",
    "\n",
    "x_train, x_test, y_train, y_test = train_test_split(x_temp, y_temp, random_state=1, train_size=0.8)\n",
    "\n",
    "# 属性变量编码 方法1 好用！！，方便变回原数据进行展示\n",
    "vec = DictVectorizer(sparse=False)\n",
    "x_train = vec.fit_transform(x_train.to_dict(orient='record'))   #对训练数据的特征进行提取\n",
    "x_test = vec.transform(x_test.to_dict(orient='record'))         #对测试数据的特征进行提取\n",
    "# y_train = vec.fit_transform(y_train.to_dict(orient='record'))   #对训练数据的特征进行提取\n",
    "# y_test = vec.transform(y_test.to_dict(orient='record'))         #对测试数据的特征进行提取\n",
    "vec.feature_names_\n",
    "\n",
    "# carEvaluation = LogisticRegression(solver='lbfgs')\n",
    "carEvaluation = LogisticRegression(class_weight='balanced',solver = 'liblinear')\n",
    "carEvaluation.fit(x_train, y_train)\n",
    "\n",
    "y_train_predict = carEvaluation.predict(x_train)\n",
    "y_test_predict = carEvaluation.predict(x_test)\n",
    "\n",
    "print('trainAccracy:',carEvaluation.score(x_train,y_train))\n",
    "print(classification_report(y_train,y_train_predict)) #真实数据在前 训练结果在后！\n",
    "print('testAccracy:',carEvaluation.score(x_test,y_test))\n",
    "print(classification_report(y_test,y_test_predict))\n",
    "#########################################################################################"
   ]
  },
  {
   "cell_type": "code",
   "execution_count": 63,
   "metadata": {},
   "outputs": [
    {
     "name": "stdout",
     "output_type": "stream",
     "text": [
      "trainAccracy: 0.9583333333333334\n",
      "              precision    recall  f1-score   support\n",
      "\n",
      "           0       1.00      1.00      1.00        39\n",
      "           1       0.94      0.92      0.93        37\n",
      "           2       0.93      0.95      0.94        44\n",
      "\n",
      "   micro avg       0.96      0.96      0.96       120\n",
      "   macro avg       0.96      0.96      0.96       120\n",
      "weighted avg       0.96      0.96      0.96       120\n",
      "\n",
      "testAccracy: 0.9333333333333333\n",
      "              precision    recall  f1-score   support\n",
      "\n",
      "           0       1.00      1.00      1.00        11\n",
      "           1       1.00      0.85      0.92        13\n",
      "           2       0.75      1.00      0.86         6\n",
      "\n",
      "   micro avg       0.93      0.93      0.93        30\n",
      "   macro avg       0.92      0.95      0.92        30\n",
      "weighted avg       0.95      0.93      0.94        30\n",
      "\n"
     ]
    },
    {
     "name": "stderr",
     "output_type": "stream",
     "text": [
      "D:\\Anaconda3\\lib\\site-packages\\sklearn\\model_selection\\_split.py:2069: FutureWarning: From version 0.21, test_size will always complement train_size unless both are specified.\n",
      "  FutureWarning)\n",
      "D:\\Anaconda3\\lib\\site-packages\\sklearn\\linear_model\\logistic.py:459: FutureWarning: Default multi_class will be changed to 'auto' in 0.22. Specify the multi_class option to silence this warning.\n",
      "  \"this warning.\", FutureWarning)\n"
     ]
    }
   ],
   "source": [
    "######################################## iris数据 ########################################\n",
    "from sklearn import datasets\n",
    "iris = datasets.load_iris()\n",
    "\n",
    "x_train, x_test, y_train, y_test = train_test_split(iris.data, iris.target, random_state=1, train_size=0.8)\n",
    "\n",
    "# min-max标准化\n",
    "# x_train = pd.DataFrame(x_train).apply(lambda x: (x - np.min(x)) / (np.max(x) - np.min(x)))\n",
    "# x_test = pd.DataFrame(x_test).apply(lambda x: (x - np.min(x)) / (np.max(x) - np.min(x)))\n",
    "\n",
    "irisEvaluation = LogisticRegression(class_weight='balanced',solver = 'lbfgs')\n",
    "irisEvaluation.fit(x_train, y_train)\n",
    "\n",
    "y_train_predict = irisEvaluation.predict(x_train)\n",
    "y_test_predict = irisEvaluation.predict(x_test)\n",
    "\n",
    "print('trainAccracy:',irisEvaluation.score(x_train,y_train))\n",
    "print(classification_report(y_train,y_train_predict)) #真实数据在前 训练结果在后！\n",
    "print('testAccracy:',irisEvaluation.score(x_test,y_test))\n",
    "print(classification_report(y_test,y_test_predict))\n",
    "##########################################################################################"
   ]
  },
  {
   "cell_type": "markdown",
   "metadata": {},
   "source": [
    "总结1 2018.11.14\n",
    "车评估数据，属性值编码处理，通常的逻辑回归分类效果较差，无论使用哪种优化算法；对非平衡数据的不同类加以不同的惩罚权重n/n_yi后，分类效果明显提升，车评估数据集使用优化方法使用liblinear最好。\n",
    "iris数据归一化处理（min-max标准化）后分类准确度下降。"
   ]
  }
 ],
 "metadata": {
  "kernelspec": {
   "display_name": "Python 3",
   "language": "python",
   "name": "python3"
  },
  "language_info": {
   "codemirror_mode": {
    "name": "ipython",
    "version": 3
   },
   "file_extension": ".py",
   "mimetype": "text/x-python",
   "name": "python",
   "nbconvert_exporter": "python",
   "pygments_lexer": "ipython3",
   "version": "3.6.5"
  }
 },
 "nbformat": 4,
 "nbformat_minor": 2
}
