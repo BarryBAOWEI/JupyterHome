{
 "cells": [
  {
   "cell_type": "code",
   "execution_count": 2,
   "metadata": {},
   "outputs": [
    {
     "name": "stdout",
     "output_type": "stream",
     "text": [
      "auth success\n"
     ]
    }
   ],
   "source": [
    "import jqdatasdk as jq\n",
    "import pandas as pd\n",
    "jq.auth('13918852005','jxjslsc,.?2')"
   ]
  },
  {
   "cell_type": "code",
   "execution_count": 23,
   "metadata": {
    "scrolled": true
   },
   "outputs": [
    {
     "name": "stderr",
     "output_type": "stream",
     "text": [
      "D:\\Anaconda3\\lib\\site-packages\\sqlalchemy\\sql\\base.py:528: SAWarning: Column 'id' on table <sqlalchemy.sql.selectable.Select at 0x1d3b10e5198; Select object> being replaced by Column('id', Integer(), table=<Select object>, primary_key=True, nullable=False), which has the same key.  Consider use_labels for select() statements.\n",
      "  (key, getattr(existing, 'table', None), value))\n",
      "D:\\Anaconda3\\lib\\site-packages\\sqlalchemy\\sql\\base.py:528: SAWarning: Column 'code' on table <sqlalchemy.sql.selectable.Select at 0x1d3b10e5198; Select object> being replaced by Column('code', String(length=12), table=<Select object>, nullable=False), which has the same key.  Consider use_labels for select() statements.\n",
      "  (key, getattr(existing, 'table', None), value))\n",
      "D:\\Anaconda3\\lib\\site-packages\\sqlalchemy\\sql\\base.py:528: SAWarning: Column 'day' on table <sqlalchemy.sql.selectable.Select at 0x1d3b10e5198; Select object> being replaced by Column('day', Date(), table=<Select object>, nullable=False), which has the same key.  Consider use_labels for select() statements.\n",
      "  (key, getattr(existing, 'table', None), value))\n",
      "D:\\Anaconda3\\lib\\site-packages\\sqlalchemy\\sql\\base.py:528: SAWarning: Column 'pubDate' on table <sqlalchemy.sql.selectable.Select at 0x1d3b10e5198; Select object> being replaced by Column('pubDate', Date(), table=<Select object>, nullable=False), which has the same key.  Consider use_labels for select() statements.\n",
      "  (key, getattr(existing, 'table', None), value))\n",
      "D:\\Anaconda3\\lib\\site-packages\\sqlalchemy\\sql\\base.py:528: SAWarning: Column 'statDate' on table <sqlalchemy.sql.selectable.Select at 0x1d3b10e5198; Select object> being replaced by Column('statDate', Date(), table=<Select object>, nullable=False), which has the same key.  Consider use_labels for select() statements.\n",
      "  (key, getattr(existing, 'table', None), value))\n",
      "D:\\Anaconda3\\lib\\site-packages\\sqlalchemy\\sql\\base.py:528: SAWarning: Column 'id' on table <sqlalchemy.sql.selectable.Select at 0x1d3b0cb3fd0; Select object> being replaced by Column('id', Integer(), table=<Select object>, primary_key=True, nullable=False), which has the same key.  Consider use_labels for select() statements.\n",
      "  (key, getattr(existing, 'table', None), value))\n",
      "D:\\Anaconda3\\lib\\site-packages\\sqlalchemy\\sql\\base.py:528: SAWarning: Column 'code' on table <sqlalchemy.sql.selectable.Select at 0x1d3b0cb3fd0; Select object> being replaced by Column('code', String(length=12), table=<Select object>, nullable=False), which has the same key.  Consider use_labels for select() statements.\n",
      "  (key, getattr(existing, 'table', None), value))\n",
      "D:\\Anaconda3\\lib\\site-packages\\sqlalchemy\\sql\\base.py:528: SAWarning: Column 'day' on table <sqlalchemy.sql.selectable.Select at 0x1d3b0cb3fd0; Select object> being replaced by Column('day', Date(), table=<Select object>, nullable=False), which has the same key.  Consider use_labels for select() statements.\n",
      "  (key, getattr(existing, 'table', None), value))\n",
      "D:\\Anaconda3\\lib\\site-packages\\sqlalchemy\\sql\\base.py:528: SAWarning: Column 'pubDate' on table <sqlalchemy.sql.selectable.Select at 0x1d3b0cb3fd0; Select object> being replaced by Column('pubDate', Date(), table=<Select object>, nullable=False), which has the same key.  Consider use_labels for select() statements.\n",
      "  (key, getattr(existing, 'table', None), value))\n",
      "D:\\Anaconda3\\lib\\site-packages\\sqlalchemy\\sql\\base.py:528: SAWarning: Column 'statDate' on table <sqlalchemy.sql.selectable.Select at 0x1d3b0cb3fd0; Select object> being replaced by Column('statDate', Date(), table=<Select object>, nullable=False), which has the same key.  Consider use_labels for select() statements.\n",
      "  (key, getattr(existing, 'table', None), value))\n"
     ]
    }
   ],
   "source": [
    "# jq.cash_flow,jq.balance\n",
    "q = jq.query(jq.income).filter(jq.income.code == '000001.XSHE')\n",
    "data = jq.get_fundamentals(q, statDate='2016')"
   ]
  },
  {
   "cell_type": "code",
   "execution_count": 24,
   "metadata": {},
   "outputs": [
    {
     "data": {
      "text/html": [
       "<div>\n",
       "<style scoped>\n",
       "    .dataframe tbody tr th:only-of-type {\n",
       "        vertical-align: middle;\n",
       "    }\n",
       "\n",
       "    .dataframe tbody tr th {\n",
       "        vertical-align: top;\n",
       "    }\n",
       "\n",
       "    .dataframe thead th {\n",
       "        text-align: right;\n",
       "    }\n",
       "</style>\n",
       "<table border=\"1\" class=\"dataframe\">\n",
       "  <thead>\n",
       "    <tr style=\"text-align: right;\">\n",
       "      <th></th>\n",
       "      <th>id</th>\n",
       "      <th>code</th>\n",
       "      <th>statDate</th>\n",
       "      <th>pubDate</th>\n",
       "      <th>statDate.1</th>\n",
       "      <th>total_operating_revenue</th>\n",
       "      <th>operating_revenue</th>\n",
       "      <th>interest_income</th>\n",
       "      <th>premiums_earned</th>\n",
       "      <th>commission_income</th>\n",
       "      <th>...</th>\n",
       "      <th>treasury_stock</th>\n",
       "      <th>specific_reserves</th>\n",
       "      <th>surplus_reserve_fund</th>\n",
       "      <th>ordinary_risk_reserve_fund</th>\n",
       "      <th>retained_profit</th>\n",
       "      <th>foreign_currency_report_conv_diff</th>\n",
       "      <th>equities_parent_company_owners</th>\n",
       "      <th>minority_interests</th>\n",
       "      <th>total_owner_equities</th>\n",
       "      <th>total_sheet_owner_equities</th>\n",
       "    </tr>\n",
       "  </thead>\n",
       "  <tbody>\n",
       "  </tbody>\n",
       "</table>\n",
       "<p>0 rows × 188 columns</p>\n",
       "</div>"
      ],
      "text/plain": [
       "Empty DataFrame\n",
       "Columns: [id, code, statDate, pubDate, statDate.1, total_operating_revenue, operating_revenue, interest_income, premiums_earned, commission_income, total_operating_cost, operating_cost, interest_expense, commission_expense, refunded_premiums, net_pay_insurance_claims, withdraw_insurance_contract_reserve, policy_dividend_payout, reinsurance_cost, operating_tax_surcharges, sale_expense, administration_expense, financial_expense, asset_impairment_loss, fair_value_variable_income, investment_income, invest_income_associates, exchange_income, operating_profit, non_operating_revenue, non_operating_expense, disposal_loss_non_current_liability, total_profit, income_tax_expense, net_profit, np_parent_company_owners, minority_profit, basic_eps, diluted_eps, other_composite_income, total_composite_income, ci_parent_company_owners, ci_minority_owners, id.1, code.1, statDate.2, pubDate.1, statDate.3, goods_sale_and_service_render_cash, net_deposit_increase, net_borrowing_from_central_bank, net_borrowing_from_finance_co, net_original_insurance_cash, net_cash_received_from_reinsurance_business, net_insurer_deposit_investment, net_deal_trading_assets, interest_and_commission_cashin, net_increase_in_placements, net_buyback, tax_levy_refund, other_cashin_related_operate, subtotal_operate_cash_inflow, goods_and_services_cash_paid, net_loan_and_advance_increase, net_deposit_in_cb_and_ib, original_compensation_paid, handling_charges_and_commission, policy_dividend_cash_paid, staff_behalf_paid, tax_payments, other_operate_cash_paid, subtotal_operate_cash_outflow, net_operate_cash_flow, invest_withdrawal_cash, invest_proceeds, fix_intan_other_asset_dispo_cash, net_cash_deal_subcompany, other_cash_from_invest_act, subtotal_invest_cash_inflow, fix_intan_other_asset_acqui_cash, invest_cash_paid, impawned_loan_net_increase, net_cash_from_sub_company, other_cash_to_invest_act, subtotal_invest_cash_outflow, net_invest_cash_flow, cash_from_invest, cash_from_mino_s_invest_sub, cash_from_borrowing, cash_from_bonds_issue, other_finance_act_cash, subtotal_finance_cash_inflow, borrowing_repayment, dividend_interest_payment, proceeds_from_sub_to_mino_s, other_finance_act_payment, subtotal_finance_cash_outflow, net_finance_cash_flow, exchange_rate_change_effect, cash_equivalent_increase, ...]\n",
       "Index: []\n",
       "\n",
       "[0 rows x 188 columns]"
      ]
     },
     "execution_count": 24,
     "metadata": {},
     "output_type": "execute_result"
    }
   ],
   "source": [
    "data"
   ]
  },
  {
   "cell_type": "code",
   "execution_count": null,
   "metadata": {},
   "outputs": [],
   "source": []
  }
 ],
 "metadata": {
  "kernelspec": {
   "display_name": "Python 3",
   "language": "python",
   "name": "python3"
  },
  "language_info": {
   "codemirror_mode": {
    "name": "ipython",
    "version": 3
   },
   "file_extension": ".py",
   "mimetype": "text/x-python",
   "name": "python",
   "nbconvert_exporter": "python",
   "pygments_lexer": "ipython3",
   "version": "3.6.5"
  }
 },
 "nbformat": 4,
 "nbformat_minor": 2
}
