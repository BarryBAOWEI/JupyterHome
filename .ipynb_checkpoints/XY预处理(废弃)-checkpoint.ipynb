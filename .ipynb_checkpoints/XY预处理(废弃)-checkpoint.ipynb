{
 "cells": [
  {
   "cell_type": "code",
   "execution_count": 203,
   "metadata": {
    "collapsed": true
   },
   "outputs": [],
   "source": [
    "import tushare as ts\n",
    "from pprint import pprint\n",
    "import time\n",
    "import pandas as pd\n",
    "import numpy as np\n",
    "from numpy import nan\n",
    "from sklearn import svm\n",
    "from sklearn.neighbors.nearest_centroid import NearestCentroid\n",
    "from sklearn.neighbors import NearestNeighbors\n",
    "from sklearn.neighbors import KDTree\n",
    "import matplotlib.pyplot as plt\n",
    "from sklearn import neighbors"
   ]
  },
  {
   "cell_type": "code",
   "execution_count": 204,
   "metadata": {
    "collapsed": false,
    "scrolled": true
   },
   "outputs": [],
   "source": [
    "train_df = pd.read_excel('C:/Users/43460/Desktop/train.xlsx')\n",
    "\n",
    "test_df = pd.read_excel('C:/Users/43460/Desktop/test.xlsx')"
   ]
  },
  {
   "cell_type": "code",
   "execution_count": 205,
   "metadata": {
    "collapsed": true
   },
   "outputs": [],
   "source": [
    "for del_x in ['roe_y','net_profits_y','eps_y']:\n",
    "    del train_df[del_x]\n",
    "\n",
    "for del_x in ['roe_y','net_profits_y','eps_y']:\n",
    "    del test_df[del_x]"
   ]
  },
  {
   "cell_type": "code",
   "execution_count": 206,
   "metadata": {
    "collapsed": false,
    "scrolled": true
   },
   "outputs": [],
   "source": [
    "train_df_1 = train_df.dropna(axis = 0, how = 'any')\n",
    "\n",
    "test_df_1 = test_df.dropna(axis = 0, how = 'any')"
   ]
  },
  {
   "cell_type": "code",
   "execution_count": 207,
   "metadata": {
    "collapsed": false
   },
   "outputs": [],
   "source": [
    "xlist_train = list(train_df_1.columns)\n",
    "remove_lst_train = ['code','eps_yoy','profits_yoy','distrib','mbrg','nprg','nav','targ','epsg','seg','Y']\n",
    "for remove_one in remove_lst_train:\n",
    "    xlist_train.remove(remove_one)\n",
    "\n",
    "xlist_test = list(test_df_1.columns)\n",
    "remove_lst_test = ['code','eps_yoy','profits_yoy','distrib','mbrg','nprg','nav','targ','epsg','seg','Y']\n",
    "for remove_one in remove_lst_test:\n",
    "    xlist_test.remove(remove_one)"
   ]
  },
  {
   "cell_type": "code",
   "execution_count": 222,
   "metadata": {
    "collapsed": false
   },
   "outputs": [],
   "source": [
    "train_df_2 = pd.DataFrame()\n",
    "for col in xlist_train:\n",
    "    col_meantr = train_df_1[col].mean()\n",
    "    col_stdtr = train_df_1[col].std()\n",
    "    train_df_2[col] = train_df_1[col].apply(lambda x: (x - float(col_meantr)/float(col_stdtr)))\n",
    "for col in remove_lst_train:\n",
    "    train_df_2[col] = train_df_1[col]\n",
    "\n",
    "test_df_2 = pd.DataFrame()\n",
    "for col in xlist_test:\n",
    "    col_meante = test_df_1[col].mean()\n",
    "    col_stdte = test_df_1[col].std()\n",
    "    test_df_2[col] = test_df_1[col].apply(lambda x: (x - float(col_meante)/float(col_stdte)))\n",
    "for col in remove_lst_test:\n",
    "    test_df_2[col] = test_df_1[col]"
   ]
  },
  {
   "cell_type": "code",
   "execution_count": 223,
   "metadata": {
    "collapsed": true
   },
   "outputs": [],
   "source": [
    "for xxx in ['eps_yoy','profits_yoy','mbrg','nprg','nav','targ','epsg','seg']:\n",
    "    train_df_2[xxx] = train_df_2[xxx].apply(lambda x: 0 if x<0 else 1)\n",
    "\n",
    "for xxx in ['eps_yoy','profits_yoy','mbrg','nprg','nav','targ','epsg','seg']:\n",
    "    test_df_2[xxx] = train_df_2[xxx].apply(lambda x: 0 if x<0 else 1)\n",
    "    \n",
    "train_df_3 = train_df_2.dropna(axis = 0, how = 'any')\n",
    "\n",
    "test_df_3 = test_df_2.dropna(axis = 0, how = 'any')"
   ]
  },
  {
   "cell_type": "code",
   "execution_count": 226,
   "metadata": {
    "collapsed": false,
    "scrolled": true
   },
   "outputs": [],
   "source": [
    "array_x_train = np.array(train_df_3[['eps_yoy','profits_yoy','distrib','mbrg','nprg','nav','targ','epsg','seg']])\n",
    "\n",
    "array_x_test = np.array(test_df_3[['eps_yoy','profits_yoy','distrib','mbrg','nprg','nav','targ','epsg','seg']])"
   ]
  },
  {
   "cell_type": "code",
   "execution_count": 227,
   "metadata": {
    "collapsed": false
   },
   "outputs": [],
   "source": [
    "array_y_train = np.array(train_df_3[['Y']].T)[0]\n",
    "\n",
    "array_y_test = np.array(test_df_3[['Y']].T)[0]"
   ]
  },
  {
   "cell_type": "code",
   "execution_count": 193,
   "metadata": {
    "collapsed": false
   },
   "outputs": [],
   "source": [
    "nbrs = NearestNeighbors(n_neighbors=2, algorithm='ball_tree').fit(array_x_train)"
   ]
  },
  {
   "cell_type": "code",
   "execution_count": 194,
   "metadata": {
    "collapsed": false
   },
   "outputs": [
    {
     "data": {
      "text/plain": [
       "array([[   0, 1498],\n",
       "       [1175,    1],\n",
       "       [   2,  328],\n",
       "       ..., \n",
       "       [1612, 1272],\n",
       "       [1613,    7],\n",
       "       [1614,  807]], dtype=int64)"
      ]
     },
     "execution_count": 194,
     "metadata": {},
     "output_type": "execute_result"
    }
   ],
   "source": [
    "distances, indices = nbrs.kneighbors(array_x_train)\n",
    "indices"
   ]
  },
  {
   "cell_type": "code",
   "execution_count": 195,
   "metadata": {
    "collapsed": false
   },
   "outputs": [
    {
     "data": {
      "text/plain": [
       "array([[   0, 1498, 1013,  324, 1074],\n",
       "       [ 314, 1175,    1, 1090, 1592],\n",
       "       [   2,  328,  469,  812,  860],\n",
       "       ..., \n",
       "       [1612, 1272,  180, 1385, 1138],\n",
       "       [1613,    7,  173, 1140, 1360],\n",
       "       [1614,  807,   26,  806,  225]], dtype=int64)"
      ]
     },
     "execution_count": 195,
     "metadata": {},
     "output_type": "execute_result"
    }
   ],
   "source": [
    "kdt = KDTree(array_x_train, leaf_size=30, metric='euclidean')\n",
    "kdt.query(array_x_train, k=5, return_distance=False)"
   ]
  },
  {
   "cell_type": "code",
   "execution_count": 260,
   "metadata": {
    "collapsed": false
   },
   "outputs": [],
   "source": [
    "n_neighbors = 5\n",
    "\n",
    "# for i, weights in enumerate(['uniform', 'distance']):\n",
    "knn = neighbors.KNeighborsRegressor(n_neighbors, weights='distance')\n",
    "y_ = knn.fit(array_x_train, array_y_train).predict(array_x_test)"
   ]
  },
  {
   "cell_type": "code",
   "execution_count": 261,
   "metadata": {
    "collapsed": false
   },
   "outputs": [],
   "source": [
    "yyyy = pd.DataFrame(y_)"
   ]
  },
  {
   "cell_type": "code",
   "execution_count": 262,
   "metadata": {
    "collapsed": true
   },
   "outputs": [],
   "source": [
    "yyyyy = pd.DataFrame(array_y_test)"
   ]
  },
  {
   "cell_type": "code",
   "execution_count": 184,
   "metadata": {
    "collapsed": false
   },
   "outputs": [],
   "source": [
    "yyyy.to_excel('C:/Users/43460/Desktop/yyyy.xlsx')\n",
    "yyyyy.to_excel('C:/Users/43460/Desktop/yyyyy.xlsx')"
   ]
  },
  {
   "cell_type": "code",
   "execution_count": 236,
   "metadata": {
    "collapsed": false
   },
   "outputs": [
    {
     "data": {
      "text/plain": [
       "array([ 1.,  1.,  0., ...,  0.,  1.,  0.])"
      ]
     },
     "execution_count": 236,
     "metadata": {},
     "output_type": "execute_result"
    }
   ],
   "source": [
    "y_"
   ]
  },
  {
   "cell_type": "code",
   "execution_count": 263,
   "metadata": {
    "collapsed": false
   },
   "outputs": [
    {
     "data": {
      "text/plain": [
       "410"
      ]
     },
     "execution_count": 263,
     "metadata": {},
     "output_type": "execute_result"
    }
   ],
   "source": [
    "sum(yyyy[0].apply(lambda x: 0 if x<0.3 else 1))"
   ]
  },
  {
   "cell_type": "code",
   "execution_count": 183,
   "metadata": {
    "collapsed": true
   },
   "outputs": [],
   "source": [
    "yyyy[0] = yyyy[0].apply(lambda x: 0 if x<0.5 else 1)"
   ]
  },
  {
   "cell_type": "code",
   "execution_count": 243,
   "metadata": {
    "collapsed": false
   },
   "outputs": [
    {
     "data": {
      "text/plain": [
       "273.33333333333235"
      ]
     },
     "execution_count": 243,
     "metadata": {},
     "output_type": "execute_result"
    }
   ],
   "source": [
    "sum(y_)"
   ]
  },
  {
   "cell_type": "code",
   "execution_count": null,
   "metadata": {
    "collapsed": true
   },
   "outputs": [],
   "source": []
  }
 ],
 "metadata": {
  "anaconda-cloud": {},
  "kernelspec": {
   "display_name": "Python [Root]",
   "language": "python",
   "name": "Python [Root]"
  },
  "language_info": {
   "codemirror_mode": {
    "name": "ipython",
    "version": 3
   },
   "file_extension": ".py",
   "mimetype": "text/x-python",
   "name": "python",
   "nbconvert_exporter": "python",
   "pygments_lexer": "ipython3",
   "version": "3.5.2"
  }
 },
 "nbformat": 4,
 "nbformat_minor": 0
}
