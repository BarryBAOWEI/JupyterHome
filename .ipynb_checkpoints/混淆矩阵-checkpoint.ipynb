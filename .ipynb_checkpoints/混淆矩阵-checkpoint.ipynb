{
 "cells": [
  {
   "cell_type": "code",
   "execution_count": null,
   "metadata": {},
   "outputs": [],
   "source": [
    "def Confusion_Matrix(y_real, y_hat):\n",
    "    '''\n",
    "    计算多元混淆矩阵\n",
    "    :param y_real : 真实值，一个单行的array或者list\n",
    "    :param y_real : 预测值，一个单行的array或者list\n",
    "    :return       : 混淆矩阵，左真实&上预测\n",
    "    '''    \n",
    "    y_type = list(set(y_hat))\n",
    "    confusion_matrix = pd.DataFrame(columns = y_type, index = y_type).fillna(0)\n",
    "    cnt_dict = {}\n",
    "    \n",
    "    # 识别y与y_hat对的类别与频数，保存为字典\n",
    "    for i in range(len(y_hat)):\n",
    "        if (y_real[i],y_hat[i]) not in cnt_dict.keys():\n",
    "            cnt_dict[(y_real[i],y_hat[i])] = 0\n",
    "        cnt_dict[(y_real[i],y_hat[i])] += 1\n",
    "    \n",
    "    # 将字典输入到DataFrame\n",
    "    for key in cnt_dict.keys():\n",
    "        confusion_matrix.loc[key[0],key[1]] = cnt_dict[key]\n",
    "        \n",
    "    # 计算错误率\n",
    "    right_cnt = 0\n",
    "    for y_correct in y_type:\n",
    "        right_cnt += confusion_matrix.loc[y_correct,y_correct]\n",
    "    error_rate = 1 - right_cnt/len(y_real)\n",
    "    print('错误率:',error_rate)\n",
    "    \n",
    "    return confusion_matrix"
   ]
  }
 ],
 "metadata": {
  "kernelspec": {
   "display_name": "Python 3",
   "language": "python",
   "name": "python3"
  },
  "language_info": {
   "codemirror_mode": {
    "name": "ipython",
    "version": 3
   },
   "file_extension": ".py",
   "mimetype": "text/x-python",
   "name": "python",
   "nbconvert_exporter": "python",
   "pygments_lexer": "ipython3",
   "version": "3.6.5"
  }
 },
 "nbformat": 4,
 "nbformat_minor": 2
}
