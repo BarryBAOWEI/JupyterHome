{
 "cells": [
  {
   "cell_type": "code",
   "execution_count": 20,
   "metadata": {
    "collapsed": true
   },
   "outputs": [],
   "source": [
    "import jqdatasdk as jq\n",
    "import pandas as pd\n",
    "from jqdatasdk import macro\n",
    "import numpy as np \n",
    "import matplotlib.pyplot as plt \n",
    "from sklearn.gaussian_process import GaussianProcessRegressor \n",
    "from sklearn.gaussian_process.kernels import RBF, ConstantKernel as C \n",
    "from mpl_toolkits.mplot3d import Axes3D "
   ]
  },
  {
   "cell_type": "code",
   "execution_count": 2,
   "metadata": {
    "collapsed": false
   },
   "outputs": [
    {
     "name": "stdout",
     "output_type": "stream",
     "text": [
      "auth success\n"
     ]
    }
   ],
   "source": [
    "jq.auth('13918852005','jxjslsc,.?2')"
   ]
  },
  {
   "cell_type": "code",
   "execution_count": 281,
   "metadata": {
    "collapsed": false
   },
   "outputs": [],
   "source": [
    "def get_stocks_price_inf(outputpath, start_date, end_date, stock_lst, frequent, fq = 'pre'):\n",
    "    \"\"\"\n",
    "    parameter statement:\n",
    "    outputpath : str  输出路径，到一个文件夹为止，'X:/YY/ZZZ/'\n",
    "    start_date : str  起始时间，'2017-01-01'\n",
    "    end_date   : str  结束时间\n",
    "    stock_lst  : list 股票代码列表，['000019.XSHE','000034.XSHE',...]\n",
    "    frequent   : str  取数频率，'Xd'，'Xm'，'daily'(等同于'1d')，'minute'(等同于'1m')\n",
    "    fq         : str  复权选项，'pre'，'None'，'post'，默认为前复权\n",
    "    \"\"\"\n",
    "    \n",
    "    save_dict = {}\n",
    "    \n",
    "    for stock in stock_lst:\n",
    "        stock_name = jq.get_security_info(stock).display_name\n",
    "        stock_df = jq.get_price(stock, start_date=start_date, end_date=end_date, frequency=frequent, fields=None, skip_paused=False, fq=fq, count=None)\n",
    "        save_dict[stock_name] = stock_df\n",
    "    \n",
    "#     def stock_to_excel(outputpath,df_dict):\n",
    "#         \"\"\"\n",
    "#         outputpath: str  输出路径，例如'c:/XXX/YYYYY/'\n",
    "#         df_dict   : dict stock_inf_get函数得到的结果字典\n",
    "#         \"\"\"\n",
    "#         outputfile = outputpath + 'stock__price_inf.xlsx'\n",
    "#         writer = pd.ExcelWriter(outputfile)\n",
    "#         for key, value in df_dict.items():\n",
    "#             value.to_excel(writer,key)\n",
    "#         writer.save()\n",
    "    \n",
    "#     stock_to_excel(outputpath,save_dict)\n",
    "    return save_dict\n",
    "\n",
    "stock_lst = ['000001.XSHG','000300.XSHG','000001.XSHE']\n",
    "ddict = get_stocks_price_inf(\n",
    "    outputpath = 'C:/Users/43460/Desktop/'\n",
    "    ,start_date = '2017-03-01'\n",
    "    ,end_date = '2017-07-10'\n",
    "    ,stock_lst = stock_lst\n",
    "    ,frequent = '1d'\n",
    "    ,fq = 'pre')"
   ]
  },
  {
   "cell_type": "code",
   "execution_count": 282,
   "metadata": {
    "collapsed": false
   },
   "outputs": [],
   "source": [
    "vank = ddict['平安银行']\n",
    "# hs_300 = ddict['沪深300']\n",
    "sz = ddict['上证指数']"
   ]
  },
  {
   "cell_type": "code",
   "execution_count": 283,
   "metadata": {
    "collapsed": false,
    "scrolled": true
   },
   "outputs": [],
   "source": [
    "vank['return'] = vank['close'].apply(lambda x: np.log(x))\n",
    "vank['return'] = vank['return']-vank['return']['2017-03-01']\n",
    "# hs_300['return'] = hs_300['close'].pct_change()\n",
    "sz['return'] = sz['close'].apply(lambda x: np.log(x))\n",
    "sz['return'] = sz['return']-sz['return']['2017-03-01']\n",
    "\n",
    "df1 = vank[['return']]\n",
    "# df2 = hs_300[['return']]\n",
    "df3 = sz[['return']]"
   ]
  },
  {
   "cell_type": "code",
   "execution_count": 284,
   "metadata": {
    "collapsed": false,
    "scrolled": true
   },
   "outputs": [],
   "source": [
    "df_return = pd.merge(df1,df3,how='inner',right_index = True, left_index = True)\n",
    "# df_return = pd.merge(df,df3,how='inner',right_index = True, left_index = True)"
   ]
  },
  {
   "cell_type": "code",
   "execution_count": 285,
   "metadata": {
    "collapsed": false
   },
   "outputs": [],
   "source": [
    "df_return['date']=np.linspace(0,len(df_return)-1,len(df_return))"
   ]
  },
  {
   "cell_type": "code",
   "execution_count": 286,
   "metadata": {
    "collapsed": false
   },
   "outputs": [],
   "source": [
    "df_return['date'] = df_return['date'].apply(lambda x: int(x))\n",
    "df_return = df_return.dropna()\n",
    "df_good = df_return[['date','return_y','return_x']]"
   ]
  },
  {
   "cell_type": "code",
   "execution_count": 288,
   "metadata": {
    "collapsed": false,
    "scrolled": true
   },
   "outputs": [],
   "source": [
    "data_set = np.array(df_good)"
   ]
  },
  {
   "cell_type": "code",
   "execution_count": 292,
   "metadata": {
    "collapsed": false
   },
   "outputs": [
    {
     "data": {
      "text/plain": [
       "83"
      ]
     },
     "execution_count": 292,
     "metadata": {},
     "output_type": "execute_result"
    }
   ],
   "source": [
    "xx = data_set[:83,0]\n",
    "yy = data_set[:83,1]*100\n",
    "\n",
    "xx_test = data_set[84:,0]\n",
    "yy_test = data_set[84:,1]*100\n",
    "\n",
    "n = len(data_set[:,0])\n",
    "len(xx)"
   ]
  },
  {
   "cell_type": "code",
   "execution_count": 343,
   "metadata": {
    "collapsed": false
   },
   "outputs": [],
   "source": [
    "def kernal_function(type):\n",
    "    def f(x, y):\n",
    "        return {\n",
    "            0: lambda x,y: x*y,\n",
    "            1: lambda x,y: min(x,y),\n",
    "            2: lambda x,y: np.exp(-1.08*((x-y)**2)),\n",
    "            3: lambda x,y: np.exp(-0.01*abs(x-y)),\n",
    "            4: lambda x,y: min(x,y)*(1-max(x,y)),\n",
    "            5: lambda x,y: min(x,y)**2*(max(x,y)/2-min(x,y)/6)\n",
    "        }[type](x,y)\n",
    "    return f\n",
    "    \n",
    "kernal = kernal_function(type=2)\n",
    "\n",
    "def cov(x, y):\n",
    "    tmp = np.zeros((x.size, y.size))\n",
    "    for i in range(x.size):\n",
    "        for j in range(y.size):\n",
    "            tmp[i, j] = kernal(x[i], y[j])\n",
    "    return tmp\n",
    "\n",
    "xx=np.array([[0.1],\n",
    "            [0.5],\n",
    "            [1],\n",
    "            [1.5],\n",
    "            [2],\n",
    "            [2.5],\n",
    "            [3],\n",
    "            [3.5],\n",
    "            [4],\n",
    "            [4.5],\n",
    "            [5],\n",
    "            [5.5],\n",
    "            [6]])\n",
    "\n",
    "yy=np.array([[2.5],\n",
    "            [3],\n",
    "            [3.5],\n",
    "            [2.8],\n",
    "            [2.5],\n",
    "            [2],\n",
    "            [2.3],\n",
    "            [3.4],\n",
    "            [4],\n",
    "            [4.2],\n",
    "            [4.3],\n",
    "            [4.4],\n",
    "            [4.5]])\n",
    "\n",
    "n = len(xx)\n",
    "\n",
    "# data points\n",
    "x = xx\n",
    "y = yy\n",
    "    \n",
    "# parameters\n",
    "num_sample = len(x)\n",
    "\n",
    "#noisy_std = 0.05\n",
    "\n",
    "# sample locations\n",
    "sample_points = np.linspace(0,6, 100)\n",
    "\n",
    "sample = np.zeros((100,1))\n",
    "for i in range(100):\n",
    "    sample[i,0] = sample_points[i]\n",
    "    \n",
    "# compute covariance of the sample locations\n",
    "cov_samples = cov(sample, sample)\n",
    "\n",
    "# compute mean and covariance conditioned on the data points\n",
    "cov_mix = cov(x, sample)\n",
    "\n",
    "I = np.zeros((len(x),len(x)))\n",
    "for i in range(len(x)):\n",
    "    I[i,i] = 0.01\n",
    "\n",
    "precision_data = np.linalg.inv(cov(x, x)+I) #If with noise: +noisy_std**2 * np.eye(len(x))\n",
    "mean_cond = cov_mix.T @ precision_data @ y\n",
    "# cov_cond = cov_samples - cov_mix @ precision_data @ cov_mix.T\n",
    "cov_cond = cov(sample,sample) - cov_mix.T @ precision_data @ cov_mix\n",
    "\n",
    "mean = np.zeros((1,100))\n",
    "for i in range(100):\n",
    "    mean[0,i] = mean_cond[i]\n",
    "\n",
    "# draw sample functions and plot them\n",
    "# f1 = np.random.multivariate_normal(mean[0], cov_cond, n)\n",
    "plt.plot(sample, mean[0])\n",
    "\n",
    "# plot data points\n",
    "plt.plot(sample_points[0], mean_cond[0], 'k+')\n",
    "\n",
    "# plot uncertainty region\n",
    "std = np.sqrt(cov_cond.diagonal())\n",
    "\n",
    "sample_points_ss = np.zeros((1,100))\n",
    "for i in range(100):\n",
    "    sample_points_ss[0,i] = sample_points[i]\n",
    "\n",
    "plt.plot(x, y, 'k+')\n",
    "\n",
    "xxx = np.linspace(0,6, 100)\n",
    "yyy = 0.006*xxx**6 - 0.0857*xxx**5 + 0.3468*xxx**4 + 0.0464*xxx**3 - 2.5209*xxx**2 + 3.3872*xxx + 2.118\n",
    "\n",
    "plt.plot(xxx,yyy)\n",
    "\n",
    "label = [\"GPR_SE_kernel\", \"Real yeild\",\"Polynomials interpolation\"]  \n",
    "plt.legend(label,loc='upper left')\n",
    "\n",
    "# plt.plot(xx_test, yy_test, 'k+')\n",
    "plt.fill_between(sample_points_ss[0], mean[0] - 1.3 * std, mean[0] + 1.3 * std, facecolor='lightgray')\n",
    "\n",
    "plt.show()"
   ]
  },
  {
   "cell_type": "code",
   "execution_count": 118,
   "metadata": {
    "collapsed": false
   },
   "outputs": [],
   "source": [
    "#创建数据集 \n",
    "\n",
    "test = np.array([[2004,98.31]]) \n",
    "\n",
    "# data = np.array([ \n",
    "\n",
    "#     [2001,100.83,410],[2005,90.9,500],[2007,130.03,550],[2004,78.88,410],[2006,74.22,460], \n",
    "\n",
    "#     [2005,90.4,497],[1983,64.59,370],[2000,164.06,610],[2003,147.5,560],[2003,58.51,408], \n",
    "\n",
    "#     [1999,95.11,565],[2000,85.57,430],[1995,66.44,378],[2003,94.27,498],[2007,125.1,760], \n",
    "\n",
    "#     [2006,111.2,730],[2008,88.99,430],[2005,92.13,506],[2008,101.35,405],[2000,158.9,615]])\n",
    "\n",
    "data = data_set\n",
    "\n",
    "#核函数的取值 \n",
    "\n",
    "kernel = C(0.1, (0.001,0.1))*RBF(100,(1e-4,10)) \n",
    "\n",
    "#创建高斯过程回归,并训练\n",
    "\n",
    "reg = GaussianProcessRegressor(kernel=kernel,n_restarts_optimizer=10,alpha=0.1) \n",
    "\n",
    "reg.fit(data[:,:-1], data[:,-1]) \n",
    "\n",
    "#创建一个作图用的网格的测试数据，数据位线性，x为【1982，2009】间隔位0.5；y为【57.5，165】间隔位0.5\n",
    "\n",
    "x_min, x_max = data[:, 0].min() , data[:, 0].max() + 10\n",
    "\n",
    "y_min, y_max = data[:, 1].min() - 0.01, data[:, 1].max() + 0.01 \n",
    "\n",
    "xset, yset = np.meshgrid(np.arange(x_min, x_max, 50), np.arange(y_min, y_max, 0.005))\n",
    "\n",
    "#查看网格测试数据输出结果，并返回标准差。\n",
    "\n",
    "output,err = reg.predict(np.c_[xset.ravel(), yset.ravel()],return_std=True) \n",
    "\n",
    "output,err = output.reshape(xset.shape),err.reshape(xset.shape) \n",
    "\n",
    "sigma = np.sum(reg.predict(data[:,:-1], return_std=True)[1]) \n",
    "\n",
    "up,down = output*(1+1.96*err), output*(1-1.96*err) \n",
    "\n",
    " #作图，并画出\n",
    "\n",
    "fig = plt.figure(figsize=(10,5)) \n",
    "\n",
    "ax1 = fig.add_subplot(121, projection='3d') \n",
    "\n",
    "surf = ax1.plot_wireframe(xset,yset,output, rstride=10, cstride=2, antialiased=True) \n",
    "\n",
    "surf_u = ax1.plot_wireframe(xset,yset,up,colors='lightgreen',linewidths=1, \n",
    "\n",
    "                            rstride=10, cstride=2, antialiased=True) \n",
    "\n",
    "surf_d = ax1.plot_wireframe(xset,yset,down,colors='lightgreen',linewidths=1, \n",
    "\n",
    "                            rstride=10, cstride=2, antialiased=True) \n",
    "\n",
    "ax1.scatter(data[:,0],data[:,1],data[:,2],c='red') \n",
    "\n",
    "# ax1.set_title('House Price at (2004, 98.31): {0:.2f}$*10^4$ RMB'.format(reg.predict(test)[0])) \n",
    "\n",
    "ax1.set_xlabel('Date') \n",
    "\n",
    "ax1.set_ylabel('SZindex')  \n",
    "\n",
    "plt.show()"
   ]
  },
  {
   "cell_type": "code",
   "execution_count": null,
   "metadata": {
    "collapsed": true
   },
   "outputs": [],
   "source": []
  }
 ],
 "metadata": {
  "anaconda-cloud": {},
  "kernelspec": {
   "display_name": "Python [Root]",
   "language": "python",
   "name": "Python [Root]"
  },
  "language_info": {
   "codemirror_mode": {
    "name": "ipython",
    "version": 3
   },
   "file_extension": ".py",
   "mimetype": "text/x-python",
   "name": "python",
   "nbconvert_exporter": "python",
   "pygments_lexer": "ipython3",
   "version": "3.5.2"
  }
 },
 "nbformat": 4,
 "nbformat_minor": 0
}
