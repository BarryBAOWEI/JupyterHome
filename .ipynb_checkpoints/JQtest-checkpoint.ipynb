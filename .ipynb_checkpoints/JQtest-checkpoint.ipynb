{
 "cells": [
  {
   "cell_type": "code",
   "execution_count": 2,
   "metadata": {
    "collapsed": true
   },
   "outputs": [],
   "source": [
    "import jqdatasdk as jq\n",
    "import pandas as pd\n",
    "from jqdatasdk import macro"
   ]
  },
  {
   "cell_type": "code",
   "execution_count": 3,
   "metadata": {
    "collapsed": false,
    "scrolled": true
   },
   "outputs": [
    {
     "name": "stdout",
     "output_type": "stream",
     "text": [
      "auth success\n"
     ]
    }
   ],
   "source": [
    "jq.auth('13918852005','jxjslsc,.?2')"
   ]
  },
  {
   "cell_type": "code",
   "execution_count": 4,
   "metadata": {
    "collapsed": true
   },
   "outputs": [],
   "source": [
    "def get_stocks_price_inf(outputpath, start_date, end_date, stock_lst, frequent, fq = 'pre'):\n",
    "    \"\"\"\n",
    "    parameter statement:\n",
    "    outputpath : str  输出路径，到一个文件夹为止，'X:/YY/ZZZ/'\n",
    "    start_date : str  起始时间，'2017-01-01'\n",
    "    end_date   : str  结束时间\n",
    "    stock_lst  : list 股票代码列表，['000019.XSHE','000034.XSHE',...]\n",
    "    frequent   : str  取数频率，'Xd'，'Xm'，'daily'(等同于'1d')，'minute'(等同于'1m')\n",
    "    fq         : str  复权选项，'pre'，'None'，'post'，默认为前复权\n",
    "    \"\"\"\n",
    "    \n",
    "    save_dict = {}\n",
    "    \n",
    "    for stock in stock_lst:\n",
    "        stock_name = jq.get_security_info(stock).display_name\n",
    "        stock_df = jq.get_price(stock, start_date=start_date, end_date=end_date, frequency=frequent, fields=None, skip_paused=False, fq=fq, count=None)\n",
    "        save_dict[stock_name] = stock_df\n",
    "    \n",
    "    def stock_to_excel(outputpath,df_dict):\n",
    "        \"\"\"\n",
    "        outputpath: str  输出路径，例如'c:/XXX/YYYYY/'\n",
    "        df_dict   : dict stock_inf_get函数得到的结果字典\n",
    "        \"\"\"\n",
    "        outputfile = outputpath + 'stock__price_inf.xlsx'\n",
    "        writer = pd.ExcelWriter(outputfile)\n",
    "        for key, value in df_dict.items():\n",
    "            value.to_excel(writer,key)\n",
    "        writer.save()\n",
    "    \n",
    "    stock_to_excel(outputpath,save_dict)"
   ]
  },
  {
   "cell_type": "code",
   "execution_count": 6,
   "metadata": {
    "collapsed": false,
    "scrolled": true
   },
   "outputs": [],
   "source": [
    "stock_lst = ['000001.XSHG','000300.XSHG','000002.XSHE']\n",
    "get_stocks_price_inf(\n",
    "    outputpath = 'C:/Users/43460/Desktop/'\n",
    "    ,start_date = '2006-01-01'\n",
    "    ,end_date = '2018-05-24'\n",
    "    ,stock_lst = stock_lst\n",
    "    ,frequent = '1d'\n",
    "    ,fq = 'pre')"
   ]
  },
  {
   "cell_type": "code",
   "execution_count": null,
   "metadata": {
    "collapsed": true
   },
   "outputs": [],
   "source": []
  }
 ],
 "metadata": {
  "anaconda-cloud": {},
  "kernelspec": {
   "display_name": "Python [Root]",
   "language": "python",
   "name": "Python [Root]"
  },
  "language_info": {
   "codemirror_mode": {
    "name": "ipython",
    "version": 3
   },
   "file_extension": ".py",
   "mimetype": "text/x-python",
   "name": "python",
   "nbconvert_exporter": "python",
   "pygments_lexer": "ipython3",
   "version": "3.5.2"
  }
 },
 "nbformat": 4,
 "nbformat_minor": 0
}
