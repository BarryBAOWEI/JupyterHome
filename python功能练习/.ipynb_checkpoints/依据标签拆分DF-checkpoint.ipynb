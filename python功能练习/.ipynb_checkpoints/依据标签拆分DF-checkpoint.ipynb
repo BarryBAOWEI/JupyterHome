{
 "cells": [
  {
   "cell_type": "code",
   "execution_count": 1,
   "metadata": {},
   "outputs": [],
   "source": [
    "import pandas as pd"
   ]
  },
  {
   "cell_type": "code",
   "execution_count": 13,
   "metadata": {},
   "outputs": [],
   "source": [
    "def cut_with_label(df, label):\n",
    "    '''\n",
    "    df    ： 需拆分的dataframe，包含至少两列，其中一列为拆分依据的label\n",
    "    label ： 拆分依据的label，一个列名\n",
    "    output： 字典，key为label类别，value为对应子dataframe\n",
    "    '''\n",
    "    df_dct = {}\n",
    "    labels_lst = list(set(df[label].tolist()))\n",
    "    for yi in labels_lst:\n",
    "       df_dct[yi] = df[df[label].isin([yi])]\n",
    "    n_list = []\n",
    "    for key in df_dct.keys():\n",
    "        n_list.append(len(df_dct[key]))\n",
    "    print(df_dct.keys(),n_list)\n",
    "    return df_dct"
   ]
  },
  {
   "cell_type": "code",
   "execution_count": null,
   "metadata": {},
   "outputs": [],
   "source": []
  }
 ],
 "metadata": {
  "kernelspec": {
   "display_name": "Python 3",
   "language": "python",
   "name": "python3"
  },
  "language_info": {
   "codemirror_mode": {
    "name": "ipython",
    "version": 3
   },
   "file_extension": ".py",
   "mimetype": "text/x-python",
   "name": "python",
   "nbconvert_exporter": "python",
   "pygments_lexer": "ipython3",
   "version": "3.6.5"
  }
 },
 "nbformat": 4,
 "nbformat_minor": 2
}
