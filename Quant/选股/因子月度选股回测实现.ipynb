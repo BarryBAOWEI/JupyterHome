{
 "cells": [
  {
   "cell_type": "code",
   "execution_count": null,
   "metadata": {},
   "outputs": [],
   "source": [
    "import numpy as np\n",
    "import pandas as pd\n",
    "import numpy as np\n",
    "# from cvxpy import *\n",
    "import datetime\n",
    "from sklearn.linear_model import LinearRegression\n",
    "import matplotlib.pyplot as plt"
   ]
  },
  {
   "cell_type": "code",
   "execution_count": null,
   "metadata": {},
   "outputs": [],
   "source": [
    "'''\n",
    "数据下载用以因子计算+行情\n",
    "'''"
   ]
  },
  {
   "cell_type": "code",
   "execution_count": 1,
   "metadata": {},
   "outputs": [
    {
     "data": {
      "text/plain": [
       "[2019-06-07 10:38:23.369353] INFO: bigquant: instruments.v2 开始运行.."
      ]
     },
     "metadata": {
      "is_log": true,
      "status": "INFO"
     },
     "output_type": "display_data"
    },
    {
     "data": {
      "text/plain": [
       "[2019-06-07 10:38:23.429087] INFO: bigquant: 命中缓存"
      ]
     },
     "metadata": {
      "is_log": true,
      "status": "INFO"
     },
     "output_type": "display_data"
    },
    {
     "data": {
      "text/plain": [
       "[2019-06-07 10:38:23.431766] INFO: bigquant: instruments.v2 运行完成[0.062429s]."
      ]
     },
     "metadata": {
      "is_log": true,
      "status": "INFO"
     },
     "output_type": "display_data"
    },
    {
     "data": {
      "text/plain": [
       "[2019-06-07 10:38:23.436442] INFO: bigquant: input_features.v1 开始运行.."
      ]
     },
     "metadata": {
      "is_log": true,
      "status": "INFO"
     },
     "output_type": "display_data"
    },
    {
     "data": {
      "text/plain": [
       "[2019-06-07 10:38:23.475291] INFO: bigquant: 命中缓存"
      ]
     },
     "metadata": {
      "is_log": true,
      "status": "INFO"
     },
     "output_type": "display_data"
    },
    {
     "data": {
      "text/plain": [
       "[2019-06-07 10:38:23.477401] INFO: bigquant: input_features.v1 运行完成[0.040944s]."
      ]
     },
     "metadata": {
      "is_log": true,
      "status": "INFO"
     },
     "output_type": "display_data"
    },
    {
     "data": {
      "text/plain": [
       "[2019-06-07 10:38:23.531060] INFO: bigquant: general_feature_extractor.v7 开始运行.."
      ]
     },
     "metadata": {
      "is_log": true,
      "status": "INFO"
     },
     "output_type": "display_data"
    },
    {
     "data": {
      "text/plain": [
       "[2019-06-07 10:38:23.570906] INFO: bigquant: 命中缓存"
      ]
     },
     "metadata": {
      "is_log": true,
      "status": "INFO"
     },
     "output_type": "display_data"
    },
    {
     "data": {
      "text/plain": [
       "[2019-06-07 10:38:23.573536] INFO: bigquant: general_feature_extractor.v7 运行完成[0.042473s]."
      ]
     },
     "metadata": {
      "is_log": true,
      "status": "INFO"
     },
     "output_type": "display_data"
    },
    {
     "data": {
      "text/plain": [
       "[2019-06-07 10:38:23.578068] INFO: bigquant: derived_feature_extractor.v3 开始运行.."
      ]
     },
     "metadata": {
      "is_log": true,
      "status": "INFO"
     },
     "output_type": "display_data"
    },
    {
     "data": {
      "text/plain": [
       "[2019-06-07 10:38:23.618177] INFO: bigquant: 命中缓存"
      ]
     },
     "metadata": {
      "is_log": true,
      "status": "INFO"
     },
     "output_type": "display_data"
    },
    {
     "data": {
      "text/plain": [
       "[2019-06-07 10:38:23.620400] INFO: bigquant: derived_feature_extractor.v3 运行完成[0.042314s]."
      ]
     },
     "metadata": {
      "is_log": true,
      "status": "INFO"
     },
     "output_type": "display_data"
    }
   ],
   "source": [
    "start_date = '2011-01-01' \n",
    "end_date = '2019-05-31'\n",
    "\n",
    "m1 = M.instruments.v2(\n",
    "    start_date=start_date,\n",
    "    end_date=end_date,\n",
    "    market='CN_STOCK_A',\n",
    "    instrument_list=''\n",
    ")\n",
    "\n",
    "m7 = M.input_features.v1(\n",
    "    features=\"\"\"\n",
    "beta_csi500_180_0\n",
    "ta_mom_60_0\n",
    "log(market_cap_0+0.0001)\n",
    "west_eps_ftm_0/close_0\n",
    "fs_net_income_0/market_cap_0\n",
    "fs_eps_0/close_0\n",
    "volatility_240_0\n",
    "return_20\n",
    "return_0\n",
    "swing_volatility_240_0\n",
    "fs_net_profit_qoq_0\n",
    "fs_net_profit_yoy_0\n",
    "fs_net_profit_0\n",
    "west_netprofit_ftm_0\n",
    "west_netprofit_ftm_0/market_cap_0\n",
    "fs_operating_revenue_ttm_0/market_cap_0\n",
    "fs_common_equity_0/market_cap_0\n",
    "(fs_non_current_liabilities_0+market_cap_0)/market_cap_0\n",
    "fs_total_liability_0/(fs_current_assets_0+fs_non_current_assets_0)\n",
    "(fs_common_equity_0+fs_non_current_liabilities_0)/fs_common_equity_0\n",
    "turn_0\n",
    "\"\"\"\n",
    ")\n",
    "\n",
    "m8 = M.general_feature_extractor.v7(\n",
    "    instruments=m1.data,\n",
    "    features=m7.data,\n",
    "    start_date='',\n",
    "    end_date='',\n",
    "    before_start_days=0\n",
    ")\n",
    "\n",
    "m9 = M.derived_feature_extractor.v3(\n",
    "    input_data=m8.data,\n",
    "    features=m7.data,\n",
    "    date_col='date',\n",
    "    instrument_col='instrument',\n",
    "    drop_na=False,\n",
    "    remove_extra_columns=False\n",
    ")\n",
    " \n",
    "# the material we need to build the factors are stored in Material DataFrame \n",
    "materials = m9.data.read_df()\n",
    "materials = materials.set_index('date')\n",
    "\n",
    "# materials.to_csv('D:/materialsStockData/materialsStockData.csv',index=True)"
   ]
  },
  {
   "cell_type": "code",
   "execution_count": null,
   "metadata": {},
   "outputs": [],
   "source": [
    "'''\n",
    "构建衍生因子\n",
    "'''"
   ]
  },
  {
   "cell_type": "code",
   "execution_count": 2,
   "metadata": {},
   "outputs": [],
   "source": [
    "# 构建十大类因子里面的所有小因子\n",
    "# 流动性因子：stom,过去一个月日换手率之和的自然对数值;stoq,过去一个季度日换手率之和的自然对数值;stoa,过去一年日换手率之和的自然对数值\n",
    "temporary_storage_dict = dict()\n",
    "temporary_storage_dict['STOM'] = materials.groupby('instrument')['turn_0'].rolling(21).sum().apply(lambda x:np.log(x)).reset_index().set_index('date').rename(columns={'turn_0':'STOM'})\n",
    "temporary_storage_dict['STOQ'] = temporary_storage_dict['STOM'].groupby('instrument').apply(lambda x:np.exp(x['STOM'])).rolling(3).mean().apply(lambda x:np.log(x)).reset_index().set_index('date').rename(columns={'STOM':'STOQ'})\n",
    "temporary_storage_dict['STOA'] = temporary_storage_dict['STOM'].groupby('instrument').apply(lambda x:np.exp(x['STOM'])).rolling(12).mean().apply(lambda x:np.log(x)).reset_index().set_index('date').rename(columns={'STOM':'STOA'})\n",
    "\n",
    "# 杠杆因子：mlev,市场杠杆,普通股市值+优先股账面值+长期负债账面值/普通股市值;dtoa,负债资产比;blev,账面杠杆,普通股账面值+优先股账面值+长期负债账面值/普通股账面值\n",
    "temporary_storage_dict['MLEV'] = materials[['instrument','(fs_non_current_liabilities_0+market_cap_0)/market_cap_0']].rename(columns={'(fs_non_current_liabilities_0+market_cap_0)/market_cap_0':'MLEV'})\n",
    "temporary_storage_dict['DTOA'] = materials[['instrument','fs_total_liability_0/(fs_current_assets_0+fs_non_current_assets_0)']].rename(columns={'fs_total_liability_0/(fs_current_assets_0+fs_non_current_assets_0)':'DTOA'})\n",
    "temporary_storage_dict['BLEV'] = materials[['instrument','(fs_common_equity_0+fs_non_current_liabilities_0)/fs_common_equity_0']].rename(columns={'(fs_common_equity_0+fs_non_current_liabilities_0)/fs_common_equity_0':'BLEV'})\n",
    "\n",
    "# 账面市值比因子：value,普通股账面值/普通股市值\n",
    "temporary_storage_dict['Value'] = materials[['instrument','fs_common_equity_0/market_cap_0']].rename(columns={'fs_common_equity_0/market_cap_0':'Value'})\n",
    "\n",
    "# 成长因子：growth,归母净利润同比增长率（有BUG,波动可能较大,估计不精确）\n",
    "temporary_storage_dict['Growth'] = materials[['instrument','fs_net_profit_yoy_0']].rename(columns={'fs_net_profit_yoy_0':'Growth'})\n",
    "\n",
    "# 盈利预期因子：epibs,cetop,分析师预期未来12月&历史12月盈利市值比;ETOP,历史12月现金流量市值比（有BUG）\n",
    "temporary_storage_dict['EPIBS'] = materials[['instrument','west_eps_ftm_0/close_0']].rename(columns={'west_eps_ftm_0/close_0':'EPIBS'})\n",
    "temporary_storage_dict['ETOP'] = materials[['instrument','fs_net_income_0/market_cap_0']].rename(columns={'fs_net_income_0/market_cap_0':'ETOP'})\n",
    "temporary_storage_dict['CETOP'] = materials[['instrument','fs_eps_0/close_0']].rename(columns={'fs_eps_0/close_0':'CETOP'})\n",
    "\n",
    "# 残差波动因子：dastd,过去12个月波动率;cmra,过去12个月对数超额收益率累加值序列的最大值减最小值;hsigma,CAPM模型过去12个月残差标准差（有BUG）\n",
    "temporary_storage_dict['DASTD'] = materials[['instrument','volatility_240_0']].rename(columns={'volatility_240_0':'DASTD'})\n",
    "temporary_storage_dict['GMRA'] = materials.groupby('instrument')['return_20'].rolling(12).apply(lambda x:np.log(1+np.max(x))-np.log(1+np.min(x))).reset_index().set_index('date').rename(columns={'return_20':'GMRA'})\n",
    "\n",
    "# 市值因子：size,市值的自然对数\n",
    "temporary_storage_dict['Size'] = materials[['instrument','log(market_cap_0+0.0001)']].rename(columns={'log(market_cap_0+0.0001)':'Size'})\n",
    "\n",
    "# 动量因子：rstr,长期动量减去短期动量（有BUG）\n",
    "temporary_storage_dict['Momentum'] = materials[['instrument','ta_mom_60_0']].rename(columns={'ta_mom_60_0':'Momentum'})\n",
    "\n",
    "# 贝塔因子：beta,CAPM模型回归贝塔\n",
    "temporary_storage_dict['Beta'] = materials[['instrument','beta_csi500_180_0']].rename(columns={'beta_csi500_180_0':'Beta'})\n",
    "\n",
    "# 非线性市值 - 未构造完毕\n",
    "temporary_storage_dict['Nlsize'] = temporary_storage_dict['Size'].copy().rename(columns={'Size':'Nlsize'})\n",
    "temporary_storage_dict['Nlsize']['Nlsize'] = temporary_storage_dict['Size']['Size'].apply(lambda x: x**3)"
   ]
  },
  {
   "cell_type": "code",
   "execution_count": 3,
   "metadata": {},
   "outputs": [],
   "source": [
    "instrument_list = list(set(materials['instrument'].tolist()))"
   ]
  },
  {
   "cell_type": "code",
   "execution_count": 4,
   "metadata": {},
   "outputs": [],
   "source": [
    "# 因子:数据框 的字典拼接成一张表\n",
    "for i in list(set(temporary_storage_dict.keys())):\n",
    "    temporary_storage_dict[i] = temporary_storage_dict[i].reset_index()\n",
    "\n",
    "initiate_factor_df  = temporary_storage_dict['STOM']  # 这里先取STOM因子数据\n",
    "tmp_raw_factor_name = list(set(temporary_storage_dict.keys()).difference(['STOM']))\n",
    "for i in tmp_raw_factor_name:\n",
    "    initiate_factor_df = initiate_factor_df.merge(temporary_storage_dict[i], )"
   ]
  },
  {
   "cell_type": "code",
   "execution_count": 5,
   "metadata": {},
   "outputs": [],
   "source": [
    "# 非线性市值 - 构造完毕\n",
    "def Nlsize(df):\n",
    "    tmp = df[['Size','Nlsize']]\n",
    "    X = np.array(tmp[['Size']])\n",
    "    y = tmp['Nlsize'].values\n",
    "    reg = LinearRegression()\n",
    "    try:\n",
    "        reg.fit(X,y)   # 将行业因子因子和市值因子对特定因子作回归\n",
    "        res = y-reg.predict(X.reshape(-1, 1))\n",
    "        df['Nlsize'] = res\n",
    "    except ValueError as e:   \n",
    "        df['Nlsize'] = np.nan\n",
    "    return df\n",
    "initiate_factor_df = initiate_factor_df.groupby('date').apply(Nlsize)"
   ]
  },
  {
   "cell_type": "code",
   "execution_count": 6,
   "metadata": {},
   "outputs": [
    {
     "data": {
      "text/plain": [
       "'\\n去极值处理\\n'"
      ]
     },
     "execution_count": 6,
     "metadata": {},
     "output_type": "execute_result"
    }
   ],
   "source": [
    "'''\n",
    "去极值处理\n",
    "'''"
   ]
  },
  {
   "cell_type": "code",
   "execution_count": 6,
   "metadata": {},
   "outputs": [],
   "source": [
    "# 去极值处理（截面）\n",
    "def winsorize(df):\n",
    "    factors = set(df.columns).difference(['date', 'instrument'])\n",
    "    for factor in factors:\n",
    "        # 某个时间截面上全是NaN\n",
    "        if df[df[factor].isnull()==True].shape[0] == len(df):\n",
    "            continue\n",
    "        median = np.median(df[factor])\n",
    "        MAD = np.median(np.abs(df[factor] - median))\n",
    "        df[factor][df[factor]>median+5*MAD] = median+5*MAD  # 盖帽处理偏离中位数5倍以上的数据\n",
    "        df[factor][df[factor]<median-5*MAD] = median-5*MAD\n",
    "    return df\n",
    "\n",
    "# 截面数据去极值,返回日频因子数据\n",
    "extrema_remove_df = initiate_factor_df.groupby('date').apply(winsorize)  "
   ]
  },
  {
   "cell_type": "code",
   "execution_count": 10,
   "metadata": {},
   "outputs": [
    {
     "data": {
      "text/plain": [
       "'\\n数据转为月度,行业数据拼接,因子缺失值截面行业均值填充,行业、市值中性化处理和标准化处理\\n'"
      ]
     },
     "execution_count": 10,
     "metadata": {},
     "output_type": "execute_result"
    }
   ],
   "source": [
    "'''\n",
    "数据转为月度,行业数据拼接,因子缺失值截面行业均值填充,行业、市值中性化处理和标准化处理\n",
    "'''"
   ]
  },
  {
   "cell_type": "code",
   "execution_count": 7,
   "metadata": {},
   "outputs": [],
   "source": [
    "# 读取行业数据和市值数据,并月度化\n",
    "ins = list(extrema_remove_df.instrument.unique())\n",
    "industry_info = D.history_data(ins, start_date, end_date, ['industry_sw_level1','market_cap_float'])   \n",
    "industry_info['market_cap_float'] = np.log10(industry_info['market_cap_float'])  # 对市值因子取对数\n",
    "\n",
    "industry_df = industry_info[(industry_info.industry_sw_level1!=0)&(industry_info.industry_sw_level1!=-1)].set_index('date')  # 取出其中有行业分类的条目，如果行业划分是0或者-1就算了，代表无划分\n",
    "\n",
    "industry_df = industry_df.groupby('instrument').apply(lambda x: x.resample('M', how='last'))  \n",
    "industry_df.index = industry_df.index.droplevel(0)\n",
    "industry_df.reset_index(inplace=True)"
   ]
  },
  {
   "cell_type": "code",
   "execution_count": 8,
   "metadata": {},
   "outputs": [],
   "source": [
    "# 风格因子数据转换成月度,并与市值行业数据的拼接,并把行业因子转换成dummy数据 \n",
    "extrema_remove_df.set_index('date', inplace=True)\n",
    "extrema_remove_df = extrema_remove_df.groupby('instrument').apply(lambda x: x.resample('M', how='last'))  # pandas 处理时间序列数据，将原始数据转换为月末数据\n",
    "extrema_remove_df.index = extrema_remove_df.index.droplevel(0) # 有多重index,丢弃股票代码index（来自groupby）\n",
    "extrema_remove_df.reset_index(inplace=True)\n",
    "\n",
    "extrema_remove_df = extrema_remove_df.merge(industry_df, on=['date', 'instrument']) # 风格因子数据和市值行业数据拼接\n",
    "\n",
    "# 截面因子缺失值数据使用行业均值填充\n",
    "extrema_remove_df = extrema_remove_df.groupby(['date', 'industry_sw_level1']).apply(lambda t: t.fillna(np.mean(t, axis=0)))\n",
    "extrema_remove_df.reset_index(inplace=True, drop=True)\n",
    "\n",
    "# 行业属性数据哑变量\n",
    "dummy_industry_df = pd.get_dummies(extrema_remove_df['industry_sw_level1'], prefix='industry_prefix')   \n",
    "\n",
    "# 哑变量与截面数据进行横向拼接\n",
    "merge_df = pd.concat([extrema_remove_df, dummy_industry_df], axis=1).sort_values(['date', 'instrument'])  # 原始的行业因子那列应该还在"
   ]
  },
  {
   "cell_type": "code",
   "execution_count": 9,
   "metadata": {},
   "outputs": [],
   "source": [
    "# 行业中性化处理和市值中性化处理 - 正交\n",
    "def calcu_single_factor(df, factor):\n",
    "    # 行业哑变量\n",
    "    industry_factor = [i for i in df.columns if i[:15]=='industry_prefix']\n",
    "    # 对市值因子和行业因子进行回归\n",
    "    xvars = ['market_cap_float'] + industry_factor\n",
    "    used_factors = xvars + [factor] + ['instrument']\n",
    "    \n",
    "    used_factors_df = df[used_factors]\n",
    "    used_factors_df = used_factors_df[~used_factors_df.isnull().T.any().T]\n",
    "    if len(used_factors_df) == 0:\n",
    "        return None\n",
    "    X = used_factors_df[xvars]\n",
    "    y = used_factors_df[factor]\n",
    "    reg = LinearRegression()\n",
    "    try:\n",
    "        reg.fit(X,y)   # 将行业因子因子和市值因子对特定因子作回归\n",
    "        res = y-reg.predict(X)\n",
    "        used_factors_df[factor] = res\n",
    "    except ValueError as e:\n",
    "        used_factors_df[factor] = np.nan \n",
    "\n",
    "    return used_factors_df[['instrument',factor]]\n",
    "\n",
    "detail_style_factor = [m for m in initiate_factor_df.columns if m not in ['date','instrument','market_cap_float']]  \n",
    "\n",
    "# 对风格因子进行市值中性化处理,共计16个风格因子\n",
    "# 对每个因子,在时间截面上处理\n",
    "factor_data_after_neutralize = pd.DataFrame(columns=['date','instrument'])\n",
    "for factor in detail_style_factor: \n",
    "    result_temp = merge_df.groupby('date').apply(lambda x: calcu_single_factor(x, factor)).reset_index().drop('level_1',axis=1)\n",
    "    factor_data_after_neutralize = factor_data_after_neutralize.merge(result_temp, on=['date', 'instrument'], how='outer') # 因为是拼接,每次都取并集,第一次相当于填充\n",
    "\n",
    "# 标准化处理\n",
    "def standardlize(x):\n",
    "    return (x-x.mean())/x.std()\n",
    "for factor in detail_style_factor:\n",
    "    factor_data_after_neutralize[factor] = factor_data_after_neutralize.groupby('date')[factor].apply(standardlize)\n",
    "\n",
    "# 用0值填充标准化后的缺失值 \n",
    "factor_data_after_standard = factor_data_after_neutralize.fillna(0)"
   ]
  },
  {
   "cell_type": "code",
   "execution_count": 15,
   "metadata": {},
   "outputs": [
    {
     "data": {
      "text/plain": [
       "'\\n获取股票价格数据\\n'"
      ]
     },
     "execution_count": 15,
     "metadata": {},
     "output_type": "execute_result"
    }
   ],
   "source": [
    "'''\n",
    "获取股票价格数据\n",
    "'''"
   ]
  },
  {
   "cell_type": "code",
   "execution_count": 10,
   "metadata": {},
   "outputs": [],
   "source": [
    "# 获取股票价格并月度化 - 从已经构造好的因子数据集获取时间以及标的信息\n",
    "start = factor_data_after_standard.date.min().strftime('%Y-%m-%d')   \n",
    "end = factor_data_after_standard.date.max().strftime('%Y-%m-%d')      \n",
    "ins = list(set(factor_data_after_standard.instrument))    \n",
    "\n",
    "price = DataSource('bar1d_CN_STOCK_A').read(instrument=ins, start_date=start, end_date=end, fields=['close'])    \n",
    "price.rename(columns={'close':'price'}, inplace=True)\n",
    "price = price.set_index('date').groupby('instrument').apply(lambda x: x.resample('M', how='last'))    \n",
    "price.index = price.index.droplevel(0)\n",
    "price.reset_index(inplace=True)"
   ]
  },
  {
   "cell_type": "code",
   "execution_count": 17,
   "metadata": {},
   "outputs": [
    {
     "data": {
      "text/plain": [
       "'\\n数据透视表计算股票收益率与因子数据合并\\n'"
      ]
     },
     "execution_count": 17,
     "metadata": {},
     "output_type": "execute_result"
    }
   ],
   "source": [
    "'''\n",
    "数据透视表计算股票收益率与因子数据合并\n",
    "'''"
   ]
  },
  {
   "cell_type": "code",
   "execution_count": 11,
   "metadata": {},
   "outputs": [],
   "source": [
    "# 通过价格计算收益率并合成大类风格因子\n",
    "tmp_factor = [m for m in merge_df.columns if m not in ['market_cap_float','industry_sw_level1']]\n",
    "industry_prefix_factor = list(set(tmp_factor).difference(set(detail_style_factor)))  # industry_prefix_factor  是date instrument 和行业因子,共计30个因子\n",
    "\n",
    "# 构建一个总的数据表, 合并行业因子和价格\n",
    "monthly_style_and_industry_factor = factor_data_after_standard.merge(price, on=['date', 'instrument'], how='inner')\n",
    "monthly_style_and_industry_factor = monthly_style_and_industry_factor.merge(merge_df[industry_prefix_factor], on=['date', 'instrument'], how='inner').set_index('date')  \n",
    "\n",
    "# 计算出收益率 - 需要注意,月度收益率若为T~T+1期的收益,则标记时间为T,因为与因子对应的收益率数据是下一期收益\n",
    "monthly_style_and_industry_factor.reset_index(inplace=True)\n",
    "\n",
    "monthly_price_df = monthly_style_and_industry_factor.pivot_table(values='price',columns='instrument',index='date')\n",
    "# monthly_style_and_industry_factor = monthly_style_and_industry_factor.merge(monthly_price_df.pct_change().shift(-1).unstack(\n",
    "#                               ).to_frame('return').reset_index(),on=['date','instrument']) # 这里的shift(-1)很关键\n",
    "monthly_style_and_industry_factor = monthly_style_and_industry_factor.merge(monthly_price_df.pct_change().shift(-1).unstack(\n",
    "                              ).reset_index().rename(columns={0:'return'}),on=['date','instrument']) # 这里的shift(-1)很关键\n",
    "monthly_style_and_industry_factor = monthly_style_and_industry_factor.dropna()"
   ]
  },
  {
   "cell_type": "code",
   "execution_count": 93,
   "metadata": {},
   "outputs": [
    {
     "name": "stdout",
     "output_type": "stream",
     "text": [
      "Index(['date', 'instrument', 'STOM', 'Size', 'Beta', 'GMRA', 'Growth', 'BLEV',\n",
      "       'STOQ', 'Momentum', 'ETOP', 'DTOA', 'DASTD', 'MLEV', 'Value', 'EPIBS',\n",
      "       'STOA', 'CETOP', 'industry_sw_level1', 'market_cap_float',\n",
      "       'industry_prefix_110000', 'industry_prefix_210000',\n",
      "       'industry_prefix_220000', 'industry_prefix_230000',\n",
      "       'industry_prefix_240000', 'industry_prefix_270000',\n",
      "       'industry_prefix_280000', 'industry_prefix_330000',\n",
      "       'industry_prefix_340000', 'industry_prefix_350000',\n",
      "       'industry_prefix_360000', 'industry_prefix_370000',\n",
      "       'industry_prefix_410000', 'industry_prefix_420000',\n",
      "       'industry_prefix_430000', 'industry_prefix_450000',\n",
      "       'industry_prefix_460000', 'industry_prefix_480000',\n",
      "       'industry_prefix_490000', 'industry_prefix_510000',\n",
      "       'industry_prefix_610000', 'industry_prefix_620000',\n",
      "       'industry_prefix_630000', 'industry_prefix_640000',\n",
      "       'industry_prefix_650000', 'industry_prefix_710000',\n",
      "       'industry_prefix_720000', 'industry_prefix_730000'],\n",
      "      dtype='object') \n",
      "\n",
      "Index(['date', 'instrument', 'STOM', 'Size', 'Beta', 'GMRA', 'Growth', 'BLEV',\n",
      "       'STOQ', 'Momentum', 'ETOP', 'DTOA', 'DASTD', 'MLEV', 'Value', 'EPIBS',\n",
      "       'STOA', 'CETOP'],\n",
      "      dtype='object')\n"
     ]
    }
   ],
   "source": [
    "print(merge_df.columns,'\\n')\n",
    "print(factor_data_after_standard.columns)"
   ]
  },
  {
   "cell_type": "code",
   "execution_count": null,
   "metadata": {},
   "outputs": [],
   "source": [
    "'''\n",
    "小类因子合并为大类因子 - 比较灵活\n",
    "'''"
   ]
  },
  {
   "cell_type": "code",
   "execution_count": 12,
   "metadata": {},
   "outputs": [],
   "source": [
    "# 小因子等权重合并成大因子, 这里未来可以采取IC_IR法\n",
    "monthly_style_and_industry_factor['Volatility'] = (monthly_style_and_industry_factor['DASTD']+monthly_style_and_industry_factor['GMRA'])/2\n",
    "# monthly_style_and_industry_factor['Volatility'] = monthly_style_and_industry_factor['dastd']\n",
    "monthly_style_and_industry_factor['EarningYields'] = (monthly_style_and_industry_factor['EPIBS']+monthly_style_and_industry_factor['ETOP']+monthly_style_and_industry_factor['CETOP'])/3\n",
    "monthly_style_and_industry_factor['Leverage'] = (monthly_style_and_industry_factor['MLEV']+monthly_style_and_industry_factor['BLEV']+monthly_style_and_industry_factor['DTOA'])/3\n",
    "monthly_style_and_industry_factor['Liquidity'] = (monthly_style_and_industry_factor['STOM']+monthly_style_and_industry_factor['STOQ']+monthly_style_and_industry_factor['STOA'])/3\n",
    "monthly_style_and_industry_factor.drop(['DASTD','GMRA','EPIBS','ETOP','CETOP','MLEV','BLEV','DTOA','STOM','STOQ','STOA'], axis=1, inplace=True)"
   ]
  },
  {
   "cell_type": "code",
   "execution_count": 58,
   "metadata": {},
   "outputs": [
    {
     "data": {
      "text/plain": [
       "Index(['date', 'instrument', 'STOM', 'MLEV', 'Size', 'Momentum', 'EPIBS',\n",
       "       'GMRA', 'ETOP', 'Nlsize', 'Beta', 'BLEV', 'dastd', 'Value', 'CETOP',\n",
       "       'STOA', 'STOQ', 'Growth', 'DTOA', 'DASTD', 'price',\n",
       "       'industry_prefix_490000', 'industry_prefix_710000',\n",
       "       'industry_prefix_420000', 'industry_prefix_620000',\n",
       "       'industry_prefix_430000', 'industry_prefix_510000',\n",
       "       'industry_prefix_240000', 'industry_prefix_350000',\n",
       "       'industry_prefix_370000', 'industry_prefix_460000',\n",
       "       'industry_prefix_480000', 'industry_prefix_230000',\n",
       "       'industry_prefix_450000', 'industry_prefix_110000',\n",
       "       'industry_prefix_730000', 'industry_prefix_270000',\n",
       "       'industry_prefix_410000', 'industry_prefix_640000',\n",
       "       'industry_prefix_220000', 'industry_prefix_650000',\n",
       "       'industry_prefix_210000', 'industry_prefix_360000',\n",
       "       'industry_prefix_720000', 'industry_prefix_610000',\n",
       "       'industry_prefix_340000', 'industry_prefix_330000',\n",
       "       'industry_prefix_280000', 'industry_prefix_630000', 'return'],\n",
       "      dtype='object')"
      ]
     },
     "execution_count": 58,
     "metadata": {},
     "output_type": "execute_result"
    }
   ],
   "source": [
    "monthly_style_and_industry_factor.columns"
   ]
  },
  {
   "cell_type": "code",
   "execution_count": null,
   "metadata": {},
   "outputs": [],
   "source": [
    "'''\n",
    "计算股票特质收益率\n",
    "'''"
   ]
  },
  {
   "cell_type": "code",
   "execution_count": 13,
   "metadata": {},
   "outputs": [],
   "source": [
    "style_factor = ['Value','Growth','Size','Beta','Momentum','Volatility','EarningYields','Leverage','Liquidity','Nlsize']"
   ]
  },
  {
   "cell_type": "code",
   "execution_count": null,
   "metadata": {},
   "outputs": [],
   "source": [
    "'''\n",
    "月度选股类模型回测函数\n",
    "- 行情数据(至少为包含收盘价的日度数据)\n",
    "- 选股用数据(日度或月度均可)\n",
    "'''"
   ]
  },
  {
   "cell_type": "code",
   "execution_count": 69,
   "metadata": {},
   "outputs": [],
   "source": [
    "# 初始化变量\n",
    "\n",
    "# 初始资金\n",
    "capital_base = 10000000\n",
    "# 现金\n",
    "cash = 10000000\n",
    "# 当前净值\n",
    "current_equity = 10000000\n",
    "# 仓位上限\n",
    "position_upper = 0.8\n",
    "# 交易成本\n",
    "cost_ratio = 0.003\n",
    "# 当前持仓 - 股票型,只有多头,key为股票代码,value为具体金额\n",
    "current_position = dict()\n",
    "# 净值历史记录(用于绘图),记录日期以及净值,日度\n",
    "history_position = dict()\n",
    "equity_df = pd.DataFrame()\n",
    "# 持仓历史记录(用于绘图),记录日期以及持仓情况,月度\n",
    "history_order = dict()\n",
    "# 基本数据 - 行情数据\n",
    "trade_data = materials[['return_0','instrument','close_0']].rename(columns = {'close_0':'close','return_0':'return'}).reset_index()\n",
    "strategy_data = monthly_style_and_industry_factor.copy()\n",
    "# 基本数据 - 策略运行日期,月度\n",
    "strategy_day = np.sort(strategy_data['date'].unique())\n",
    "# 策略运行次数计数器\n",
    "run_cnt = 0"
   ]
  },
  {
   "cell_type": "code",
   "execution_count": 122,
   "metadata": {},
   "outputs": [],
   "source": [
    "def clear_function(df1,df2,value1,dict1,day1,day2,value2):\n",
    "    '''\n",
    "    结算函数\n",
    "    输入行情数据df1,原净值df2,原当前净值value1,原当前仓位dict1,上月末day1,本月末day2\n",
    "    根据当前持仓获取本期净值序列\n",
    "    更新净值df2、当前净值value1、当前仓位dict1,df2最后一个值需要更新\n",
    "    '''\n",
    "    trade_data_period = df1[(df1['date']<=day2) & (df1['date']>=day1)].copy()\n",
    "    current_stock_list = list(current_position.keys())\n",
    "    current_stock_value = [current_position[stock] for stock in current_stock_list]\n",
    "    trade_data_period_stock = trade_data_period[trade_data_period['instrument'].isin(current_stock_list)]\n",
    "    # 获取计算组合内个股价值序列的算子\n",
    "    value_operator_df = trade_data_period_stock.pivot_table(index='date',columns='instrument',values='close').pct_change().apply(lambda x: np.log(1+x)).fillna(0).expanding().sum().apply(lambda x: np.exp(x))\n",
    "    # 算子乘以个股初始价值得到价值序列\n",
    "    stock_value_df = value_operator_df.copy()\n",
    "    for stock in current_stock_list:\n",
    "        stock_value_df[stock] = value_operator_df[stock].apply(lambda x: x*current_position[stock])\n",
    "        dict1[stock] = stock_value_df[stock].tolist()[-1]\n",
    "    # 个股价值序列相加得到组合价值序列,再加现金得到净值序列\n",
    "    df2 = pd.concat([df2,(stock_value_df.sum(axis=1).to_frame('stock_portfolio_value')+value2).iloc[1::,]],axis=0)\n",
    "    # 更新当前净值,用以计算目标仓位\n",
    "    value1 = df2.iloc[-1,].values[0]\n",
    "    return df2,value1,dict1"
   ]
  },
  {
   "cell_type": "code",
   "execution_count": 146,
   "metadata": {},
   "outputs": [],
   "source": [
    "def strategy_function(day1,df1,value1,factor):\n",
    "    '''\n",
    "    策略函数\n",
    "    输入每个月末的日期day1,即策略运行时间点,输入策略所需全集df1,输入当前净值value1\n",
    "    经过选股策略\n",
    "    输出目标仓位expect_position,字典\n",
    "    '''\n",
    "    # 截取策略所需数据,必然是<=strategy_day_used的子集\n",
    "    strategy_data_used = df1[df1['date'] == day1].copy()\n",
    "    \n",
    "    # 月度因子选股策略1 - 低流动性股票\n",
    "    dict1 = {}\n",
    "    expect_stock_list = strategy_data_used.sort_values(factor).head(50)['instrument'].unique().tolist()\n",
    "    for stock in expect_stock_list:\n",
    "        dict1[stock] = value1*position_upper/len(expect_stock_list)\n",
    "    return dict1"
   ]
  },
  {
   "cell_type": "code",
   "execution_count": 124,
   "metadata": {},
   "outputs": [],
   "source": [
    "def trade_function(dict1,dict2,day1,df1,value1,dict3):\n",
    "    '''\n",
    "    交易函数\n",
    "    输入目标仓位expect_position dict1,当前仓位current_position dict2,策略运行当日day1,历史净值df1,原现金value1,原历史仓位dict3\n",
    "    将目前仓位调整至目标仓位\n",
    "    更新cash、current_position、history_position、净值df1最后一行(减成本)\n",
    "    '''\n",
    "    tmp_sell = dict2\n",
    "    tmp_buy = dict1\n",
    "    current_stock_list = list(tmp_sell.keys())\n",
    "    expect_stock_list = list(tmp_buy.keys())\n",
    "    inter_stock = [stock for stock in expect_stock_list if stock in current_stock_list]\n",
    "    for stock in inter_stock:\n",
    "        change = tmp_buy[stock] - tmp_sell[stock]\n",
    "        # 原有的需要新增买入\n",
    "        if change >=0:\n",
    "            tmp_buy[stock] = change\n",
    "            tmp_sell[stock] = 0\n",
    "        # 原有的需要部分卖出\n",
    "        else:\n",
    "            tmp_sell[stock] = -change\n",
    "            tmp_buy[stock] = 0\n",
    "    # 至此tmp_buy是买入指令单,tmp_sell是卖出指令单 - 目前是一样操作\n",
    "    cost = 0\n",
    "    for stock in tmp_sell.keys():\n",
    "        cost += tmp_sell[stock]*cost_ratio\n",
    "    for stock in tmp_buy.keys():\n",
    "        cost += tmp_buy[stock]*cost_ratio\n",
    "    sell_stock = [stock for stock in current_stock_list if stock not in inter_stock]\n",
    "    buy_stock = [stock for stock in expect_stock_list if stock not in inter_stock]\n",
    "    \n",
    "    # 更新部分\n",
    "    # 更新最后一天交易前的净值,扣除成本\n",
    "    if run_cnt == 0:\n",
    "        df1['date'] = [day1]\n",
    "        df1['stock_portfolio_value'] = [value1 - cost]\n",
    "        df1 = df1.set_index('date')\n",
    "    else:\n",
    "        df1.iloc[-1,] -= cost\n",
    "    # 净值减去股票价值得到新的现金数量\n",
    "    value1 = df1.iloc[-1,].values[0] - sum([dict1[stock] for stock in dict1.keys()])\n",
    "    # 新的当前仓位即目标仓位\n",
    "    dict4 = dict1\n",
    "    # 更新历史仓位\n",
    "    if 'date' not in dict3.keys():\n",
    "        dict3['date'] = []\n",
    "    if 'history_position' not in dict3.keys():\n",
    "        dict3['history_position'] = []\n",
    "    dict3['date'].append(day1)\n",
    "    dict3['history_position'].append(dict4)\n",
    "    \n",
    "    return df1, value1, dict4, dict3"
   ]
  },
  {
   "cell_type": "code",
   "execution_count": 155,
   "metadata": {},
   "outputs": [
    {
     "data": {
      "image/png": "[encoded data removed]",
      "text/plain": [
       "<Figure size 648x360 with 1 Axes>"
      ]
     },
     "metadata": {
      "needs_background": "light"
     },
     "output_type": "display_data"
    },
    {
     "name": "stdout",
     "output_type": "stream",
     "text": [
      "           max_drawdown cumulative_return avg_annual_return  \\\n",
      "Nlsize         0.415076          0.206118         0.0263663   \n",
      "Size           0.319411           1.01076          0.129295   \n",
      "Beta           0.482152        0.00087556       0.000112001   \n",
      "Momentum       0.380212          0.199484         0.0255177   \n",
      "Volatility     0.370141          0.632858         0.0809544   \n",
      "\n",
      "           return_drawdown_ratio  \n",
      "Nlsize                  0.496578  \n",
      "Size                     3.16445  \n",
      "Beta                  0.00181594  \n",
      "Momentum                0.524665  \n",
      "Volatility               1.70978  \n"
     ]
    }
   ],
   "source": [
    "# 策略运行,多个单因子策略\n",
    "plt.figure(figsize=(9, 5))\n",
    "factor_choosen = ['Nlsize','Size','Beta','Momentum','Volatility']\n",
    "index_df = pd.DataFrame(columns=['max_drawdown','cumulative_return','avg_annual_return','return_drawdown_ratio'],index=factor_choosen)\n",
    "for factor in factor_choosen: \n",
    "    \n",
    "    ###### 回测模块-起点 ######\n",
    "    \n",
    "    # 初始化变量\n",
    "    # 初始资金\n",
    "    capital_base = 10000000\n",
    "    # 现金\n",
    "    cash = 10000000\n",
    "    # 当前净值\n",
    "    current_equity = 10000000\n",
    "    # 仓位上限\n",
    "    position_upper = 0.8\n",
    "    # 交易成本\n",
    "    cost_ratio = 0.003\n",
    "    # 当前持仓 - 股票型,只有多头,key为股票代码,value为具体金额\n",
    "    current_position = dict()\n",
    "    # 净值历史记录(用于绘图),记录日期以及净值,日度\n",
    "    equity_df = pd.DataFrame()\n",
    "    # 持仓历史记录(用于绘图),记录日期以及持仓情况,月度\n",
    "    history_position = dict()\n",
    "    # 基本数据 - 行情数据\n",
    "    trade_data = materials[['return_0','instrument','close_0']].rename(columns = {'close_0':'close','return_0':'return'}).reset_index()\n",
    "    strategy_data = monthly_style_and_industry_factor.copy()\n",
    "    # 基本数据 - 策略运行日期,月度\n",
    "    strategy_day = np.sort(strategy_data['date'].unique())\n",
    "    # 策略运行次数计数器\n",
    "    run_cnt\n",
    "    \n",
    "    for run_cnt in range(len(strategy_day)):\n",
    "\n",
    "        each_strategy_day = strategy_day[run_cnt]\n",
    "\n",
    "        if run_cnt == 0:\n",
    "            # 清算,第一天运行策略无需清算\n",
    "            pass\n",
    "            # 策略,输入日期,策略所需数据,当前净值 -> 得到期望仓位 (输入中的最后一项用以计算期望仓位中的价值)\n",
    "            expect_position = strategy_function(each_strategy_day,strategy_data,current_equity,factor)\n",
    "            # 交易,将当前仓位调整至目标仓位,输入期望仓位,当前仓位,交易日,净值df,现金,历史持仓 -> 更新净值df最后一行(减去成本),更新剩余现金,更新当前仓位,更新历史持仓\n",
    "            equity_df, cash, current_position, history_position = trade_function(expect_position,current_position,each_strategy_day,equity_df,cash,history_position)\n",
    "        else:\n",
    "            last_each_strategy_day = strategy_day[run_cnt-1]\n",
    "            # 清算,输入行情数据,净值df,当前净值,当前仓位,现金 -> 更新净值df,当前净值,当前仓位 (输出中的倒数1、2项是因为股票价值在一月中发生变化,输入中的最后一项因为净值需要加上新的cash)\n",
    "            equity_df,current_equity,current_position = clear_function(trade_data,equity_df,current_equity,current_position,last_each_strategy_day,each_strategy_day,cash)\n",
    "            # 策略,输入日期,策略所需数据,当前净值 -> 得到期望仓位 (输入中的最后一项用以计算期望仓位中的价值)\n",
    "            expect_position = strategy_function(each_strategy_day,strategy_data,current_equity,factor)\n",
    "            # 交易,将当前仓位调整至目标仓位,输入期望仓位,当前仓位,交易日,净值df,现金,历史持仓 -> 更新净值df最后一行(减去成本),更新剩余现金,更新当前仓位,更新历史持仓\n",
    "            equity_df, cash, current_position, history_position = trade_function(expect_position,current_position,each_strategy_day,equity_df,cash,history_position)\n",
    "\n",
    "        run_cnt += 1\n",
    "    \n",
    "    ###### 回测模块-终点 ######\n",
    "    \n",
    "    ## 绘图 ##\n",
    "    name = factor + '_Strategy'\n",
    "    plt.plot(equity_df,label = name)\n",
    "    \n",
    "    ## 评价指标表 ##\n",
    "    # 最大回撤\n",
    "    max_drawdown_df = 1-equity_df/equity_df.expanding().max()\n",
    "    max_drawdown = max_drawdown_df.max().tolist()[0]\n",
    "    index_df.loc[factor,'max_drawdown'] = max_drawdown\n",
    "    # 累计收益\n",
    "    cumulative_return = (equity_df.iloc[-1,]/capital_base - 1).tolist()[0]\n",
    "    index_df.loc[factor,'cumulative_return'] = cumulative_return\n",
    "    # 年化平均收益\n",
    "    avg_annual_return = cumulative_return/(len(equity_df)-1)*252\n",
    "    index_df.loc[factor,'avg_annual_return'] = avg_annual_return\n",
    "    # 收益回撤比\n",
    "    return_drawdown_ratio = cumulative_return/max_drawdown\n",
    "    index_df.loc[factor,'return_drawdown_ratio'] = return_drawdown_ratio\n",
    "\n",
    "plt.xlabel('Year')\n",
    "plt.ylabel('Portfolio Equity')\n",
    "plt.legend(loc=0)\n",
    "plt.show()\n",
    "print(index_df)"
   ]
  },
  {
   "cell_type": "code",
   "execution_count": null,
   "metadata": {},
   "outputs": [],
   "source": []
  }
 ],
 "metadata": {
  "kernelspec": {
   "display_name": "Python 3",
   "language": "python",
   "name": "python3"
  },
  "language_info": {
   "codemirror_mode": {
    "name": "ipython",
    "version": 3
   },
   "file_extension": ".py",
   "mimetype": "text/x-python",
   "name": "python",
   "nbconvert_exporter": "python",
   "pygments_lexer": "ipython3",
   "version": "3.6.5"
  }
 },
 "nbformat": 4,
 "nbformat_minor": 2
}
