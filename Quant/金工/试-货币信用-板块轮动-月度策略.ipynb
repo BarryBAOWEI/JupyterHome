{
 "cells": [
  {
   "cell_type": "code",
   "execution_count": 3,
   "metadata": {},
   "outputs": [],
   "source": [
    "import pandas as pd\n",
    "import matplotlib.pyplot as plt\n",
    "import numpy as np\n",
    "from joblib import Parallel, delayed\n",
    "import multiprocessing\n",
    "import datetime\n",
    "import pprint\n",
    "\n",
    "plt.rcParams['font.sans-serif']=['SimHei']\n",
    "plt.rcParams['axes.unicode_minus'] = False"
   ]
  },
  {
   "cell_type": "code",
   "execution_count": null,
   "metadata": {},
   "outputs": [],
   "source": [
    "'''\n",
    "基本数据导入\n",
    "'''"
   ]
  },
  {
   "cell_type": "code",
   "execution_count": 9,
   "metadata": {},
   "outputs": [],
   "source": [
    "FinDataDf = pd.read_excel('C:/Users/jxjsj/Desktop/全申万II级指数.xlsx').set_index('date')\n",
    "FinDataDf.columns = [i[:-4] for i in FinDataDf.columns]\n",
    "FinDataReturnDf = FinDataDf.pct_change().dropna()"
   ]
  },
  {
   "cell_type": "code",
   "execution_count": 26,
   "metadata": {},
   "outputs": [],
   "source": [
    "## 板块\n",
    "Class = FinDataDf.columns.tolist()"
   ]
  },
  {
   "cell_type": "code",
   "execution_count": 11,
   "metadata": {},
   "outputs": [],
   "source": [
    "## 周期数据\n",
    "## 日度\n",
    "MacroDataDaily = pd.read_excel('C:/Users/jxjsj/Desktop/宏观经济指标.xlsx').dropna()\n",
    "MacroDataDaily['M'] = MacroDataDaily['中债国债到期收益率:1年']\n",
    "MacroDataDaily['C'] = MacroDataDaily['中债企业债到期收益率(AA):3年'] - MacroDataDaily['中债企业债到期收益率(AAA):3年']\n",
    "## 日期调整 - 月末数据取股票交易日月末\n",
    "stocktest = pd.read_excel('C:/Users/jxjsj/Desktop/券商.xlsx')['date'].tolist()\n",
    "MacroDataDaily = MacroDataDaily[MacroDataDaily['date'].isin(stocktest)]\n",
    "## 月度 - 每月最后一天\n",
    "MacroDataMonthly = MacroDataDaily.copy()\n",
    "MacroDataMonthly['trade_date'] = MacroDataDaily['date']\n",
    "MacroDataMonthly = MacroDataMonthly.set_index('date').apply(lambda x: x.resample('M').last()).reset_index()"
   ]
  },
  {
   "cell_type": "code",
   "execution_count": 20,
   "metadata": {},
   "outputs": [],
   "source": [
    "## 起止时间设定\n",
    "DataStart = '2007-01-01'\n",
    "StrategyStart = '2011-01-31'\n",
    "End = '2019-06-30'\n",
    "\n",
    "MacroDataMonthlySub = MacroDataMonthly[(MacroDataMonthly['trade_date']>=DataStart) & (MacroDataMonthly['trade_date']<=End)].copy()\n",
    "FinDataDfSub = FinDataDf[(FinDataDf.index<=End) & (FinDataDf.index>=DataStart)].copy()\n",
    "FinDataDfSubReturn = FinDataReturnDf[(FinDataReturnDf.index<=End) & (FinDataReturnDf.index>=DataStart)].copy().reset_index()"
   ]
  },
  {
   "cell_type": "code",
   "execution_count": 14,
   "metadata": {},
   "outputs": [],
   "source": [
    "## 实行策略时点 - 交易日历的月末\n",
    "MacroDataMonthlySubForStrategy = MacroDataMonthlySub[MacroDataMonthlySub['trade_date']>=StrategyStart]\n",
    "StrategyDateDf = MacroDataMonthlySubForStrategy[['trade_date']].rename(columns={'trade_date':'StrategyDate'})\n",
    "StrategyDateList = StrategyDateDf['StrategyDate'].tolist()"
   ]
  },
  {
   "cell_type": "code",
   "execution_count": 16,
   "metadata": {},
   "outputs": [],
   "source": [
    "## 基准数据导入\n",
    "BenchmarkIndex = pd.read_excel('C:/Users/jxjsj/Desktop/沪深300.xlsx')\n",
    "BenchmarkIndex['return'] = BenchmarkIndex['沪深300']/BenchmarkIndex['沪深300'].shift(1)-1\n",
    "BenchmarkIndexSub = BenchmarkIndex[(BenchmarkIndex['date']>=StrategyStart) & (BenchmarkIndex['date']<=End)]"
   ]
  },
  {
   "cell_type": "code",
   "execution_count": null,
   "metadata": {},
   "outputs": [],
   "source": [
    "'''\n",
    "策略所需数据/指标/信号计算\n",
    "'''"
   ]
  },
  {
   "cell_type": "code",
   "execution_count": null,
   "metadata": {},
   "outputs": [],
   "source": [
    "'''\n",
    "1货币信用周期指标计算\n",
    "'''"
   ]
  },
  {
   "cell_type": "code",
   "execution_count": 17,
   "metadata": {
    "scrolled": true
   },
   "outputs": [],
   "source": [
    "## 货币信用周期指标1 - T~T-3正负占比\n",
    "def MoneyCredit1(series):\n",
    "    MList = series.tolist()\n",
    "    MResultTmp = []\n",
    "    for i in range(len(MList)-1):\n",
    "        if MList[-1]-MList[i]>=0:\n",
    "            MResultTmp.append(1)\n",
    "        else:\n",
    "            MResultTmp.append(-1)\n",
    "    MResult = np.sum(MResultTmp)\n",
    "    return MResult\n",
    "def MoneyCredit2(series):\n",
    "    MList = series.tolist()\n",
    "    MResultTmp = []\n",
    "    MResult = MList[-1] - MList[-2]\n",
    "    return MResult\n",
    "def MoneyCredit3(series):\n",
    "    MList = series.tolist()\n",
    "    MResultTmp = []\n",
    "    MResult = (MList[-1] + MList[-2]) - (MList[-3] + MList[-4])\n",
    "    return MResult\n",
    "MacroDataMonthlySub['DeltaC'] = MacroDataMonthlySub['C'].rolling(4).apply(MoneyCredit1,raw=True)\n",
    "MacroDataMonthlySub['DeltaM'] = MacroDataMonthlySub['M'].rolling(4).apply(MoneyCredit1,raw=True)\n",
    "def MCcycle(df):\n",
    "    if df['DeltaC']>0:\n",
    "        C='R'\n",
    "    else:\n",
    "        C='E'\n",
    "    if df['DeltaM']>0:\n",
    "        M='R'\n",
    "    else:\n",
    "        M='E'\n",
    "    return 'M'+M+' C'+C\n",
    "MacroDataMonthlySub['MCcycle'] = MacroDataMonthlySub.apply(lambda x: MCcycle(x),axis=1)\n",
    "MCcycleDf = MacroDataMonthlySub[['trade_date','MCcycle']]"
   ]
  },
  {
   "cell_type": "code",
   "execution_count": 18,
   "metadata": {},
   "outputs": [],
   "source": [
    "'''\n",
    "2周期表示\n",
    "'''\n",
    "CycleList = ['ME CE','ME CR','MR CR','MR CE']"
   ]
  },
  {
   "cell_type": "code",
   "execution_count": null,
   "metadata": {},
   "outputs": [],
   "source": [
    "'''\n",
    "3各周期与对应月的收益数据合并\n",
    "'''"
   ]
  },
  {
   "cell_type": "code",
   "execution_count": 23,
   "metadata": {
    "scrolled": true
   },
   "outputs": [],
   "source": [
    "## 月收益率\n",
    "FinDataDfSubClose = FinDataDfSub.copy()\n",
    "FinDataDfSubClose['trade_date'] = FinDataDfSubClose.index\n",
    "FinDataDfSubReturnM = FinDataDfSubClose.apply(lambda x: x.resample('M').last()).set_index('trade_date').pct_change().reset_index().dropna()\n",
    "\n",
    "## 收益率与周期合并\n",
    "CycleAndReturn = FinDataDfSubReturnM.merge(MCcycleDf,on=['trade_date'],how='left')"
   ]
  },
  {
   "cell_type": "code",
   "execution_count": null,
   "metadata": {},
   "outputs": [],
   "source": [
    "'''\n",
    "4各板块历史排名滚动平均值计算\n",
    "'''"
   ]
  },
  {
   "cell_type": "code",
   "execution_count": 28,
   "metadata": {
    "scrolled": true
   },
   "outputs": [],
   "source": [
    "RollingMonth = 48\n",
    "\n",
    "# 计算排名序号，按收益率从大到小排序\n",
    "def RankCompute(df):\n",
    "    df = df.copy()\n",
    "    trade_date = df['trade_date'].tolist()[0]\n",
    "    dfSub = df[Class]\n",
    "    tmpDf = dfSub.T\n",
    "    tmpcol = tmpDf.columns.tolist()[0]\n",
    "    tmpDf0 = tmpDf.sort_values(tmpcol,ascending=False)\n",
    "    tmpDf0[tmpcol] = range(1,len(Class)+1)\n",
    "    tmpDf1 = tmpDf0.T[Class]\n",
    "    tmpDf1.index = [trade_date]\n",
    "    return tmpDf1\n",
    "\n",
    "# 并行计算函数\n",
    "def applyParallel(dfGrouped, func):\n",
    "    retLst = Parallel(n_jobs=multiprocessing.cpu_count())(delayed(func)(group) for name, group in dfGrouped)\n",
    "    return pd.concat(retLst,sort=False)\n",
    "\n",
    "# 全周期下历史平均排名\n",
    "RollingRankAllDf = pd.DataFrame()\n",
    "for StrategyDate in StrategyDateList:\n",
    "    CycleAndReturnSub = CycleAndReturn[CycleAndReturn['trade_date']<=StrategyDate].copy()\n",
    "    CycleAndReturnSub = CycleAndReturnSub.iloc[-RollingMonth:,:]\n",
    "    # 并行计算\n",
    "    RollingRankGroupby = CycleAndReturnSub.groupby('trade_date')\n",
    "    RollingRankMaterial = applyParallel(RollingRankGroupby, RankCompute)\n",
    "    \n",
    "#     RollingRankMaterial.index = RollingRankMaterial.index.droplevel(1)\n",
    "    RollingRank = RollingRankMaterial.mean().to_frame().T\n",
    "    RollingRank.index = [StrategyDate]\n",
    "    RollingRankAllDf = pd.concat([RollingRankAllDf,RollingRank],axis=0)\n",
    "RollingRankAllDf.columns = [i+'RankAll' for i in RollingRankAllDf.columns]\n",
    "\n",
    "# 当前周期的历史同周期平均排名\n",
    "RollingRankCycleDf = pd.DataFrame()\n",
    "for StrategyDate in StrategyDateList:\n",
    "    CycleAndReturnSub = CycleAndReturn[CycleAndReturn['trade_date']<=StrategyDate].copy()\n",
    "    CycleAndReturnSub = CycleAndReturnSub.iloc[-RollingMonth:,:]\n",
    "    CycleNow = CycleAndReturnSub['MCcycle'].tolist()[-1]\n",
    "    CycleAndReturnSub = CycleAndReturnSub[CycleAndReturnSub['MCcycle']==CycleNow]\n",
    "    # 并行计算\n",
    "    RollingRankGroupby = CycleAndReturnSub.groupby('trade_date')\n",
    "    RollingRankMaterial = applyParallel(RollingRankGroupby, RankCompute)\n",
    "    \n",
    "#     RollingRankMaterial.index = RollingRankMaterial.index.droplevel(1)\n",
    "    RollingRank = RollingRankMaterial.mean().to_frame().T\n",
    "    RollingRank.index = [StrategyDate]\n",
    "    RollingRankCycleDf = pd.concat([RollingRankCycleDf,RollingRank],axis=0)\n",
    "RollingRankCycleDf.columns = [i+'RankCycle' for i in RollingRankCycleDf.columns]"
   ]
  },
  {
   "cell_type": "code",
   "execution_count": null,
   "metadata": {},
   "outputs": [],
   "source": [
    "'''\n",
    "5排名+周期+月度+收益率拼接 - 底稿\n",
    "'''"
   ]
  },
  {
   "cell_type": "code",
   "execution_count": 29,
   "metadata": {
    "scrolled": false
   },
   "outputs": [],
   "source": [
    "AllDataForBackTest = CycleAndReturn.merge(RollingRankCycleDf.merge(RollingRankAllDf,left_index=True,right_index=True),left_on='trade_date',right_index=True,how='left')"
   ]
  },
  {
   "cell_type": "code",
   "execution_count": null,
   "metadata": {},
   "outputs": [],
   "source": [
    "'''\n",
    "回测部分\n",
    "'''"
   ]
  },
  {
   "cell_type": "code",
   "execution_count": null,
   "metadata": {},
   "outputs": [],
   "source": [
    "'''\n",
    "回测函数\n",
    "'''"
   ]
  },
  {
   "cell_type": "code",
   "execution_count": 69,
   "metadata": {},
   "outputs": [],
   "source": [
    "### 策略函数\n",
    "def Strategy(df,HowRank,RankN,cycle_now,history_trade_data):\n",
    "    '''\n",
    "    输入当天底稿数据，最终排名方法（偏离度排名，绝对排名），取前几名\n",
    "    输出所有资产对应目标权重\n",
    "    '''\n",
    "    df_ = df.copy()\n",
    "    if HowRank == '偏离度排名':\n",
    "        for EachClass in Class:\n",
    "            df_[EachClass] = df_[EachClass+'RankAll'] - df_[EachClass+'RankCycle']\n",
    "            # 越大排名靠前\n",
    "            ascending=False\n",
    "    if HowRank == '绝对排名':\n",
    "        for EachClass in Class:\n",
    "            df_[EachClass] = df_[EachClass+'RankCycle']\n",
    "            # 越小排名靠前\n",
    "            ascending=True\n",
    "    ResultDf = df_[Class].T\n",
    "    ResultDf = ResultDf.sort_values(ResultDf.columns[0],ascending=ascending)\n",
    "    ResultDf[ResultDf.columns[0]] = range(1,len(Class)+1)\n",
    "    # 等风险\n",
    "    ResultDf = ResultDf.merge(history_trade_data.copy().std().to_frame('std'),left_index=True,right_index=True,how='left')\n",
    "    ResultDf[ResultDf.columns[0]] = ResultDf.apply(lambda x: 1/x['std'] if x[ResultDf.columns[0]]<=RankN else 0,axis=1)\n",
    "    ResultDf[ResultDf.columns[0]] = ResultDf[ResultDf.columns[0]]/ResultDf[ResultDf.columns[0]].sum()\n",
    "    # 等权\n",
    "#     ResultDf[ResultDf.columns[0]] = ResultDf[ResultDf.columns[0]].apply(lambda x: 1/RankN if x<=RankN else 0)\n",
    "    \n",
    "    expected_stock_weight = ResultDf[[ResultDf.columns[0]]].T[Class]\n",
    "    return expected_stock_weight"
   ]
  },
  {
   "cell_type": "code",
   "execution_count": 134,
   "metadata": {},
   "outputs": [],
   "source": [
    "### 结算函数 - 月度结算\n",
    "def Clear(df,tol_equity,expected_stock_weight,cycle):\n",
    "    '''\n",
    "    输入下一个月数据，要包含本月最后一天（用以计算收益率）、结算前净值（初始值为1）、目标权重、当前周期\n",
    "    输出下一个月净值序列（月初-月末）\n",
    "    '''\n",
    "    df_ = df.copy()\n",
    "    expected_stock_w = expected_stock_weight.copy()\n",
    "    \n",
    "    # 相对增长 Pt/Pt-1 序列\n",
    "    df_ = df_[Class]\n",
    "    df_ = df_.pct_change().dropna()\n",
    "    df_ = df_+1\n",
    "    \n",
    "    # 空仓策略，增长均为1\n",
    "    if cycle == 'ME CR':\n",
    "        for df_col in df_.columns:\n",
    "            df_[df_col] = 1\n",
    "    \n",
    "    # 初始净值分配到各个资产上，乘以累计相对增长得到净值序列，丢弃首行拼接  \n",
    "    stock_w = expected_stock_w.apply(lambda x: x*tol_equity)\n",
    "\n",
    "    equity_tmp = pd.concat([stock_w,df_],axis=0,sort=False)\n",
    "    equity_df = equity_tmp.cumprod().sum(axis=1).to_frame('equity_series').iloc[1:,]\n",
    "    \n",
    "    return equity_df, equity_df['equity_series'][-1]"
   ]
  },
  {
   "cell_type": "code",
   "execution_count": 135,
   "metadata": {},
   "outputs": [],
   "source": [
    "### 分析函数 - 计算各类指标\n",
    "def Indicator(equity_df):\n",
    "    '''\n",
    "    输入净值序列，列名equity_series，index为日期\n",
    "    输出（累计收益、最大回撤、累计收益回撤比、年化收益率平均、年化收益率波动、夏普比率）的dataframe\n",
    "    输出净值、收益率、回撤序列\n",
    "    '''\n",
    "    df = equity_df.copy()\n",
    "    df['return'] = df['equity_series']/df['equity_series'].shift(1)-1\n",
    "    df['drawdown'] = 1-df['equity_series']/df['equity_series'].expanding().max()\n",
    "    \n",
    "    # 输出指标\n",
    "    # 累计收益\n",
    "    cum_return = df['equity_series'][-1]/df['equity_series'][0]-1\n",
    "    # 最大回撤\n",
    "    max_drawdown = df['drawdown'].max()\n",
    "    # 最大回撤时间\n",
    "#     end_max_drawdown = df['drawdown'].idxmax()\n",
    "#     df_sub = df[df.index<=end_max_drawdown]\n",
    "#     start_max_drawdown = df_sub[df_sub['drawdown']==0].index[-1]\n",
    "#     end_max_drawdown = datetime.datetime.strptime(end_max_drawdown,'%Y-%m-%d')\n",
    "#     start_max_drawdown = datetime.datetime.strptime(start_max_drawdown,'%Y-%m-%d')\n",
    "#     max_drawdown_day = (end_max_drawdown - start_max_drawdown).days\n",
    "    # 累计收益回撤比\n",
    "    cum_return_drawdown_ratio = cum_return/max_drawdown\n",
    "    # 年化收益率平均\n",
    "    mean_return = df['return'].mean()*252\n",
    "    # 年化收益率波动\n",
    "    vol_return = df['return'].std()*np.sqrt(252)\n",
    "    # 信息比率\n",
    "    IR = mean_return/vol_return\n",
    "    # 年化收益回撤比\n",
    "    mean_return_max_drawdown_ratio = mean_return/max_drawdown\n",
    "    # 夏普比率\n",
    "#     sharpe_ratio = (mean_return-rf)/vol_return\n",
    "    # 每年收益率\n",
    "    df_equity = df[['equity_series']].copy()\n",
    "    df_return_per_year = (pd.concat([df_equity.iloc[:1,:],df_equity.apply(lambda x: x.resample(\"Y\").last())],axis=0).pct_change().dropna()).rename(columns={'equity_series':HowRank+str(RankN)})\n",
    "\n",
    "    output_dict = {\n",
    "                   'max_drawdown':[max_drawdown],\n",
    "                   'mean_return':[mean_return],\n",
    "                   'vol_return':[vol_return],\n",
    "                   'IR':[IR],\n",
    "                   'mean_return_max_drawdown_ratio':[mean_return_max_drawdown_ratio],\n",
    "                  }\n",
    "    output_df = pd.DataFrame(output_dict,index=[HowRank+str(RankN)]).T\n",
    "    return output_df, df, df_return_per_year"
   ]
  },
  {
   "cell_type": "code",
   "execution_count": 136,
   "metadata": {},
   "outputs": [
    {
     "data": {
      "text/plain": [
       "'\\n回测调参\\n'"
      ]
     },
     "execution_count": 136,
     "metadata": {},
     "output_type": "execute_result"
    }
   ],
   "source": [
    "'''\n",
    "回测调参\n",
    "'''"
   ]
  },
  {
   "cell_type": "code",
   "execution_count": 137,
   "metadata": {
    "scrolled": true
   },
   "outputs": [],
   "source": [
    "## 回测 - 调参\n",
    "\n",
    "AllResultSaveDfIndicator = pd.DataFrame()\n",
    "AllResultSaveDfYearReturn = pd.DataFrame()\n",
    "EquitySeriesDict = {}\n",
    "WeightDict = {}\n",
    "# for HowRank in ['偏离度排名','绝对排名']:\n",
    "for HowRank in ['偏离度排名']:\n",
    "    for RankN in list(range(5,10)):\n",
    "        # 初始化指标\n",
    "        tol_equity = 1\n",
    "        HowRank = HowRank\n",
    "        RankN = RankN\n",
    "        WeightDf = pd.DataFrame()\n",
    "        equity_df = pd.DataFrame([1],columns=['equity_series'],index=[StrategyDateList[0]])\n",
    "        # 月末循环执行策略，最后一个月不执行策略\n",
    "        for cnt in range(len(StrategyDateList)-1):\n",
    "\n",
    "            # 获取关键日期\n",
    "            strategy_date = StrategyDateList[cnt]\n",
    "            next_strategy_date = StrategyDateList[cnt+1]\n",
    "\n",
    "            # 读取数据 - 历史策略用数据+未来一个月收益率计算数据\n",
    "            # 历史策略用数据\n",
    "            history_data = AllDataForBackTest[AllDataForBackTest['trade_date'] == strategy_date]\n",
    "            history_trade_data = FinDataDfSubReturn[FinDataDfSubReturn['date'] <= strategy_date].iloc[-252:,:]\n",
    "            cycle_now = history_data['MCcycle'].tolist()[0]\n",
    "\n",
    "            # 读取数据 - 未来一个月收益率计算数据 \n",
    "            future_data_for_return = FinDataDf[(FinDataDf.index<=next_strategy_date) & (FinDataDf.index>=strategy_date)]\n",
    "\n",
    "            # 运行策略\n",
    "            expected_weight_df = Strategy(history_data, HowRank, RankN, cycle_now,history_trade_data)\n",
    "            expected_weight_df_output = expected_weight_df.copy()\n",
    "            expected_weight_df_output.index = [next_strategy_date]\n",
    "            WeightDf = pd.concat([WeightDf,expected_weight_df_output],axis=0)\n",
    "\n",
    "            # 结算策略，更新净值\n",
    "            clear_df, tol_equity = Clear(future_data_for_return,tol_equity,expected_weight_df,cycle_now)\n",
    "\n",
    "            # 输出净值序列\n",
    "            equity_df = pd.concat([equity_df,clear_df],axis=0)\n",
    "\n",
    "        backtest = Indicator(equity_df)\n",
    "        # 策略结果\n",
    "        AllResultSaveDfIndicator = pd.concat([AllResultSaveDfIndicator,backtest[0]],axis=1)\n",
    "        AllResultSaveDfYearReturn = pd.concat([AllResultSaveDfYearReturn,backtest[2]],axis=1)\n",
    "        EquitySeriesDict[HowRank+str(RankN)] = backtest[1][['equity_series']]\n",
    "        WeightDict[HowRank+str(RankN)] = WeightDf"
   ]
  },
  {
   "cell_type": "code",
   "execution_count": 138,
   "metadata": {},
   "outputs": [
    {
     "data": {
      "text/plain": [
       "'\\n与基准比较\\n'"
      ]
     },
     "execution_count": 138,
     "metadata": {},
     "output_type": "execute_result"
    }
   ],
   "source": [
    "'''\n",
    "与基准比较\n",
    "'''"
   ]
  },
  {
   "cell_type": "code",
   "execution_count": 139,
   "metadata": {
    "scrolled": true
   },
   "outputs": [],
   "source": [
    "# 基准表现计算\n",
    "# 沪深300指数\n",
    "BenchmarkIndexSubEquity = BenchmarkIndexSub.rename(columns={'沪深300':'equity_series'}).set_index('date')[['equity_series']]\n",
    "BenchmarkIndexSubEquityFirst = BenchmarkIndexSubEquity['equity_series'].tolist()[0]\n",
    "BenchmarkIndexSubEquity['equity_series'] = BenchmarkIndexSubEquity['equity_series'].apply(lambda x: x/BenchmarkIndexSubEquityFirst)\n",
    "\n",
    "ResultIndex1 = Indicator(BenchmarkIndexSubEquity)[0].rename(columns={Indicator(BenchmarkIndexSubEquity)[0].columns[0]:'沪深300'})\n",
    "ResultIndex2 = Indicator(BenchmarkIndexSubEquity)[2].rename(columns={Indicator(BenchmarkIndexSubEquity)[2].columns[0]:'沪深300'})\n",
    "AllResultSaveDfIndicator = pd.concat([AllResultSaveDfIndicator,ResultIndex1],axis=1)\n",
    "AllResultSaveDfYearReturn = pd.concat([AllResultSaveDfYearReturn,ResultIndex2],axis=1)"
   ]
  },
  {
   "cell_type": "code",
   "execution_count": 140,
   "metadata": {},
   "outputs": [
    {
     "data": {
      "text/plain": [
       "'\\n全回测结果输出\\n'"
      ]
     },
     "execution_count": 140,
     "metadata": {},
     "output_type": "execute_result"
    }
   ],
   "source": [
    "'''\n",
    "全回测结果输出\n",
    "'''"
   ]
  },
  {
   "cell_type": "code",
   "execution_count": 141,
   "metadata": {
    "scrolled": true
   },
   "outputs": [],
   "source": [
    "# 指标/年度收益结果输出\n",
    "# AllResultSaveDfIndicator.T.to_excel('C:/Users/jxjsj/Desktop/资产配置课题/AllResultSaveDfIndicator.xlsx',index=True)\n",
    "# AllResultSaveDfYearReturn.to_excel('C:/Users/jxjsj/Desktop/资产配置课题/AllResultSaveDfYearReturn.xlsx',index=True)\n",
    "\n",
    "# 净值序列输出\n",
    "# 策略\n",
    "AllEquityDf = pd.DataFrame()\n",
    "for key in EquitySeriesDict.keys():\n",
    "#     EquitySeriesDict[key].to_excel('C:/Users/jxjsj/Desktop/资产配置课题/' + key + '.xlsx',index=True)\n",
    "    EquitySeries = EquitySeriesDict[key].rename(columns={'equity_series':key})\n",
    "    AllEquityDf = pd.concat([AllEquityDf,EquitySeries],sort=False,axis=1)\n",
    "# 指数\n",
    "IndexSubEquity = Indicator(BenchmarkIndexSubEquity)[1][['equity_series']].rename(columns={'equity_series':'中证金融地产'})\n",
    "AllEquityDf = pd.concat([AllEquityDf,IndexSubEquity],sort=False,axis=1)\n",
    "\n",
    "# 周期序列输出（日度）\n",
    "DummyCycleDataM = pd.get_dummies(AllDataForBackTest[['trade_date','MCcycle']].set_index('trade_date'))\n",
    "DummyCycleDataD = backtest[1][['equity_series']].merge(DummyCycleDataM,left_index=True,right_index=True,how='left').fillna(method='bfill')[DummyCycleDataM.columns.tolist()]\n",
    "# DummyCycleDataD.to_excel('C:/Users/jxjsj/Desktop/资产配置课题/DummyCycleDataD.xlsx',index=True)\n",
    "\n",
    "# 周期图表\n",
    "CycleMC = DummyCycleDataD.merge(MacroDataDaily,left_index=True,right_on='date',how='left').set_index('date')\n",
    "# CycleMC.to_excel('C:/Users/jxjsj/Desktop/资产配置课题/CycleMC.xlsx',index=True)\n",
    "\n",
    "# 底稿数据输出（月度）\n",
    "# AllDataForBackTest.to_excel('C:/Users/jxjsj/Desktop/资产配置课题/AllDataForBackTest.xlsx',index=False)\n",
    "\n",
    "# 权重数据输出\n",
    "for key in WeightDict:\n",
    "    WeightDfEach = WeightDict[key][Class]\n",
    "#     WeightDfEach.to_excel('C:/Users/jxjsj/Desktop/资产配置课题/' + key + 'Weight.xlsx',index=True)"
   ]
  },
  {
   "cell_type": "code",
   "execution_count": 142,
   "metadata": {},
   "outputs": [
    {
     "data": {
      "text/html": [
       "<div>\n",
       "<style scoped>\n",
       "    .dataframe tbody tr th:only-of-type {\n",
       "        vertical-align: middle;\n",
       "    }\n",
       "\n",
       "    .dataframe tbody tr th {\n",
       "        vertical-align: top;\n",
       "    }\n",
       "\n",
       "    .dataframe thead th {\n",
       "        text-align: right;\n",
       "    }\n",
       "</style>\n",
       "<table border=\"1\" class=\"dataframe\">\n",
       "  <thead>\n",
       "    <tr style=\"text-align: right;\">\n",
       "      <th></th>\n",
       "      <th>max_drawdown</th>\n",
       "      <th>mean_return</th>\n",
       "      <th>vol_return</th>\n",
       "      <th>IR</th>\n",
       "      <th>mean_return_max_drawdown_ratio</th>\n",
       "    </tr>\n",
       "  </thead>\n",
       "  <tbody>\n",
       "    <tr>\n",
       "      <th>偏离度排名5</th>\n",
       "      <td>0.393624</td>\n",
       "      <td>0.169902</td>\n",
       "      <td>0.223638</td>\n",
       "      <td>0.759722</td>\n",
       "      <td>0.431636</td>\n",
       "    </tr>\n",
       "    <tr>\n",
       "      <th>偏离度排名6</th>\n",
       "      <td>0.396838</td>\n",
       "      <td>0.159872</td>\n",
       "      <td>0.220616</td>\n",
       "      <td>0.724661</td>\n",
       "      <td>0.402864</td>\n",
       "    </tr>\n",
       "    <tr>\n",
       "      <th>偏离度排名7</th>\n",
       "      <td>0.400648</td>\n",
       "      <td>0.173661</td>\n",
       "      <td>0.218727</td>\n",
       "      <td>0.793964</td>\n",
       "      <td>0.433451</td>\n",
       "    </tr>\n",
       "    <tr>\n",
       "      <th>偏离度排名8</th>\n",
       "      <td>0.398990</td>\n",
       "      <td>0.167479</td>\n",
       "      <td>0.216888</td>\n",
       "      <td>0.772191</td>\n",
       "      <td>0.419756</td>\n",
       "    </tr>\n",
       "    <tr>\n",
       "      <th>偏离度排名9</th>\n",
       "      <td>0.392692</td>\n",
       "      <td>0.167343</td>\n",
       "      <td>0.215217</td>\n",
       "      <td>0.777557</td>\n",
       "      <td>0.426144</td>\n",
       "    </tr>\n",
       "    <tr>\n",
       "      <th>沪深300</th>\n",
       "      <td>0.466961</td>\n",
       "      <td>0.054227</td>\n",
       "      <td>0.233261</td>\n",
       "      <td>0.232476</td>\n",
       "      <td>0.116128</td>\n",
       "    </tr>\n",
       "  </tbody>\n",
       "</table>\n",
       "</div>"
      ],
      "text/plain": [
       "        max_drawdown  mean_return  vol_return        IR  \\\n",
       "偏离度排名5      0.393624     0.169902    0.223638  0.759722   \n",
       "偏离度排名6      0.396838     0.159872    0.220616  0.724661   \n",
       "偏离度排名7      0.400648     0.173661    0.218727  0.793964   \n",
       "偏离度排名8      0.398990     0.167479    0.216888  0.772191   \n",
       "偏离度排名9      0.392692     0.167343    0.215217  0.777557   \n",
       "沪深300       0.466961     0.054227    0.233261  0.232476   \n",
       "\n",
       "        mean_return_max_drawdown_ratio  \n",
       "偏离度排名5                        0.431636  \n",
       "偏离度排名6                        0.402864  \n",
       "偏离度排名7                        0.433451  \n",
       "偏离度排名8                        0.419756  \n",
       "偏离度排名9                        0.426144  \n",
       "沪深300                         0.116128  "
      ]
     },
     "execution_count": 142,
     "metadata": {},
     "output_type": "execute_result"
    }
   ],
   "source": [
    "AllResultSaveDfIndicator.T"
   ]
  },
  {
   "cell_type": "code",
   "execution_count": 143,
   "metadata": {},
   "outputs": [
    {
     "data": {
      "text/html": [
       "<div>\n",
       "<style scoped>\n",
       "    .dataframe tbody tr th:only-of-type {\n",
       "        vertical-align: middle;\n",
       "    }\n",
       "\n",
       "    .dataframe tbody tr th {\n",
       "        vertical-align: top;\n",
       "    }\n",
       "\n",
       "    .dataframe thead th {\n",
       "        text-align: right;\n",
       "    }\n",
       "</style>\n",
       "<table border=\"1\" class=\"dataframe\">\n",
       "  <thead>\n",
       "    <tr style=\"text-align: right;\">\n",
       "      <th></th>\n",
       "      <th>偏离度排名5</th>\n",
       "      <th>偏离度排名6</th>\n",
       "      <th>偏离度排名7</th>\n",
       "      <th>偏离度排名8</th>\n",
       "      <th>偏离度排名9</th>\n",
       "      <th>沪深300</th>\n",
       "    </tr>\n",
       "    <tr>\n",
       "      <th>date</th>\n",
       "      <th></th>\n",
       "      <th></th>\n",
       "      <th></th>\n",
       "      <th></th>\n",
       "      <th></th>\n",
       "      <th></th>\n",
       "    </tr>\n",
       "  </thead>\n",
       "  <tbody>\n",
       "    <tr>\n",
       "      <th>2011-12-31</th>\n",
       "      <td>-0.055231</td>\n",
       "      <td>-0.058716</td>\n",
       "      <td>-0.054474</td>\n",
       "      <td>-0.058788</td>\n",
       "      <td>-0.063226</td>\n",
       "      <td>-0.237531</td>\n",
       "    </tr>\n",
       "    <tr>\n",
       "      <th>2012-12-31</th>\n",
       "      <td>0.081466</td>\n",
       "      <td>0.056533</td>\n",
       "      <td>0.069708</td>\n",
       "      <td>0.057073</td>\n",
       "      <td>0.051349</td>\n",
       "      <td>0.075545</td>\n",
       "    </tr>\n",
       "    <tr>\n",
       "      <th>2013-12-31</th>\n",
       "      <td>0.312692</td>\n",
       "      <td>0.335079</td>\n",
       "      <td>0.317660</td>\n",
       "      <td>0.294395</td>\n",
       "      <td>0.298136</td>\n",
       "      <td>-0.076468</td>\n",
       "    </tr>\n",
       "    <tr>\n",
       "      <th>2014-12-31</th>\n",
       "      <td>0.662973</td>\n",
       "      <td>0.615949</td>\n",
       "      <td>0.623996</td>\n",
       "      <td>0.603368</td>\n",
       "      <td>0.567451</td>\n",
       "      <td>0.516595</td>\n",
       "    </tr>\n",
       "    <tr>\n",
       "      <th>2015-12-31</th>\n",
       "      <td>0.301512</td>\n",
       "      <td>0.286337</td>\n",
       "      <td>0.344816</td>\n",
       "      <td>0.334324</td>\n",
       "      <td>0.369311</td>\n",
       "      <td>0.055834</td>\n",
       "    </tr>\n",
       "    <tr>\n",
       "      <th>2016-12-31</th>\n",
       "      <td>0.191067</td>\n",
       "      <td>0.188058</td>\n",
       "      <td>0.196784</td>\n",
       "      <td>0.186209</td>\n",
       "      <td>0.189669</td>\n",
       "      <td>-0.112818</td>\n",
       "    </tr>\n",
       "    <tr>\n",
       "      <th>2017-12-31</th>\n",
       "      <td>-0.105491</td>\n",
       "      <td>-0.106974</td>\n",
       "      <td>-0.089003</td>\n",
       "      <td>-0.058332</td>\n",
       "      <td>-0.045192</td>\n",
       "      <td>0.217751</td>\n",
       "    </tr>\n",
       "    <tr>\n",
       "      <th>2018-12-31</th>\n",
       "      <td>-0.160985</td>\n",
       "      <td>-0.173527</td>\n",
       "      <td>-0.160874</td>\n",
       "      <td>-0.162778</td>\n",
       "      <td>-0.164764</td>\n",
       "      <td>-0.253098</td>\n",
       "    </tr>\n",
       "    <tr>\n",
       "      <th>2019-12-31</th>\n",
       "      <td>0.245700</td>\n",
       "      <td>0.238101</td>\n",
       "      <td>0.262613</td>\n",
       "      <td>0.245128</td>\n",
       "      <td>0.234600</td>\n",
       "      <td>0.270683</td>\n",
       "    </tr>\n",
       "  </tbody>\n",
       "</table>\n",
       "</div>"
      ],
      "text/plain": [
       "              偏离度排名5    偏离度排名6    偏离度排名7    偏离度排名8    偏离度排名9     沪深300\n",
       "date                                                                  \n",
       "2011-12-31 -0.055231 -0.058716 -0.054474 -0.058788 -0.063226 -0.237531\n",
       "2012-12-31  0.081466  0.056533  0.069708  0.057073  0.051349  0.075545\n",
       "2013-12-31  0.312692  0.335079  0.317660  0.294395  0.298136 -0.076468\n",
       "2014-12-31  0.662973  0.615949  0.623996  0.603368  0.567451  0.516595\n",
       "2015-12-31  0.301512  0.286337  0.344816  0.334324  0.369311  0.055834\n",
       "2016-12-31  0.191067  0.188058  0.196784  0.186209  0.189669 -0.112818\n",
       "2017-12-31 -0.105491 -0.106974 -0.089003 -0.058332 -0.045192  0.217751\n",
       "2018-12-31 -0.160985 -0.173527 -0.160874 -0.162778 -0.164764 -0.253098\n",
       "2019-12-31  0.245700  0.238101  0.262613  0.245128  0.234600  0.270683"
      ]
     },
     "execution_count": 143,
     "metadata": {},
     "output_type": "execute_result"
    }
   ],
   "source": [
    "AllResultSaveDfYearReturn"
   ]
  },
  {
   "cell_type": "code",
   "execution_count": 144,
   "metadata": {},
   "outputs": [
    {
     "data": {
      "text/plain": [
       "'\\n按照全净值序列数据 计算相对基准胜率并输出（需要关联周期序列表，日度净值可以自动降为月度数据）\\n'"
      ]
     },
     "execution_count": 144,
     "metadata": {},
     "output_type": "execute_result"
    }
   ],
   "source": [
    "'''\n",
    "按照全净值序列数据 计算相对基准胜率并输出（需要关联周期序列表，日度净值可以自动降为月度数据）\n",
    "'''"
   ]
  },
  {
   "cell_type": "code",
   "execution_count": 145,
   "metadata": {
    "scrolled": true
   },
   "outputs": [],
   "source": [
    "AllEquityDf_ = AllEquityDf.copy()\n",
    "CycleMat = AllDataForBackTest[['trade_date','MCcycle']].set_index('trade_date').copy()\n",
    "def ComputeWinOfCycle(df):\n",
    "    win_time = df['equity_win'].sum()\n",
    "    win = win_time/len(df)\n",
    "    return win\n",
    "\n",
    "def ResampleCycleTrade(df):\n",
    "    df = df.copy()\n",
    "    ResampleWinDf = pd.DataFrame()\n",
    "    df['Cycle_Pos'] = df['MCcycle'] + df['Positon']\n",
    "    for cnt in range(1,len(df)):\n",
    "        date = df.index[cnt-1]\n",
    "        Cycle_Pos = df.iloc[cnt,:]['Cycle_Pos']\n",
    "        SubDfForComputeWin = df.iloc[cnt-1,:].to_frame(date).T\n",
    "        if Cycle_Pos != df.iloc[cnt-1,:]['Cycle_Pos']:\n",
    "            ResampleWinDf = pd.concat([ResampleWinDf,SubDfForComputeWin],axis=0)\n",
    "    return ResampleWinDf\n",
    "\n",
    "def ComputeWinEachCycle(df):\n",
    "    TradeTime = 0\n",
    "    for cnt in range(len(df)):\n",
    "        NowDf = df.iloc[cnt,:]\n",
    "        if cnt == 0:\n",
    "            NowCycle = NowDf['MCcycle']\n",
    "            NowPosition = NowDf['Position']\n",
    "            LastEquity = 1\n",
    "            continue\n",
    "        if NowDf['MCcycle'] != NowCycle:\n",
    "            TradeTime += 1\n",
    "\n",
    "# 按照周期和持仓变化作为一次交易，计算胜率\n",
    "# AllWinResult = pd.DataFrame()\n",
    "# for asset in [i for i in AllEquityDf_.columns if i not in ['中证金融地产','工银瑞信金融地产']]:\n",
    "#     EquityDf_ = AllEquityDf_[[asset]]\n",
    "#     WeightDf_ = WeightDict[asset]\n",
    "#     WeightDf_['Positon'] = WeightDf_.apply(lambda x: str(x['券商'])+str(x['银行'])+str(x['房地产'])+str(x['保险']),axis=1)\n",
    "    \n",
    "#     # 净值数据匹配周期数据、持仓数据\n",
    "#     DfForComputeWin = CycleMat.merge(EquityDf_,left_index=True,right_index=True,how='left').merge(WeightDf_,left_index=True,right_index=True,how='left')\n",
    "#     # 重采样\n",
    "#     DfForComputeWin_ = ResampleCycleTrade(DfForComputeWin)\n",
    "    \n",
    "#     # 计算每个 周期-交易 内的收益率\n",
    "#     DfForComputeWin_['equity_return'] = DfForComputeWin_[asset].pct_change()\n",
    "#     DfForComputeWin_['equity_return'] = DfForComputeWin_['equity_return'].fillna(DfForComputeWin_[asset]-1)\n",
    "#     DfForComputeWin_['equity_win'] = DfForComputeWin_['equity_return'].apply(lambda x: 1 if x>0 else 0)\n",
    "#     WinResult = DfForComputeWin_.groupby('MCcycle').apply(ComputeWinOfCycle).to_frame(asset)\n",
    "\n",
    "#     # 输出\n",
    "#     AllWinResult = pd.concat([AllWinResult,WinResult],axis=1)\n",
    "# AllWinResult.to_excel('C:/Users/jxjsj/Desktop/资产配置课题/AllWinResult.xlsx',index=True)\n",
    "\n",
    "# 每个月调仓或者再平衡作为一次交易，计算相对中证金融地产胜率\n",
    "AllWinResult = pd.DataFrame()\n",
    "for asset in [i for i in AllEquityDf_.columns if i not in ['中证金融地产']]:\n",
    "    EquityDf_ = (AllEquityDf_[asset]/AllEquityDf_['中证金融地产']).to_frame(asset)\n",
    "\n",
    "    # 净值数据匹配周期数据\n",
    "    DfForComputeWin_ = CycleMat.merge(EquityDf_,left_index=True,right_index=True)\n",
    "    \n",
    "    # 计算每个 周期-交易 内的收益率\n",
    "    DfForComputeWin_['equity_return'] = DfForComputeWin_[asset].pct_change()\n",
    "    DfForComputeWin_ = DfForComputeWin_.dropna()\n",
    "    DfForComputeWin_['equity_return'] = DfForComputeWin_['equity_return'].fillna(DfForComputeWin_[asset]-1)\n",
    "    DfForComputeWin_['equity_win'] = DfForComputeWin_['equity_return'].apply(lambda x: 1 if x>0 else 0)\n",
    "    WinResult = DfForComputeWin_.groupby('MCcycle').apply(ComputeWinOfCycle).to_frame(asset)\n",
    "    \n",
    "    # 计算全周期下收益\n",
    "    WinResultTmp = pd.DataFrame([ComputeWinOfCycle(DfForComputeWin_)],index=['AllCycle'],columns=[asset])\n",
    "    WinResult = pd.concat([WinResult,WinResultTmp],axis=0)\n",
    "\n",
    "    # 输出\n",
    "    AllWinResult = pd.concat([AllWinResult,WinResult],axis=1)\n",
    "# AllWinResult.to_excel('C:/Users/jxjsj/Desktop/资产配置课题/AllWinResult.xlsx',index=True)"
   ]
  },
  {
   "cell_type": "code",
   "execution_count": 146,
   "metadata": {},
   "outputs": [
    {
     "data": {
      "text/html": [
       "<div>\n",
       "<style scoped>\n",
       "    .dataframe tbody tr th:only-of-type {\n",
       "        vertical-align: middle;\n",
       "    }\n",
       "\n",
       "    .dataframe tbody tr th {\n",
       "        vertical-align: top;\n",
       "    }\n",
       "\n",
       "    .dataframe thead th {\n",
       "        text-align: right;\n",
       "    }\n",
       "</style>\n",
       "<table border=\"1\" class=\"dataframe\">\n",
       "  <thead>\n",
       "    <tr style=\"text-align: right;\">\n",
       "      <th></th>\n",
       "      <th>偏离度排名5</th>\n",
       "      <th>偏离度排名6</th>\n",
       "      <th>偏离度排名7</th>\n",
       "      <th>偏离度排名8</th>\n",
       "      <th>偏离度排名9</th>\n",
       "    </tr>\n",
       "  </thead>\n",
       "  <tbody>\n",
       "    <tr>\n",
       "      <th>ME CE</th>\n",
       "      <td>0.680000</td>\n",
       "      <td>0.680000</td>\n",
       "      <td>0.640000</td>\n",
       "      <td>0.640000</td>\n",
       "      <td>0.600000</td>\n",
       "    </tr>\n",
       "    <tr>\n",
       "      <th>ME CR</th>\n",
       "      <td>0.571429</td>\n",
       "      <td>0.476190</td>\n",
       "      <td>0.476190</td>\n",
       "      <td>0.428571</td>\n",
       "      <td>0.476190</td>\n",
       "    </tr>\n",
       "    <tr>\n",
       "      <th>MR CE</th>\n",
       "      <td>0.517241</td>\n",
       "      <td>0.551724</td>\n",
       "      <td>0.551724</td>\n",
       "      <td>0.551724</td>\n",
       "      <td>0.517241</td>\n",
       "    </tr>\n",
       "    <tr>\n",
       "      <th>MR CR</th>\n",
       "      <td>0.576923</td>\n",
       "      <td>0.576923</td>\n",
       "      <td>0.615385</td>\n",
       "      <td>0.538462</td>\n",
       "      <td>0.615385</td>\n",
       "    </tr>\n",
       "    <tr>\n",
       "      <th>AllCycle</th>\n",
       "      <td>0.584158</td>\n",
       "      <td>0.574257</td>\n",
       "      <td>0.574257</td>\n",
       "      <td>0.544554</td>\n",
       "      <td>0.554455</td>\n",
       "    </tr>\n",
       "  </tbody>\n",
       "</table>\n",
       "</div>"
      ],
      "text/plain": [
       "            偏离度排名5    偏离度排名6    偏离度排名7    偏离度排名8    偏离度排名9\n",
       "ME CE     0.680000  0.680000  0.640000  0.640000  0.600000\n",
       "ME CR     0.571429  0.476190  0.476190  0.428571  0.476190\n",
       "MR CE     0.517241  0.551724  0.551724  0.551724  0.517241\n",
       "MR CR     0.576923  0.576923  0.615385  0.538462  0.615385\n",
       "AllCycle  0.584158  0.574257  0.574257  0.544554  0.554455"
      ]
     },
     "execution_count": 146,
     "metadata": {},
     "output_type": "execute_result"
    }
   ],
   "source": [
    "AllWinResult"
   ]
  },
  {
   "cell_type": "code",
   "execution_count": null,
   "metadata": {},
   "outputs": [],
   "source": []
  },
  {
   "cell_type": "code",
   "execution_count": 36,
   "metadata": {},
   "outputs": [
    {
     "data": {
      "text/plain": [
       "'\\n最优结果输出\\n'"
      ]
     },
     "execution_count": 36,
     "metadata": {},
     "output_type": "execute_result"
    }
   ],
   "source": [
    "'''\n",
    "最优结果输出&绘图\n",
    "'''"
   ]
  },
  {
   "cell_type": "code",
   "execution_count": 147,
   "metadata": {},
   "outputs": [],
   "source": [
    "## 回测 - 最优结果\n",
    "\n",
    "# 初始化指标\n",
    "tol_equity = 1\n",
    "HowRank = '偏离度排名'\n",
    "RankN = 7\n",
    "WeightDf = pd.DataFrame()\n",
    "equity_df = pd.DataFrame([1],columns=['equity_series'],index=[StrategyDateList[0]])\n",
    "# 月末循环执行策略，最后一个月不执行策略\n",
    "for cnt in range(len(StrategyDateList)-1):\n",
    "\n",
    "    # 获取关键日期\n",
    "    strategy_date = StrategyDateList[cnt]\n",
    "    next_strategy_date = StrategyDateList[cnt+1]\n",
    "\n",
    "    # 读取数据 - 历史策略用数据+未来一个月收益率计算数据\n",
    "    # 历史策略用数据\n",
    "    history_data = AllDataForBackTest[AllDataForBackTest['trade_date'] == strategy_date]\n",
    "    history_trade_data = FinDataDfSubReturn[FinDataDfSubReturn['date'] <= strategy_date].iloc[-252:,:]\n",
    "    cycle_now = history_data['MCcycle'].tolist()[0]\n",
    "\n",
    "    # 读取数据 - 未来一个月收益率计算数据 \n",
    "    future_data_for_return = FinDataDf[(FinDataDf.index<=next_strategy_date) & (FinDataDf.index>=strategy_date)]\n",
    "\n",
    "    # 运行策略\n",
    "    expected_weight_df = Strategy(history_data, HowRank, RankN, cycle_now,history_trade_data)\n",
    "    expected_weight_df_output = expected_weight_df.copy()\n",
    "    expected_weight_df_output.index = [next_strategy_date]\n",
    "    WeightDf = pd.concat([WeightDf,expected_weight_df_output],axis=0)\n",
    "\n",
    "    # 结算策略，更新净值\n",
    "    clear_df, tol_equity = Clear(future_data_for_return,tol_equity,expected_weight_df,cycle_now)\n",
    "\n",
    "    # 输出净值序列\n",
    "    equity_df = pd.concat([equity_df,clear_df],axis=0)\n",
    "\n",
    "backtest = Indicator(equity_df)\n",
    "# 策略结果\n",
    "AllResultSaveDfIndicator = pd.concat([AllResultSaveDfIndicator,backtest[0]],axis=1)\n",
    "AllResultSaveDfYearReturn = pd.concat([AllResultSaveDfYearReturn,backtest[2]],axis=1)\n",
    "EquitySeriesDict[HowRank+str(RankN)] = backtest[1][['equity_series']]\n",
    "WeightDict[HowRank+str(RankN)] = WeightDf\n",
    "\n",
    "# 策略结果\n",
    "# print('Strategy')\n",
    "# print(backtest[0])\n",
    "# print(backtest[2])\n",
    "# backtest[1].to_excel('C:/Users/jxjsj/Desktop/资产配置课题/bestbacktest.xlsx',index=True)"
   ]
  },
  {
   "cell_type": "code",
   "execution_count": 148,
   "metadata": {
    "scrolled": false
   },
   "outputs": [
    {
     "data": {
      "text/plain": [
       "<matplotlib.legend.Legend at 0x1796220a8d0>"
      ]
     },
     "execution_count": 148,
     "metadata": {},
     "output_type": "execute_result"
    },
    {
     "data": {
      "image/png": "[encoded data removed]",
      "text/plain": [
       "<Figure size 1080x648 with 1 Axes>"
      ]
     },
     "metadata": {},
     "output_type": "display_data"
    }
   ],
   "source": [
    "# 超额净值\n",
    "plt.figure(figsize=(15,9))\n",
    "plt.plot(backtest[1][['equity_series']]/BenchmarkIndexSubEquity[['equity_series']],label='Strategy')\n",
    "# plt.plot(BenchmarkFundSubEquity[['equity_series']]/BenchmarkIndexSubEquity[['equity_series']],label='Fund')\n",
    "# plt.plot(BenchmarkIndexSubEquity[['equity_series']],label='Index')\n",
    "plt.legend(loc=0)"
   ]
  },
  {
   "cell_type": "code",
   "execution_count": 149,
   "metadata": {
    "scrolled": false
   },
   "outputs": [
    {
     "data": {
      "text/plain": [
       "<matplotlib.legend.Legend at 0x1796476f3c8>"
      ]
     },
     "execution_count": 149,
     "metadata": {},
     "output_type": "execute_result"
    },
    {
     "data": {
      "image/png": "[encoded data removed]",
      "text/plain": [
       "<Figure size 1080x648 with 1 Axes>"
      ]
     },
     "metadata": {},
     "output_type": "display_data"
    }
   ],
   "source": [
    "# 绝对净值\n",
    "plt.figure(figsize=(15,9))\n",
    "plt.plot(backtest[1][['equity_series']],label='Strategy')\n",
    "# plt.plot(BenchmarkFundSubEquity[['equity_series']],label='Fund')\n",
    "plt.plot(BenchmarkIndexSubEquity[['equity_series']],label='Index')\n",
    "plt.legend(loc=0)"
   ]
  },
  {
   "cell_type": "code",
   "execution_count": null,
   "metadata": {},
   "outputs": [],
   "source": []
  }
 ],
 "metadata": {
  "kernelspec": {
   "display_name": "Python 3",
   "language": "python",
   "name": "python3"
  },
  "language_info": {
   "codemirror_mode": {
    "name": "ipython",
    "version": 3
   },
   "file_extension": ".py",
   "mimetype": "text/x-python",
   "name": "python",
   "nbconvert_exporter": "python",
   "pygments_lexer": "ipython3",
   "version": "3.6.5"
  }
 },
 "nbformat": 4,
 "nbformat_minor": 2
}
