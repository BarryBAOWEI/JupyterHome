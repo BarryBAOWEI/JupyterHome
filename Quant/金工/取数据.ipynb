{
 "cells": [
  {
   "cell_type": "code",
   "execution_count": 1,
   "metadata": {},
   "outputs": [],
   "source": [
    "import re\n",
    "import urllib\n",
    "import cx_Oracle\n",
    "import urllib.request\n",
    "import os\n",
    "\n",
    "os.environ['NLS_LANG']='SIMPLIFIED CHINESE_CHINA.UTF8'\n",
    "\n",
    "dwzx_oracle_ip = '222.92.214.61'\n",
    "dwzx_oracle_port = 20001\n",
    "dwzx_oracle_SID = 'sidwdzx1'\n",
    "dsn_tns = cx_Oracle.makedsn(dwzx_oracle_ip, dwzx_oracle_port, dwzx_oracle_SID)\n",
    "db1 = cx_Oracle.connect('sjcj','dwzqsjcj',dsn_tns )\n",
    "\n",
    "cursor=db1.cursor()\n",
    "cursor.execute(\"select trade_dt,s_info_windcode,s_dq_close_today,s_val_pe_ttm,s_val_pb_new,s_val_ps_ttm from wind.AshareEODDerivativeIndicator where trade_dt>='20060101' and trade_dt<='201801230' \")\n",
    "row=cursor.fetchall()\n",
    "db1.close\n",
    "import pandas as pd\n",
    "result=pd.DataFrame(row)\n",
    "\n",
    "result.to_excel('C:/Users/jxjsj/Desktop/value_factor.xlsx',header=None,index=True)"
   ]
  },
  {
   "cell_type": "code",
   "execution_count": null,
   "metadata": {},
   "outputs": [],
   "source": []
  }
 ],
 "metadata": {
  "kernelspec": {
   "display_name": "Python 3",
   "language": "python",
   "name": "python3"
  },
  "language_info": {
   "codemirror_mode": {
    "name": "ipython",
    "version": 3
   },
   "file_extension": ".py",
   "mimetype": "text/x-python",
   "name": "python",
   "nbconvert_exporter": "python",
   "pygments_lexer": "ipython3",
   "version": "3.6.5"
  }
 },
 "nbformat": 4,
 "nbformat_minor": 2
}
