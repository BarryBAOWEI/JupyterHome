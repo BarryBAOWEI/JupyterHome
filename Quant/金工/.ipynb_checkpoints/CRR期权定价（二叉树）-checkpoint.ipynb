{
 "cells": [
  {
   "cell_type": "code",
   "execution_count": 4,
   "metadata": {
    "ExecuteTime": {
     "end_time": "2019-04-10T11:55:35.014158Z",
     "start_time": "2019-04-10T11:55:32.175391Z"
    }
   },
   "outputs": [],
   "source": [
    "import math\n",
    "import numpy as np\n",
    "import matplotlib as mpl\n",
    "import matplotlib.pyplot as plt\n",
    "from scipy.integrate import quad\n",
    "mpl.rcParams['font.family'] = 'serif'\n",
    "import datetime"
   ]
  },
  {
   "cell_type": "code",
   "execution_count": null,
   "metadata": {},
   "outputs": [],
   "source": [
    "'''\n",
    "CRR期权定价公式\n",
    "'''"
   ]
  },
  {
   "cell_type": "code",
   "execution_count": 11,
   "metadata": {
    "ExecuteTime": {
     "end_time": "2019-04-10T11:55:35.063049Z",
     "start_time": "2019-04-10T11:55:35.017629Z"
    }
   },
   "outputs": [],
   "source": [
    "#BSM模型定价\n",
    "#\n",
    "# 辅助函数\n",
    "#\n",
    "def dN(x):\n",
    "    '''pdf'''\n",
    "    return math.exp(-0.5 * x ** 2) / math.sqrt(2 * math.pi)\n",
    "\n",
    "def N(x):\n",
    "    '''cdf'''\n",
    "    return quad(lambda x: dN(x), -np.inf, x)[0]\n",
    "\n",
    "def d1f(St, K, t, T, r, sigma):\n",
    "    ''' Black-Scholes-Merton d1 function.\n",
    "        Parameters see e.g. BSM_call_value function. '''\n",
    "    Tmt = (T - t).days / 365.\n",
    "    d1 = (math.log(St / K) + (r + 0.5 * sigma ** 2)\n",
    "          * (Tmt)) / (sigma * math.sqrt(Tmt))\n",
    "    return d1\n",
    "\n",
    "#\n",
    "# Valuation Functions\n",
    "#\n",
    "def BSM_call_value(St, K, t, T, r, sigma):\n",
    "\n",
    "    d1 = d1f(St, K, t, T, r, sigma)\n",
    "    Tmt = (T - t).days / 365.\n",
    "    d2 = d1 - sigma * math.sqrt(Tmt)\n",
    "    call_value = St * N(d1) - math.exp(-r * (Tmt)) * K * N(d2)\n",
    "    return call_value\n",
    "\n",
    "\n",
    "def BSM_put_value(St, K, t, T, r, sigma):\n",
    "\n",
    "    Tmt = (T - t).days / 365.\n",
    "    put_value = BSM_call_value(St, K, t, T, r, sigma) \\\n",
    "        - St + math.exp(-r * (Tmt)) * K\n",
    "    return put_value"
   ]
  },
  {
   "cell_type": "code",
   "execution_count": 1,
   "metadata": {
    "ExecuteTime": {
     "end_time": "2019-04-10T11:55:35.112902Z",
     "start_time": "2019-04-10T11:55:35.065288Z"
    }
   },
   "outputs": [],
   "source": [
    "# CRR欧式期权\n",
    "def CRR_european_option_value(S0, K, t, T, r, sigma, otype, M=3):\n",
    "    ''' Cox-Ross-Rubinstein European option valuation.\n",
    "    Parameters\n",
    "    ==========\n",
    "    S0 : float\n",
    "        stock/index level at time 0\n",
    "    K : float\n",
    "        strike price\n",
    "    T : float\n",
    "        date of maturity\n",
    "    r : float\n",
    "        constant, risk-less short rate\n",
    "    sigma : float\n",
    "        volatility\n",
    "    otype : string\n",
    "        either 'call' or 'put'\n",
    "    M : int\n",
    "        number of time intervals\n",
    "    '''\n",
    "    # 生成二叉树\n",
    "    Tmt = (T - t).days / 365.\n",
    "    dt = Tmt / M  # length of time interval\n",
    "    df = math.exp(-r * dt)  # discount per interval\n",
    "\n",
    "    # 计算udp\n",
    "    u = math.exp(sigma * math.sqrt(dt))  # up movement\n",
    "    d = 1 / u  # down movement\n",
    "    q = (math.exp(r * dt) - d) / (u - d)  # martingale branch probability\n",
    "\n",
    "    # 初始化幂矩阵\n",
    "    mu = np.arange(M + 1)\n",
    "    mu = np.resize(mu, (M + 1, M + 1))\n",
    "    md = np.transpose(mu)\n",
    "    mu = u ** (mu - md)\n",
    "    md = d ** md\n",
    "#     print(mu)\n",
    "#     print(md)\n",
    "    \n",
    "    #得到各节点的股票价格\n",
    "    S = S0 * mu * md\n",
    "\n",
    "    # 得到叶子结点的期权价值\n",
    "    if otype == 'call':\n",
    "        V = np.maximum(S - K, 0)  # inner values for European call option\n",
    "    else:\n",
    "        V = np.maximum(K - S, 0)  # inner values for European put option\n",
    "\n",
    "    #逐步向前加权平均并折现，得到期初期权价值\n",
    "    for z in range(0, M):  # backwards iteration\n",
    "        #逐列更新期权价值，相当于二叉树中的逐层向前折算\n",
    "        V[0:M - z, M - z - 1] = (q * V[0:M - z, M - z] +\n",
    "                         (1 - q) * V[1:M - z + 1, M - z]) * df\n",
    "    return V[0, 0]"
   ]
  },
  {
   "cell_type": "code",
   "execution_count": 2,
   "metadata": {
    "ExecuteTime": {
     "end_time": "2019-04-10T11:55:35.183870Z",
     "start_time": "2019-04-10T11:55:35.115878Z"
    }
   },
   "outputs": [],
   "source": [
    "# CRR美式期权\n",
    "def CRR_american_option_value(S0, K, t, T, r, sigma, otype, M=3):\n",
    "    # 一.生成二叉树\n",
    "    Tmt = (T - t).days / 365.\n",
    "    dt = Tmt / M  # length of time interval\n",
    "    df = math.exp(-r * dt)  # discount per interval\n",
    "    inf = math.exp(r * dt)  # discount per interval\n",
    "\n",
    "    # 计算udp\n",
    "    u = math.exp(sigma * math.sqrt(dt))  # up movement\n",
    "    d = 1 / u  # down movement\n",
    "    q = (math.exp(r * dt) - d) / (u - d)  # martingale branch probability\n",
    "    \n",
    "    # 初始化幂矩阵\n",
    "    mu = np.arange(M + 1)\n",
    "    mu = np.resize(mu, (M + 1, M + 1))\n",
    "    md = np.transpose(mu)\n",
    "    \n",
    "    # 计算个节点单向变动时的股票价格\n",
    "    mus = u ** (mu - md)\n",
    "    mds = d ** md\n",
    "    \n",
    "    # 得到各节点的股票价格\n",
    "    S = S0 * mus * mds \n",
    "        \n",
    "    # 二.计算每个节点股票的预期价格\n",
    "    mes = S0 * inf ** mu\n",
    "\n",
    "    # 三.得到叶子结点的期权价值\n",
    "    if otype == 'call':\n",
    "        V = np.maximum(S - K, 0)     \n",
    "        #计算每个节点提前行权的收益\n",
    "        oreturn = mes - K\n",
    "    else:\n",
    "        V = np.maximum(K - S, 0)       \n",
    "        #计算每个节点提前行权的收益\n",
    "        oreturn = K - mes\n",
    "\n",
    "    # 四.逐步向前加权平均折现和提前行权的收益比较，得到期初期权价值\n",
    "    for z in range(0, M):  # backwards iteration\n",
    "        #计算后期折现的后期价格\n",
    "        ovalue = (q * V[0:M - z, M - z] +\n",
    "                         (1 - q) * V[1:M - z + 1, M - z]) * df\n",
    "        #逐列更新期权价值，相当于二叉树中的逐层向前折算\n",
    "        #期权价格取后期折现和提前行权获得收益的最大值\n",
    "        V[0:M - z, M - z - 1] = np.maximum(ovalue, oreturn[0:M - z, M - z - 1])\n",
    "        \n",
    "    return V[0, 0]"
   ]
  },
  {
   "cell_type": "code",
   "execution_count": null,
   "metadata": {},
   "outputs": [],
   "source": [
    "'''\n",
    "例子1 - 给定2019-06-12日 50ETF 6月2450认购期权 价值0.3569以及50ETF现货价值2.802 历史现货年化波动率（240日数据计算）0.2406，计算理论价值\n",
    "例子2 - 将理论价值与BSM理论价值比较\n",
    "'''"
   ]
  },
  {
   "cell_type": "code",
   "execution_count": 22,
   "metadata": {
    "ExecuteTime": {
     "end_time": "2019-04-10T11:55:35.747634Z",
     "start_time": "2019-04-10T11:55:35.741195Z"
    }
   },
   "outputs": [],
   "source": [
    "# 输入参数\n",
    "t = datetime.datetime.strptime('2019-06-12','%Y-%m-%d')\n",
    "T = datetime.datetime.strptime('2019-06-26','%Y-%m-%d')\n",
    "St = 2.802\n",
    "K = 2.45\n",
    "r_ = 0.02439 # 到期时间跨度相近的shibor，2W\n",
    "r = 26*np.log(1+r_/26)\n",
    "Vt = 0.3569\n",
    "sigma_est = 0.2406"
   ]
  },
  {
   "cell_type": "code",
   "execution_count": 24,
   "metadata": {},
   "outputs": [
    {
     "name": "stdout",
     "output_type": "stream",
     "text": [
      "1.CRRCallOptionPrice 0.35434322786242445\n"
     ]
    }
   ],
   "source": [
    "print('1.CRRCallOptionPrice',CRR_european_option_value(St, K, t, T, r, sigma_est, 'call', 20))"
   ]
  },
  {
   "cell_type": "code",
   "execution_count": 18,
   "metadata": {
    "ExecuteTime": {
     "end_time": "2019-04-10T11:55:36.536706Z",
     "start_time": "2019-04-10T11:55:36.511451Z"
    }
   },
   "outputs": [],
   "source": [
    "mmin=2\n",
    "mmax=500\n",
    "step_size=1"
   ]
  },
  {
   "cell_type": "code",
   "execution_count": 27,
   "metadata": {
    "ExecuteTime": {
     "end_time": "2019-04-10T11:59:19.314868Z",
     "start_time": "2019-04-10T11:59:18.851152Z"
    }
   },
   "outputs": [
    {
     "name": "stdout",
     "output_type": "stream",
     "text": [
      "2.BSMOptionPriceVSCRROptionPrice\n"
     ]
    },
    {
     "data": {
      "image/png": "[encoded data removed]",
      "text/plain": [
       "<Figure size 864x360 with 1 Axes>"
      ]
     },
     "metadata": {},
     "output_type": "display_data"
    }
   ],
   "source": [
    "BSM_benchmark = BSM_call_value(St, K, t, T, r, sigma_est)\n",
    "m = range(mmin, mmax, step_size)\n",
    "CRR_values = [CRR_european_option_value(St, K, t, T, r, sigma_est, 'call', M) for M in m]\n",
    "plt.figure(figsize=(12, 5))\n",
    "plt.plot(m, CRR_values, label='CRR')\n",
    "plt.axhline(BSM_benchmark, color='r', ls='dashed', lw=1.5,\n",
    "            label='BSM')\n",
    "# plt.axhline(Vt, color='b', ls='dashed', lw=1.5,\n",
    "#             label='Real')\n",
    "plt.xlabel('Steps')\n",
    "plt.ylabel('European call option value')\n",
    "plt.legend(loc=4)\n",
    "plt.xlim(0, mmax)\n",
    "print('2.BSMOptionPriceVSCRROptionPrice')\n",
    "plt.show()"
   ]
  },
  {
   "cell_type": "code",
   "execution_count": null,
   "metadata": {
    "collapsed": true
   },
   "outputs": [],
   "source": []
  }
 ],
 "metadata": {
  "kernelspec": {
   "display_name": "Python 3",
   "language": "python",
   "name": "python3"
  },
  "language_info": {
   "codemirror_mode": {
    "name": "ipython",
    "version": 3
   },
   "file_extension": ".py",
   "mimetype": "text/x-python",
   "name": "python",
   "nbconvert_exporter": "python",
   "pygments_lexer": "ipython3",
   "version": "3.6.5"
  }
 },
 "nbformat": 4,
 "nbformat_minor": 2
}
