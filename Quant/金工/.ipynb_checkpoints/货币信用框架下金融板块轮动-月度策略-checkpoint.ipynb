{
 "cells": [
  {
   "cell_type": "code",
   "execution_count": 176,
   "metadata": {},
   "outputs": [],
   "source": [
    "import pandas as pd\n",
    "import matplotlib.pyplot as plt\n",
    "import numpy as np\n",
    "from joblib import Parallel, delayed\n",
    "import multiprocessing\n",
    "import datetime\n",
    "\n",
    "plt.rcParams['font.sans-serif']=['SimHei']\n",
    "plt.rcParams['axes.unicode_minus'] = False"
   ]
  },
  {
   "cell_type": "code",
   "execution_count": null,
   "metadata": {},
   "outputs": [],
   "source": [
    "'''\n",
    "基本数据导入\n",
    "'''"
   ]
  },
  {
   "cell_type": "code",
   "execution_count": null,
   "metadata": {},
   "outputs": [],
   "source": [
    "## 四板块\n",
    "Class = ['券商','银行','房地产','保险']"
   ]
  },
  {
   "cell_type": "code",
   "execution_count": 76,
   "metadata": {},
   "outputs": [],
   "source": [
    "## 周期数据\n",
    "## 日度\n",
    "MacroDataDaily = pd.read_excel('C:/Users/jxjsj/Desktop/宏观经济指标.xlsx').dropna()\n",
    "MacroDataDaily['M'] = MacroDataDaily['中债国债到期收益率:1年']\n",
    "MacroDataDaily['C'] = MacroDataDaily['中债企业债到期收益率(AA):3年'] - MacroDataDaily['中债企业债到期收益率(AAA):3年']\n",
    "## 日期调整 - 月末数据取股票交易日月末\n",
    "stocktest = pd.read_excel('C:/Users/jxjsj/Desktop/券商.xlsx')['date'].tolist()\n",
    "MacroDataDaily = MacroDataDaily[MacroDataDaily['date'].isin(stocktest)]\n",
    "## 月度 - 每月最后一天\n",
    "MacroDataMonthly = MacroDataDaily.copy()\n",
    "MacroDataMonthly['trade_date'] = MacroDataDaily['date']\n",
    "MacroDataMonthly = MacroDataMonthly.set_index('date').apply(lambda x: x.resample('M').last()).reset_index()"
   ]
  },
  {
   "cell_type": "code",
   "execution_count": 77,
   "metadata": {},
   "outputs": [],
   "source": [
    "## 全数据 - 面板数据堆叠形式\n",
    "qs = pd.read_excel('C:/Users/jxjsj/Desktop/券商.xlsx')\n",
    "yh = pd.read_excel('C:/Users/jxjsj/Desktop/银行.xlsx')\n",
    "fdc = pd.read_excel('C:/Users/jxjsj/Desktop/房地产.xlsx')\n",
    "bx = pd.read_excel('C:/Users/jxjsj/Desktop/保险.xlsx')\n",
    "\n",
    "qs['return'] = qs['close']/qs['close'].shift(1)-1\n",
    "yh['return'] = yh['close']/yh['close'].shift(1)-1\n",
    "fdc['return'] = fdc['close']/fdc['close'].shift(1)-1\n",
    "bx['return'] = bx['close']/bx['close'].shift(1)-1\n",
    "\n",
    "qs['class'] = '券商'\n",
    "yh['class'] = '银行'\n",
    "fdc['class'] = '房地产'\n",
    "bx['class'] = '保险'\n",
    "\n",
    "FinDataDf = pd.concat([qs,yh,fdc,bx],axis=0,sort=False)"
   ]
  },
  {
   "cell_type": "code",
   "execution_count": 78,
   "metadata": {},
   "outputs": [],
   "source": [
    "## 起止时间设定\n",
    "DataStart = '2009-08-31'\n",
    "StrategyStart = '2013-08-30'\n",
    "End = '2019-06-30'\n",
    "\n",
    "MacroDataMonthlySub = MacroDataMonthly[(MacroDataMonthly['trade_date']>=DataStart) & (MacroDataMonthly['trade_date']<=End)].copy()\n",
    "FinDataDfSub = FinDataDf[(FinDataDf['date']<=End) & (FinDataDf['date']>=DataStart)].copy()\n",
    "FinDataDfSubReturn = FinDataDfSub.pivot(index='date',columns='class',values='return').reset_index()"
   ]
  },
  {
   "cell_type": "code",
   "execution_count": 80,
   "metadata": {},
   "outputs": [],
   "source": [
    "## 实行策略时点 - 交易日历的月末\n",
    "MacroDataMonthlySubForStrategy = MacroDataMonthlySub[MacroDataMonthlySub['trade_date']>=StrategyStart]\n",
    "StrategyDateDf = MacroDataMonthlySubForStrategy[['trade_date']].rename(columns={'trade_date':'StrategyDate'})\n",
    "StrategyDateList = StrategyDateDf['StrategyDate'].tolist()"
   ]
  },
  {
   "cell_type": "code",
   "execution_count": 81,
   "metadata": {},
   "outputs": [],
   "source": [
    "## 基准数据导入\n",
    "BenchmarkIndex = pd.read_excel('C:/Users/jxjsj/Desktop/中证金融地产.xlsx')\n",
    "BenchmarkFund = pd.read_excel('C:/Users/jxjsj/Desktop/工银瑞信金融地产.xlsx')\n",
    "\n",
    "BenchmarkIndex['return'] = BenchmarkIndex['close']/BenchmarkIndex['close'].shift(1)-1\n",
    "BenchmarkFund['return'] = BenchmarkFund['close']/BenchmarkFund['close'].shift(1)-1\n",
    "\n",
    "BenchmarkIndexSub = BenchmarkIndex[(BenchmarkIndex['date']>=StrategyStart) & (BenchmarkIndex['date']<=End)]\n",
    "BenchmarkFundSub = BenchmarkFund[(BenchmarkFund['date']>=StrategyStart) & (BenchmarkFund['date']<=End)]"
   ]
  },
  {
   "cell_type": "code",
   "execution_count": null,
   "metadata": {},
   "outputs": [],
   "source": [
    "'''\n",
    "策略所需数据/指标/信号计算\n",
    "'''"
   ]
  },
  {
   "cell_type": "code",
   "execution_count": null,
   "metadata": {},
   "outputs": [],
   "source": [
    "'''\n",
    "1货币信用周期指标计算\n",
    "'''"
   ]
  },
  {
   "cell_type": "code",
   "execution_count": 82,
   "metadata": {
    "scrolled": true
   },
   "outputs": [],
   "source": [
    "## 货币信用周期指标1 - T~T-3正负占比\n",
    "def MoneyCredit1(series):\n",
    "    MList = series.tolist()\n",
    "    MResultTmp = []\n",
    "    for i in range(len(MList)-1):\n",
    "        if MList[-1]-MList[i]>=0:\n",
    "            MResultTmp.append(1)\n",
    "        else:\n",
    "            MResultTmp.append(-1)\n",
    "    MResult = np.sum(MResultTmp)\n",
    "    return MResult\n",
    "MacroDataMonthlySub['DeltaC'] = MacroDataMonthlySub['C'].rolling(4).apply(MoneyCredit1,raw=True)\n",
    "MacroDataMonthlySub['DeltaM'] = MacroDataMonthlySub['M'].rolling(4).apply(MoneyCredit1,raw=True)\n",
    "def MCcycle(df):\n",
    "    if df['DeltaC']>0:\n",
    "        C='R'\n",
    "    else:\n",
    "        C='E'\n",
    "    if df['DeltaM']>0:\n",
    "        M='R'\n",
    "    else:\n",
    "        M='E'\n",
    "    return 'M'+M+' C'+C\n",
    "MacroDataMonthlySub['MCcycle'] = MacroDataMonthlySub.apply(lambda x: MCcycle(x),axis=1)\n",
    "MCcycleDf = MacroDataMonthlySub[['trade_date','MCcycle']]"
   ]
  },
  {
   "cell_type": "code",
   "execution_count": 73,
   "metadata": {},
   "outputs": [],
   "source": [
    "'''\n",
    "2周期表示\n",
    "'''\n",
    "CycleList = ['ME CE','ME CR','MR CR','MR CE']"
   ]
  },
  {
   "cell_type": "code",
   "execution_count": null,
   "metadata": {},
   "outputs": [],
   "source": [
    "'''\n",
    "3各周期与对应月的收益数据合并\n",
    "'''"
   ]
  },
  {
   "cell_type": "code",
   "execution_count": 89,
   "metadata": {},
   "outputs": [],
   "source": [
    "## 月收益率\n",
    "FinDataDfSubClose = FinDataDfSub.pivot(index='date',columns='class',values='close')\n",
    "FinDataDfSubClose['trade_date'] = FinDataDfSubClose.index\n",
    "FinDataDfSubReturnM = FinDataDfSubClose.apply(lambda x: x.resample('M').last()).set_index('trade_date').pct_change().reset_index().dropna()\n",
    "\n",
    "## 收益率与周期合并\n",
    "CycleAndReturn = FinDataDfSubReturnM.merge(MCcycleDf,on=['trade_date'],how='left')"
   ]
  },
  {
   "cell_type": "code",
   "execution_count": null,
   "metadata": {},
   "outputs": [],
   "source": [
    "'''\n",
    "4各板块历史排名滚动平均值计算\n",
    "'''"
   ]
  },
  {
   "cell_type": "code",
   "execution_count": 151,
   "metadata": {
    "scrolled": true
   },
   "outputs": [],
   "source": [
    "RollingMonth = 48\n",
    "\n",
    "# 计算排名序号，按收益率从大到小排序\n",
    "def RankCompute(df):\n",
    "    df = df.copy()\n",
    "    trade_date = df['trade_date'].tolist()[0]\n",
    "    dfSub = df[Class]\n",
    "    tmpDf = dfSub.T\n",
    "    tmpcol = tmpDf.columns.tolist()[0]\n",
    "    tmpDf0 = tmpDf.sort_values(tmpcol,ascending=False)\n",
    "    tmpDf0[tmpcol] = range(1,5)\n",
    "    tmpDf1 = tmpDf0.T[Class]\n",
    "    tmpDf1.index = [trade_date]\n",
    "    return tmpDf1\n",
    "\n",
    "# 并行计算函数\n",
    "def applyParallel(dfGrouped, func):\n",
    "    retLst = Parallel(n_jobs=multiprocessing.cpu_count())(delayed(func)(group) for name, group in dfGrouped)\n",
    "    return pd.concat(retLst,sort=False)\n",
    "\n",
    "# 全周期下历史平均排名\n",
    "RollingRankAllDf = pd.DataFrame()\n",
    "for StrategyDate in StrategyDateList:\n",
    "    CycleAndReturnSub = CycleAndReturn[CycleAndReturn['trade_date']<=StrategyDate].copy()\n",
    "    CycleAndReturnSub = CycleAndReturnSub.iloc[-RollingMonth:,:]\n",
    "    # 并行计算\n",
    "    RollingRankGroupby = CycleAndReturnSub.groupby('trade_date')\n",
    "    RollingRankMaterial = applyParallel(RollingRankGroupby, RankCompute)\n",
    "    \n",
    "#     RollingRankMaterial.index = RollingRankMaterial.index.droplevel(1)\n",
    "    RollingRank = RollingRankMaterial.mean().to_frame().T\n",
    "    RollingRank.index = [StrategyDate]\n",
    "    RollingRankAllDf = pd.concat([RollingRankAllDf,RollingRank],axis=0)\n",
    "RollingRankAllDf.columns = [i+'RankAll' for i in RollingRankAllDf.columns]\n",
    "\n",
    "# 当前周期的历史同周期平均排名\n",
    "RollingRankCycleDf = pd.DataFrame()\n",
    "for StrategyDate in StrategyDateList:\n",
    "    CycleAndReturnSub = CycleAndReturn[CycleAndReturn['trade_date']<=StrategyDate].copy()\n",
    "    CycleAndReturnSub = CycleAndReturnSub.iloc[-RollingMonth:,:]\n",
    "    CycleNow = CycleAndReturnSub['MCcycle'].tolist()[-1]\n",
    "    CycleAndReturnSub = CycleAndReturnSub[CycleAndReturnSub['MCcycle']==CycleNow]\n",
    "    # 并行计算\n",
    "    RollingRankGroupby = CycleAndReturnSub.groupby('trade_date')\n",
    "    RollingRankMaterial = applyParallel(RollingRankGroupby, RankCompute)\n",
    "    \n",
    "#     RollingRankMaterial.index = RollingRankMaterial.index.droplevel(1)\n",
    "    RollingRank = RollingRankMaterial.mean().to_frame().T\n",
    "    RollingRank.index = [StrategyDate]\n",
    "    RollingRankCycleDf = pd.concat([RollingRankCycleDf,RollingRank],axis=0)\n",
    "RollingRankCycleDf.columns = [i+'RankCycle' for i in RollingRankCycleDf.columns]"
   ]
  },
  {
   "cell_type": "code",
   "execution_count": null,
   "metadata": {},
   "outputs": [],
   "source": [
    "'''\n",
    "5排名+周期+月度+收益率拼接 - 底稿\n",
    "'''"
   ]
  },
  {
   "cell_type": "code",
   "execution_count": 156,
   "metadata": {
    "scrolled": false
   },
   "outputs": [],
   "source": [
    "AllDataForBackTest = CycleAndReturn.merge(RollingRankCycleDf.merge(RollingRankAllDf,left_index=True,right_index=True),left_on='trade_date',right_index=True,how='left')\n",
    "AllDataForBackTest.to_excel('C:/Users/jxjsj/Desktop/AllDataForBackTest.xlsx',index=False)"
   ]
  },
  {
   "cell_type": "code",
   "execution_count": null,
   "metadata": {},
   "outputs": [],
   "source": [
    "'''\n",
    "回测部分\n",
    "'''"
   ]
  },
  {
   "cell_type": "code",
   "execution_count": null,
   "metadata": {},
   "outputs": [],
   "source": [
    "'''\n",
    "回测函数\n",
    "'''"
   ]
  },
  {
   "cell_type": "code",
   "execution_count": 171,
   "metadata": {},
   "outputs": [],
   "source": [
    "### 策略函数\n",
    "def Strategy(df,HowRank,RankN):\n",
    "    '''\n",
    "    输入当天底稿数据，最终排名方法（偏离度排名，绝对排名），取前几名\n",
    "    输出所有资产对应目标权重\n",
    "    '''\n",
    "    df_ = df.copy()\n",
    "    if HowRank == '偏离度排名':\n",
    "        for EachClass in Class:\n",
    "            df_[EachClass] = df_[EachClass+'RankAll'] - df_[EachClass+'RankCycle']\n",
    "            ascending=False\n",
    "    if HowRank == '绝对排名':\n",
    "        for EachClass in Class:\n",
    "            df_[EachClass] = df_[EachClass+'RankCycle']\n",
    "            ascending=True\n",
    "    ResultDf = df_[Class].T\n",
    "    ResultDf = ResultDf.sort_values(ResultDf.columns[0],ascending=ascending)\n",
    "    ResultDf[ResultDf.columns[0]] = range(1,5)\n",
    "    ResultDf[ResultDf.columns[0]] = ResultDf[ResultDf.columns[0]].apply(lambda x: 1/RankN if x<=RankN else 0)\n",
    "    expected_stock_weight = ResultDf.T[Class]\n",
    "    return expected_stock_weight"
   ]
  },
  {
   "cell_type": "code",
   "execution_count": 197,
   "metadata": {},
   "outputs": [],
   "source": [
    "### 结算函数 - 月度结算\n",
    "def Clear(df,tol_equity,expected_stock_weight):\n",
    "    '''\n",
    "    输入下一个月数据，要包含本月最后一天（用以计算收益率）、结算前净值（初始值为1）、目标权重\n",
    "    输出下一个月净值序列（月初-月末）\n",
    "    '''\n",
    "    df_ = df.copy()\n",
    "    expected_stock_w = expected_stock_weight.copy()\n",
    "    \n",
    "    # 相对增长 Pt/Pt-1 序列\n",
    "    df_ = df_.pivot_table(index='date',columns='class',values='close').fillna(method='ffill').dropna()[Class]\n",
    "    df_ = df_.pct_change().dropna()\n",
    "    df_ = df_+1\n",
    "    \n",
    "    # 初始净值分配到各个资产上，乘以累计相对增长得到净值序列，丢弃首行拼接  \n",
    "    stock_w = expected_stock_w.apply(lambda x: x*tol_equity)\n",
    "\n",
    "    equity_tmp = pd.concat([stock_w,df_],axis=0,sort=False)\n",
    "    equity_df = equity_tmp.cumprod().sum(axis=1).to_frame('equity_series').iloc[1:,]\n",
    "    \n",
    "    return equity_df, equity_df['equity_series'][-1]"
   ]
  },
  {
   "cell_type": "code",
   "execution_count": 198,
   "metadata": {},
   "outputs": [],
   "source": [
    "### 分析函数 - 计算各类指标\n",
    "def Indicator(equity_df):\n",
    "    '''\n",
    "    输入净值序列\n",
    "    输出（累计收益、最大回撤、累计收益回撤比、年化收益率平均、年化收益率波动、夏普比率）的dataframe\n",
    "    输出净值、收益率、回撤序列\n",
    "    '''\n",
    "    df = equity_df.copy()\n",
    "    df['return'] = df['equity_series']/df['equity_series'].shift(1)-1\n",
    "    df['drawdown'] = 1-df['equity_series']/df['equity_series'].expanding().max()\n",
    "    \n",
    "    # 输出指标\n",
    "    # 累计收益\n",
    "    cum_return = df['equity_series'][-1]/df['equity_series'][0]-1\n",
    "    # 最大回撤\n",
    "    max_drawdown = df['drawdown'].max()\n",
    "    # 最大回撤时间\n",
    "#     end_max_drawdown = df['drawdown'].idxmax()\n",
    "#     df_sub = df[df.index<=end_max_drawdown]\n",
    "#     start_max_drawdown = df_sub[df_sub['drawdown']==0].index[-1]\n",
    "#     end_max_drawdown = datetime.datetime.strptime(end_max_drawdown,'%Y-%m-%d')\n",
    "#     start_max_drawdown = datetime.datetime.strptime(start_max_drawdown,'%Y-%m-%d')\n",
    "#     max_drawdown_day = (end_max_drawdown - start_max_drawdown).days\n",
    "    # 累计收益回撤比\n",
    "    cum_return_drawdown_ratio = cum_return/max_drawdown\n",
    "    # 年化收益率平均\n",
    "    mean_return = df['return'].mean()*252\n",
    "    # 年化收益率波动\n",
    "    vol_return = df['return'].std()*np.sqrt(252)\n",
    "    # 夏普比率\n",
    "#     sharpe_ratio = (mean_return-rf)/vol_return\n",
    "\n",
    "    output_dict = {'cum_return':[cum_return],\n",
    "                   'max_drawdown':[max_drawdown],\n",
    "                   'cum_return_drawdown_ratio':[cum_return_drawdown_ratio],\n",
    "                   'mean_return':[mean_return],\n",
    "                   'vol_return':[vol_return],\n",
    "                  }\n",
    "    output_df = pd.DataFrame(output_dict,index=[HowRank+str(RankN)]).T\n",
    "    return output_df, df"
   ]
  },
  {
   "cell_type": "code",
   "execution_count": null,
   "metadata": {},
   "outputs": [],
   "source": [
    "'''\n",
    "回测调参\n",
    "'''"
   ]
  },
  {
   "cell_type": "code",
   "execution_count": 218,
   "metadata": {},
   "outputs": [
    {
     "name": "stdout",
     "output_type": "stream",
     "text": [
      "Strategy\n",
      "                             偏离度排名1\n",
      "cum_return                 2.988275\n",
      "max_drawdown               0.494725\n",
      "cum_return_drawdown_ratio  6.040275\n",
      "mean_return                0.302410\n",
      "vol_return                 0.337308\n",
      "Strategy\n",
      "                             偏离度排名2\n",
      "cum_return                 2.265958\n",
      "max_drawdown               0.460300\n",
      "cum_return_drawdown_ratio  4.922784\n",
      "mean_return                0.256069\n",
      "vol_return                 0.302789\n",
      "Strategy\n",
      "                              绝对排名1\n",
      "cum_return                 2.079969\n",
      "max_drawdown               0.494725\n",
      "cum_return_drawdown_ratio  4.204292\n",
      "mean_return                0.259995\n",
      "vol_return                 0.347527\n",
      "Strategy\n",
      "                              绝对排名2\n",
      "cum_return                 1.179183\n",
      "max_drawdown               0.497482\n",
      "cum_return_drawdown_ratio  2.370301\n",
      "mean_return                0.182635\n",
      "vol_return                 0.297344\n"
     ]
    }
   ],
   "source": [
    "## 回测 - 调参\n",
    "\n",
    "for HowRank in ['偏离度排名','绝对排名']:\n",
    "    for RankN in [1,2]:\n",
    "        # 初始化指标\n",
    "        tol_equity = 1\n",
    "        HowRank = HowRank\n",
    "        RankN = RankN\n",
    "        equity_df = pd.DataFrame([1],columns=['equity_series'],index=[StrategyDateList[0]])\n",
    "        # 月末循环执行策略，最后一个月不执行策略\n",
    "        for cnt in range(len(StrategyDateList)-1):\n",
    "\n",
    "            # 获取关键日期\n",
    "            strategy_date = StrategyDateList[cnt]\n",
    "            next_strategy_date = StrategyDateList[cnt+1]\n",
    "\n",
    "            # 读取数据 - 历史策略用数据+未来一个月收益率计算数据\n",
    "            # 历史策略用数据\n",
    "            history_data = AllDataForBackTest[AllDataForBackTest['trade_date'] == strategy_date]\n",
    "\n",
    "            # 读取数据 - 未来一个月收益率计算数据 \n",
    "            future_data_for_return = FinDataDf[(FinDataDf['date']<=next_strategy_date) & (FinDataDf['date']>=strategy_date)]\n",
    "\n",
    "            # 运行策略\n",
    "            expected_weight_df = Strategy(history_data, HowRank, RankN)\n",
    "\n",
    "            # 结算策略，更新净值\n",
    "            clear_df, tol_equity = Clear(future_data_for_return,tol_equity,expected_weight_df)\n",
    "\n",
    "            # 输出净值序列\n",
    "            equity_df = pd.concat([equity_df,clear_df],axis=0)\n",
    "\n",
    "        backtest = Indicator(equity_df)\n",
    "        # 策略结果\n",
    "        print('Strategy')\n",
    "        print(backtest[0])"
   ]
  },
  {
   "cell_type": "code",
   "execution_count": 221,
   "metadata": {},
   "outputs": [
    {
     "name": "stdout",
     "output_type": "stream",
     "text": [
      "Index\n",
      "                              绝对排名2\n",
      "cum_return                 0.872944\n",
      "max_drawdown               0.436689\n",
      "cum_return_drawdown_ratio  1.999007\n",
      "mean_return                0.145751\n",
      "vol_return                 0.261278\n",
      "\n",
      "Fund\n",
      "                              绝对排名2\n",
      "cum_return                 1.461078\n",
      "max_drawdown               0.448810\n",
      "cum_return_drawdown_ratio  3.255452\n",
      "mean_return                0.194116\n",
      "vol_return                 0.258868\n"
     ]
    }
   ],
   "source": [
    "# 中证金融地产指数\n",
    "BenchmarkIndexSubEquity = BenchmarkIndexSub.rename(columns={'close':'equity_series'}).set_index('date')[['equity_series']]\n",
    "BenchmarkIndexSubEquityFirst = BenchmarkIndexSubEquity['equity_series'].tolist()[0]\n",
    "BenchmarkIndexSubEquity['equity_series'] = BenchmarkIndexSubEquity['equity_series'].apply(lambda x: x/BenchmarkIndexSubEquityFirst)\n",
    "print('Index')\n",
    "print(Indicator(BenchmarkIndexSubEquity)[0])\n",
    "# 工银瑞信金融地产基金\n",
    "BenchmarkFundSubEquity = BenchmarkFundSub.rename(columns={'close':'equity_series'}).set_index('date')[['equity_series']]\n",
    "BenchmarkFundSubEquityFirst = BenchmarkFundSubEquity['equity_series'].tolist()[0]\n",
    "BenchmarkFundSubEquity['equity_series'] = BenchmarkFundSubEquity['equity_series'].apply(lambda x: x/BenchmarkFundSubEquityFirst)\n",
    "print('\\nFund')\n",
    "print(Indicator(BenchmarkFundSubEquity)[0])"
   ]
  },
  {
   "cell_type": "code",
   "execution_count": null,
   "metadata": {},
   "outputs": [],
   "source": [
    "'''\n",
    "最优结果输出\n",
    "'''"
   ]
  },
  {
   "cell_type": "code",
   "execution_count": 223,
   "metadata": {},
   "outputs": [
    {
     "name": "stdout",
     "output_type": "stream",
     "text": [
      "Strategy\n",
      "                             偏离度排名1\n",
      "cum_return                 2.988275\n",
      "max_drawdown               0.494725\n",
      "cum_return_drawdown_ratio  6.040275\n",
      "mean_return                0.302410\n",
      "vol_return                 0.337308\n"
     ]
    }
   ],
   "source": [
    "## 回测 - 最优结果\n",
    "\n",
    "\n",
    "# 初始化指标\n",
    "tol_equity = 1\n",
    "HowRank = '偏离度排名'\n",
    "RankN = 1\n",
    "equity_df = pd.DataFrame([1],columns=['equity_series'],index=[StrategyDateList[0]])\n",
    "# 月末循环执行策略，最后一个月不执行策略\n",
    "for cnt in range(len(StrategyDateList)-1):\n",
    "\n",
    "    # 获取关键日期\n",
    "    strategy_date = StrategyDateList[cnt]\n",
    "    next_strategy_date = StrategyDateList[cnt+1]\n",
    "\n",
    "    # 读取数据 - 历史策略用数据+未来一个月收益率计算数据\n",
    "    # 历史策略用数据\n",
    "    history_data = AllDataForBackTest[AllDataForBackTest['trade_date'] == strategy_date]\n",
    "\n",
    "    # 读取数据 - 未来一个月收益率计算数据 \n",
    "    future_data_for_return = FinDataDf[(FinDataDf['date']<=next_strategy_date) & (FinDataDf['date']>=strategy_date)]\n",
    "\n",
    "    # 运行策略\n",
    "    expected_weight_df = Strategy(history_data, HowRank, RankN)\n",
    "\n",
    "    # 结算策略，更新净值\n",
    "    clear_df, tol_equity = Clear(future_data_for_return,tol_equity,expected_weight_df)\n",
    "\n",
    "    # 输出净值序列\n",
    "    equity_df = pd.concat([equity_df,clear_df],axis=0)\n",
    "\n",
    "backtest = Indicator(equity_df)\n",
    "# 策略结果\n",
    "print('Strategy')\n",
    "print(backtest[0])"
   ]
  },
  {
   "cell_type": "code",
   "execution_count": 224,
   "metadata": {
    "scrolled": false
   },
   "outputs": [
    {
     "data": {
      "text/plain": [
       "<matplotlib.legend.Legend at 0x2435f2c19b0>"
      ]
     },
     "execution_count": 224,
     "metadata": {},
     "output_type": "execute_result"
    },
    {
     "data": {
      "image/png": "[encoded data removed]",
      "text/plain": [
       "<Figure size 1080x648 with 1 Axes>"
      ]
     },
     "metadata": {},
     "output_type": "display_data"
    }
   ],
   "source": [
    "plt.figure(figsize=(15,9))\n",
    "plt.plot(backtest[1][['equity_series']],label='Strategy')\n",
    "plt.plot(BenchmarkFundSubEquity[['equity_series']],label='Fund')\n",
    "plt.plot(BenchmarkIndexSubEquity[['equity_series']],label='Index')\n",
    "plt.legend(loc=0)"
   ]
  },
  {
   "cell_type": "code",
   "execution_count": null,
   "metadata": {},
   "outputs": [],
   "source": []
  }
 ],
 "metadata": {
  "kernelspec": {
   "display_name": "Python 3",
   "language": "python",
   "name": "python3"
  },
  "language_info": {
   "codemirror_mode": {
    "name": "ipython",
    "version": 3
   },
   "file_extension": ".py",
   "mimetype": "text/x-python",
   "name": "python",
   "nbconvert_exporter": "python",
   "pygments_lexer": "ipython3",
   "version": "3.6.5"
  }
 },
 "nbformat": 4,
 "nbformat_minor": 2
}
