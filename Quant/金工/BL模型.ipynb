{
 "cells": [
  {
   "cell_type": "code",
   "execution_count": 449,
   "metadata": {},
   "outputs": [],
   "source": [
    "import pandas as pd\n",
    "import jqdatasdk as jq\n",
    "import datetime\n",
    "from joblib import Parallel, delayed\n",
    "import multiprocessing\n",
    "import statsmodels.api as sm\n",
    "import numpy as np\n",
    "import matplotlib.pyplot as plt\n",
    "import scipy.optimize as sco\n",
    "import numpy.linalg as lg\n",
    "from pylab import mpl\n",
    "mpl.rcParams['font.sans-serif'] = ['SimHei'] #SimHei是黑体的意思"
   ]
  },
  {
   "cell_type": "code",
   "execution_count": null,
   "metadata": {},
   "outputs": [],
   "source": [
    "'''\n",
    "全样本 - BL模型实现\n",
    "\n",
    "N 可选资产数量\n",
    "T 样本时间长度（观测数）\n",
    "K 观点数 - 随意做的，没有分析师观点，基于换手率和pb（rolling2次）计算四个观点，对应收益率随意设定\n",
    "'''"
   ]
  },
  {
   "cell_type": "code",
   "execution_count": 2,
   "metadata": {},
   "outputs": [],
   "source": [
    "## 全数据 - 面板数据堆叠形式\n",
    "ind_trade_value = pd.read_csv('C:/Users/jxjsj/Desktop/JupyterHome/Data/industry.csv')"
   ]
  },
  {
   "cell_type": "code",
   "execution_count": 101,
   "metadata": {},
   "outputs": [],
   "source": [
    "## 收益率部分\n",
    "return_data = ind_trade_value.pivot_table(index='date',columns='code',values='close').fillna(method='ffill').dropna()\n",
    "return_data.index = pd.DatetimeIndex(return_data.index.tolist())\n",
    "return_mat = return_data.pct_change().dropna()"
   ]
  },
  {
   "cell_type": "code",
   "execution_count": 431,
   "metadata": {},
   "outputs": [],
   "source": [
    "## 资产顺序\n",
    "code_list = return_mat.columns.tolist()"
   ]
  },
  {
   "cell_type": "code",
   "execution_count": 102,
   "metadata": {},
   "outputs": [],
   "source": [
    "## 以收益率序列日期作为所用样本期间\n",
    "start_day = return_mat.index.tolist()[0].strftime('%Y-%m-%d')\n",
    "end_day = return_mat.index.tolist()[-1].strftime('%Y-%m-%d')\n",
    "ind_trade_value_sub = ind_trade_value[(ind_trade_value['date']>=start_day) & (ind_trade_value['date']<=end_day)]"
   ]
  },
  {
   "cell_type": "code",
   "execution_count": 103,
   "metadata": {},
   "outputs": [],
   "source": [
    "## 无风险收益率\n",
    "rf = 0.02"
   ]
  },
  {
   "cell_type": "code",
   "execution_count": 130,
   "metadata": {},
   "outputs": [],
   "source": [
    "## 协方差矩阵 NxN\n",
    "return_cov_mat = return_mat.cov()"
   ]
  },
  {
   "cell_type": "code",
   "execution_count": 105,
   "metadata": {},
   "outputs": [],
   "source": [
    "## 市值权重序列矩阵 TxN\n",
    "mcap_mat = ind_trade_value_sub.pivot_table(index='date',columns='code',values='circulating_market_cap').fillna(method='ffill')\n",
    "tolmcap_series = mcap_mat.sum(axis=1)\n",
    "for col in mcap_mat.columns:\n",
    "    mcap_mat[col] = mcap_mat[col]/tolmcap_series"
   ]
  },
  {
   "cell_type": "code",
   "execution_count": 432,
   "metadata": {},
   "outputs": [],
   "source": [
    "## 均衡市场权重Wm Nx1\n",
    "Weight_M = mcap_mat.mean().T.to_frame('Weight_M')\n",
    "Weight_M = Weight_M/Weight_M.sum()\n",
    "Weight_M = np.array(Weight_M)"
   ]
  },
  {
   "cell_type": "code",
   "execution_count": 112,
   "metadata": {},
   "outputs": [],
   "source": [
    "## N\n",
    "N = len(Weight_M)"
   ]
  },
  {
   "cell_type": "code",
   "execution_count": 108,
   "metadata": {},
   "outputs": [],
   "source": [
    "## 全行业，即市场，收益率序列（各行业每日市值加权） Tx1\n",
    "MKT_return_series = (return_mat*mcap_mat).sum(axis=1).to_frame('MKT')"
   ]
  },
  {
   "cell_type": "code",
   "execution_count": 140,
   "metadata": {},
   "outputs": [],
   "source": [
    "## 风险厌恶系数sigma\n",
    "sigma = float((np.mean(MKT_return_series)*252-rf)/(np.var(MKT_return_series)*252))"
   ]
  },
  {
   "cell_type": "code",
   "execution_count": 53,
   "metadata": {},
   "outputs": [],
   "source": [
    "## 比例关系常数 n/m 投资者观察到的资产数量/市场中观察到的资产数量 - 0.01~0.05\n",
    "te = 0.02"
   ]
  },
  {
   "cell_type": "code",
   "execution_count": 115,
   "metadata": {},
   "outputs": [],
   "source": [
    "## 隐含均衡收益率 - MK效用函数最大化无约束求解，权重给定为市场均衡权重，求解最优收益率\n",
    "PI = sigma*np.dot(return_cov_mat,Weight_M)*252"
   ]
  },
  {
   "cell_type": "code",
   "execution_count": 204,
   "metadata": {},
   "outputs": [],
   "source": [
    "## 投资者观点矩阵 KxN\n",
    "## 观点1 - 历史长期平均换手率，越低越看好\n",
    "turnover_matL = ind_trade_value_sub.pivot_table(index='date',columns='code',values='turnover_ratio').fillna(method='ffill')/100\n",
    "turnover_matL = 1/turnover_matL.rolling(252).mean().iloc[-1,]\n",
    "turnover_matL = (turnover_matL/turnover_matL.sum()).to_frame('turnoverL')\n",
    "## 观点2 - 历史短期平均换手率，越低越看好\n",
    "turnover_matS = ind_trade_value_sub.pivot_table(index='date',columns='code',values='turnover_ratio').fillna(method='ffill')/100\n",
    "turnover_matS = 1/turnover_matS.rolling(126).mean().iloc[-1,]\n",
    "turnover_matS = (turnover_matS/turnover_matS.sum()).to_frame('turnoverS')\n",
    "## 观点3 - 历史长期平均市净率，越低越看好\n",
    "pb_matL = ind_trade_value_sub.pivot_table(index='date',columns='code',values='pb').fillna(method='ffill')/100\n",
    "pb_matL = 1/pb_matL.rolling(252).mean().iloc[-1,]\n",
    "pb_matL = (pb_matL/pb_matL.sum()).to_frame('pbL')\n",
    "## 观点4 - 历史短期平均市净率，越低越看好\n",
    "pb_matS = ind_trade_value_sub.pivot_table(index='date',columns='code',values='pb').fillna(method='ffill')/100\n",
    "pb_matS = 1/pb_matS.rolling(126).mean().iloc[-1,]\n",
    "pb_matS = (pb_matS/pb_matS.sum()).to_frame('pbS')\n",
    "\n",
    "P = pd.concat([turnover_matL,turnover_matS,pb_matL,pb_matS],axis=1).T"
   ]
  },
  {
   "cell_type": "code",
   "execution_count": 205,
   "metadata": {},
   "outputs": [],
   "source": [
    "## 观点对应收益率预测矩阵 Kx1\n",
    "Q = np.array([[0.1],[0.08],[0.07],[0.05]])"
   ]
  },
  {
   "cell_type": "code",
   "execution_count": 166,
   "metadata": {},
   "outputs": [],
   "source": [
    "## K\n",
    "K = len(Q)"
   ]
  },
  {
   "cell_type": "code",
   "execution_count": 399,
   "metadata": {
    "scrolled": true
   },
   "outputs": [],
   "source": [
    "## 观点置信度对角矩阵估计 - 分析矩阵结构，其中许多矩阵其实为标量；置信度插值系数C对每个观点为Nx1\n",
    "omegaj_mat = []\n",
    "\n",
    "for j in range(K):\n",
    "    Pj = np.array(P)[j]\n",
    "    Pj_T = Pj.reshape(len(Pj),-1)\n",
    "    Qj = Q[j]\n",
    "    mat0 = te*np.dot(return_cov_mat,Pj_T)\n",
    "    mat1 = 1/np.dot(Pj,te*np.dot(return_cov_mat,Pj.T))\n",
    "    mat2 = Qj-np.dot(Pj,PI)\n",
    "    uj = PI+mat0*mat1*mat2\n",
    "    mat3 = lg.inv(sigma*return_cov_mat*252)\n",
    "    wj = np.dot(mat3,uj)\n",
    "    wj_ = Weight_M+(wj-Weight_M)*0.95\n",
    "    \n",
    "    def square_sum_wj(omegaj):\n",
    "        mat0 = lg.inv(sigma*return_cov_mat*252)\n",
    "        mat1 = np.dot(Pj_T,Pj.reshape(1,len(Pj)))*(1/omegaj)\n",
    "        mat2 = np.dot(Pj_T,Qj)*(1/omegaj)\n",
    "        mat2 = mat2.reshape(len(mat2),-1)\n",
    "\n",
    "        mat3 = lg.inv(mat0 + mat1)\n",
    "        mat4 = np.dot(mat0,PI) + mat2\n",
    "\n",
    "        wjj = np.dot(mat0,np.dot(mat3,mat4))\n",
    "\n",
    "        return np.dot((wj_ - wjj).T,(wj_ - wjj))\n",
    "    \n",
    "    \n",
    "    bnds = [(0.00000001,np.inf)]\n",
    "    omigaj = sco.minimize(square_sum_wj, 0.1, bounds = bnds,method = 'SLSQP')['x']\n",
    "    \n",
    "    omegaj_mat.append(omigaj[0])\n",
    "OMEGA = np.diag(omigaj_mat)"
   ]
  },
  {
   "cell_type": "code",
   "execution_count": 376,
   "metadata": {},
   "outputs": [],
   "source": [
    "## 后验期望收益率\n",
    "mat0 = lg.inv(te*return_cov_mat*252)\n",
    "mat1 = np.dot(np.dot(P.T,lg.inv(OMEGA)),P)\n",
    "mat2 = np.dot(np.dot(P.T,lg.inv(OMEGA)),Q)\n",
    "E_R = np.dot(lg.inv(mat0+mat1),(np.dot(mat0,PI)+mat2))"
   ]
  },
  {
   "cell_type": "code",
   "execution_count": 415,
   "metadata": {},
   "outputs": [],
   "source": [
    "## BL权重求解\n",
    "def MVOunity(w):\n",
    "    return -(np.dot(w.T,E_R)-0.5*sigma*np.dot(np.dot(w.T,return_cov_mat*252),w))\n",
    "cons = ({'type':'eq','fun':lambda x: sum(x)-1})\n",
    "bonds = [(0.,np.inf) for i in range(N)]\n",
    "initial_w = N*[1./N,]\n",
    "BLweight = list(sco.minimize(MVOunity, initial_w, bounds = bonds, constraints = cons, method = 'SLSQP')['x'])"
   ]
  },
  {
   "cell_type": "code",
   "execution_count": null,
   "metadata": {},
   "outputs": [],
   "source": [
    "## 权重分配展示\n",
    "for i in BLweight"
   ]
  },
  {
   "cell_type": "code",
   "execution_count": 404,
   "metadata": {},
   "outputs": [],
   "source": [
    "## BL权重求解\n",
    "def MVOunity(w):\n",
    "    return -(np.dot(w.T,E_R)-0.5*sigma*np.dot(np.dot(w.T,return_cov_mat*252),w))\n",
    "cons = ({'type':'eq','fun':lambda x: sum(x)-1})\n",
    "\n",
    "initial_w = N*[1./N,]\n",
    "BLweight = sco.minimize(MVOunity, initial_w, constraints = cons, method = 'SLSQP')['x']"
   ]
  },
  {
   "cell_type": "code",
   "execution_count": 439,
   "metadata": {},
   "outputs": [],
   "source": [
    "code_name = ind_trade_value_sub[['name','code']].drop_duplicates(subset=None, keep='first', inplace=False)\n",
    "BLweiht_name = pd.DataFrame({'BLweight':BLweight,'code':code_list})\n",
    "BLweiht_name_code = BLweiht_name.merge(code_name,on=['code'])"
   ]
  },
  {
   "cell_type": "code",
   "execution_count": null,
   "metadata": {},
   "outputs": [],
   "source": [
    "'''\n",
    "结果展示，依然很不均衡\n",
    "'''"
   ]
  },
  {
   "cell_type": "code",
   "execution_count": 457,
   "metadata": {},
   "outputs": [
    {
     "data": {
      "image/png": "[encoded data removed]",
      "text/plain": [
       "<Figure size 1584x576 with 1 Axes>"
      ]
     },
     "metadata": {},
     "output_type": "display_data"
    }
   ],
   "source": [
    "from matplotlib.font_manager import FontProperties\n",
    "plt.figure(figsize=(22, 8))\n",
    "plt.bar(x=BLweiht_name_code['name'],height=BLweiht_name_code['BLweight'])\n",
    "plt.ylabel('BL权重')\n",
    "plt.xlabel('行业')\n",
    "plt.title('BL模型结果')\n",
    "plt.show()"
   ]
  }
 ],
 "metadata": {
  "kernelspec": {
   "display_name": "Python 3",
   "language": "python",
   "name": "python3"
  },
  "language_info": {
   "codemirror_mode": {
    "name": "ipython",
    "version": 3
   },
   "file_extension": ".py",
   "mimetype": "text/x-python",
   "name": "python",
   "nbconvert_exporter": "python",
   "pygments_lexer": "ipython3",
   "version": "3.6.5"
  }
 },
 "nbformat": 4,
 "nbformat_minor": 2
}
