{
 "cells": [
  {
   "cell_type": "code",
   "execution_count": 1,
   "metadata": {},
   "outputs": [],
   "source": [
    "import pandas as pd\n",
    "import re"
   ]
  },
  {
   "cell_type": "code",
   "execution_count": 2,
   "metadata": {
    "scrolled": true
   },
   "outputs": [],
   "source": [
    "alletf = pd.read_csv('C:/Users/jxjsj/Desktop/alletf.csv')\n",
    "alletf['Asset Class'] = alletf['Asset Class'].apply(lambda x: 'Other' if x in ['Alternatives', 'Multi-Asset', 'Real Estate', 'Volatility'] else x)"
   ]
  },
  {
   "cell_type": "code",
   "execution_count": 3,
   "metadata": {},
   "outputs": [],
   "source": [
    "# 提取杠杆与反向ETF\n",
    "Letf = alletf[(alletf.Leveraged != 'No') & (alletf.Inverse == 'No')].rename(columns={'Total Assets ':'Total Assets'})\n",
    "Letf['Total Assets'] = Letf['Total Assets'].apply(lambda x: float(x[1:].replace(',','')))\n",
    "\n",
    "Ietf = alletf[alletf.Inverse != 'No'].rename(columns={'Total Assets ':'Total Assets'})\n",
    "Ietf['Total Assets'] = Ietf['Total Assets'].apply(lambda x: float(x[1:].replace(',','')))\n",
    "Ietf['Leveraged'] = Ietf['Leveraged'].apply(lambda x: '-1x' if x == ';No' else '-'+x)"
   ]
  },
  {
   "cell_type": "code",
   "execution_count": 4,
   "metadata": {},
   "outputs": [],
   "source": [
    "LandIetf = pd.concat([Letf,Ietf],axis=0)"
   ]
  },
  {
   "cell_type": "code",
   "execution_count": 5,
   "metadata": {},
   "outputs": [],
   "source": [
    "tolSizeOfLandI = LandIetf['Total Assets'].sum()\n",
    "tolCountOfLandI = LandIetf['Total Assets'].count()"
   ]
  },
  {
   "cell_type": "code",
   "execution_count": 63,
   "metadata": {},
   "outputs": [
    {
     "name": "stdout",
     "output_type": "stream",
     "text": [
      "150 124 2291\n"
     ]
    }
   ],
   "source": [
    "print(len(Letf),len(Ietf),len(alletf))"
   ]
  },
  {
   "cell_type": "code",
   "execution_count": 62,
   "metadata": {},
   "outputs": [
    {
     "name": "stdout",
     "output_type": "stream",
     "text": [
      "['No']\n",
      "['3x' '2x' '1.5x' '1.25x' '4x']\n",
      "['Yes']\n",
      "['No' '2x' '3x' '0.5x']\n"
     ]
    }
   ],
   "source": [
    "print(Letf.Inverse.unique())\n",
    "print(Letf.Leveraged.unique())\n",
    "\n",
    "print(Ietf.Inverse.unique())\n",
    "print(Ietf.Leveraged.unique())"
   ]
  },
  {
   "cell_type": "code",
   "execution_count": 6,
   "metadata": {},
   "outputs": [],
   "source": [
    "# 储存器\n",
    "save_dict = {}"
   ]
  },
  {
   "cell_type": "code",
   "execution_count": null,
   "metadata": {},
   "outputs": [],
   "source": [
    "'''\n",
    "杠杆\n",
    "'''"
   ]
  },
  {
   "cell_type": "code",
   "execution_count": 7,
   "metadata": {},
   "outputs": [],
   "source": [
    "for groupkind in [['Leveraged'],['Leveraged','Asset Class'],['Asset Class']]:\n",
    "    d1=Letf.groupby(groupkind).count()[['Symbol']].reset_index().rename(columns={'Symbol':'Count'})\n",
    "    d2=Letf.groupby(groupkind).sum()[['Total Assets']].reset_index().rename(columns={'Total Assets':'TolSize'})\n",
    "    d3=Letf.groupby(groupkind).mean()[['Total Assets']].reset_index().rename(columns={'Total Assets':'AvgSize'})\n",
    "    d=d1.merge(d2,on=groupkind)\n",
    "    d=d.merge(d3,on=groupkind)\n",
    "    d['TolSizeRatio']=d['TolSize']/tolSizeOfLandI\n",
    "    d['TolCountRatio']=d['Count']/tolCountOfLandI\n",
    "    name=''.join(groupkind)\n",
    "    save_dict['L'+name] = d\n",
    "#     d.to_csv('C:/Users/jxjsj/Desktop/东吴金工研报/ETFusData/L'+name+'.csv',index=False)"
   ]
  },
  {
   "cell_type": "code",
   "execution_count": null,
   "metadata": {},
   "outputs": [],
   "source": [
    "'''\n",
    "反向\n",
    "'''"
   ]
  },
  {
   "cell_type": "code",
   "execution_count": 8,
   "metadata": {},
   "outputs": [],
   "source": [
    "for groupkind in [['Leveraged'],['Leveraged','Asset Class'],['Asset Class']]:\n",
    "    d1=Ietf.groupby(groupkind).count()[['Symbol']].reset_index().rename(columns={'Symbol':'Count'})\n",
    "    d2=Ietf.groupby(groupkind).sum()[['Total Assets']].reset_index().rename(columns={'Total Assets':'TolSize'})\n",
    "    d3=Ietf.groupby(groupkind).mean()[['Total Assets']].reset_index().rename(columns={'Total Assets':'AvgSize'})\n",
    "    d=d1.merge(d2,on=groupkind)\n",
    "    d=d.merge(d3,on=groupkind)\n",
    "    d['TolSizeRatio']=d['TolSize']/tolSizeOfLandI\n",
    "    d['TolCountRatio']=d['Count']/tolCountOfLandI\n",
    "    name=''.join(groupkind)\n",
    "    save_dict['I'+name] = d\n",
    "#     d.to_csv('C:/Users/jxjsj/Desktop/东吴金工研报/ETFusData/I'+name+'.csv',index=False)"
   ]
  },
  {
   "cell_type": "code",
   "execution_count": null,
   "metadata": {},
   "outputs": [],
   "source": [
    "'''\n",
    "杠杆和反向\n",
    "'''"
   ]
  },
  {
   "cell_type": "code",
   "execution_count": 9,
   "metadata": {},
   "outputs": [],
   "source": [
    "d1=LandIetf.groupby(groupkind).count()[['Symbol']].reset_index().rename(columns={'Symbol':'Count'})\n",
    "d2=LandIetf.groupby(groupkind).sum()[['Total Assets']].reset_index().rename(columns={'Total Assets':'TolSize'})\n",
    "d3=LandIetf.groupby(groupkind).mean()[['Total Assets']].reset_index().rename(columns={'Total Assets':'AvgSize'})\n",
    "d=d1.merge(d2,on=groupkind)\n",
    "d=d.merge(d3,on=groupkind)\n",
    "d['TolSizeRatio']=d['TolSize']/tolSizeOfLandI\n",
    "d['TolCountRatio']=d['Count']/tolCountOfLandI\n",
    "name=''.join(groupkind)\n",
    "save_dict['LandI'+name] = d\n",
    "# d.to_csv('C:/Users/jxjsj/Desktop/东吴金工研报/ETFusData/LandI'+name+'.csv',index=False)"
   ]
  },
  {
   "cell_type": "code",
   "execution_count": null,
   "metadata": {},
   "outputs": [],
   "source": [
    "'''\n",
    "杠/反总规模\n",
    "'''"
   ]
  },
  {
   "cell_type": "code",
   "execution_count": 10,
   "metadata": {},
   "outputs": [
    {
     "data": {
      "text/plain": [
       "Total Assets    3.72048e+10\n",
       "dtype: object"
      ]
     },
     "execution_count": 10,
     "metadata": {},
     "output_type": "execute_result"
    }
   ],
   "source": [
    "Letf.sum()[['Total Assets']]"
   ]
  },
  {
   "cell_type": "code",
   "execution_count": 11,
   "metadata": {},
   "outputs": [
    {
     "data": {
      "text/plain": [
       "Total Assets    1.2122e+10\n",
       "dtype: object"
      ]
     },
     "execution_count": 11,
     "metadata": {},
     "output_type": "execute_result"
    }
   ],
   "source": [
    "Ietf.sum()[['Total Assets']]"
   ]
  },
  {
   "cell_type": "code",
   "execution_count": 12,
   "metadata": {},
   "outputs": [
    {
     "data": {
      "text/plain": [
       "Total Assets    4.93268e+10\n",
       "dtype: object"
      ]
     },
     "execution_count": 12,
     "metadata": {},
     "output_type": "execute_result"
    }
   ],
   "source": [
    "LandIetf.sum()[['Total Assets']]"
   ]
  },
  {
   "cell_type": "code",
   "execution_count": null,
   "metadata": {},
   "outputs": [],
   "source": [
    "'''\n",
    "输出\n",
    "'''"
   ]
  },
  {
   "cell_type": "code",
   "execution_count": 13,
   "metadata": {},
   "outputs": [],
   "source": [
    "# 输入一个键值对为 sheet名-sheet内容（字符串，DataFrame）的字典输出一个excel\n",
    "def stock_to_excel(outputpath,df_dict):\n",
    "        \"\"\"\n",
    "        outputpath: str  输出路径，例如'c:/XXX/YYYYY/'\n",
    "        df_dict   : dict stock_inf_get函数得到的结果字典\n",
    "        \"\"\"\n",
    "        outputfile = outputpath + 'PlotData.xlsx'\n",
    "        writer = pd.ExcelWriter(outputfile)\n",
    "        for key, value in df_dict.items():\n",
    "            value.to_excel(writer,key,index=False)\n",
    "        writer.save()  "
   ]
  },
  {
   "cell_type": "code",
   "execution_count": 14,
   "metadata": {},
   "outputs": [],
   "source": [
    "stock_to_excel('C:/Users/jxjsj/Desktop/东吴金工研报/ETFusData/',save_dict)"
   ]
  },
  {
   "cell_type": "code",
   "execution_count": 37,
   "metadata": {},
   "outputs": [
    {
     "data": {
      "text/plain": [
       "Index(['Symbol', 'ETF Name', 'Asset Class', 'Total Assets ', 'YTD',\n",
       "       'Avg Volume', 'Previous Closing Price', '1-Day Change', 'Inverse',\n",
       "       'Leveraged', '1 Week', '4 Week', '1 year', '3 year', '5 year', 'YTD FF',\n",
       "       '1 Week FF', '4 Week FF', '1 Year FF', '3 Year FF', '5 Year FF',\n",
       "       'ETFdb.com Category', 'Inception', 'ER', 'Commission Free',\n",
       "       'Annual Dividend Rate', 'Dividend Date', 'Dividend',\n",
       "       'Annual Dividend Yield %', 'P/E Ratio', 'Beta', '# of Holdings',\n",
       "       '% In Top 10', 'ST Cap Gain Rate', 'LT Cap Gain Rate', 'Tax Form',\n",
       "       'Lower Bollinger', 'Upper Bollinger', 'Support 1', 'Resistance 1',\n",
       "       'RSI', 'Overall Rating', 'Liquidity Rating', 'Expenses Rating',\n",
       "       'Returns Rating', 'Volatility Rating', 'Dividend Rating',\n",
       "       'Concentration Rating', 'ESG Score', 'ESG Score Peer Percentile (%)',\n",
       "       'ESG Score Global Percentile (%)',\n",
       "       'Carbon Intensity (Tons of CO2e / $M Sales)',\n",
       "       'SRI Exclusion Criteria (%)', 'Sustainable Impact Solutions (%)'],\n",
       "      dtype='object')"
      ]
     },
     "execution_count": 37,
     "metadata": {},
     "output_type": "execute_result"
    }
   ],
   "source": [
    "Letf.columns"
   ]
  },
  {
   "cell_type": "code",
   "execution_count": null,
   "metadata": {},
   "outputs": [],
   "source": [
    "'''\n",
    "全ETF（US Listings）规模\n",
    "'''"
   ]
  },
  {
   "cell_type": "code",
   "execution_count": 86,
   "metadata": {},
   "outputs": [
    {
     "data": {
      "text/plain": [
       "3.883774553448"
      ]
     },
     "execution_count": 86,
     "metadata": {},
     "output_type": "execute_result"
    }
   ],
   "source": [
    "alletf.rename(columns={'Total Assets ':'Total Assets'})['Total Assets'].apply(lambda x: float(x[1:].replace(',',''))).sum()/10**12"
   ]
  },
  {
   "cell_type": "code",
   "execution_count": null,
   "metadata": {},
   "outputs": [],
   "source": []
  }
 ],
 "metadata": {
  "kernelspec": {
   "display_name": "Python 3",
   "language": "python",
   "name": "python3"
  },
  "language_info": {
   "codemirror_mode": {
    "name": "ipython",
    "version": 3
   },
   "file_extension": ".py",
   "mimetype": "text/x-python",
   "name": "python",
   "nbconvert_exporter": "python",
   "pygments_lexer": "ipython3",
   "version": "3.6.5"
  }
 },
 "nbformat": 4,
 "nbformat_minor": 2
}
