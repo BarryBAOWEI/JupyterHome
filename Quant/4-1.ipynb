{
 "cells": [
  {
   "cell_type": "code",
   "execution_count": 1,
   "metadata": {},
   "outputs": [
    {
     "name": "stderr",
     "output_type": "stream",
     "text": [
      "Usage: ipykernel_launcher.py [options]\n",
      "\n",
      "ipykernel_launcher.py: error: no such option: -f\n"
     ]
    },
    {
     "ename": "SystemExit",
     "evalue": "2",
     "output_type": "error",
     "traceback": [
      "An exception has occurred, use %tb to see the full traceback.\n",
      "\u001b[1;31mSystemExit\u001b[0m\u001b[1;31m:\u001b[0m 2\n"
     ]
    },
    {
     "name": "stderr",
     "output_type": "stream",
     "text": [
      "D:\\Anaconda3\\lib\\site-packages\\IPython\\core\\interactiveshell.py:2971: UserWarning: To exit: use 'exit', 'quit', or Ctrl-D.\n",
      "  warn(\"To exit: use 'exit', 'quit', or Ctrl-D.\", stacklevel=1)\n"
     ]
    }
   ],
   "source": [
    "# coding=utf-8\n",
    "from __future__ import print_function, absolute_import\n",
    "\n",
    "from gm.api import *\n",
    "\n",
    "\n",
    "def init(context):\n",
    "    # 每天14:50 定时执行algo任务\n",
    "    schedule(schedule_func=algo, date_rule='daily', time_rule='14:50:00')\n",
    "\n",
    "\n",
    "def algo(context):\n",
    "    # 购买200股浦发银行股票\n",
    "    order_volume(symbol='SHSE.600000', volume=200, side=1,\n",
    "                 order_type=2, position_effect=1, price=0)\n",
    "\n",
    "\n",
    "# 查看最终的回测结果\n",
    "def on_backtest_finished(context, indicator):\n",
    "    print(indicator)\n",
    "\n",
    "\n",
    "if __name__ == '__main__':\n",
    "    run(strategy_id='36b05b5f-8fe6-11e8-a628-4cedfb681747',\n",
    "        filename='main.py',\n",
    "        mode=MODE_BACKTEST,\n",
    "        token='e8978d765c4822e5a85fcaa73e044065cf17b58b',\n",
    "        backtest_start_time='2016-06-17 13:00:00',\n",
    "        backtest_end_time='2017-08-21 15:00:00')"
   ]
  },
  {
   "cell_type": "code",
   "execution_count": null,
   "metadata": {},
   "outputs": [],
   "source": []
  }
 ],
 "metadata": {
  "kernelspec": {
   "display_name": "Python 3",
   "language": "python",
   "name": "python3"
  },
  "language_info": {
   "codemirror_mode": {
    "name": "ipython",
    "version": 3
   },
   "file_extension": ".py",
   "mimetype": "text/x-python",
   "name": "python",
   "nbconvert_exporter": "python",
   "pygments_lexer": "ipython3",
   "version": "3.6.5"
  }
 },
 "nbformat": 4,
 "nbformat_minor": 2
}
