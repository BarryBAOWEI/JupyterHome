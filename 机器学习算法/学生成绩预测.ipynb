{
 "cells": [
  {
   "cell_type": "code",
   "execution_count": 61,
   "metadata": {},
   "outputs": [],
   "source": [
    "import pandas as pd\n",
    "import numpy as np\n",
    "from sklearn import svm\n",
    "import sklearn\n",
    "from sklearn.model_selection import train_test_split\n",
    "from sklearn.feature_extraction import DictVectorizer\n",
    "from sklearn.metrics import classification_report\n",
    "from sklearn.neural_network import MLPClassifier\n",
    "from sklearn import tree"
   ]
  },
  {
   "cell_type": "code",
   "execution_count": 11,
   "metadata": {},
   "outputs": [],
   "source": [
    "X = pd.read_csv('C:/Users/jxjsj/Desktop/students_data.csv').iloc[:,list(range(16))]\n",
    "y = pd.read_csv('C:/Users/jxjsj/Desktop/students_data.csv')['Class']"
   ]
  },
  {
   "cell_type": "code",
   "execution_count": 13,
   "metadata": {
    "scrolled": false
   },
   "outputs": [
    {
     "name": "stderr",
     "output_type": "stream",
     "text": [
      "D:\\Anaconda3\\lib\\site-packages\\sklearn\\model_selection\\_split.py:2179: FutureWarning: From version 0.21, test_size will always complement train_size unless both are specified.\n",
      "  FutureWarning)\n"
     ]
    }
   ],
   "source": [
    "x_train, x_test, y_train, y_test = train_test_split(X, y, random_state=1, train_size=0.8)"
   ]
  },
  {
   "cell_type": "code",
   "execution_count": 16,
   "metadata": {
    "scrolled": true
   },
   "outputs": [
    {
     "data": {
      "text/plain": [
       "['AnnouncementsView',\n",
       " 'Discussion',\n",
       " 'GradeID=G-02',\n",
       " 'GradeID=G-04',\n",
       " 'GradeID=G-05',\n",
       " 'GradeID=G-06',\n",
       " 'GradeID=G-07',\n",
       " 'GradeID=G-08',\n",
       " 'GradeID=G-09',\n",
       " 'GradeID=G-10',\n",
       " 'GradeID=G-11',\n",
       " 'GradeID=G-12',\n",
       " 'NationalITy=Egypt',\n",
       " 'NationalITy=Iran',\n",
       " 'NationalITy=Iraq',\n",
       " 'NationalITy=Jordan',\n",
       " 'NationalITy=KW',\n",
       " 'NationalITy=Lybia',\n",
       " 'NationalITy=Morocco',\n",
       " 'NationalITy=Palestine',\n",
       " 'NationalITy=SaudiArabia',\n",
       " 'NationalITy=Syria',\n",
       " 'NationalITy=Tunis',\n",
       " 'NationalITy=USA',\n",
       " 'NationalITy=lebanon',\n",
       " 'ParentAnsweringSurvey=No',\n",
       " 'ParentAnsweringSurvey=Yes',\n",
       " 'ParentschoolSatisfaction=Bad',\n",
       " 'ParentschoolSatisfaction=Good',\n",
       " 'PlaceofBirth=Egypt',\n",
       " 'PlaceofBirth=Iran',\n",
       " 'PlaceofBirth=Iraq',\n",
       " 'PlaceofBirth=Jordan',\n",
       " 'PlaceofBirth=KuwaIT',\n",
       " 'PlaceofBirth=Lybia',\n",
       " 'PlaceofBirth=Morocco',\n",
       " 'PlaceofBirth=Palestine',\n",
       " 'PlaceofBirth=SaudiArabia',\n",
       " 'PlaceofBirth=Syria',\n",
       " 'PlaceofBirth=Tunis',\n",
       " 'PlaceofBirth=USA',\n",
       " 'PlaceofBirth=lebanon',\n",
       " 'Relation=Father',\n",
       " 'Relation=Mum',\n",
       " 'SectionID=A',\n",
       " 'SectionID=B',\n",
       " 'SectionID=C',\n",
       " 'Semester=F',\n",
       " 'Semester=S',\n",
       " 'StageID=HighSchool',\n",
       " 'StageID=MiddleSchool',\n",
       " 'StageID=lowerlevel',\n",
       " 'StudentAbsenceDays=Above-7',\n",
       " 'StudentAbsenceDays=Under-7',\n",
       " 'Topic=Arabic',\n",
       " 'Topic=Biology',\n",
       " 'Topic=Chemistry',\n",
       " 'Topic=English',\n",
       " 'Topic=French',\n",
       " 'Topic=Geology',\n",
       " 'Topic=History',\n",
       " 'Topic=IT',\n",
       " 'Topic=Math',\n",
       " 'Topic=Quran',\n",
       " 'Topic=Science',\n",
       " 'Topic=Spanish',\n",
       " 'VisITedResources',\n",
       " 'gender=F',\n",
       " 'gender=M',\n",
       " 'raisedhands']"
      ]
     },
     "execution_count": 16,
     "metadata": {},
     "output_type": "execute_result"
    }
   ],
   "source": [
    "# 属性变量编码 方法1 好用！！，方便变回原数据进行展示\n",
    "vec = DictVectorizer(sparse=False)\n",
    "x_train = vec.fit_transform(x_train.to_dict(orient='record'))   #对训练数据的特征进行提取\n",
    "x_test = vec.transform(x_test.to_dict(orient='record'))         #对测试数据的特征进行提取\n",
    "# y_train = vec.fit_transform(y_train.to_dict(orient='record'))   #对训练数据的特征进行提取\n",
    "# y_test = vec.transform(y_test.to_dict(orient='record'))         #对测试数据的特征进行提取\n",
    "vec.feature_names_"
   ]
  },
  {
   "cell_type": "code",
   "execution_count": 21,
   "metadata": {},
   "outputs": [],
   "source": [
    "# 一般地训练SVM以及混淆矩阵&错误率输出\n",
    "clf = svm.SVC(C=2, kernel='linear', decision_function_shape='ovr',class_weight = \"balanced\") # 线性核函数\n",
    "# clf = svm.SVC(C=2, kernel='rbf', gamma=20, decision_function_shape='ovr',class_weight = \"balanced\") # 高斯核函数"
   ]
  },
  {
   "cell_type": "code",
   "execution_count": 56,
   "metadata": {},
   "outputs": [],
   "source": [
    "clf = MLPClassifier(activation='relu', \n",
    "                    solver='lbfgs',\n",
    "                    alpha=1e-5,\n",
    "                    hidden_layer_sizes=(len(x_train[0])*2+1,),\n",
    "                   )"
   ]
  },
  {
   "cell_type": "code",
   "execution_count": 97,
   "metadata": {},
   "outputs": [],
   "source": [
    "clf = tree.DecisionTreeClassifier(class_weight = \"balanced\",max_depth = 9)"
   ]
  },
  {
   "cell_type": "code",
   "execution_count": 100,
   "metadata": {},
   "outputs": [
    {
     "name": "stdout",
     "output_type": "stream",
     "text": [
      "trainAccracy: 0.9635416666666666\n",
      "              precision    recall  f1-score   support\n",
      "\n",
      "           H       0.90      0.99      0.94       101\n",
      "           L       1.00      0.98      0.99       108\n",
      "           M       0.98      0.94      0.96       175\n",
      "\n",
      "   micro avg       0.96      0.96      0.96       384\n",
      "   macro avg       0.96      0.97      0.96       384\n",
      "weighted avg       0.97      0.96      0.96       384\n",
      "\n",
      "testAccracy: 0.8229166666666666\n",
      "              precision    recall  f1-score   support\n",
      "\n",
      "           H       0.92      0.88      0.90        41\n",
      "           L       0.73      0.84      0.78        19\n",
      "           M       0.77      0.75      0.76        36\n",
      "\n",
      "   micro avg       0.82      0.82      0.82        96\n",
      "   macro avg       0.81      0.82      0.81        96\n",
      "weighted avg       0.83      0.82      0.82        96\n",
      "\n"
     ]
    }
   ],
   "source": [
    "clf.fit(x_train,y_train)\n",
    "\n",
    "# 运用原非平衡样本-评估\n",
    "y_train_predict = clf.predict(x_train)\n",
    "y_test_predict = clf.predict(x_test)\n",
    "\n",
    "print('trainAccracy:',clf.score(x_train,y_train))\n",
    "print(classification_report(y_train,y_train_predict)) #真实数据在前 训练结果在后！\n",
    "print('testAccracy:',clf.score(x_test,y_test))\n",
    "print(classification_report(y_test,y_test_predict))"
   ]
  },
  {
   "cell_type": "code",
   "execution_count": null,
   "metadata": {},
   "outputs": [],
   "source": []
  }
 ],
 "metadata": {
  "kernelspec": {
   "display_name": "Python 3",
   "language": "python",
   "name": "python3"
  },
  "language_info": {
   "codemirror_mode": {
    "name": "ipython",
    "version": 3
   },
   "file_extension": ".py",
   "mimetype": "text/x-python",
   "name": "python",
   "nbconvert_exporter": "python",
   "pygments_lexer": "ipython3",
   "version": "3.6.5"
  }
 },
 "nbformat": 4,
 "nbformat_minor": 2
}
