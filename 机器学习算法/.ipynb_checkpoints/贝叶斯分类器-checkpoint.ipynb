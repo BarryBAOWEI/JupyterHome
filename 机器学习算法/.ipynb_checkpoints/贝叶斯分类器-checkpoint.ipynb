{
 "cells": [
  {
   "cell_type": "code",
   "execution_count": 36,
   "metadata": {},
   "outputs": [],
   "source": [
    "from sklearn.naive_bayes import GaussianNB,MultinomialNB,BernoulliNB\n",
    "import pandas as pd\n",
    "import numpy as np\n",
    "from sklearn.model_selection import train_test_split\n",
    "from sklearn.metrics import classification_report\n",
    "from imblearn.over_sampling import SMOTE"
   ]
  },
  {
   "cell_type": "code",
   "execution_count": 28,
   "metadata": {},
   "outputs": [],
   "source": [
    "def FeatureCode(df):\n",
    "    columns_names = df.columns.tolist()\n",
    "    for columns_name in columns_names:\n",
    "        features_lst = set(df[columns_name])\n",
    "        dct = {}\n",
    "        code = 1\n",
    "        for feature in features_lst:\n",
    "            dct[feature] = code\n",
    "            code += 1\n",
    "        df[columns_name] = df[columns_name].apply(lambda x: dct[x])"
   ]
  },
  {
   "cell_type": "code",
   "execution_count": 43,
   "metadata": {},
   "outputs": [],
   "source": [
    "# 读取数据carEvaluation数据集\n",
    "path = u'C:/Users/jxjsj/Desktop/JupyterHome/carEvaluation.txt'\n",
    "dataSet = pd.read_csv(path, header = None)\n",
    "x_temp, y_temp = np.split(dataSet, (6,), axis=1)"
   ]
  },
  {
   "cell_type": "code",
   "execution_count": 55,
   "metadata": {},
   "outputs": [
    {
     "name": "stdout",
     "output_type": "stream",
     "text": [
      "trainAccracy: 0.6623684210526316\n",
      "              precision    recall  f1-score   support\n",
      "\n",
      "         acc       0.73      0.31      0.44       950\n",
      "        good       0.79      0.63      0.70       950\n",
      "       unacc       0.92      0.71      0.80       950\n",
      "       vgood       0.50      1.00      0.67       950\n",
      "\n",
      "   micro avg       0.66      0.66      0.66      3800\n",
      "   macro avg       0.73      0.66      0.65      3800\n",
      "weighted avg       0.73      0.66      0.65      3800\n",
      "\n",
      "testAccracy: 0.6676300578034682\n",
      "              precision    recall  f1-score   support\n",
      "\n",
      "         acc       0.79      0.32      0.46        59\n",
      "        good       0.21      0.50      0.30        14\n",
      "       unacc       0.96      0.74      0.83       260\n",
      "       vgood       0.15      1.00      0.25        13\n",
      "\n",
      "   micro avg       0.67      0.67      0.67       346\n",
      "   macro avg       0.53      0.64      0.46       346\n",
      "weighted avg       0.87      0.67      0.73       346\n",
      "\n"
     ]
    },
    {
     "name": "stderr",
     "output_type": "stream",
     "text": [
      "D:\\Anaconda3\\lib\\site-packages\\sklearn\\model_selection\\_split.py:2069: FutureWarning: From version 0.21, test_size will always complement train_size unless both are specified.\n",
      "  FutureWarning)\n",
      "D:\\Anaconda3\\lib\\site-packages\\sklearn\\utils\\validation.py:752: DataConversionWarning: A column-vector y was passed when a 1d array was expected. Please change the shape of y to (n_samples, ), for example using ravel().\n",
      "  y = column_or_1d(y, warn=True)\n",
      "D:\\Anaconda3\\lib\\site-packages\\sklearn\\utils\\validation.py:752: DataConversionWarning: A column-vector y was passed when a 1d array was expected. Please change the shape of y to (n_samples, ), for example using ravel().\n",
      "  y = column_or_1d(y, warn=True)\n"
     ]
    }
   ],
   "source": [
    "######################################## SMOTE平衡数据 ########################################\n",
    "# 运用SMOTE改进的平衡样本\n",
    "FeatureCode(x_temp)\n",
    "\n",
    "x_train, x_test, y_train, y_test = train_test_split(x_temp, y_temp, random_state=1, train_size=0.8)\n",
    "\n",
    "over_samples = SMOTE(random_state=11)\n",
    "over_samples_x, over_samples_y = over_samples.fit_sample(x_train, y_train)\n",
    "\n",
    "carEvaluation = GaussianNB()\n",
    "carEvaluation.fit(over_samples_x, over_samples_y)\n",
    "\n",
    "y_train_predict = carEvaluation.predict(over_samples_x)\n",
    "y_test_predict = carEvaluation.predict(x_test)\n",
    "\n",
    "print('trainAccracy:',carEvaluation.score(over_samples_x,over_samples_y))\n",
    "print(classification_report(over_samples_y,y_train_predict)) #真实数据在前 训练结果在后！\n",
    "print('testAccracy:',carEvaluation.score(x_test,y_test))\n",
    "print(classification_report(y_test,y_test_predict))\n",
    "###############################################################################################"
   ]
  },
  {
   "cell_type": "code",
   "execution_count": 60,
   "metadata": {},
   "outputs": [
    {
     "name": "stdout",
     "output_type": "stream",
     "text": [
      "trainAccracy: 0.6874095513748191\n",
      "              precision    recall  f1-score   support\n",
      "\n",
      "         acc       0.00      0.00      0.00       325\n",
      "        good       0.00      0.00      0.00        55\n",
      "       unacc       0.69      1.00      0.81       950\n",
      "       vgood       0.00      0.00      0.00        52\n",
      "\n",
      "   micro avg       0.69      0.69      0.69      1382\n",
      "   macro avg       0.17      0.25      0.20      1382\n",
      "weighted avg       0.47      0.69      0.56      1382\n",
      "\n",
      "testAccracy: 0.7514450867052023\n",
      "              precision    recall  f1-score   support\n",
      "\n",
      "         acc       0.00      0.00      0.00        59\n",
      "        good       0.00      0.00      0.00        14\n",
      "       unacc       0.75      1.00      0.86       260\n",
      "       vgood       0.00      0.00      0.00        13\n",
      "\n",
      "   micro avg       0.75      0.75      0.75       346\n",
      "   macro avg       0.19      0.25      0.21       346\n",
      "weighted avg       0.56      0.75      0.64       346\n",
      "\n"
     ]
    },
    {
     "name": "stderr",
     "output_type": "stream",
     "text": [
      "D:\\Anaconda3\\lib\\site-packages\\sklearn\\model_selection\\_split.py:2069: FutureWarning: From version 0.21, test_size will always complement train_size unless both are specified.\n",
      "  FutureWarning)\n",
      "D:\\Anaconda3\\lib\\site-packages\\sklearn\\utils\\validation.py:752: DataConversionWarning: A column-vector y was passed when a 1d array was expected. Please change the shape of y to (n_samples, ), for example using ravel().\n",
      "  y = column_or_1d(y, warn=True)\n",
      "D:\\Anaconda3\\lib\\site-packages\\sklearn\\metrics\\classification.py:1143: UndefinedMetricWarning: Precision and F-score are ill-defined and being set to 0.0 in labels with no predicted samples.\n",
      "  'precision', 'predicted', average, warn_for)\n",
      "D:\\Anaconda3\\lib\\site-packages\\sklearn\\metrics\\classification.py:1143: UndefinedMetricWarning: Precision and F-score are ill-defined and being set to 0.0 in labels with no predicted samples.\n",
      "  'precision', 'predicted', average, warn_for)\n"
     ]
    }
   ],
   "source": [
    "######################################## 非平衡数据 ########################################\n",
    "FeatureCode(x_temp) #属性直接编号为1,2,3...\n",
    "x_train, x_test, y_train, y_test = train_test_split(x_temp, y_temp, random_state=1, train_size=0.8)\n",
    "\n",
    "carEvaluation = MultinomialNB()\n",
    "carEvaluation.fit(x_train, y_train)\n",
    "\n",
    "y_train_predict = carEvaluation.predict(x_train)\n",
    "y_test_predict = carEvaluation.predict(x_test)\n",
    "\n",
    "print('trainAccracy:',carEvaluation.score(x_train,y_train))\n",
    "print(classification_report(y_train,y_train_predict)) #真实数据在前 训练结果在后！\n",
    "print('testAccracy:',carEvaluation.score(x_test,y_test))\n",
    "print(classification_report(y_test,y_test_predict))\n",
    "############################################################################################"
   ]
  },
  {
   "cell_type": "code",
   "execution_count": 49,
   "metadata": {
    "scrolled": true
   },
   "outputs": [
    {
     "name": "stdout",
     "output_type": "stream",
     "text": [
      "trainAccracy: 0.95\n",
      "              precision    recall  f1-score   support\n",
      "\n",
      "           0       1.00      1.00      1.00        39\n",
      "           1       0.92      0.92      0.92        37\n",
      "           2       0.93      0.93      0.93        44\n",
      "\n",
      "   micro avg       0.95      0.95      0.95       120\n",
      "   macro avg       0.95      0.95      0.95       120\n",
      "weighted avg       0.95      0.95      0.95       120\n",
      "\n",
      "testAccracy: 0.9666666666666667\n",
      "              precision    recall  f1-score   support\n",
      "\n",
      "           0       1.00      1.00      1.00        11\n",
      "           1       1.00      0.92      0.96        13\n",
      "           2       0.86      1.00      0.92         6\n",
      "\n",
      "   micro avg       0.97      0.97      0.97        30\n",
      "   macro avg       0.95      0.97      0.96        30\n",
      "weighted avg       0.97      0.97      0.97        30\n",
      "\n"
     ]
    },
    {
     "name": "stderr",
     "output_type": "stream",
     "text": [
      "D:\\Anaconda3\\lib\\site-packages\\sklearn\\model_selection\\_split.py:2069: FutureWarning: From version 0.21, test_size will always complement train_size unless both are specified.\n",
      "  FutureWarning)\n"
     ]
    }
   ],
   "source": [
    "######################################## iris数据 ########################################\n",
    "from sklearn import datasets\n",
    "iris = datasets.load_iris()\n",
    "\n",
    "x_train, x_test, y_train, y_test = train_test_split(iris.data, iris.target, random_state=1, train_size=0.8)\n",
    "\n",
    "irisEvaluation = GaussianNB()\n",
    "irisEvaluation.fit(x_train, y_train)\n",
    "\n",
    "y_train_predict = irisEvaluation.predict(x_train)\n",
    "y_test_predict = irisEvaluation.predict(x_test)\n",
    "\n",
    "print('trainAccracy:',irisEvaluation.score(x_train,y_train))\n",
    "print(classification_report(y_train,y_train_predict)) #真实数据在前 训练结果在后！\n",
    "print('testAccracy:',irisEvaluation.score(x_test,y_test))\n",
    "print(classification_report(y_test,y_test_predict))\n",
    "##########################################################################################"
   ]
  },
  {
   "cell_type": "markdown",
   "metadata": {},
   "source": [
    "总结1 2018.11.14\n",
    "对于非平衡数据“车评估”，朴素贝叶斯分类器效果很差，对所有结果预测为某一数量最多的类别；运用smote构造平衡数据后，会出现各种预测结果，但准确度下降。\n",
    "对于平衡数据iris，数据为连续型，分类效果较好。"
   ]
  }
 ],
 "metadata": {
  "kernelspec": {
   "display_name": "Python 3",
   "language": "python",
   "name": "python3"
  },
  "language_info": {
   "codemirror_mode": {
    "name": "ipython",
    "version": 3
   },
   "file_extension": ".py",
   "mimetype": "text/x-python",
   "name": "python",
   "nbconvert_exporter": "python",
   "pygments_lexer": "ipython3",
   "version": "3.6.5"
  }
 },
 "nbformat": 4,
 "nbformat_minor": 2
}
