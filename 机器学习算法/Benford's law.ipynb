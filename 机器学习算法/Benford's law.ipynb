{
 "cells": [
  {
   "cell_type": "code",
   "execution_count": 2,
   "metadata": {},
   "outputs": [
    {
     "name": "stdout",
     "output_type": "stream",
     "text": [
      "auth success\n"
     ]
    }
   ],
   "source": [
    "import jqdatasdk as jq\n",
    "import pandas as pd\n",
    "jq.auth('13918852005','jxjslsc,.?2')"
   ]
  },
  {
   "cell_type": "code",
   "execution_count": 25,
   "metadata": {
    "scrolled": true
   },
   "outputs": [],
   "source": [
    "# jq.cash_flow,jq.balance\n",
    "q = jq.query(jq.income).filter(jq.income.code == '000001.XSHE')\n",
    "data = jq.get_fundamentals(q, statDate='2016')"
   ]
  },
  {
   "cell_type": "code",
   "execution_count": 26,
   "metadata": {},
   "outputs": [
    {
     "data": {
      "text/html": [
       "<div>\n",
       "<style scoped>\n",
       "    .dataframe tbody tr th:only-of-type {\n",
       "        vertical-align: middle;\n",
       "    }\n",
       "\n",
       "    .dataframe tbody tr th {\n",
       "        vertical-align: top;\n",
       "    }\n",
       "\n",
       "    .dataframe thead th {\n",
       "        text-align: right;\n",
       "    }\n",
       "</style>\n",
       "<table border=\"1\" class=\"dataframe\">\n",
       "  <thead>\n",
       "    <tr style=\"text-align: right;\">\n",
       "      <th></th>\n",
       "      <th>id</th>\n",
       "      <th>code</th>\n",
       "      <th>statDate</th>\n",
       "      <th>pubDate</th>\n",
       "      <th>statDate.1</th>\n",
       "      <th>total_operating_revenue</th>\n",
       "      <th>operating_revenue</th>\n",
       "      <th>interest_income</th>\n",
       "      <th>premiums_earned</th>\n",
       "      <th>commission_income</th>\n",
       "      <th>...</th>\n",
       "      <th>income_tax_expense</th>\n",
       "      <th>net_profit</th>\n",
       "      <th>np_parent_company_owners</th>\n",
       "      <th>minority_profit</th>\n",
       "      <th>basic_eps</th>\n",
       "      <th>diluted_eps</th>\n",
       "      <th>other_composite_income</th>\n",
       "      <th>total_composite_income</th>\n",
       "      <th>ci_parent_company_owners</th>\n",
       "      <th>ci_minority_owners</th>\n",
       "    </tr>\n",
       "  </thead>\n",
       "  <tbody>\n",
       "    <tr>\n",
       "      <th>0</th>\n",
       "      <td>49112</td>\n",
       "      <td>000001.XSHE</td>\n",
       "      <td>2016-12-31</td>\n",
       "      <td>2017-03-17</td>\n",
       "      <td>2016-12-31</td>\n",
       "      <td>1.077150e+11</td>\n",
       "      <td>1.077150e+11</td>\n",
       "      <td>1.311190e+11</td>\n",
       "      <td>NaN</td>\n",
       "      <td>3.130900e+10</td>\n",
       "      <td>...</td>\n",
       "      <td>7.336000e+09</td>\n",
       "      <td>2.259900e+10</td>\n",
       "      <td>2.259900e+10</td>\n",
       "      <td>NaN</td>\n",
       "      <td>1.32</td>\n",
       "      <td>1.32</td>\n",
       "      <td>308000000.0</td>\n",
       "      <td>2.290700e+10</td>\n",
       "      <td>NaN</td>\n",
       "      <td>NaN</td>\n",
       "    </tr>\n",
       "  </tbody>\n",
       "</table>\n",
       "<p>1 rows × 43 columns</p>\n",
       "</div>"
      ],
      "text/plain": [
       "      id         code    statDate     pubDate  statDate.1  \\\n",
       "0  49112  000001.XSHE  2016-12-31  2017-03-17  2016-12-31   \n",
       "\n",
       "   total_operating_revenue  operating_revenue  interest_income  \\\n",
       "0             1.077150e+11       1.077150e+11     1.311190e+11   \n",
       "\n",
       "   premiums_earned  commission_income         ...          income_tax_expense  \\\n",
       "0              NaN       3.130900e+10         ...                7.336000e+09   \n",
       "\n",
       "     net_profit  np_parent_company_owners  minority_profit  basic_eps  \\\n",
       "0  2.259900e+10              2.259900e+10              NaN       1.32   \n",
       "\n",
       "   diluted_eps  other_composite_income  total_composite_income  \\\n",
       "0         1.32             308000000.0            2.290700e+10   \n",
       "\n",
       "   ci_parent_company_owners  ci_minority_owners  \n",
       "0                       NaN                 NaN  \n",
       "\n",
       "[1 rows x 43 columns]"
      ]
     },
     "execution_count": 26,
     "metadata": {},
     "output_type": "execute_result"
    }
   ],
   "source": [
    "data"
   ]
  },
  {
   "cell_type": "code",
   "execution_count": null,
   "metadata": {},
   "outputs": [],
   "source": []
  }
 ],
 "metadata": {
  "kernelspec": {
   "display_name": "Python 3",
   "language": "python",
   "name": "python3"
  },
  "language_info": {
   "codemirror_mode": {
    "name": "ipython",
    "version": 3
   },
   "file_extension": ".py",
   "mimetype": "text/x-python",
   "name": "python",
   "nbconvert_exporter": "python",
   "pygments_lexer": "ipython3",
   "version": "3.6.5"
  }
 },
 "nbformat": 4,
 "nbformat_minor": 2
}
