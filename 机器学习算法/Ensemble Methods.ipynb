{
 "cells": [
  {
   "cell_type": "code",
   "execution_count": 1,
   "metadata": {},
   "outputs": [],
   "source": [
    "from sklearn.model_selection import cross_val_score\n",
    "from sklearn.datasets import make_blobs\n",
    "from sklearn.ensemble import RandomForestClassifier\n",
    "from sklearn.tree import DecisionTreeClassifier\n",
    "import pandas as pd\n",
    "from sklearn.metrics import classification_report\n",
    "from sklearn.model_selection import train_test_split\n",
    "import numpy as np\n",
    "from sklearn.feature_extraction import DictVectorizer\n",
    "from sklearn.ensemble import BaggingClassifier\n",
    "from sklearn.neighbors import KNeighborsClassifier\n",
    "from sklearn.neural_network import MLPClassifier\n",
    "from imblearn.over_sampling import SMOTE\n",
    "from sklearn.model_selection import GridSearchCV"
   ]
  },
  {
   "cell_type": "code",
   "execution_count": 3,
   "metadata": {},
   "outputs": [
    {
     "name": "stderr",
     "output_type": "stream",
     "text": [
      "D:\\Anaconda3\\lib\\site-packages\\sklearn\\model_selection\\_split.py:2069: FutureWarning: From version 0.21, test_size will always complement train_size unless both are specified.\n",
      "  FutureWarning)\n"
     ]
    }
   ],
   "source": [
    "X, y = make_blobs(n_samples=20000, n_features=100, centers=200,\n",
    "    random_state=0)\n",
    "x_train, x_test, y_train, y_test = train_test_split(X, y, random_state=1, train_size=0.8)"
   ]
  },
  {
   "cell_type": "code",
   "execution_count": 2,
   "metadata": {},
   "outputs": [
    {
     "name": "stderr",
     "output_type": "stream",
     "text": [
      "D:\\Anaconda3\\lib\\site-packages\\sklearn\\model_selection\\_split.py:2069: FutureWarning: From version 0.21, test_size will always complement train_size unless both are specified.\n",
      "  FutureWarning)\n"
     ]
    }
   ],
   "source": [
    "# 读取数据carEvaluation数据集\n",
    "path = u'C:/Users/jxjsj/Desktop/JupyterHome/Data/carEvaluation.txt'\n",
    "dataSet = pd.read_csv(path, header = None)\n",
    "x_temp, y_temp = np.split(dataSet, (6,), axis=1)\n",
    "x_train, x_test, y_train, y_test = train_test_split(x_temp, y_temp, random_state=1, train_size=0.8)"
   ]
  },
  {
   "cell_type": "code",
   "execution_count": 3,
   "metadata": {
    "scrolled": true
   },
   "outputs": [
    {
     "data": {
      "text/plain": [
       "['0=high',\n",
       " '0=low',\n",
       " '0=med',\n",
       " '0=vhigh',\n",
       " '1=high',\n",
       " '1=low',\n",
       " '1=med',\n",
       " '1=vhigh',\n",
       " '2=2',\n",
       " '2=3',\n",
       " '2=4',\n",
       " '2=5more',\n",
       " '3=2',\n",
       " '3=4',\n",
       " '3=more',\n",
       " '4=big',\n",
       " '4=med',\n",
       " '4=small',\n",
       " '5=high',\n",
       " '5=low',\n",
       " '5=med']"
      ]
     },
     "execution_count": 3,
     "metadata": {},
     "output_type": "execute_result"
    }
   ],
   "source": [
    "# 属性变量编码\n",
    "vec = DictVectorizer(sparse=False)\n",
    "x_train = vec.fit_transform(x_train.to_dict(orient='record'))   #对训练数据的特征进行提取\n",
    "x_test = vec.transform(x_test.to_dict(orient='record'))         #对测试数据的特征进行提取\n",
    "vec.feature_names_"
   ]
  },
  {
   "cell_type": "code",
   "execution_count": 7,
   "metadata": {},
   "outputs": [
    {
     "name": "stdout",
     "output_type": "stream",
     "text": [
      "trainAccracy: 1.0\n",
      "              precision    recall  f1-score   support\n",
      "\n",
      "         acc       1.00      1.00      1.00       325\n",
      "        good       1.00      1.00      1.00        55\n",
      "       unacc       1.00      1.00      1.00       950\n",
      "       vgood       1.00      1.00      1.00        52\n",
      "\n",
      "   micro avg       1.00      1.00      1.00      1382\n",
      "   macro avg       1.00      1.00      1.00      1382\n",
      "weighted avg       1.00      1.00      1.00      1382\n",
      "\n",
      "testAccracy: 0.9739884393063584\n",
      "              precision    recall  f1-score   support\n",
      "\n",
      "         acc       0.90      0.97      0.93        59\n",
      "        good       1.00      0.86      0.92        14\n",
      "       unacc       0.99      0.98      0.98       260\n",
      "       vgood       1.00      1.00      1.00        13\n",
      "\n",
      "   micro avg       0.97      0.97      0.97       346\n",
      "   macro avg       0.97      0.95      0.96       346\n",
      "weighted avg       0.98      0.97      0.97       346\n",
      "\n"
     ]
    }
   ],
   "source": [
    "# 训练决策树\n",
    "blobEvaluation = DecisionTreeClassifier(class_weight = \"balanced\",\n",
    "                                        criterion='entropy')\n",
    "blobEvaluation = blobEvaluation.fit(x_train, y_train)\n",
    "y_train_predict = blobEvaluation.predict(x_train)\n",
    "y_test_predict = blobEvaluation.predict(x_test)\n",
    "print('trainAccracy:',blobEvaluation.score(x_train,y_train))\n",
    "print(classification_report(y_train,y_train_predict))\n",
    "print('testAccracy:',blobEvaluation.score(x_test,y_test))\n",
    "print(classification_report(y_test,y_test_predict))"
   ]
  },
  {
   "cell_type": "code",
   "execution_count": 22,
   "metadata": {
    "scrolled": true
   },
   "outputs": [
    {
     "name": "stdout",
     "output_type": "stream",
     "text": [
      "trainAccracy: 1.0\n",
      "              precision    recall  f1-score   support\n",
      "\n",
      "         acc       1.00      1.00      1.00       325\n",
      "        good       1.00      1.00      1.00        55\n",
      "       unacc       1.00      1.00      1.00       950\n",
      "       vgood       1.00      1.00      1.00        52\n",
      "\n",
      "   micro avg       1.00      1.00      1.00      1382\n",
      "   macro avg       1.00      1.00      1.00      1382\n",
      "weighted avg       1.00      1.00      1.00      1382\n",
      "\n",
      "testAccracy: 0.9508670520231214\n",
      "              precision    recall  f1-score   support\n",
      "\n",
      "         acc       0.78      0.98      0.87        59\n",
      "        good       1.00      0.79      0.88        14\n",
      "       unacc       1.00      0.96      0.98       260\n",
      "       vgood       0.92      0.85      0.88        13\n",
      "\n",
      "   micro avg       0.95      0.95      0.95       346\n",
      "   macro avg       0.93      0.89      0.90       346\n",
      "weighted avg       0.96      0.95      0.95       346\n",
      "\n"
     ]
    },
    {
     "name": "stderr",
     "output_type": "stream",
     "text": [
      "D:\\Anaconda3\\lib\\site-packages\\ipykernel_launcher.py:7: DataConversionWarning: A column-vector y was passed when a 1d array was expected. Please change the shape of y to (n_samples,), for example using ravel().\n",
      "  import sys\n"
     ]
    }
   ],
   "source": [
    "# 训练随机森林，子属性集属性个数 log2底d，d为特征数\n",
    "blobEvaluation = RandomForestClassifier(n_estimators=26, \n",
    "                                        max_depth=None,\n",
    "                                        criterion='entropy',\n",
    "                                        max_features='log2',\n",
    "                                        class_weight = \"balanced\")\n",
    "blobEvaluation.fit(x_train, y_train)\n",
    "y_train_predict = blobEvaluation.predict(x_train)\n",
    "y_test_predict = blobEvaluation.predict(x_test)\n",
    "print('trainAccracy:',blobEvaluation.score(x_train,y_train))\n",
    "print(classification_report(y_train,y_train_predict))\n",
    "print('testAccracy:',blobEvaluation.score(x_test,y_test))\n",
    "print(classification_report(y_test,y_test_predict))"
   ]
  },
  {
   "cell_type": "code",
   "execution_count": 51,
   "metadata": {
    "scrolled": true
   },
   "outputs": [
    {
     "name": "stderr",
     "output_type": "stream",
     "text": [
      "D:\\Anaconda3\\lib\\site-packages\\sklearn\\ensemble\\bagging.py:618: DataConversionWarning: A column-vector y was passed when a 1d array was expected. Please change the shape of y to (n_samples, ), for example using ravel().\n",
      "  y = column_or_1d(y, warn=True)\n"
     ]
    },
    {
     "name": "stdout",
     "output_type": "stream",
     "text": [
      "trainAccracy: 0.9992764109985528\n",
      "              precision    recall  f1-score   support\n",
      "\n",
      "         acc       1.00      1.00      1.00       325\n",
      "        good       1.00      1.00      1.00        55\n",
      "       unacc       1.00      1.00      1.00       950\n",
      "       vgood       1.00      1.00      1.00        52\n",
      "\n",
      "   micro avg       1.00      1.00      1.00      1382\n",
      "   macro avg       1.00      1.00      1.00      1382\n",
      "weighted avg       1.00      1.00      1.00      1382\n",
      "\n",
      "testAccracy: 0.9710982658959537\n",
      "              precision    recall  f1-score   support\n",
      "\n",
      "         acc       0.87      0.98      0.92        59\n",
      "        good       0.93      1.00      0.97        14\n",
      "       unacc       1.00      0.97      0.98       260\n",
      "       vgood       1.00      1.00      1.00        13\n",
      "\n",
      "   micro avg       0.97      0.97      0.97       346\n",
      "   macro avg       0.95      0.99      0.97       346\n",
      "weighted avg       0.97      0.97      0.97       346\n",
      "\n"
     ]
    }
   ],
   "source": [
    "# 训练bagging，基学习器为决策树\n",
    "blobEvaluation = BaggingClassifier( base_estimator=DecisionTreeClassifier(class_weight = \"balanced\",\n",
    "                                                                          criterion='entropy'), \n",
    "                                    n_estimators=46, \n",
    "                                    max_samples=0.9, \n",
    "                                    max_features=0.9, \n",
    "                                    bootstrap=True, \n",
    "                                    bootstrap_features=False, \n",
    "                                    oob_score=False, \n",
    "                                    warm_start=False, \n",
    "                                    n_jobs=None, \n",
    "                                    random_state=1, \n",
    "                                    verbose=0)\n",
    "blobEvaluation.fit(x_train, y_train)\n",
    "y_train_predict = blobEvaluation.predict(x_train)\n",
    "y_test_predict = blobEvaluation.predict(x_test)\n",
    "print('trainAccracy:',blobEvaluation.score(x_train,y_train))\n",
    "print(classification_report(y_train,y_train_predict))\n",
    "print('testAccracy:',blobEvaluation.score(x_test,y_test))\n",
    "print(classification_report(y_test,y_test_predict))"
   ]
  },
  {
   "cell_type": "raw",
   "metadata": {},
   "source": [
    "总结1 2018.11.18\n",
    "集成学习中，基于非平衡数据：\n",
    "1.决策树相较于随机森林（均添加类别权重,RF:n=26,max_f=log2）而言：泛化能力较高，对不均衡类的查准率较高；\n",
    "2.决策树相较于以决策树为基学习器的Bagging（均添加类别权重,Baggiing:n=46,max_samples=0.9,max_features=0.9）而言：泛化能力略低，整体相近。"
   ]
  },
  {
   "cell_type": "code",
   "execution_count": 5,
   "metadata": {
    "scrolled": true
   },
   "outputs": [
    {
     "name": "stderr",
     "output_type": "stream",
     "text": [
      "D:\\Anaconda3\\lib\\site-packages\\sklearn\\ensemble\\bagging.py:618: DataConversionWarning: A column-vector y was passed when a 1d array was expected. Please change the shape of y to (n_samples, ), for example using ravel().\n",
      "  y = column_or_1d(y, warn=True)\n"
     ]
    },
    {
     "name": "stdout",
     "output_type": "stream",
     "text": [
      "trainAccracy: 1.0\n",
      "              precision    recall  f1-score   support\n",
      "\n",
      "         acc       1.00      1.00      1.00       325\n",
      "        good       1.00      1.00      1.00        55\n",
      "       unacc       1.00      1.00      1.00       950\n",
      "       vgood       1.00      1.00      1.00        52\n",
      "\n",
      "   micro avg       1.00      1.00      1.00      1382\n",
      "   macro avg       1.00      1.00      1.00      1382\n",
      "weighted avg       1.00      1.00      1.00      1382\n",
      "\n",
      "testAccracy: 0.9739884393063584\n",
      "              precision    recall  f1-score   support\n",
      "\n",
      "         acc       0.92      0.93      0.92        59\n",
      "        good       0.87      0.93      0.90        14\n",
      "       unacc       0.99      0.98      0.99       260\n",
      "       vgood       1.00      1.00      1.00        13\n",
      "\n",
      "   micro avg       0.97      0.97      0.97       346\n",
      "   macro avg       0.94      0.96      0.95       346\n",
      "weighted avg       0.97      0.97      0.97       346\n",
      "\n"
     ]
    }
   ],
   "source": [
    "# 训练bagging，基学习器为神经网络\n",
    "blobEvaluation = BaggingClassifier( MLPClassifier(activation='tanh', \n",
    "                                                  solver='lbfgs',\n",
    "                                                  alpha=1e-5,\n",
    "                                                  hidden_layer_sizes=(len(x_train)*2+1,),\n",
    "                                                  random_state=1),\n",
    "                                    n_estimators=15, \n",
    "                                    max_samples=0.9, \n",
    "                                    max_features=0.9, \n",
    "                                    bootstrap=True, \n",
    "                                    bootstrap_features=False, \n",
    "                                    oob_score=False, \n",
    "                                    warm_start=False, \n",
    "                                    n_jobs=None, \n",
    "                                    random_state=None, \n",
    "                                    verbose=0)\n",
    "\n",
    "blobEvaluation.fit(x_train, y_train)\n",
    "y_train_predict = blobEvaluation.predict(x_train)\n",
    "y_test_predict = blobEvaluation.predict(x_test)\n",
    "print('trainAccracy:',blobEvaluation.score(x_train,y_train))\n",
    "print(classification_report(y_train,y_train_predict))\n",
    "print('testAccracy:',blobEvaluation.score(x_test,y_test))\n",
    "print(classification_report(y_test,y_test_predict))"
   ]
  },
  {
   "cell_type": "raw",
   "metadata": {},
   "source": [
    "总结2 2018.11.18\n",
    "使用Bagging时，基于非平衡数据，无论使用决策树还是神经网络作为基学习器效果都非常差——只会预测为一类；\n",
    "（未理解）上述两种集成学习中将最大样本与最大特征参数修改为0.9——增强了基学习器多样性（那么降低了集成学习的总误差），则均能极大改善训练结果，神经网络的集成效果优于单一神经网络。"
   ]
  },
  {
   "cell_type": "code",
   "execution_count": 59,
   "metadata": {},
   "outputs": [
    {
     "name": "stderr",
     "output_type": "stream",
     "text": [
      "D:\\Anaconda3\\lib\\site-packages\\sklearn\\neural_network\\multilayer_perceptron.py:916: DataConversionWarning: A column-vector y was passed when a 1d array was expected. Please change the shape of y to (n_samples, ), for example using ravel().\n",
      "  y = column_or_1d(y, warn=True)\n"
     ]
    },
    {
     "name": "stdout",
     "output_type": "stream",
     "text": [
      "trainAccracy: 1.0\n",
      "              precision    recall  f1-score   support\n",
      "\n",
      "         acc       1.00      1.00      1.00       325\n",
      "        good       1.00      1.00      1.00        55\n",
      "       unacc       1.00      1.00      1.00       950\n",
      "       vgood       1.00      1.00      1.00        52\n",
      "\n",
      "   micro avg       1.00      1.00      1.00      1382\n",
      "   macro avg       1.00      1.00      1.00      1382\n",
      "weighted avg       1.00      1.00      1.00      1382\n",
      "\n",
      "testAccracy: 0.9653179190751445\n",
      "              precision    recall  f1-score   support\n",
      "\n",
      "         acc       0.87      0.93      0.90        59\n",
      "        good       0.87      0.93      0.90        14\n",
      "       unacc       0.99      0.98      0.98       260\n",
      "       vgood       1.00      0.92      0.96        13\n",
      "\n",
      "   micro avg       0.97      0.97      0.97       346\n",
      "   macro avg       0.93      0.94      0.94       346\n",
      "weighted avg       0.97      0.97      0.97       346\n",
      "\n"
     ]
    }
   ],
   "source": [
    "blobEvaluation = MLPClassifier(activation='tanh', \n",
    "                               solver='lbfgs',\n",
    "                               alpha=1e-5,\n",
    "                               hidden_layer_sizes=(len(x_train)*2+1,))\n",
    "blobEvaluation.fit(x_train, y_train)\n",
    "y_train_predict = blobEvaluation.predict(x_train)\n",
    "y_test_predict = blobEvaluation.predict(x_test)\n",
    "print('trainAccracy:',blobEvaluation.score(x_train,y_train))\n",
    "print(classification_report(y_train,y_train_predict))\n",
    "print('testAccracy:',blobEvaluation.score(x_test,y_test))\n",
    "print(classification_report(y_test,y_test_predict))"
   ]
  },
  {
   "cell_type": "code",
   "execution_count": null,
   "metadata": {
    "scrolled": true
   },
   "outputs": [],
   "source": [
    "max_n = 0\n",
    "max_p = 0\n",
    "for n in range(7,25):\n",
    "    blobEvaluation = BaggingClassifier( MLPClassifier(activation='tanh', \n",
    "                                                  solver='adam',\n",
    "                                                  alpha=1e-5,\n",
    "                                                  hidden_layer_sizes=(len(x_train)*2+1,),\n",
    "                                                  random_state=1),\n",
    "                                    n_estimators=n, \n",
    "                                    max_samples=0.9, \n",
    "                                    max_features=0.9, \n",
    "                                    bootstrap=True, \n",
    "                                    bootstrap_features=False, \n",
    "                                    oob_score=False, \n",
    "                                    warm_start=False, \n",
    "                                    n_jobs=None, \n",
    "                                    random_state=None, \n",
    "                                    verbose=0)\n",
    "    blobEvaluation.fit(x_train, y_train)\n",
    "    y_train_predict = blobEvaluation.predict(x_train)\n",
    "    y_test_predict = blobEvaluation.predict(x_test)\n",
    "    if max_p < blobEvaluation.score(x_test,y_test):\n",
    "        max_n = n\n",
    "        max_p = blobEvaluation.score(x_test,y_test)\n",
    "max_n"
   ]
  },
  {
   "cell_type": "code",
   "execution_count": null,
   "metadata": {},
   "outputs": [],
   "source": []
  }
 ],
 "metadata": {
  "kernelspec": {
   "display_name": "Python 3",
   "language": "python",
   "name": "python3"
  },
  "language_info": {
   "codemirror_mode": {
    "name": "ipython",
    "version": 3
   },
   "file_extension": ".py",
   "mimetype": "text/x-python",
   "name": "python",
   "nbconvert_exporter": "python",
   "pygments_lexer": "ipython3",
   "version": "3.6.5"
  }
 },
 "nbformat": 4,
 "nbformat_minor": 2
}
