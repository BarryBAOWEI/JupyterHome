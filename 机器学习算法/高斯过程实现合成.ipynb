{
 "cells": [
  {
   "cell_type": "code",
   "execution_count": 43,
   "metadata": {
    "collapsed": false
   },
   "outputs": [],
   "source": [
    "import numpy as np\n",
    "import matplotlib.pyplot as plt\n",
    "import math\n",
    "\n",
    "X = np.linspace(0, 1, 201)\n",
    "n = len(X)\n",
    "\n",
    "def kernal_function(type):\n",
    "    def f(x, y):\n",
    "        return {\n",
    "            0: lambda x,y: x*y,\n",
    "            1: lambda x,y: min(x,y),\n",
    "            2: lambda x,y: np.exp(-100*((x-y)**2)),\n",
    "            3: lambda x,y: np.exp(-np.sin(5*3.14159269897*(x-y))),\n",
    "            4: lambda x,y: 1\n",
    "        }[type](x,y)\n",
    "    return f\n",
    "\n",
    "kernal = kernal_function(type=3)\n",
    "\n",
    "K = np.zeros((n, n))\n",
    "\n",
    "for i in range(n):\n",
    "    for j in range (n):\n",
    "        K[i,j] = kernal(X[i], X[j])\n",
    "\n",
    "cnt = 0\n",
    "Z = np.mat(np.zeros((n, n)))\n",
    "while cnt < 2:\n",
    "\n",
    "    u = np.random.normal(0, 1, n)\n",
    "\n",
    "    A,S,B = np.linalg.svd(K)\n",
    "\n",
    "    SS = np.zeros((n, n))\n",
    "    for i in range(n):\n",
    "        SS[i,i] = S[i]\n",
    "\n",
    "    AA = np.mat(A)\n",
    "    SSS = np.mat(SS)\n",
    "    uu = np.mat(u).T\n",
    "\n",
    "    z = AA*np.sqrt(SS)*uu\n",
    "    for i in range(n):\n",
    "        Z[i,cnt]=z[i]\n",
    "    \n",
    "    cnt = cnt + 1\n",
    "\n",
    "# plt.xlim(0,1)\n",
    "# plt.ylim(-2,2)\n",
    "plt.plot(X, Z)\n",
    "plt.show()"
   ]
  },
  {
   "cell_type": "code",
   "execution_count": null,
   "metadata": {
    "collapsed": true
   },
   "outputs": [],
   "source": []
  }
 ],
 "metadata": {
  "kernelspec": {
   "display_name": "Python [Root]",
   "language": "python",
   "name": "Python [Root]"
  },
  "language_info": {
   "codemirror_mode": {
    "name": "ipython",
    "version": 3
   },
   "file_extension": ".py",
   "mimetype": "text/x-python",
   "name": "python",
   "nbconvert_exporter": "python",
   "pygments_lexer": "ipython3",
   "version": "3.5.2"
  }
 },
 "nbformat": 4,
 "nbformat_minor": 0
}
