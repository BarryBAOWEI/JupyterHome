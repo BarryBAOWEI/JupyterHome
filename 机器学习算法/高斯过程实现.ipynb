{
 "cells": [
  {
   "cell_type": "code",
   "execution_count": 1,
   "metadata": {
    "collapsed": true
   },
   "outputs": [],
   "source": [
    "import numpy as np\n",
    "import matplotlib.pyplot as plt"
   ]
  },
  {
   "cell_type": "code",
   "execution_count": 258,
   "metadata": {
    "collapsed": true
   },
   "outputs": [],
   "source": [
    "n = 100\n",
    "X = np.linspace(0, 1, n).reshape(-1, 1)"
   ]
  },
  {
   "cell_type": "code",
   "execution_count": 259,
   "metadata": {
    "collapsed": false
   },
   "outputs": [],
   "source": [
    "X = np.linspace(0, 1, 201)\n",
    "n = len(X)"
   ]
  },
  {
   "cell_type": "code",
   "execution_count": 281,
   "metadata": {
    "collapsed": true
   },
   "outputs": [],
   "source": [
    "def kernal_function(type):\n",
    "    def f(x, y):\n",
    "        return {\n",
    "            0: lambda x,y: x*y,\n",
    "            1: lambda x,y: min(x,y),\n",
    "            2: lambda x,y: np.exp(-100*((x-y)**2))\n",
    "        }[type](x,y)\n",
    "    return f\n",
    "kernal = kernal_function(type=1)"
   ]
  },
  {
   "cell_type": "code",
   "execution_count": 286,
   "metadata": {
    "collapsed": false
   },
   "outputs": [],
   "source": [
    "K = np.zeros((n, n))\n",
    "for i in range(n):\n",
    "    for j in range (n):\n",
    "        K[i,j] = kernal(X[i], X[j])"
   ]
  },
  {
   "cell_type": "code",
   "execution_count": 283,
   "metadata": {
    "collapsed": false,
    "scrolled": true
   },
   "outputs": [],
   "source": [
    "u = np.random.normal(0, 1, n)"
   ]
  },
  {
   "cell_type": "code",
   "execution_count": 284,
   "metadata": {
    "collapsed": false,
    "scrolled": false
   },
   "outputs": [],
   "source": [
    "# A,S,B = np.linalg.svd(K);\n",
    "# z = A*np.sqrt(S)*u\n",
    "# plt.xlim(0,1)\n",
    "# plt.ylim(-2,2)\n",
    "# plt.plot(X, z, ':')\n",
    "# plt.show()\n",
    "\n",
    "A,S,B = np.linalg.svd(K)\n",
    "\n",
    "SS = np.zeros((n, n))\n",
    "for i in range(n):\n",
    "    SS[i,i] = S[i]\n",
    "\n",
    "AA = np.mat(A)\n",
    "SSS = np.mat(SS)\n",
    "uu = np.mat(u).T\n",
    "\n",
    "z = AA*np.sqrt(SS)*uu\n",
    "plt.xlim(0,1)\n",
    "plt.ylim(-2,2)\n",
    "plt.plot(X, z, ':')\n",
    "plt.show()"
   ]
  },
  {
   "cell_type": "code",
   "execution_count": null,
   "metadata": {
    "collapsed": true
   },
   "outputs": [],
   "source": []
  }
 ],
 "metadata": {
  "anaconda-cloud": {},
  "kernelspec": {
   "display_name": "Python [Root]",
   "language": "python",
   "name": "Python [Root]"
  },
  "language_info": {
   "codemirror_mode": {
    "name": "ipython",
    "version": 3
   },
   "file_extension": ".py",
   "mimetype": "text/x-python",
   "name": "python",
   "nbconvert_exporter": "python",
   "pygments_lexer": "ipython3",
   "version": "3.5.2"
  }
 },
 "nbformat": 4,
 "nbformat_minor": 0
}
